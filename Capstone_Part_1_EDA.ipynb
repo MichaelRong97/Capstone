{
 "cells": [
  {
   "attachments": {},
   "cell_type": "markdown",
   "id": "01c7da13",
   "metadata": {},
   "source": [
    "### Capstone: Leveraging NLP for Improved Movie Rating Predictions\n",
    "\n",
    "Part 1\n",
    "\n",
    "Author: Michael Rong\n",
    "\n",
    "Date: April 3rd, 2023"
   ]
  },
  {
   "attachments": {},
   "cell_type": "markdown",
   "id": "df353a17",
   "metadata": {},
   "source": [
    "1. Project Introduction\n",
    "\n",
    "2. Introduction to the Notebook\n",
    "    \n",
    "    a. Data Dictionary\n",
    "   \n",
    "3. Initial Exploration of the Data\n",
    "\n",
    "4. Advanced EDA and Feature Engineering\n",
    "\n",
    "5. Notebook Conclusion"
   ]
  },
  {
   "attachments": {},
   "cell_type": "markdown",
   "id": "463a5eac",
   "metadata": {},
   "source": [
    "# Project Introduction"
   ]
  },
  {
   "attachments": {},
   "cell_type": "markdown",
   "id": "fdf3e5a8",
   "metadata": {},
   "source": [
    "   In this project, we will be exploring two datasets acquired from MovieLens in order to explore how different features, most importantly text analysis can better help predict user ratings. MovieLens is a group that collects and organizes movie data to recommend movies to users.\n",
    "\n",
    "Given that text analysis is currently a trending topic in our technologically advancing world, the purpose of this project is to investigate whether we can use NLP (Natural Language Processing) to analyze the sentiment expressed in the review text and determine if this analysis can improve the prediction accuracy of our machine learning models.\n",
    "\n",
    "Additionally, we plan to extract from the datasets the words that carry the most significance or weight in the reviews. The project will involve a detailed exploration of the data, cleaning, feature engineering, sentiment analysis, and feature different machine learning models. At the end of the project, next steps will be outline that can help enhance the project to create more meaningful data."
   ]
  },
  {
   "attachments": {},
   "cell_type": "markdown",
   "id": "c85e9cfb",
   "metadata": {},
   "source": [
    "# Introduction to the Notebook"
   ]
  },
  {
   "attachments": {},
   "cell_type": "markdown",
   "id": "028517a4",
   "metadata": {},
   "source": [
    "In this notebook, we will be working with a large movie dataset and performing various data processing tasks, including exploration, cleaning, and feature engineering. The dataset contains a wide range of information about movies, such as their titles, genres, release dates, ratings, and more. Additionally, Feature Engineering using will be done to create more easily interpretable columns for our project.\n",
    "\n",
    "By the end of the notebook, we will have a processed dataset that will be saved as a CSV for use in consequent notebook.s"
   ]
  },
  {
   "attachments": {},
   "cell_type": "markdown",
   "id": "8f714ed4",
   "metadata": {},
   "source": [
    "## Data Dictionary"
   ]
  },
  {
   "attachments": {},
   "cell_type": "markdown",
   "id": "d2c811f7",
   "metadata": {},
   "source": [
    "A data dictionary of the two datasets which we will be exploring will be provided for more interpretability of the columns.\n",
    "\n",
    "raw/metadata.json\n",
    "--------\n",
    "The file contains information about movies from MovieLens - 84,661 lines of json objects that have the following fields:\n",
    "\n",
    "title – Movie title, accompanied by year of release\n",
    "\n",
    "directedBy – Director(s) of the movie\n",
    "\n",
    "starring – Actors featured in the movie\n",
    "\n",
    "dateAdded – Date in which the movie was added to the MovieLens database\n",
    "\n",
    "avgRating – average rating of a movie on scale of 0.5 to 5\n",
    "\n",
    "imdbId – Movie ID, corresponding to the IMDB website\n",
    "\n",
    "item_id – Movie ID, which is consistent across the MovieLens datasets being used.\n",
    "\n",
    "\n",
    "raw/reviews.json\n",
    "--------\n",
    "The file contains 2,624,608 lines of movie reviews collected from the IMDB website. The json objects have the following fields:\n",
    "\n",
    "item_id – Movie ID, which is consistent across the MovieLens datasets being used.\n",
    "\n",
    "txt – review text"
   ]
  },
  {
   "attachments": {},
   "cell_type": "markdown",
   "id": "5629d999",
   "metadata": {},
   "source": [
    "# Initial Exploration of the Data"
   ]
  },
  {
   "cell_type": "code",
   "execution_count": 1,
   "id": "5f75e8da",
   "metadata": {},
   "outputs": [],
   "source": [
    "import pandas as pd\n",
    "import numpy as np\n",
    "import matplotlib.pyplot as plt\n",
    "import seaborn as sns\n",
    "\n",
    "from sklearn.model_selection import train_test_split\n",
    "from sklearn.preprocessing import OneHotEncoder\n",
    "\n",
    "from sklearn.feature_extraction.text import CountVectorizer\n",
    "from sklearn.feature_extraction.text import TfidfVectorizer\n",
    "import nltk\n",
    "\n",
    "from sklearn.linear_model import LogisticRegression\n",
    "\n",
    "import warnings\n",
    "warnings.filterwarnings('ignore')\n",
    "\n",
    "pd.set_option('display.max_colwidth',100000000)"
   ]
  },
  {
   "attachments": {},
   "cell_type": "markdown",
   "id": "01190d2e",
   "metadata": {},
   "source": [
    "### Movies"
   ]
  },
  {
   "cell_type": "code",
   "execution_count": 2,
   "id": "b3605979",
   "metadata": {},
   "outputs": [],
   "source": [
    "# Reading the Movies dataset\n",
    "\n",
    "metadata_raw = pd.read_json(r\"C:\\Users\\micha\\OneDrive\\Desktop\\Capstone\\movie_dataset_public_final\\raw\\metadata.json\", lines=True)"
   ]
  },
  {
   "cell_type": "code",
   "execution_count": 3,
   "id": "c9107a4e",
   "metadata": {
    "scrolled": false
   },
   "outputs": [
    {
     "data": {
      "text/html": [
       "<div>\n",
       "<style scoped>\n",
       "    .dataframe tbody tr th:only-of-type {\n",
       "        vertical-align: middle;\n",
       "    }\n",
       "\n",
       "    .dataframe tbody tr th {\n",
       "        vertical-align: top;\n",
       "    }\n",
       "\n",
       "    .dataframe thead th {\n",
       "        text-align: right;\n",
       "    }\n",
       "</style>\n",
       "<table border=\"1\" class=\"dataframe\">\n",
       "  <thead>\n",
       "    <tr style=\"text-align: right;\">\n",
       "      <th></th>\n",
       "      <th>title</th>\n",
       "      <th>directedBy</th>\n",
       "      <th>starring</th>\n",
       "      <th>dateAdded</th>\n",
       "      <th>avgRating</th>\n",
       "      <th>imdbId</th>\n",
       "      <th>item_id</th>\n",
       "    </tr>\n",
       "  </thead>\n",
       "  <tbody>\n",
       "    <tr>\n",
       "      <th>0</th>\n",
       "      <td>Toy Story (1995)</td>\n",
       "      <td>John Lasseter</td>\n",
       "      <td>Tim Allen, Tom Hanks, Don Rickles, Jim Varney, John Ratzenberger, Wallace Shawn, Laurie Metcalf, John Morris, R. Lee Ermey, Annie Potts</td>\n",
       "      <td>None</td>\n",
       "      <td>3.89146</td>\n",
       "      <td>114709</td>\n",
       "      <td>1</td>\n",
       "    </tr>\n",
       "    <tr>\n",
       "      <th>1</th>\n",
       "      <td>Jumanji (1995)</td>\n",
       "      <td>Joe Johnston</td>\n",
       "      <td>Jonathan Hyde, Bradley Pierce, Robin Williams, Kirsten Dunst</td>\n",
       "      <td>None</td>\n",
       "      <td>3.26605</td>\n",
       "      <td>113497</td>\n",
       "      <td>2</td>\n",
       "    </tr>\n",
       "    <tr>\n",
       "      <th>2</th>\n",
       "      <td>Grumpier Old Men (1995)</td>\n",
       "      <td>Howard Deutch</td>\n",
       "      <td>Jack Lemmon, Walter Matthau, Ann-Margret , Sophia Loren</td>\n",
       "      <td>None</td>\n",
       "      <td>3.17146</td>\n",
       "      <td>113228</td>\n",
       "      <td>3</td>\n",
       "    </tr>\n",
       "    <tr>\n",
       "      <th>3</th>\n",
       "      <td>Waiting to Exhale (1995)</td>\n",
       "      <td>Forest Whitaker</td>\n",
       "      <td>Angela Bassett, Loretta Devine, Whitney Houston, Lela Rochon</td>\n",
       "      <td>None</td>\n",
       "      <td>2.86824</td>\n",
       "      <td>114885</td>\n",
       "      <td>4</td>\n",
       "    </tr>\n",
       "    <tr>\n",
       "      <th>4</th>\n",
       "      <td>Father of the Bride Part II (1995)</td>\n",
       "      <td>Charles Shyer</td>\n",
       "      <td>Steve Martin, Martin Short, Diane Keaton, Kimberly Williams, George Newbern, Kieran Culkin</td>\n",
       "      <td>None</td>\n",
       "      <td>3.07620</td>\n",
       "      <td>113041</td>\n",
       "      <td>5</td>\n",
       "    </tr>\n",
       "  </tbody>\n",
       "</table>\n",
       "</div>"
      ],
      "text/plain": [
       "                                title       directedBy  \\\n",
       "0                    Toy Story (1995)    John Lasseter   \n",
       "1                      Jumanji (1995)     Joe Johnston   \n",
       "2             Grumpier Old Men (1995)    Howard Deutch   \n",
       "3            Waiting to Exhale (1995)  Forest Whitaker   \n",
       "4  Father of the Bride Part II (1995)    Charles Shyer   \n",
       "\n",
       "                                                                                                                                  starring  \\\n",
       "0  Tim Allen, Tom Hanks, Don Rickles, Jim Varney, John Ratzenberger, Wallace Shawn, Laurie Metcalf, John Morris, R. Lee Ermey, Annie Potts   \n",
       "1                                                                             Jonathan Hyde, Bradley Pierce, Robin Williams, Kirsten Dunst   \n",
       "2                                                                                  Jack Lemmon, Walter Matthau, Ann-Margret , Sophia Loren   \n",
       "3                                                                             Angela Bassett, Loretta Devine, Whitney Houston, Lela Rochon   \n",
       "4                                               Steve Martin, Martin Short, Diane Keaton, Kimberly Williams, George Newbern, Kieran Culkin   \n",
       "\n",
       "  dateAdded  avgRating  imdbId  item_id  \n",
       "0      None    3.89146  114709        1  \n",
       "1      None    3.26605  113497        2  \n",
       "2      None    3.17146  113228        3  \n",
       "3      None    2.86824  114885        4  \n",
       "4      None    3.07620  113041        5  "
      ]
     },
     "execution_count": 3,
     "metadata": {},
     "output_type": "execute_result"
    }
   ],
   "source": [
    "# taking a look at the first 5 entries\n",
    "\n",
    "metadata_raw.head()"
   ]
  },
  {
   "attachments": {},
   "cell_type": "markdown",
   "id": "0b9cb043",
   "metadata": {},
   "source": [
    "From an initial glance, we can see we have various columns give information about the Movie, the directors, actors, as well as the average rating corresponding to the movie. There are also columns such as imdbid and item_id that are used to index the movies somewhere. We will take a look at the basic structure of the dataset."
   ]
  },
  {
   "cell_type": "code",
   "execution_count": 4,
   "id": "42ba6782",
   "metadata": {
    "scrolled": true
   },
   "outputs": [
    {
     "data": {
      "text/plain": [
       "(84661, 7)"
      ]
     },
     "execution_count": 4,
     "metadata": {},
     "output_type": "execute_result"
    }
   ],
   "source": [
    "# Finding the shape we have ~ 85 thousand entries and 7 columns\n",
    "\n",
    "metadata_raw.shape"
   ]
  },
  {
   "cell_type": "code",
   "execution_count": 5,
   "id": "b31380c6",
   "metadata": {
    "scrolled": false
   },
   "outputs": [
    {
     "name": "stdout",
     "output_type": "stream",
     "text": [
      "<class 'pandas.core.frame.DataFrame'>\n",
      "RangeIndex: 84661 entries, 0 to 84660\n",
      "Data columns (total 7 columns):\n",
      " #   Column      Non-Null Count  Dtype  \n",
      "---  ------      --------------  -----  \n",
      " 0   title       84661 non-null  object \n",
      " 1   directedBy  84661 non-null  object \n",
      " 2   starring    84661 non-null  object \n",
      " 3   dateAdded   78143 non-null  object \n",
      " 4   avgRating   84661 non-null  float64\n",
      " 5   imdbId      84661 non-null  int64  \n",
      " 6   item_id     84661 non-null  int64  \n",
      "dtypes: float64(1), int64(2), object(4)\n",
      "memory usage: 4.5+ MB\n"
     ]
    }
   ],
   "source": [
    "# Getting info on the datatypes as well as entries that are non null\n",
    "metadata_raw.info()"
   ]
  },
  {
   "attachments": {},
   "cell_type": "markdown",
   "id": "c2201c94",
   "metadata": {},
   "source": [
    "Upon getting the datatypes, we can see that directedBy, starring, and dateAdded seem to have a substantial amount of missing entries. we will attempt to remove all the null values as entries will not be usable if the corresponding columns are not filled in.\n",
    "\n",
    "To make the cleaning process easier, we will also be dropping the dateAdded, and imdbId columns as they do not give meaninful details about the movie itself like the number of actors or the director does."
   ]
  },
  {
   "attachments": {},
   "cell_type": "markdown",
   "id": "55ffff78",
   "metadata": {},
   "source": [
    "As part of the cleaning process, to be thorough, we will also be replacing empty entries with Null or 'NaN' values. This is due to empty entries not giving us any data to work with, as well as interfering with the processing of our dataset."
   ]
  },
  {
   "cell_type": "code",
   "execution_count": 6,
   "id": "b22487a8",
   "metadata": {},
   "outputs": [],
   "source": [
    "# Replaces all white space entries with 'NaN'\n",
    "\n",
    "metadata_raw = metadata_raw.replace(r'^\\s*$', pd.np.nan, regex=True)"
   ]
  },
  {
   "cell_type": "code",
   "execution_count": 7,
   "id": "e90c32ed",
   "metadata": {},
   "outputs": [
    {
     "name": "stdout",
     "output_type": "stream",
     "text": [
      "<class 'pandas.core.frame.DataFrame'>\n",
      "RangeIndex: 84661 entries, 0 to 84660\n",
      "Data columns (total 7 columns):\n",
      " #   Column      Non-Null Count  Dtype  \n",
      "---  ------      --------------  -----  \n",
      " 0   title       84661 non-null  object \n",
      " 1   directedBy  81511 non-null  object \n",
      " 2   starring    77778 non-null  object \n",
      " 3   dateAdded   78143 non-null  object \n",
      " 4   avgRating   84661 non-null  float64\n",
      " 5   imdbId      84661 non-null  int64  \n",
      " 6   item_id     84661 non-null  int64  \n",
      "dtypes: float64(1), int64(2), object(4)\n",
      "memory usage: 4.5+ MB\n"
     ]
    }
   ],
   "source": [
    "# Getting the info again, we see there are more null values than initially thought\n",
    "\n",
    "metadata_raw.info()"
   ]
  },
  {
   "cell_type": "code",
   "execution_count": 8,
   "id": "9dbe4256",
   "metadata": {},
   "outputs": [
    {
     "data": {
      "text/plain": [
       "title         0.000000\n",
       "directedBy    3.720721\n",
       "starring      8.130072\n",
       "dateAdded     7.698940\n",
       "avgRating     0.000000\n",
       "imdbId        0.000000\n",
       "item_id       0.000000\n",
       "dtype: float64"
      ]
     },
     "execution_count": 8,
     "metadata": {},
     "output_type": "execute_result"
    }
   ],
   "source": [
    "# Find the percentage of each column with missing data\n",
    "\n",
    "metadata_raw.isna().sum(axis=0) / metadata_raw.shape[0]*100"
   ]
  },
  {
   "attachments": {},
   "cell_type": "markdown",
   "id": "a4632d43",
   "metadata": {},
   "source": [
    "Before dropping values, we know that dateAdded is different than the year the movie is released in, we will be dropping this as to not interfere with the rest of the data. In addition, imdbID will be dropped as it is not useful to predicting our target variable, and will not be used to join datasets in a later section."
   ]
  },
  {
   "cell_type": "code",
   "execution_count": 9,
   "id": "94991258",
   "metadata": {},
   "outputs": [],
   "source": [
    "# Dropping specified columns.\n",
    "\n",
    "metadata_raw.drop(columns=['dateAdded', 'imdbId'], inplace=True)  "
   ]
  },
  {
   "cell_type": "code",
   "execution_count": 10,
   "id": "bb4459f0",
   "metadata": {},
   "outputs": [],
   "source": [
    "# Drop all rows that contain NaN values\n",
    "\n",
    "metadata_raw = metadata_raw.dropna()"
   ]
  },
  {
   "cell_type": "code",
   "execution_count": 11,
   "id": "cb7cbc12",
   "metadata": {
    "scrolled": true
   },
   "outputs": [
    {
     "data": {
      "text/plain": [
       "0"
      ]
     },
     "execution_count": 11,
     "metadata": {},
     "output_type": "execute_result"
    }
   ],
   "source": [
    "#, Checking for duplicate entries\n",
    "\n",
    "metadata_raw.duplicated().sum()"
   ]
  },
  {
   "attachments": {},
   "cell_type": "markdown",
   "id": "5be94e4e",
   "metadata": {},
   "source": [
    "On initial exploration, it seems like there are substantial amounts of data missing in certain columns, due to the size of this dataset, we will not be able to locate all the directors and starring actors of each film and add them manually. We have decided to drop these missing values from the data set.\n",
    "\n",
    "We also notice that the title of the movie contains the year as well in brackets. We will be creating a new column called Year, finding all year values at the end of each movie, and extracting them as a string."
   ]
  },
  {
   "cell_type": "code",
   "execution_count": 12,
   "id": "d0d13c1d",
   "metadata": {},
   "outputs": [],
   "source": [
    "# gets the text from a string ending in round brackets with 4 numbers inside.\n",
    "\n",
    "metadata_raw['Year'] = metadata_raw['title'].str.extract(r'\\((\\d{4})\\)$')"
   ]
  },
  {
   "attachments": {},
   "cell_type": "markdown",
   "id": "4c3771d3",
   "metadata": {},
   "source": [
    "Viewing the dataset once again, we seem to have been successful in getting the Year column"
   ]
  },
  {
   "cell_type": "code",
   "execution_count": 13,
   "id": "f8c9f4c7",
   "metadata": {
    "scrolled": false
   },
   "outputs": [
    {
     "data": {
      "text/html": [
       "<div>\n",
       "<style scoped>\n",
       "    .dataframe tbody tr th:only-of-type {\n",
       "        vertical-align: middle;\n",
       "    }\n",
       "\n",
       "    .dataframe tbody tr th {\n",
       "        vertical-align: top;\n",
       "    }\n",
       "\n",
       "    .dataframe thead th {\n",
       "        text-align: right;\n",
       "    }\n",
       "</style>\n",
       "<table border=\"1\" class=\"dataframe\">\n",
       "  <thead>\n",
       "    <tr style=\"text-align: right;\">\n",
       "      <th></th>\n",
       "      <th>title</th>\n",
       "      <th>directedBy</th>\n",
       "      <th>starring</th>\n",
       "      <th>avgRating</th>\n",
       "      <th>item_id</th>\n",
       "      <th>Year</th>\n",
       "    </tr>\n",
       "  </thead>\n",
       "  <tbody>\n",
       "    <tr>\n",
       "      <th>0</th>\n",
       "      <td>Toy Story (1995)</td>\n",
       "      <td>John Lasseter</td>\n",
       "      <td>Tim Allen, Tom Hanks, Don Rickles, Jim Varney, John Ratzenberger, Wallace Shawn, Laurie Metcalf, John Morris, R. Lee Ermey, Annie Potts</td>\n",
       "      <td>3.89146</td>\n",
       "      <td>1</td>\n",
       "      <td>1995</td>\n",
       "    </tr>\n",
       "    <tr>\n",
       "      <th>1</th>\n",
       "      <td>Jumanji (1995)</td>\n",
       "      <td>Joe Johnston</td>\n",
       "      <td>Jonathan Hyde, Bradley Pierce, Robin Williams, Kirsten Dunst</td>\n",
       "      <td>3.26605</td>\n",
       "      <td>2</td>\n",
       "      <td>1995</td>\n",
       "    </tr>\n",
       "    <tr>\n",
       "      <th>2</th>\n",
       "      <td>Grumpier Old Men (1995)</td>\n",
       "      <td>Howard Deutch</td>\n",
       "      <td>Jack Lemmon, Walter Matthau, Ann-Margret , Sophia Loren</td>\n",
       "      <td>3.17146</td>\n",
       "      <td>3</td>\n",
       "      <td>1995</td>\n",
       "    </tr>\n",
       "    <tr>\n",
       "      <th>3</th>\n",
       "      <td>Waiting to Exhale (1995)</td>\n",
       "      <td>Forest Whitaker</td>\n",
       "      <td>Angela Bassett, Loretta Devine, Whitney Houston, Lela Rochon</td>\n",
       "      <td>2.86824</td>\n",
       "      <td>4</td>\n",
       "      <td>1995</td>\n",
       "    </tr>\n",
       "    <tr>\n",
       "      <th>4</th>\n",
       "      <td>Father of the Bride Part II (1995)</td>\n",
       "      <td>Charles Shyer</td>\n",
       "      <td>Steve Martin, Martin Short, Diane Keaton, Kimberly Williams, George Newbern, Kieran Culkin</td>\n",
       "      <td>3.07620</td>\n",
       "      <td>5</td>\n",
       "      <td>1995</td>\n",
       "    </tr>\n",
       "  </tbody>\n",
       "</table>\n",
       "</div>"
      ],
      "text/plain": [
       "                                title       directedBy  \\\n",
       "0                    Toy Story (1995)    John Lasseter   \n",
       "1                      Jumanji (1995)     Joe Johnston   \n",
       "2             Grumpier Old Men (1995)    Howard Deutch   \n",
       "3            Waiting to Exhale (1995)  Forest Whitaker   \n",
       "4  Father of the Bride Part II (1995)    Charles Shyer   \n",
       "\n",
       "                                                                                                                                  starring  \\\n",
       "0  Tim Allen, Tom Hanks, Don Rickles, Jim Varney, John Ratzenberger, Wallace Shawn, Laurie Metcalf, John Morris, R. Lee Ermey, Annie Potts   \n",
       "1                                                                             Jonathan Hyde, Bradley Pierce, Robin Williams, Kirsten Dunst   \n",
       "2                                                                                  Jack Lemmon, Walter Matthau, Ann-Margret , Sophia Loren   \n",
       "3                                                                             Angela Bassett, Loretta Devine, Whitney Houston, Lela Rochon   \n",
       "4                                               Steve Martin, Martin Short, Diane Keaton, Kimberly Williams, George Newbern, Kieran Culkin   \n",
       "\n",
       "   avgRating  item_id  Year  \n",
       "0    3.89146        1  1995  \n",
       "1    3.26605        2  1995  \n",
       "2    3.17146        3  1995  \n",
       "3    2.86824        4  1995  \n",
       "4    3.07620        5  1995  "
      ]
     },
     "execution_count": 13,
     "metadata": {},
     "output_type": "execute_result"
    }
   ],
   "source": [
    "metadata_raw.head()"
   ]
  },
  {
   "cell_type": "code",
   "execution_count": 14,
   "id": "098e638a",
   "metadata": {},
   "outputs": [
    {
     "data": {
      "text/plain": [
       "title         0.00000\n",
       "directedBy    0.00000\n",
       "starring      0.00000\n",
       "avgRating     0.00000\n",
       "item_id       0.00000\n",
       "Year          0.53443\n",
       "dtype: float64"
      ]
     },
     "execution_count": 14,
     "metadata": {},
     "output_type": "execute_result"
    }
   ],
   "source": [
    "# 0.5 percent of the year column is missing, we \n",
    "metadata_raw.isna().sum(axis=0) / metadata_raw.shape[0]*100"
   ]
  },
  {
   "cell_type": "code",
   "execution_count": 15,
   "id": "bbcb95d4",
   "metadata": {},
   "outputs": [],
   "source": [
    "# Change Data type so it's numerical\n",
    "metadata_raw['Year'] = metadata_raw['Year'].astype('Int64')"
   ]
  },
  {
   "cell_type": "code",
   "execution_count": 16,
   "id": "23bfd932",
   "metadata": {},
   "outputs": [
    {
     "name": "stdout",
     "output_type": "stream",
     "text": [
      "<class 'pandas.core.frame.DataFrame'>\n",
      "Int64Index: 76343 entries, 0 to 84659\n",
      "Data columns (total 6 columns):\n",
      " #   Column      Non-Null Count  Dtype  \n",
      "---  ------      --------------  -----  \n",
      " 0   title       76343 non-null  object \n",
      " 1   directedBy  76343 non-null  object \n",
      " 2   starring    76343 non-null  object \n",
      " 3   avgRating   76343 non-null  float64\n",
      " 4   item_id     76343 non-null  int64  \n",
      " 5   Year        75935 non-null  Int64  \n",
      "dtypes: Int64(1), float64(1), int64(1), object(3)\n",
      "memory usage: 4.1+ MB\n"
     ]
    }
   ],
   "source": [
    "metadata_raw.info()"
   ]
  },
  {
   "cell_type": "code",
   "execution_count": 17,
   "id": "0772b3cc",
   "metadata": {},
   "outputs": [
    {
     "data": {
      "text/html": [
       "<div>\n",
       "<style scoped>\n",
       "    .dataframe tbody tr th:only-of-type {\n",
       "        vertical-align: middle;\n",
       "    }\n",
       "\n",
       "    .dataframe tbody tr th {\n",
       "        vertical-align: top;\n",
       "    }\n",
       "\n",
       "    .dataframe thead th {\n",
       "        text-align: right;\n",
       "    }\n",
       "</style>\n",
       "<table border=\"1\" class=\"dataframe\">\n",
       "  <thead>\n",
       "    <tr style=\"text-align: right;\">\n",
       "      <th></th>\n",
       "      <th>title</th>\n",
       "      <th>directedBy</th>\n",
       "      <th>starring</th>\n",
       "      <th>avgRating</th>\n",
       "      <th>item_id</th>\n",
       "      <th>Year</th>\n",
       "    </tr>\n",
       "  </thead>\n",
       "  <tbody>\n",
       "    <tr>\n",
       "      <th>0</th>\n",
       "      <td>Toy Story (1995)</td>\n",
       "      <td>John Lasseter</td>\n",
       "      <td>Tim Allen, Tom Hanks, Don Rickles, Jim Varney, John Ratzenberger, Wallace Shawn, Laurie Metcalf, John Morris, R. Lee Ermey, Annie Potts</td>\n",
       "      <td>3.89146</td>\n",
       "      <td>1</td>\n",
       "      <td>1995</td>\n",
       "    </tr>\n",
       "    <tr>\n",
       "      <th>1</th>\n",
       "      <td>Jumanji (1995)</td>\n",
       "      <td>Joe Johnston</td>\n",
       "      <td>Jonathan Hyde, Bradley Pierce, Robin Williams, Kirsten Dunst</td>\n",
       "      <td>3.26605</td>\n",
       "      <td>2</td>\n",
       "      <td>1995</td>\n",
       "    </tr>\n",
       "    <tr>\n",
       "      <th>2</th>\n",
       "      <td>Grumpier Old Men (1995)</td>\n",
       "      <td>Howard Deutch</td>\n",
       "      <td>Jack Lemmon, Walter Matthau, Ann-Margret , Sophia Loren</td>\n",
       "      <td>3.17146</td>\n",
       "      <td>3</td>\n",
       "      <td>1995</td>\n",
       "    </tr>\n",
       "    <tr>\n",
       "      <th>3</th>\n",
       "      <td>Waiting to Exhale (1995)</td>\n",
       "      <td>Forest Whitaker</td>\n",
       "      <td>Angela Bassett, Loretta Devine, Whitney Houston, Lela Rochon</td>\n",
       "      <td>2.86824</td>\n",
       "      <td>4</td>\n",
       "      <td>1995</td>\n",
       "    </tr>\n",
       "    <tr>\n",
       "      <th>4</th>\n",
       "      <td>Father of the Bride Part II (1995)</td>\n",
       "      <td>Charles Shyer</td>\n",
       "      <td>Steve Martin, Martin Short, Diane Keaton, Kimberly Williams, George Newbern, Kieran Culkin</td>\n",
       "      <td>3.07620</td>\n",
       "      <td>5</td>\n",
       "      <td>1995</td>\n",
       "    </tr>\n",
       "  </tbody>\n",
       "</table>\n",
       "</div>"
      ],
      "text/plain": [
       "                                title       directedBy  \\\n",
       "0                    Toy Story (1995)    John Lasseter   \n",
       "1                      Jumanji (1995)     Joe Johnston   \n",
       "2             Grumpier Old Men (1995)    Howard Deutch   \n",
       "3            Waiting to Exhale (1995)  Forest Whitaker   \n",
       "4  Father of the Bride Part II (1995)    Charles Shyer   \n",
       "\n",
       "                                                                                                                                  starring  \\\n",
       "0  Tim Allen, Tom Hanks, Don Rickles, Jim Varney, John Ratzenberger, Wallace Shawn, Laurie Metcalf, John Morris, R. Lee Ermey, Annie Potts   \n",
       "1                                                                             Jonathan Hyde, Bradley Pierce, Robin Williams, Kirsten Dunst   \n",
       "2                                                                                  Jack Lemmon, Walter Matthau, Ann-Margret , Sophia Loren   \n",
       "3                                                                             Angela Bassett, Loretta Devine, Whitney Houston, Lela Rochon   \n",
       "4                                               Steve Martin, Martin Short, Diane Keaton, Kimberly Williams, George Newbern, Kieran Culkin   \n",
       "\n",
       "   avgRating  item_id  Year  \n",
       "0    3.89146        1  1995  \n",
       "1    3.26605        2  1995  \n",
       "2    3.17146        3  1995  \n",
       "3    2.86824        4  1995  \n",
       "4    3.07620        5  1995  "
      ]
     },
     "execution_count": 17,
     "metadata": {},
     "output_type": "execute_result"
    }
   ],
   "source": [
    "metadata_raw.head()"
   ]
  },
  {
   "cell_type": "code",
   "execution_count": 18,
   "id": "cd34053c",
   "metadata": {
    "scrolled": true
   },
   "outputs": [
    {
     "data": {
      "text/plain": [
       "title         0.00000\n",
       "directedBy    0.00000\n",
       "starring      0.00000\n",
       "avgRating     0.00000\n",
       "item_id       0.00000\n",
       "Year          0.53443\n",
       "dtype: float64"
      ]
     },
     "execution_count": 18,
     "metadata": {},
     "output_type": "execute_result"
    }
   ],
   "source": [
    "# checking for null values in the Year column\n",
    "metadata_raw.isna().sum(axis=0) / metadata_raw.shape[0]*100"
   ]
  },
  {
   "attachments": {},
   "cell_type": "markdown",
   "id": "9c1b6373",
   "metadata": {},
   "source": [
    "Upon checking the entries with missing years, we can tell they are all individual movies. We will choose to drop the data again as it is too many entries to manually add into the dataset."
   ]
  },
  {
   "cell_type": "code",
   "execution_count": 19,
   "id": "c3d00e73",
   "metadata": {
    "scrolled": false
   },
   "outputs": [
    {
     "data": {
      "text/html": [
       "<div>\n",
       "<style scoped>\n",
       "    .dataframe tbody tr th:only-of-type {\n",
       "        vertical-align: middle;\n",
       "    }\n",
       "\n",
       "    .dataframe tbody tr th {\n",
       "        vertical-align: top;\n",
       "    }\n",
       "\n",
       "    .dataframe thead th {\n",
       "        text-align: right;\n",
       "    }\n",
       "</style>\n",
       "<table border=\"1\" class=\"dataframe\">\n",
       "  <thead>\n",
       "    <tr style=\"text-align: right;\">\n",
       "      <th></th>\n",
       "      <th>title</th>\n",
       "      <th>directedBy</th>\n",
       "      <th>starring</th>\n",
       "      <th>avgRating</th>\n",
       "      <th>item_id</th>\n",
       "      <th>Year</th>\n",
       "    </tr>\n",
       "  </thead>\n",
       "  <tbody>\n",
       "    <tr>\n",
       "      <th>65056</th>\n",
       "      <td>Anatolian Trip</td>\n",
       "      <td>Deniz Tortum</td>\n",
       "      <td>Cem Celal Bilge,Derin Emre,Mustafa C. Aydın,Uğur Deynekli,Mert Coşar</td>\n",
       "      <td>2.16667</td>\n",
       "      <td>200000</td>\n",
       "      <td>&lt;NA&gt;</td>\n",
       "    </tr>\n",
       "    <tr>\n",
       "      <th>19520</th>\n",
       "      <td>Hierro (2009)</td>\n",
       "      <td>Gabe Ibáñez</td>\n",
       "      <td>Elena Anaya, Bea Segura, Mar Sodupe, Andrés Herrera, Miriam Correa, Kaiet Rodríguez, Javier Mejía, Hugo Arbues, Raquel Salvador, Jorge Lobo, Jon Ariño, Tomás del Estal, Pepe González Rubio</td>\n",
       "      <td>3.03125</td>\n",
       "      <td>96034</td>\n",
       "      <td>&lt;NA&gt;</td>\n",
       "    </tr>\n",
       "    <tr>\n",
       "      <th>35692</th>\n",
       "      <td>The Near Room</td>\n",
       "      <td>David Hayman</td>\n",
       "      <td>Adrian Dunbar,David O'Hara,David Hayman,Julie Graham,Robert Pugh</td>\n",
       "      <td>2.00000</td>\n",
       "      <td>140129</td>\n",
       "      <td>&lt;NA&gt;</td>\n",
       "    </tr>\n",
       "    <tr>\n",
       "      <th>21883</th>\n",
       "      <td>World According to Dick Cheney, The (2013)</td>\n",
       "      <td>R.J. Cutler</td>\n",
       "      <td>Dick Cheney, Lynne Cheney, Dennis Haysbert</td>\n",
       "      <td>3.41667</td>\n",
       "      <td>104599</td>\n",
       "      <td>&lt;NA&gt;</td>\n",
       "    </tr>\n",
       "    <tr>\n",
       "      <th>22471</th>\n",
       "      <td>Chameleon, The (2010)</td>\n",
       "      <td>Jean-Paul Salomé</td>\n",
       "      <td>Marc-André Grondin, Ellen Barkin, Famke Janssen, Emilie de Ravin, Tory Kittles, Brian Geraghty, Nick Stahl</td>\n",
       "      <td>2.46774</td>\n",
       "      <td>106501</td>\n",
       "      <td>&lt;NA&gt;</td>\n",
       "    </tr>\n",
       "  </tbody>\n",
       "</table>\n",
       "</div>"
      ],
      "text/plain": [
       "                                             title        directedBy  \\\n",
       "65056                               Anatolian Trip      Deniz Tortum   \n",
       "19520                               Hierro (2009)        Gabe Ibáñez   \n",
       "35692                                The Near Room      David Hayman   \n",
       "21883  World According to Dick Cheney, The (2013)        R.J. Cutler   \n",
       "22471                       Chameleon, The (2010)   Jean-Paul Salomé   \n",
       "\n",
       "                                                                                                                                                                                           starring  \\\n",
       "65056                                                                                                                          Cem Celal Bilge,Derin Emre,Mustafa C. Aydın,Uğur Deynekli,Mert Coşar   \n",
       "19520  Elena Anaya, Bea Segura, Mar Sodupe, Andrés Herrera, Miriam Correa, Kaiet Rodríguez, Javier Mejía, Hugo Arbues, Raquel Salvador, Jorge Lobo, Jon Ariño, Tomás del Estal, Pepe González Rubio   \n",
       "35692                                                                                                                              Adrian Dunbar,David O'Hara,David Hayman,Julie Graham,Robert Pugh   \n",
       "21883                                                                                                                                                    Dick Cheney, Lynne Cheney, Dennis Haysbert   \n",
       "22471                                                                                    Marc-André Grondin, Ellen Barkin, Famke Janssen, Emilie de Ravin, Tory Kittles, Brian Geraghty, Nick Stahl   \n",
       "\n",
       "       avgRating  item_id  Year  \n",
       "65056    2.16667   200000  <NA>  \n",
       "19520    3.03125    96034  <NA>  \n",
       "35692    2.00000   140129  <NA>  \n",
       "21883    3.41667   104599  <NA>  \n",
       "22471    2.46774   106501  <NA>  "
      ]
     },
     "execution_count": 19,
     "metadata": {},
     "output_type": "execute_result"
    }
   ],
   "source": [
    "# Sampling 5 movies with no year values.\n",
    "metadata_raw[metadata_raw['Year'].isna()].sample(5)"
   ]
  },
  {
   "cell_type": "code",
   "execution_count": 20,
   "id": "be00cb17",
   "metadata": {},
   "outputs": [],
   "source": [
    "# Keeps all data where 'Year' column is not empty\n",
    "\n",
    "metadata_raw = metadata_raw[pd.notnull(metadata_raw['Year'])]"
   ]
  },
  {
   "cell_type": "code",
   "execution_count": 21,
   "id": "9669b1a5",
   "metadata": {
    "scrolled": true
   },
   "outputs": [
    {
     "name": "stdout",
     "output_type": "stream",
     "text": [
      "<class 'pandas.core.frame.DataFrame'>\n",
      "Int64Index: 75935 entries, 0 to 84659\n",
      "Data columns (total 6 columns):\n",
      " #   Column      Non-Null Count  Dtype  \n",
      "---  ------      --------------  -----  \n",
      " 0   title       75935 non-null  object \n",
      " 1   directedBy  75935 non-null  object \n",
      " 2   starring    75935 non-null  object \n",
      " 3   avgRating   75935 non-null  float64\n",
      " 4   item_id     75935 non-null  int64  \n",
      " 5   Year        75935 non-null  Int64  \n",
      "dtypes: Int64(1), float64(1), int64(1), object(3)\n",
      "memory usage: 4.1+ MB\n"
     ]
    }
   ],
   "source": [
    "# Looks like the data is relatively clean\n",
    "\n",
    "metadata_raw.info()"
   ]
  },
  {
   "attachments": {},
   "cell_type": "markdown",
   "id": "80e6de4f",
   "metadata": {},
   "source": [
    "After cleaning the data, we will be exploring the numerical columns and assessing how the data is distributed in our dataset. Let's start with the Year column."
   ]
  },
  {
   "cell_type": "code",
   "execution_count": 22,
   "id": "7d9a8fe0",
   "metadata": {},
   "outputs": [
    {
     "data": {
      "text/plain": [
       "count    75935.000000\n",
       "mean      1993.618108\n",
       "std         24.946430\n",
       "min       1880.000000\n",
       "25%       1978.000000\n",
       "50%       2003.000000\n",
       "75%       2013.000000\n",
       "max       2021.000000\n",
       "Name: Year, dtype: float64"
      ]
     },
     "execution_count": 22,
     "metadata": {},
     "output_type": "execute_result"
    }
   ],
   "source": [
    "# Checking the distribution of the 'Year' column\n",
    "\n",
    "metadata_raw['Year'].describe()"
   ]
  },
  {
   "cell_type": "code",
   "execution_count": 23,
   "id": "c0ab701c",
   "metadata": {
    "scrolled": false
   },
   "outputs": [
    {
     "data": {
      "image/png": "[encoded data removed]",
      "text/plain": [
       "<Figure size 640x480 with 1 Axes>"
      ]
     },
     "metadata": {},
     "output_type": "display_data"
    }
   ],
   "source": [
    "# Plotting histogram of number of movies across the years\n",
    "\n",
    "plt.hist(metadata_raw['Year'].values, bins=30)\n",
    "\n",
    "plt.title('Movie Count by Year')\n",
    "plt.xlabel('Year')\n",
    "plt.ylabel('Count of Years')\n",
    "plt.show()"
   ]
  },
  {
   "attachments": {},
   "cell_type": "markdown",
   "id": "97fbfaec",
   "metadata": {},
   "source": [
    "The histogram shows the number of movies made across the years, this was performed just to do a quality check in case there were any outlier numbers in the data which we may have missed, from the plot, we can also see that the majority of the data resides in more recent films from 2000 to 2020."
   ]
  },
  {
   "attachments": {},
   "cell_type": "markdown",
   "id": "5750bf3c",
   "metadata": {},
   "source": [
    "The next column we would like to assess is the avgRating column, to make the rating scale simpler, we will change the rating from a scale of 0.5 - 5, to a scale of 1 - 10."
   ]
  },
  {
   "cell_type": "code",
   "execution_count": 24,
   "id": "979d0d16",
   "metadata": {},
   "outputs": [],
   "source": [
    "# multipler to bring the values of movie reviews from a range of 0.5-5 to 1-10\n",
    "\n",
    "metadata_raw['avgRating'] = metadata_raw['avgRating'].multiply(2)"
   ]
  },
  {
   "cell_type": "code",
   "execution_count": 25,
   "id": "845953c2",
   "metadata": {
    "scrolled": false
   },
   "outputs": [
    {
     "data": {
      "text/html": [
       "<div>\n",
       "<style scoped>\n",
       "    .dataframe tbody tr th:only-of-type {\n",
       "        vertical-align: middle;\n",
       "    }\n",
       "\n",
       "    .dataframe tbody tr th {\n",
       "        vertical-align: top;\n",
       "    }\n",
       "\n",
       "    .dataframe thead th {\n",
       "        text-align: right;\n",
       "    }\n",
       "</style>\n",
       "<table border=\"1\" class=\"dataframe\">\n",
       "  <thead>\n",
       "    <tr style=\"text-align: right;\">\n",
       "      <th></th>\n",
       "      <th>title</th>\n",
       "      <th>directedBy</th>\n",
       "      <th>starring</th>\n",
       "      <th>avgRating</th>\n",
       "      <th>item_id</th>\n",
       "      <th>Year</th>\n",
       "    </tr>\n",
       "  </thead>\n",
       "  <tbody>\n",
       "    <tr>\n",
       "      <th>0</th>\n",
       "      <td>Toy Story (1995)</td>\n",
       "      <td>John Lasseter</td>\n",
       "      <td>Tim Allen, Tom Hanks, Don Rickles, Jim Varney, John Ratzenberger, Wallace Shawn, Laurie Metcalf, John Morris, R. Lee Ermey, Annie Potts</td>\n",
       "      <td>7.78292</td>\n",
       "      <td>1</td>\n",
       "      <td>1995</td>\n",
       "    </tr>\n",
       "    <tr>\n",
       "      <th>1</th>\n",
       "      <td>Jumanji (1995)</td>\n",
       "      <td>Joe Johnston</td>\n",
       "      <td>Jonathan Hyde, Bradley Pierce, Robin Williams, Kirsten Dunst</td>\n",
       "      <td>6.53210</td>\n",
       "      <td>2</td>\n",
       "      <td>1995</td>\n",
       "    </tr>\n",
       "    <tr>\n",
       "      <th>2</th>\n",
       "      <td>Grumpier Old Men (1995)</td>\n",
       "      <td>Howard Deutch</td>\n",
       "      <td>Jack Lemmon, Walter Matthau, Ann-Margret , Sophia Loren</td>\n",
       "      <td>6.34292</td>\n",
       "      <td>3</td>\n",
       "      <td>1995</td>\n",
       "    </tr>\n",
       "    <tr>\n",
       "      <th>3</th>\n",
       "      <td>Waiting to Exhale (1995)</td>\n",
       "      <td>Forest Whitaker</td>\n",
       "      <td>Angela Bassett, Loretta Devine, Whitney Houston, Lela Rochon</td>\n",
       "      <td>5.73648</td>\n",
       "      <td>4</td>\n",
       "      <td>1995</td>\n",
       "    </tr>\n",
       "    <tr>\n",
       "      <th>4</th>\n",
       "      <td>Father of the Bride Part II (1995)</td>\n",
       "      <td>Charles Shyer</td>\n",
       "      <td>Steve Martin, Martin Short, Diane Keaton, Kimberly Williams, George Newbern, Kieran Culkin</td>\n",
       "      <td>6.15240</td>\n",
       "      <td>5</td>\n",
       "      <td>1995</td>\n",
       "    </tr>\n",
       "  </tbody>\n",
       "</table>\n",
       "</div>"
      ],
      "text/plain": [
       "                                title       directedBy  \\\n",
       "0                    Toy Story (1995)    John Lasseter   \n",
       "1                      Jumanji (1995)     Joe Johnston   \n",
       "2             Grumpier Old Men (1995)    Howard Deutch   \n",
       "3            Waiting to Exhale (1995)  Forest Whitaker   \n",
       "4  Father of the Bride Part II (1995)    Charles Shyer   \n",
       "\n",
       "                                                                                                                                  starring  \\\n",
       "0  Tim Allen, Tom Hanks, Don Rickles, Jim Varney, John Ratzenberger, Wallace Shawn, Laurie Metcalf, John Morris, R. Lee Ermey, Annie Potts   \n",
       "1                                                                             Jonathan Hyde, Bradley Pierce, Robin Williams, Kirsten Dunst   \n",
       "2                                                                                  Jack Lemmon, Walter Matthau, Ann-Margret , Sophia Loren   \n",
       "3                                                                             Angela Bassett, Loretta Devine, Whitney Houston, Lela Rochon   \n",
       "4                                               Steve Martin, Martin Short, Diane Keaton, Kimberly Williams, George Newbern, Kieran Culkin   \n",
       "\n",
       "   avgRating  item_id  Year  \n",
       "0    7.78292        1  1995  \n",
       "1    6.53210        2  1995  \n",
       "2    6.34292        3  1995  \n",
       "3    5.73648        4  1995  \n",
       "4    6.15240        5  1995  "
      ]
     },
     "execution_count": 25,
     "metadata": {},
     "output_type": "execute_result"
    }
   ],
   "source": [
    "# viewing data again\n",
    "# can see there are numbers exceeding 5 for 'avgRating' now\n",
    "\n",
    "metadata_raw.head()"
   ]
  },
  {
   "cell_type": "code",
   "execution_count": 26,
   "id": "5744bd8a",
   "metadata": {},
   "outputs": [],
   "source": [
    "# rounding all ratings to 2 decimal place.\n",
    "\n",
    "metadata_raw['avgRating'] = metadata_raw['avgRating'].round(2)\n"
   ]
  },
  {
   "cell_type": "code",
   "execution_count": 27,
   "id": "a2ab3c59",
   "metadata": {
    "scrolled": false
   },
   "outputs": [
    {
     "data": {
      "text/plain": [
       "count    75935.000000\n",
       "mean         5.093611\n",
       "std          2.600895\n",
       "min          0.000000\n",
       "25%          4.200000\n",
       "50%          6.000000\n",
       "75%          6.930000\n",
       "max         10.000000\n",
       "Name: avgRating, dtype: float64"
      ]
     },
     "execution_count": 27,
     "metadata": {},
     "output_type": "execute_result"
    }
   ],
   "source": [
    "# look at the distribution of numbers\n",
    "\n",
    "metadata_raw['avgRating'].describe()"
   ]
  },
  {
   "attachments": {},
   "cell_type": "markdown",
   "id": "a357552f",
   "metadata": {},
   "source": [
    "From the statistical information we get above, we see that the minimum value in the ratings column is 0, we will need to remove these from the dataset, we will be doing so by only keeping entries which have an average rating of 1 or higher, as the original scale was from 0.5 to 5."
   ]
  },
  {
   "cell_type": "code",
   "execution_count": 28,
   "id": "a1263364",
   "metadata": {},
   "outputs": [],
   "source": [
    "# Filter and keep columns that have an average rating of 1 or higher\n",
    "\n",
    "cleaner_df = metadata_raw[(metadata_raw['avgRating']>=1)]"
   ]
  },
  {
   "cell_type": "code",
   "execution_count": 29,
   "id": "992a8541",
   "metadata": {
    "scrolled": true
   },
   "outputs": [
    {
     "data": {
      "text/html": [
       "<div>\n",
       "<style scoped>\n",
       "    .dataframe tbody tr th:only-of-type {\n",
       "        vertical-align: middle;\n",
       "    }\n",
       "\n",
       "    .dataframe tbody tr th {\n",
       "        vertical-align: top;\n",
       "    }\n",
       "\n",
       "    .dataframe thead th {\n",
       "        text-align: right;\n",
       "    }\n",
       "</style>\n",
       "<table border=\"1\" class=\"dataframe\">\n",
       "  <thead>\n",
       "    <tr style=\"text-align: right;\">\n",
       "      <th></th>\n",
       "      <th>title</th>\n",
       "      <th>directedBy</th>\n",
       "      <th>starring</th>\n",
       "      <th>avgRating</th>\n",
       "      <th>item_id</th>\n",
       "      <th>Year</th>\n",
       "    </tr>\n",
       "  </thead>\n",
       "  <tbody>\n",
       "    <tr>\n",
       "      <th>0</th>\n",
       "      <td>Toy Story (1995)</td>\n",
       "      <td>John Lasseter</td>\n",
       "      <td>Tim Allen, Tom Hanks, Don Rickles, Jim Varney, John Ratzenberger, Wallace Shawn, Laurie Metcalf, John Morris, R. Lee Ermey, Annie Potts</td>\n",
       "      <td>7.78</td>\n",
       "      <td>1</td>\n",
       "      <td>1995</td>\n",
       "    </tr>\n",
       "    <tr>\n",
       "      <th>1</th>\n",
       "      <td>Jumanji (1995)</td>\n",
       "      <td>Joe Johnston</td>\n",
       "      <td>Jonathan Hyde, Bradley Pierce, Robin Williams, Kirsten Dunst</td>\n",
       "      <td>6.53</td>\n",
       "      <td>2</td>\n",
       "      <td>1995</td>\n",
       "    </tr>\n",
       "    <tr>\n",
       "      <th>2</th>\n",
       "      <td>Grumpier Old Men (1995)</td>\n",
       "      <td>Howard Deutch</td>\n",
       "      <td>Jack Lemmon, Walter Matthau, Ann-Margret , Sophia Loren</td>\n",
       "      <td>6.34</td>\n",
       "      <td>3</td>\n",
       "      <td>1995</td>\n",
       "    </tr>\n",
       "    <tr>\n",
       "      <th>3</th>\n",
       "      <td>Waiting to Exhale (1995)</td>\n",
       "      <td>Forest Whitaker</td>\n",
       "      <td>Angela Bassett, Loretta Devine, Whitney Houston, Lela Rochon</td>\n",
       "      <td>5.74</td>\n",
       "      <td>4</td>\n",
       "      <td>1995</td>\n",
       "    </tr>\n",
       "    <tr>\n",
       "      <th>4</th>\n",
       "      <td>Father of the Bride Part II (1995)</td>\n",
       "      <td>Charles Shyer</td>\n",
       "      <td>Steve Martin, Martin Short, Diane Keaton, Kimberly Williams, George Newbern, Kieran Culkin</td>\n",
       "      <td>6.15</td>\n",
       "      <td>5</td>\n",
       "      <td>1995</td>\n",
       "    </tr>\n",
       "  </tbody>\n",
       "</table>\n",
       "</div>"
      ],
      "text/plain": [
       "                                title       directedBy  \\\n",
       "0                    Toy Story (1995)    John Lasseter   \n",
       "1                      Jumanji (1995)     Joe Johnston   \n",
       "2             Grumpier Old Men (1995)    Howard Deutch   \n",
       "3            Waiting to Exhale (1995)  Forest Whitaker   \n",
       "4  Father of the Bride Part II (1995)    Charles Shyer   \n",
       "\n",
       "                                                                                                                                  starring  \\\n",
       "0  Tim Allen, Tom Hanks, Don Rickles, Jim Varney, John Ratzenberger, Wallace Shawn, Laurie Metcalf, John Morris, R. Lee Ermey, Annie Potts   \n",
       "1                                                                             Jonathan Hyde, Bradley Pierce, Robin Williams, Kirsten Dunst   \n",
       "2                                                                                  Jack Lemmon, Walter Matthau, Ann-Margret , Sophia Loren   \n",
       "3                                                                             Angela Bassett, Loretta Devine, Whitney Houston, Lela Rochon   \n",
       "4                                               Steve Martin, Martin Short, Diane Keaton, Kimberly Williams, George Newbern, Kieran Culkin   \n",
       "\n",
       "   avgRating  item_id  Year  \n",
       "0       7.78        1  1995  \n",
       "1       6.53        2  1995  \n",
       "2       6.34        3  1995  \n",
       "3       5.74        4  1995  \n",
       "4       6.15        5  1995  "
      ]
     },
     "execution_count": 29,
     "metadata": {},
     "output_type": "execute_result"
    }
   ],
   "source": [
    "cleaner_df.head()"
   ]
  },
  {
   "cell_type": "code",
   "execution_count": 30,
   "id": "4125fbaf",
   "metadata": {},
   "outputs": [
    {
     "data": {
      "text/plain": [
       "(63769, 6)"
      ]
     },
     "execution_count": 30,
     "metadata": {},
     "output_type": "execute_result"
    }
   ],
   "source": [
    "# checking size again\n",
    "\n",
    "cleaner_df.shape"
   ]
  },
  {
   "cell_type": "code",
   "execution_count": 31,
   "id": "a0e60d36",
   "metadata": {
    "scrolled": false
   },
   "outputs": [
    {
     "data": {
      "text/plain": [
       "count    63769.000000\n",
       "mean         6.065382\n",
       "std          1.470032\n",
       "min          1.000000\n",
       "25%          5.290000\n",
       "50%          6.210000\n",
       "75%          7.000000\n",
       "max         10.000000\n",
       "Name: avgRating, dtype: float64"
      ]
     },
     "execution_count": 31,
     "metadata": {},
     "output_type": "execute_result"
    }
   ],
   "source": [
    "# minimum value of avg rating is now 1\n",
    "cleaner_df['avgRating'].describe()"
   ]
  },
  {
   "cell_type": "code",
   "execution_count": 32,
   "id": "6ddbb437",
   "metadata": {
    "scrolled": false
   },
   "outputs": [
    {
     "data": {
      "image/png": "[encoded data removed]",
      "text/plain": [
       "<Figure size 640x480 with 1 Axes>"
      ]
     },
     "metadata": {},
     "output_type": "display_data"
    }
   ],
   "source": [
    "# histogram plot, \n",
    "plt.hist(cleaner_df['avgRating'], bins=9)\n",
    "\n",
    "# Plots mean \n",
    "plt.axvline(cleaner_df['avgRating'].mean(), 0, 1000, label=\"mean\", color=\"lightcoral\")\n",
    "\n",
    "plt.title(\"Rating distribution\")\n",
    "sns.despine()\n",
    "plt.legend()\n",
    "plt.show()"
   ]
  },
  {
   "attachments": {},
   "cell_type": "markdown",
   "id": "fd74a37a",
   "metadata": {},
   "source": [
    "Upon plotting the distribution of ratings, there seems to almost be a normal distribution from 1-10, with it being slightly more focused on the right side, with the most concentrated part of the data being around 6 to 7 with a mean of 6.05. We will be revisiting this visualization later in the next section of the notebook."
   ]
  },
  {
   "attachments": {},
   "cell_type": "markdown",
   "id": "e2da9846",
   "metadata": {},
   "source": [
    "# Advanced EDA and Feature Engineering"
   ]
  },
  {
   "attachments": {},
   "cell_type": "markdown",
   "id": "526def63",
   "metadata": {},
   "source": [
    "After exploring the numerical columns as well as cleaning the data, we will be addressing the categorical columns as well as creating new columns for more interpretability.\n",
    "\n",
    "Let's take a look at what our data set looks like."
   ]
  },
  {
   "cell_type": "code",
   "execution_count": 33,
   "id": "c6524cfa",
   "metadata": {
    "scrolled": true
   },
   "outputs": [
    {
     "data": {
      "text/html": [
       "<div>\n",
       "<style scoped>\n",
       "    .dataframe tbody tr th:only-of-type {\n",
       "        vertical-align: middle;\n",
       "    }\n",
       "\n",
       "    .dataframe tbody tr th {\n",
       "        vertical-align: top;\n",
       "    }\n",
       "\n",
       "    .dataframe thead th {\n",
       "        text-align: right;\n",
       "    }\n",
       "</style>\n",
       "<table border=\"1\" class=\"dataframe\">\n",
       "  <thead>\n",
       "    <tr style=\"text-align: right;\">\n",
       "      <th></th>\n",
       "      <th>title</th>\n",
       "      <th>directedBy</th>\n",
       "      <th>starring</th>\n",
       "      <th>avgRating</th>\n",
       "      <th>item_id</th>\n",
       "      <th>Year</th>\n",
       "    </tr>\n",
       "  </thead>\n",
       "  <tbody>\n",
       "    <tr>\n",
       "      <th>0</th>\n",
       "      <td>Toy Story (1995)</td>\n",
       "      <td>John Lasseter</td>\n",
       "      <td>Tim Allen, Tom Hanks, Don Rickles, Jim Varney, John Ratzenberger, Wallace Shawn, Laurie Metcalf, John Morris, R. Lee Ermey, Annie Potts</td>\n",
       "      <td>7.78</td>\n",
       "      <td>1</td>\n",
       "      <td>1995</td>\n",
       "    </tr>\n",
       "    <tr>\n",
       "      <th>1</th>\n",
       "      <td>Jumanji (1995)</td>\n",
       "      <td>Joe Johnston</td>\n",
       "      <td>Jonathan Hyde, Bradley Pierce, Robin Williams, Kirsten Dunst</td>\n",
       "      <td>6.53</td>\n",
       "      <td>2</td>\n",
       "      <td>1995</td>\n",
       "    </tr>\n",
       "    <tr>\n",
       "      <th>2</th>\n",
       "      <td>Grumpier Old Men (1995)</td>\n",
       "      <td>Howard Deutch</td>\n",
       "      <td>Jack Lemmon, Walter Matthau, Ann-Margret , Sophia Loren</td>\n",
       "      <td>6.34</td>\n",
       "      <td>3</td>\n",
       "      <td>1995</td>\n",
       "    </tr>\n",
       "    <tr>\n",
       "      <th>3</th>\n",
       "      <td>Waiting to Exhale (1995)</td>\n",
       "      <td>Forest Whitaker</td>\n",
       "      <td>Angela Bassett, Loretta Devine, Whitney Houston, Lela Rochon</td>\n",
       "      <td>5.74</td>\n",
       "      <td>4</td>\n",
       "      <td>1995</td>\n",
       "    </tr>\n",
       "    <tr>\n",
       "      <th>4</th>\n",
       "      <td>Father of the Bride Part II (1995)</td>\n",
       "      <td>Charles Shyer</td>\n",
       "      <td>Steve Martin, Martin Short, Diane Keaton, Kimberly Williams, George Newbern, Kieran Culkin</td>\n",
       "      <td>6.15</td>\n",
       "      <td>5</td>\n",
       "      <td>1995</td>\n",
       "    </tr>\n",
       "  </tbody>\n",
       "</table>\n",
       "</div>"
      ],
      "text/plain": [
       "                                title       directedBy  \\\n",
       "0                    Toy Story (1995)    John Lasseter   \n",
       "1                      Jumanji (1995)     Joe Johnston   \n",
       "2             Grumpier Old Men (1995)    Howard Deutch   \n",
       "3            Waiting to Exhale (1995)  Forest Whitaker   \n",
       "4  Father of the Bride Part II (1995)    Charles Shyer   \n",
       "\n",
       "                                                                                                                                  starring  \\\n",
       "0  Tim Allen, Tom Hanks, Don Rickles, Jim Varney, John Ratzenberger, Wallace Shawn, Laurie Metcalf, John Morris, R. Lee Ermey, Annie Potts   \n",
       "1                                                                             Jonathan Hyde, Bradley Pierce, Robin Williams, Kirsten Dunst   \n",
       "2                                                                                  Jack Lemmon, Walter Matthau, Ann-Margret , Sophia Loren   \n",
       "3                                                                             Angela Bassett, Loretta Devine, Whitney Houston, Lela Rochon   \n",
       "4                                               Steve Martin, Martin Short, Diane Keaton, Kimberly Williams, George Newbern, Kieran Culkin   \n",
       "\n",
       "   avgRating  item_id  Year  \n",
       "0       7.78        1  1995  \n",
       "1       6.53        2  1995  \n",
       "2       6.34        3  1995  \n",
       "3       5.74        4  1995  \n",
       "4       6.15        5  1995  "
      ]
     },
     "execution_count": 33,
     "metadata": {},
     "output_type": "execute_result"
    }
   ],
   "source": [
    "cleaner_df.head()"
   ]
  },
  {
   "attachments": {},
   "cell_type": "markdown",
   "id": "50427f9a",
   "metadata": {},
   "source": [
    "Going back to the distribution of average rating, we will be creating a sentiment column which will aid in the process of our sentiment analysis using Natural Language Processing. The sentiment column will consist of a column of 1 and 0, where 1 represents a good sentiment, and 0 represents a negative sentiment in the reviews. \n",
    "\n",
    "For our decision, we will choose a rating of 7 or higher to represent a positive sentiment."
   ]
  },
  {
   "cell_type": "code",
   "execution_count": 34,
   "id": "326ca698",
   "metadata": {
    "scrolled": true
   },
   "outputs": [
    {
     "data": {
      "text/html": [
       "<div>\n",
       "<style scoped>\n",
       "    .dataframe tbody tr th:only-of-type {\n",
       "        vertical-align: middle;\n",
       "    }\n",
       "\n",
       "    .dataframe tbody tr th {\n",
       "        vertical-align: top;\n",
       "    }\n",
       "\n",
       "    .dataframe thead th {\n",
       "        text-align: right;\n",
       "    }\n",
       "</style>\n",
       "<table border=\"1\" class=\"dataframe\">\n",
       "  <thead>\n",
       "    <tr style=\"text-align: right;\">\n",
       "      <th></th>\n",
       "      <th>title</th>\n",
       "      <th>directedBy</th>\n",
       "      <th>starring</th>\n",
       "      <th>avgRating</th>\n",
       "      <th>item_id</th>\n",
       "      <th>Year</th>\n",
       "      <th>Sentiment</th>\n",
       "    </tr>\n",
       "  </thead>\n",
       "  <tbody>\n",
       "    <tr>\n",
       "      <th>0</th>\n",
       "      <td>Toy Story (1995)</td>\n",
       "      <td>John Lasseter</td>\n",
       "      <td>Tim Allen, Tom Hanks, Don Rickles, Jim Varney, John Ratzenberger, Wallace Shawn, Laurie Metcalf, John Morris, R. Lee Ermey, Annie Potts</td>\n",
       "      <td>7.78</td>\n",
       "      <td>1</td>\n",
       "      <td>1995</td>\n",
       "      <td>1</td>\n",
       "    </tr>\n",
       "    <tr>\n",
       "      <th>1</th>\n",
       "      <td>Jumanji (1995)</td>\n",
       "      <td>Joe Johnston</td>\n",
       "      <td>Jonathan Hyde, Bradley Pierce, Robin Williams, Kirsten Dunst</td>\n",
       "      <td>6.53</td>\n",
       "      <td>2</td>\n",
       "      <td>1995</td>\n",
       "      <td>0</td>\n",
       "    </tr>\n",
       "    <tr>\n",
       "      <th>2</th>\n",
       "      <td>Grumpier Old Men (1995)</td>\n",
       "      <td>Howard Deutch</td>\n",
       "      <td>Jack Lemmon, Walter Matthau, Ann-Margret , Sophia Loren</td>\n",
       "      <td>6.34</td>\n",
       "      <td>3</td>\n",
       "      <td>1995</td>\n",
       "      <td>0</td>\n",
       "    </tr>\n",
       "    <tr>\n",
       "      <th>3</th>\n",
       "      <td>Waiting to Exhale (1995)</td>\n",
       "      <td>Forest Whitaker</td>\n",
       "      <td>Angela Bassett, Loretta Devine, Whitney Houston, Lela Rochon</td>\n",
       "      <td>5.74</td>\n",
       "      <td>4</td>\n",
       "      <td>1995</td>\n",
       "      <td>0</td>\n",
       "    </tr>\n",
       "    <tr>\n",
       "      <th>4</th>\n",
       "      <td>Father of the Bride Part II (1995)</td>\n",
       "      <td>Charles Shyer</td>\n",
       "      <td>Steve Martin, Martin Short, Diane Keaton, Kimberly Williams, George Newbern, Kieran Culkin</td>\n",
       "      <td>6.15</td>\n",
       "      <td>5</td>\n",
       "      <td>1995</td>\n",
       "      <td>0</td>\n",
       "    </tr>\n",
       "  </tbody>\n",
       "</table>\n",
       "</div>"
      ],
      "text/plain": [
       "                                title       directedBy  \\\n",
       "0                    Toy Story (1995)    John Lasseter   \n",
       "1                      Jumanji (1995)     Joe Johnston   \n",
       "2             Grumpier Old Men (1995)    Howard Deutch   \n",
       "3            Waiting to Exhale (1995)  Forest Whitaker   \n",
       "4  Father of the Bride Part II (1995)    Charles Shyer   \n",
       "\n",
       "                                                                                                                                  starring  \\\n",
       "0  Tim Allen, Tom Hanks, Don Rickles, Jim Varney, John Ratzenberger, Wallace Shawn, Laurie Metcalf, John Morris, R. Lee Ermey, Annie Potts   \n",
       "1                                                                             Jonathan Hyde, Bradley Pierce, Robin Williams, Kirsten Dunst   \n",
       "2                                                                                  Jack Lemmon, Walter Matthau, Ann-Margret , Sophia Loren   \n",
       "3                                                                             Angela Bassett, Loretta Devine, Whitney Houston, Lela Rochon   \n",
       "4                                               Steve Martin, Martin Short, Diane Keaton, Kimberly Williams, George Newbern, Kieran Culkin   \n",
       "\n",
       "   avgRating  item_id  Year  Sentiment  \n",
       "0       7.78        1  1995          1  \n",
       "1       6.53        2  1995          0  \n",
       "2       6.34        3  1995          0  \n",
       "3       5.74        4  1995          0  \n",
       "4       6.15        5  1995          0  "
      ]
     },
     "execution_count": 34,
     "metadata": {},
     "output_type": "execute_result"
    }
   ],
   "source": [
    "# Create a sentiment column if rating is 7.0 or above, 1\n",
    "\n",
    "cleaner_df['Sentiment'] = np.where(cleaner_df['avgRating'] >= 7, 1, 0)\n",
    "cleaner_df.head()"
   ]
  },
  {
   "cell_type": "code",
   "execution_count": 35,
   "id": "97fce2ed",
   "metadata": {
    "scrolled": false
   },
   "outputs": [
    {
     "data": {
      "image/png": "[encoded data removed]",
      "text/plain": [
       "<Figure size 640x480 with 1 Axes>"
      ]
     },
     "metadata": {},
     "output_type": "display_data"
    },
    {
     "name": "stdout",
     "output_type": "stream",
     "text": [
      "Class imbalance: [0.71 0.29]\n"
     ]
    }
   ],
   "source": [
    "# Plot the distribution of the new column\n",
    "\n",
    "values, counts = np.unique(cleaner_df['Sentiment'], return_counts=True)\n",
    "normalized_counts = counts/counts.sum()\n",
    "\n",
    "plt.figure()\n",
    "\n",
    "plt.title(\"Sentiment distribution\")\n",
    "plt.bar([\"0\", \"1\"], normalized_counts*100) # plot normalized counts\n",
    "plt.xlabel('Sentiment')\n",
    "plt.ylabel('% of Movies')\n",
    "plt.show()\n",
    "\n",
    "print(f\"Class imbalance: {np.round(normalized_counts, 2)}\")"
   ]
  },
  {
   "attachments": {},
   "cell_type": "markdown",
   "id": "54272666",
   "metadata": {},
   "source": [
    "After creating the sentiment column, we will look at the directedBy column, we cannot quantify meaning data just from names, so we can attempt to get the count of the directors per movie to see if there are any values over 1."
   ]
  },
  {
   "cell_type": "code",
   "execution_count": 36,
   "id": "07903fb1",
   "metadata": {},
   "outputs": [],
   "source": [
    "# we can assume that theres only one director per movie, but maybe there's an additional credit, lets count the number of comma seperated items in each directedBy entry\n",
    "\n",
    "cleaner_df['director_count'] = cleaner_df['directedBy'].str.split(\",\").apply(len)"
   ]
  },
  {
   "cell_type": "code",
   "execution_count": 38,
   "id": "c19b0b6e",
   "metadata": {
    "scrolled": true
   },
   "outputs": [
    {
     "data": {
      "text/html": [
       "<div>\n",
       "<style scoped>\n",
       "    .dataframe tbody tr th:only-of-type {\n",
       "        vertical-align: middle;\n",
       "    }\n",
       "\n",
       "    .dataframe tbody tr th {\n",
       "        vertical-align: top;\n",
       "    }\n",
       "\n",
       "    .dataframe thead th {\n",
       "        text-align: right;\n",
       "    }\n",
       "</style>\n",
       "<table border=\"1\" class=\"dataframe\">\n",
       "  <thead>\n",
       "    <tr style=\"text-align: right;\">\n",
       "      <th></th>\n",
       "      <th>title</th>\n",
       "      <th>directedBy</th>\n",
       "      <th>starring</th>\n",
       "      <th>avgRating</th>\n",
       "      <th>item_id</th>\n",
       "      <th>Year</th>\n",
       "      <th>Sentiment</th>\n",
       "      <th>director_count</th>\n",
       "    </tr>\n",
       "  </thead>\n",
       "  <tbody>\n",
       "    <tr>\n",
       "      <th>0</th>\n",
       "      <td>Toy Story (1995)</td>\n",
       "      <td>John Lasseter</td>\n",
       "      <td>Tim Allen, Tom Hanks, Don Rickles, Jim Varney, John Ratzenberger, Wallace Shawn, Laurie Metcalf, John Morris, R. Lee Ermey, Annie Potts</td>\n",
       "      <td>7.78</td>\n",
       "      <td>1</td>\n",
       "      <td>1995</td>\n",
       "      <td>1</td>\n",
       "      <td>1</td>\n",
       "    </tr>\n",
       "    <tr>\n",
       "      <th>1</th>\n",
       "      <td>Jumanji (1995)</td>\n",
       "      <td>Joe Johnston</td>\n",
       "      <td>Jonathan Hyde, Bradley Pierce, Robin Williams, Kirsten Dunst</td>\n",
       "      <td>6.53</td>\n",
       "      <td>2</td>\n",
       "      <td>1995</td>\n",
       "      <td>0</td>\n",
       "      <td>1</td>\n",
       "    </tr>\n",
       "    <tr>\n",
       "      <th>2</th>\n",
       "      <td>Grumpier Old Men (1995)</td>\n",
       "      <td>Howard Deutch</td>\n",
       "      <td>Jack Lemmon, Walter Matthau, Ann-Margret , Sophia Loren</td>\n",
       "      <td>6.34</td>\n",
       "      <td>3</td>\n",
       "      <td>1995</td>\n",
       "      <td>0</td>\n",
       "      <td>1</td>\n",
       "    </tr>\n",
       "    <tr>\n",
       "      <th>3</th>\n",
       "      <td>Waiting to Exhale (1995)</td>\n",
       "      <td>Forest Whitaker</td>\n",
       "      <td>Angela Bassett, Loretta Devine, Whitney Houston, Lela Rochon</td>\n",
       "      <td>5.74</td>\n",
       "      <td>4</td>\n",
       "      <td>1995</td>\n",
       "      <td>0</td>\n",
       "      <td>1</td>\n",
       "    </tr>\n",
       "    <tr>\n",
       "      <th>4</th>\n",
       "      <td>Father of the Bride Part II (1995)</td>\n",
       "      <td>Charles Shyer</td>\n",
       "      <td>Steve Martin, Martin Short, Diane Keaton, Kimberly Williams, George Newbern, Kieran Culkin</td>\n",
       "      <td>6.15</td>\n",
       "      <td>5</td>\n",
       "      <td>1995</td>\n",
       "      <td>0</td>\n",
       "      <td>1</td>\n",
       "    </tr>\n",
       "    <tr>\n",
       "      <th>5</th>\n",
       "      <td>Heat (1995)</td>\n",
       "      <td>Michael Mann</td>\n",
       "      <td>Robert De Niro, Al Pacino, Val Kilmer, Jon Voight, Tom Sizemore, Ashley Judd, Diane Venora, Natalie Portman</td>\n",
       "      <td>7.71</td>\n",
       "      <td>6</td>\n",
       "      <td>1995</td>\n",
       "      <td>1</td>\n",
       "      <td>1</td>\n",
       "    </tr>\n",
       "    <tr>\n",
       "      <th>6</th>\n",
       "      <td>Sabrina (1995)</td>\n",
       "      <td>Sydney Pollack</td>\n",
       "      <td>Harrison Ford, Greg Kinnear, Nancy Marchand, Julia Ormond</td>\n",
       "      <td>6.74</td>\n",
       "      <td>7</td>\n",
       "      <td>1995</td>\n",
       "      <td>0</td>\n",
       "      <td>1</td>\n",
       "    </tr>\n",
       "    <tr>\n",
       "      <th>7</th>\n",
       "      <td>Tom and Huck (1995)</td>\n",
       "      <td>Peter Hewitt</td>\n",
       "      <td>Jonathan Taylor Thomas, Brad Renfro, Eric Schweig, Charles Rocket, Amy Wright, Michael McShane, Marian Seldes, Rachael Leigh Cook, Peter Mackenzie, Andy Stahl, Adrian Roberts, David Cowgill, Ike Eisenmann, Tamara Mello, Courtney Peldon</td>\n",
       "      <td>6.23</td>\n",
       "      <td>8</td>\n",
       "      <td>1995</td>\n",
       "      <td>0</td>\n",
       "      <td>1</td>\n",
       "    </tr>\n",
       "    <tr>\n",
       "      <th>8</th>\n",
       "      <td>Sudden Death (1995)</td>\n",
       "      <td>Peter Hyams</td>\n",
       "      <td>Raymond J. Barry, Powers Boothe, Jean-Claude Van Damme, Whittni Wright</td>\n",
       "      <td>6.00</td>\n",
       "      <td>9</td>\n",
       "      <td>1995</td>\n",
       "      <td>0</td>\n",
       "      <td>1</td>\n",
       "    </tr>\n",
       "    <tr>\n",
       "      <th>9</th>\n",
       "      <td>GoldenEye (1995)</td>\n",
       "      <td>Martin Campbell</td>\n",
       "      <td>Pierce Brosnan, Sean Bean, Famke Janssen, Izabella Scorupco, Joe Don Baker, Judi Dench, Robbie Coltrane, Alan Cumming, Tchéky Karyo, Desmond Llewelyn, Samantha Bond</td>\n",
       "      <td>6.87</td>\n",
       "      <td>10</td>\n",
       "      <td>1995</td>\n",
       "      <td>0</td>\n",
       "      <td>1</td>\n",
       "    </tr>\n",
       "    <tr>\n",
       "      <th>10</th>\n",
       "      <td>American President, The (1995)</td>\n",
       "      <td>Rob Reiner</td>\n",
       "      <td>Michael Douglas, Michael J. Fox, Martin Sheen, Annette Bening, Richard Dreyfuss</td>\n",
       "      <td>7.32</td>\n",
       "      <td>11</td>\n",
       "      <td>1995</td>\n",
       "      <td>1</td>\n",
       "      <td>1</td>\n",
       "    </tr>\n",
       "    <tr>\n",
       "      <th>11</th>\n",
       "      <td>Dracula: Dead and Loving It (1995)</td>\n",
       "      <td>Mel Brooks</td>\n",
       "      <td>Peter MacNicol, Leslie Nielsen, Steven Weber, Amy Yasbeck</td>\n",
       "      <td>5.35</td>\n",
       "      <td>12</td>\n",
       "      <td>1995</td>\n",
       "      <td>0</td>\n",
       "      <td>1</td>\n",
       "    </tr>\n",
       "    <tr>\n",
       "      <th>12</th>\n",
       "      <td>Balto (1995)</td>\n",
       "      <td>Simon Wells</td>\n",
       "      <td>Kevin Bacon, Jim Cummings, Bob Hoskins, Bridget Fonda</td>\n",
       "      <td>6.69</td>\n",
       "      <td>13</td>\n",
       "      <td>1995</td>\n",
       "      <td>0</td>\n",
       "      <td>1</td>\n",
       "    </tr>\n",
       "    <tr>\n",
       "      <th>13</th>\n",
       "      <td>Nixon (1995)</td>\n",
       "      <td>Oliver Stone</td>\n",
       "      <td>Anthony Hopkins, Joan Allen, Powers Boothe, Ed Harris, Bob Hoskins, E.G. Marshall, David Paymer, David Hyde Pierce, Paul Sorvino, Mary Steenburgen, J.T. Walsh, James Woods, Brian Bedford, Kevin Dunn, Fyvush Finkel, Annabeth Gish, Tom Bower, Tony Goldwyn, Larry Hagman, Edward Herrmann, Madeline Kahn, Dan Hedaya, Tony Lo Bianco, Saul Rubinek, Robert Beltran, John Cunningham, John Diehl, John C. McGinley, Michael Chiklis, David Barry Gray, Enrique Castillo, Victor Rivers, Bridgette Wilson, Ric Young, O'Neal Compton, Marley Shelton, James Karen, Richard Fancy, Ling Bai, John Stockwell, Tony Plana</td>\n",
       "      <td>6.86</td>\n",
       "      <td>14</td>\n",
       "      <td>1995</td>\n",
       "      <td>0</td>\n",
       "      <td>1</td>\n",
       "    </tr>\n",
       "    <tr>\n",
       "      <th>14</th>\n",
       "      <td>Cutthroat Island (1995)</td>\n",
       "      <td>Renny Harlin</td>\n",
       "      <td>Maury Chaykin, Frank Langella, Matthew Modine, Geena Davis</td>\n",
       "      <td>5.47</td>\n",
       "      <td>15</td>\n",
       "      <td>1995</td>\n",
       "      <td>0</td>\n",
       "      <td>1</td>\n",
       "    </tr>\n",
       "    <tr>\n",
       "      <th>15</th>\n",
       "      <td>Casino (1995)</td>\n",
       "      <td>Martin Scorsese</td>\n",
       "      <td>Robert De Niro, Joe Pesci, James Woods, Sharon Stone</td>\n",
       "      <td>7.64</td>\n",
       "      <td>16</td>\n",
       "      <td>1995</td>\n",
       "      <td>1</td>\n",
       "      <td>1</td>\n",
       "    </tr>\n",
       "    <tr>\n",
       "      <th>16</th>\n",
       "      <td>Sense and Sensibility (1995)</td>\n",
       "      <td>Ang Lee</td>\n",
       "      <td>Hugh Grant, Alan Rickman, Emma Thompson, Kate Winslet</td>\n",
       "      <td>7.89</td>\n",
       "      <td>17</td>\n",
       "      <td>1995</td>\n",
       "      <td>1</td>\n",
       "      <td>1</td>\n",
       "    </tr>\n",
       "    <tr>\n",
       "      <th>17</th>\n",
       "      <td>Four Rooms (1995)</td>\n",
       "      <td>Allison Anders, Alexandre Rockwell, Robert Rodriguez, Quentin Tarantino</td>\n",
       "      <td>Sammi Davis, Amanda De Cadenet, Valeria Golino, Madonna, Ione Skye, Lili Taylor, Alicia Witt, Jennifer Beals, David Proval, Antonio Banderas, Lana McKissack, Salma Hayek, Quentin Tarantino, Kathy Griffin, Marisa Tomei, Tim Roth, Bruce Willis</td>\n",
       "      <td>6.83</td>\n",
       "      <td>18</td>\n",
       "      <td>1995</td>\n",
       "      <td>0</td>\n",
       "      <td>4</td>\n",
       "    </tr>\n",
       "    <tr>\n",
       "      <th>18</th>\n",
       "      <td>Ace Ventura: When Nature Calls (1995)</td>\n",
       "      <td>Steve Oedekerk</td>\n",
       "      <td>Simon Callow, Jim Carrey, Maynard Eziashi, Ian McNeice, Bob Gunton</td>\n",
       "      <td>5.32</td>\n",
       "      <td>19</td>\n",
       "      <td>1995</td>\n",
       "      <td>0</td>\n",
       "      <td>1</td>\n",
       "    </tr>\n",
       "    <tr>\n",
       "      <th>19</th>\n",
       "      <td>Money Train (1995)</td>\n",
       "      <td>Joseph Ruben</td>\n",
       "      <td>Wesley Snipes, Woody Harrelson, Jennifer Lopez, Robert Blake, Chris Cooper, Joe Grifasi, Skipp Sudduth, Aida Turturro, Vincent Pastore, Dean Norris, José Zúñiga, Bill Nunn, Larry Gilliard Jr., Flex Alexander</td>\n",
       "      <td>5.78</td>\n",
       "      <td>20</td>\n",
       "      <td>1995</td>\n",
       "      <td>0</td>\n",
       "      <td>1</td>\n",
       "    </tr>\n",
       "  </tbody>\n",
       "</table>\n",
       "</div>"
      ],
      "text/plain": [
       "                                    title  \\\n",
       "0                        Toy Story (1995)   \n",
       "1                          Jumanji (1995)   \n",
       "2                 Grumpier Old Men (1995)   \n",
       "3                Waiting to Exhale (1995)   \n",
       "4      Father of the Bride Part II (1995)   \n",
       "5                             Heat (1995)   \n",
       "6                          Sabrina (1995)   \n",
       "7                     Tom and Huck (1995)   \n",
       "8                     Sudden Death (1995)   \n",
       "9                        GoldenEye (1995)   \n",
       "10         American President, The (1995)   \n",
       "11     Dracula: Dead and Loving It (1995)   \n",
       "12                           Balto (1995)   \n",
       "13                           Nixon (1995)   \n",
       "14                Cutthroat Island (1995)   \n",
       "15                          Casino (1995)   \n",
       "16           Sense and Sensibility (1995)   \n",
       "17                      Four Rooms (1995)   \n",
       "18  Ace Ventura: When Nature Calls (1995)   \n",
       "19                     Money Train (1995)   \n",
       "\n",
       "                                                                 directedBy  \\\n",
       "0                                                             John Lasseter   \n",
       "1                                                              Joe Johnston   \n",
       "2                                                             Howard Deutch   \n",
       "3                                                           Forest Whitaker   \n",
       "4                                                             Charles Shyer   \n",
       "5                                                              Michael Mann   \n",
       "6                                                            Sydney Pollack   \n",
       "7                                                              Peter Hewitt   \n",
       "8                                                               Peter Hyams   \n",
       "9                                                           Martin Campbell   \n",
       "10                                                               Rob Reiner   \n",
       "11                                                               Mel Brooks   \n",
       "12                                                              Simon Wells   \n",
       "13                                                             Oliver Stone   \n",
       "14                                                             Renny Harlin   \n",
       "15                                                          Martin Scorsese   \n",
       "16                                                                  Ang Lee   \n",
       "17  Allison Anders, Alexandre Rockwell, Robert Rodriguez, Quentin Tarantino   \n",
       "18                                                           Steve Oedekerk   \n",
       "19                                                             Joseph Ruben   \n",
       "\n",
       "                                                                                                                                                                                                                                                                                                                                                                                                                                                                                                                                                                                                                   starring  \\\n",
       "0                                                                                                                                                                                                                                                                                                                                                                                                                                                                                   Tim Allen, Tom Hanks, Don Rickles, Jim Varney, John Ratzenberger, Wallace Shawn, Laurie Metcalf, John Morris, R. Lee Ermey, Annie Potts   \n",
       "1                                                                                                                                                                                                                                                                                                                                                                                                                                                                                                                                                              Jonathan Hyde, Bradley Pierce, Robin Williams, Kirsten Dunst   \n",
       "2                                                                                                                                                                                                                                                                                                                                                                                                                                                                                                                                                                   Jack Lemmon, Walter Matthau, Ann-Margret , Sophia Loren   \n",
       "3                                                                                                                                                                                                                                                                                                                                                                                                                                                                                                                                                              Angela Bassett, Loretta Devine, Whitney Houston, Lela Rochon   \n",
       "4                                                                                                                                                                                                                                                                                                                                                                                                                                                                                                                                Steve Martin, Martin Short, Diane Keaton, Kimberly Williams, George Newbern, Kieran Culkin   \n",
       "5                                                                                                                                                                                                                                                                                                                                                                                                                                                                                                               Robert De Niro, Al Pacino, Val Kilmer, Jon Voight, Tom Sizemore, Ashley Judd, Diane Venora, Natalie Portman   \n",
       "6                                                                                                                                                                                                                                                                                                                                                                                                                                                                                                                                                                 Harrison Ford, Greg Kinnear, Nancy Marchand, Julia Ormond   \n",
       "7                                                                                                                                                                                                                                                                                                                                                                               Jonathan Taylor Thomas, Brad Renfro, Eric Schweig, Charles Rocket, Amy Wright, Michael McShane, Marian Seldes, Rachael Leigh Cook, Peter Mackenzie, Andy Stahl, Adrian Roberts, David Cowgill, Ike Eisenmann, Tamara Mello, Courtney Peldon   \n",
       "8                                                                                                                                                                                                                                                                                                                                                                                                                                                                                                                                                    Raymond J. Barry, Powers Boothe, Jean-Claude Van Damme, Whittni Wright   \n",
       "9                                                                                                                                                                                                                                                                                                                                                                                                                                                      Pierce Brosnan, Sean Bean, Famke Janssen, Izabella Scorupco, Joe Don Baker, Judi Dench, Robbie Coltrane, Alan Cumming, Tchéky Karyo, Desmond Llewelyn, Samantha Bond   \n",
       "10                                                                                                                                                                                                                                                                                                                                                                                                                                                                                                                                          Michael Douglas, Michael J. Fox, Martin Sheen, Annette Bening, Richard Dreyfuss   \n",
       "11                                                                                                                                                                                                                                                                                                                                                                                                                                                                                                                                                                Peter MacNicol, Leslie Nielsen, Steven Weber, Amy Yasbeck   \n",
       "12                                                                                                                                                                                                                                                                                                                                                                                                                                                                                                                                                                    Kevin Bacon, Jim Cummings, Bob Hoskins, Bridget Fonda   \n",
       "13  Anthony Hopkins, Joan Allen, Powers Boothe, Ed Harris, Bob Hoskins, E.G. Marshall, David Paymer, David Hyde Pierce, Paul Sorvino, Mary Steenburgen, J.T. Walsh, James Woods, Brian Bedford, Kevin Dunn, Fyvush Finkel, Annabeth Gish, Tom Bower, Tony Goldwyn, Larry Hagman, Edward Herrmann, Madeline Kahn, Dan Hedaya, Tony Lo Bianco, Saul Rubinek, Robert Beltran, John Cunningham, John Diehl, John C. McGinley, Michael Chiklis, David Barry Gray, Enrique Castillo, Victor Rivers, Bridgette Wilson, Ric Young, O'Neal Compton, Marley Shelton, James Karen, Richard Fancy, Ling Bai, John Stockwell, Tony Plana   \n",
       "14                                                                                                                                                                                                                                                                                                                                                                                                                                                                                                                                                               Maury Chaykin, Frank Langella, Matthew Modine, Geena Davis   \n",
       "15                                                                                                                                                                                                                                                                                                                                                                                                                                                                                                                                                                     Robert De Niro, Joe Pesci, James Woods, Sharon Stone   \n",
       "16                                                                                                                                                                                                                                                                                                                                                                                                                                                                                                                                                                    Hugh Grant, Alan Rickman, Emma Thompson, Kate Winslet   \n",
       "17                                                                                                                                                                                                                                                                                                                                                                        Sammi Davis, Amanda De Cadenet, Valeria Golino, Madonna, Ione Skye, Lili Taylor, Alicia Witt, Jennifer Beals, David Proval, Antonio Banderas, Lana McKissack, Salma Hayek, Quentin Tarantino, Kathy Griffin, Marisa Tomei, Tim Roth, Bruce Willis   \n",
       "18                                                                                                                                                                                                                                                                                                                                                                                                                                                                                                                                                       Simon Callow, Jim Carrey, Maynard Eziashi, Ian McNeice, Bob Gunton   \n",
       "19                                                                                                                                                                                                                                                                                                                                                                                                          Wesley Snipes, Woody Harrelson, Jennifer Lopez, Robert Blake, Chris Cooper, Joe Grifasi, Skipp Sudduth, Aida Turturro, Vincent Pastore, Dean Norris, José Zúñiga, Bill Nunn, Larry Gilliard Jr., Flex Alexander   \n",
       "\n",
       "    avgRating  item_id  Year  Sentiment  director_count  \n",
       "0        7.78        1  1995          1               1  \n",
       "1        6.53        2  1995          0               1  \n",
       "2        6.34        3  1995          0               1  \n",
       "3        5.74        4  1995          0               1  \n",
       "4        6.15        5  1995          0               1  \n",
       "5        7.71        6  1995          1               1  \n",
       "6        6.74        7  1995          0               1  \n",
       "7        6.23        8  1995          0               1  \n",
       "8        6.00        9  1995          0               1  \n",
       "9        6.87       10  1995          0               1  \n",
       "10       7.32       11  1995          1               1  \n",
       "11       5.35       12  1995          0               1  \n",
       "12       6.69       13  1995          0               1  \n",
       "13       6.86       14  1995          0               1  \n",
       "14       5.47       15  1995          0               1  \n",
       "15       7.64       16  1995          1               1  \n",
       "16       7.89       17  1995          1               1  \n",
       "17       6.83       18  1995          0               4  \n",
       "18       5.32       19  1995          0               1  \n",
       "19       5.78       20  1995          0               1  "
      ]
     },
     "execution_count": 38,
     "metadata": {},
     "output_type": "execute_result"
    }
   ],
   "source": [
    "# taking 20 entries\n",
    "\n",
    "cleaner_df.head(20)"
   ]
  },
  {
   "attachments": {},
   "cell_type": "markdown",
   "id": "d01806d4",
   "metadata": {},
   "source": [
    "On the 17th indexed entry, the movie titled ' Four Rooms' has a 4 names credited for the directors. We will see if there are any more with multiple directors."
   ]
  },
  {
   "cell_type": "code",
   "execution_count": 39,
   "id": "567c5843",
   "metadata": {
    "scrolled": true
   },
   "outputs": [
    {
     "data": {
      "text/plain": [
       "1     62035\n",
       "2      1473\n",
       "3       144\n",
       "4        38\n",
       "5        22\n",
       "7        16\n",
       "6        15\n",
       "8         7\n",
       "11        4\n",
       "9         3\n",
       "13        2\n",
       "10        2\n",
       "26        2\n",
       "36        1\n",
       "25        1\n",
       "15        1\n",
       "12        1\n",
       "27        1\n",
       "30        1\n",
       "Name: director_count, dtype: int64"
      ]
     },
     "execution_count": 39,
     "metadata": {},
     "output_type": "execute_result"
    }
   ],
   "source": [
    "# number of counts for directors counts\n",
    "\n",
    "cleaner_df['director_count'].value_counts()"
   ]
  },
  {
   "attachments": {},
   "cell_type": "markdown",
   "id": "7f942a93",
   "metadata": {},
   "source": [
    "A large portion of them seem to be a single director, with 2 or 3 also having some weight to it, let's see the percentages of values with the number of directors.\n",
    "\n",
    "From getting the proportional data, we see that 97% of the data consists of only 1 director, for a large dataset, we find this will be more likely to drop the remainder as there are many outlier cases such as having 4, 5, 6, and onwards number of directors.\n",
    "\n",
    "We will do this by removing the 'director_count' column as they will all be 1 director per movie, and only taking the first name in the entry for 'directedBy'"
   ]
  },
  {
   "cell_type": "code",
   "execution_count": 40,
   "id": "02773ac0",
   "metadata": {
    "scrolled": true
   },
   "outputs": [
    {
     "data": {
      "text/plain": [
       "1     0.972808\n",
       "2     0.023099\n",
       "3     0.002258\n",
       "4     0.000596\n",
       "5     0.000345\n",
       "7     0.000251\n",
       "6     0.000235\n",
       "8     0.000110\n",
       "11    0.000063\n",
       "9     0.000047\n",
       "13    0.000031\n",
       "10    0.000031\n",
       "26    0.000031\n",
       "36    0.000016\n",
       "25    0.000016\n",
       "15    0.000016\n",
       "12    0.000016\n",
       "27    0.000016\n",
       "30    0.000016\n",
       "Name: director_count, dtype: float64"
      ]
     },
     "execution_count": 40,
     "metadata": {},
     "output_type": "execute_result"
    }
   ],
   "source": [
    "# Percent that the value shows up\n",
    "\n",
    "cleaner_df['director_count'].value_counts(normalize = True)"
   ]
  },
  {
   "cell_type": "code",
   "execution_count": 41,
   "id": "2733f392",
   "metadata": {},
   "outputs": [],
   "source": [
    "# Dropping director_count\n",
    "\n",
    "cleaner_df.drop(columns=['director_count'], inplace=True)"
   ]
  },
  {
   "cell_type": "code",
   "execution_count": 42,
   "id": "38f24a17",
   "metadata": {},
   "outputs": [],
   "source": [
    "# Taking the first name in the directedBy column\n",
    "\n",
    "cleaner_df['directedBy'] = cleaner_df['directedBy'].str.split(',').str[0]"
   ]
  },
  {
   "cell_type": "code",
   "execution_count": 43,
   "id": "b81369ad",
   "metadata": {
    "scrolled": true
   },
   "outputs": [
    {
     "data": {
      "text/html": [
       "<div>\n",
       "<style scoped>\n",
       "    .dataframe tbody tr th:only-of-type {\n",
       "        vertical-align: middle;\n",
       "    }\n",
       "\n",
       "    .dataframe tbody tr th {\n",
       "        vertical-align: top;\n",
       "    }\n",
       "\n",
       "    .dataframe thead th {\n",
       "        text-align: right;\n",
       "    }\n",
       "</style>\n",
       "<table border=\"1\" class=\"dataframe\">\n",
       "  <thead>\n",
       "    <tr style=\"text-align: right;\">\n",
       "      <th></th>\n",
       "      <th>title</th>\n",
       "      <th>directedBy</th>\n",
       "      <th>starring</th>\n",
       "      <th>avgRating</th>\n",
       "      <th>item_id</th>\n",
       "      <th>Year</th>\n",
       "      <th>Sentiment</th>\n",
       "    </tr>\n",
       "  </thead>\n",
       "  <tbody>\n",
       "    <tr>\n",
       "      <th>0</th>\n",
       "      <td>Toy Story (1995)</td>\n",
       "      <td>John Lasseter</td>\n",
       "      <td>Tim Allen, Tom Hanks, Don Rickles, Jim Varney, John Ratzenberger, Wallace Shawn, Laurie Metcalf, John Morris, R. Lee Ermey, Annie Potts</td>\n",
       "      <td>7.78</td>\n",
       "      <td>1</td>\n",
       "      <td>1995</td>\n",
       "      <td>1</td>\n",
       "    </tr>\n",
       "    <tr>\n",
       "      <th>1</th>\n",
       "      <td>Jumanji (1995)</td>\n",
       "      <td>Joe Johnston</td>\n",
       "      <td>Jonathan Hyde, Bradley Pierce, Robin Williams, Kirsten Dunst</td>\n",
       "      <td>6.53</td>\n",
       "      <td>2</td>\n",
       "      <td>1995</td>\n",
       "      <td>0</td>\n",
       "    </tr>\n",
       "    <tr>\n",
       "      <th>2</th>\n",
       "      <td>Grumpier Old Men (1995)</td>\n",
       "      <td>Howard Deutch</td>\n",
       "      <td>Jack Lemmon, Walter Matthau, Ann-Margret , Sophia Loren</td>\n",
       "      <td>6.34</td>\n",
       "      <td>3</td>\n",
       "      <td>1995</td>\n",
       "      <td>0</td>\n",
       "    </tr>\n",
       "    <tr>\n",
       "      <th>3</th>\n",
       "      <td>Waiting to Exhale (1995)</td>\n",
       "      <td>Forest Whitaker</td>\n",
       "      <td>Angela Bassett, Loretta Devine, Whitney Houston, Lela Rochon</td>\n",
       "      <td>5.74</td>\n",
       "      <td>4</td>\n",
       "      <td>1995</td>\n",
       "      <td>0</td>\n",
       "    </tr>\n",
       "    <tr>\n",
       "      <th>4</th>\n",
       "      <td>Father of the Bride Part II (1995)</td>\n",
       "      <td>Charles Shyer</td>\n",
       "      <td>Steve Martin, Martin Short, Diane Keaton, Kimberly Williams, George Newbern, Kieran Culkin</td>\n",
       "      <td>6.15</td>\n",
       "      <td>5</td>\n",
       "      <td>1995</td>\n",
       "      <td>0</td>\n",
       "    </tr>\n",
       "  </tbody>\n",
       "</table>\n",
       "</div>"
      ],
      "text/plain": [
       "                                title       directedBy  \\\n",
       "0                    Toy Story (1995)    John Lasseter   \n",
       "1                      Jumanji (1995)     Joe Johnston   \n",
       "2             Grumpier Old Men (1995)    Howard Deutch   \n",
       "3            Waiting to Exhale (1995)  Forest Whitaker   \n",
       "4  Father of the Bride Part II (1995)    Charles Shyer   \n",
       "\n",
       "                                                                                                                                  starring  \\\n",
       "0  Tim Allen, Tom Hanks, Don Rickles, Jim Varney, John Ratzenberger, Wallace Shawn, Laurie Metcalf, John Morris, R. Lee Ermey, Annie Potts   \n",
       "1                                                                             Jonathan Hyde, Bradley Pierce, Robin Williams, Kirsten Dunst   \n",
       "2                                                                                  Jack Lemmon, Walter Matthau, Ann-Margret , Sophia Loren   \n",
       "3                                                                             Angela Bassett, Loretta Devine, Whitney Houston, Lela Rochon   \n",
       "4                                               Steve Martin, Martin Short, Diane Keaton, Kimberly Williams, George Newbern, Kieran Culkin   \n",
       "\n",
       "   avgRating  item_id  Year  Sentiment  \n",
       "0       7.78        1  1995          1  \n",
       "1       6.53        2  1995          0  \n",
       "2       6.34        3  1995          0  \n",
       "3       5.74        4  1995          0  \n",
       "4       6.15        5  1995          0  "
      ]
     },
     "execution_count": 43,
     "metadata": {},
     "output_type": "execute_result"
    }
   ],
   "source": [
    "cleaner_df.head()"
   ]
  },
  {
   "attachments": {},
   "cell_type": "markdown",
   "id": "413f8972",
   "metadata": {},
   "source": [
    "We would also like to get the number of movies directed by each director, to do so, we will count the number of entries that has this director's name, and sum the total. These values with be stored in a new column."
   ]
  },
  {
   "cell_type": "code",
   "execution_count": 44,
   "id": "990b02ae",
   "metadata": {},
   "outputs": [],
   "source": [
    "# Creates new column showing number of movies directed by the corresponding director\n",
    "\n",
    "cleaner_df['#Movies_directed'] = cleaner_df.groupby('directedBy')['directedBy'].transform('count')"
   ]
  },
  {
   "cell_type": "code",
   "execution_count": 45,
   "id": "26c9c7d8",
   "metadata": {
    "scrolled": true
   },
   "outputs": [
    {
     "data": {
      "text/html": [
       "<div>\n",
       "<style scoped>\n",
       "    .dataframe tbody tr th:only-of-type {\n",
       "        vertical-align: middle;\n",
       "    }\n",
       "\n",
       "    .dataframe tbody tr th {\n",
       "        vertical-align: top;\n",
       "    }\n",
       "\n",
       "    .dataframe thead th {\n",
       "        text-align: right;\n",
       "    }\n",
       "</style>\n",
       "<table border=\"1\" class=\"dataframe\">\n",
       "  <thead>\n",
       "    <tr style=\"text-align: right;\">\n",
       "      <th></th>\n",
       "      <th>title</th>\n",
       "      <th>directedBy</th>\n",
       "      <th>starring</th>\n",
       "      <th>avgRating</th>\n",
       "      <th>item_id</th>\n",
       "      <th>Year</th>\n",
       "      <th>Sentiment</th>\n",
       "      <th>#Movies_directed</th>\n",
       "    </tr>\n",
       "  </thead>\n",
       "  <tbody>\n",
       "    <tr>\n",
       "      <th>0</th>\n",
       "      <td>Toy Story (1995)</td>\n",
       "      <td>John Lasseter</td>\n",
       "      <td>Tim Allen, Tom Hanks, Don Rickles, Jim Varney, John Ratzenberger, Wallace Shawn, Laurie Metcalf, John Morris, R. Lee Ermey, Annie Potts</td>\n",
       "      <td>7.78</td>\n",
       "      <td>1</td>\n",
       "      <td>1995</td>\n",
       "      <td>1</td>\n",
       "      <td>6</td>\n",
       "    </tr>\n",
       "    <tr>\n",
       "      <th>1</th>\n",
       "      <td>Jumanji (1995)</td>\n",
       "      <td>Joe Johnston</td>\n",
       "      <td>Jonathan Hyde, Bradley Pierce, Robin Williams, Kirsten Dunst</td>\n",
       "      <td>6.53</td>\n",
       "      <td>2</td>\n",
       "      <td>1995</td>\n",
       "      <td>0</td>\n",
       "      <td>9</td>\n",
       "    </tr>\n",
       "    <tr>\n",
       "      <th>2</th>\n",
       "      <td>Grumpier Old Men (1995)</td>\n",
       "      <td>Howard Deutch</td>\n",
       "      <td>Jack Lemmon, Walter Matthau, Ann-Margret , Sophia Loren</td>\n",
       "      <td>6.34</td>\n",
       "      <td>3</td>\n",
       "      <td>1995</td>\n",
       "      <td>0</td>\n",
       "      <td>11</td>\n",
       "    </tr>\n",
       "    <tr>\n",
       "      <th>3</th>\n",
       "      <td>Waiting to Exhale (1995)</td>\n",
       "      <td>Forest Whitaker</td>\n",
       "      <td>Angela Bassett, Loretta Devine, Whitney Houston, Lela Rochon</td>\n",
       "      <td>5.74</td>\n",
       "      <td>4</td>\n",
       "      <td>1995</td>\n",
       "      <td>0</td>\n",
       "      <td>4</td>\n",
       "    </tr>\n",
       "    <tr>\n",
       "      <th>4</th>\n",
       "      <td>Father of the Bride Part II (1995)</td>\n",
       "      <td>Charles Shyer</td>\n",
       "      <td>Steve Martin, Martin Short, Diane Keaton, Kimberly Williams, George Newbern, Kieran Culkin</td>\n",
       "      <td>6.15</td>\n",
       "      <td>5</td>\n",
       "      <td>1995</td>\n",
       "      <td>0</td>\n",
       "      <td>7</td>\n",
       "    </tr>\n",
       "  </tbody>\n",
       "</table>\n",
       "</div>"
      ],
      "text/plain": [
       "                                title       directedBy  \\\n",
       "0                    Toy Story (1995)    John Lasseter   \n",
       "1                      Jumanji (1995)     Joe Johnston   \n",
       "2             Grumpier Old Men (1995)    Howard Deutch   \n",
       "3            Waiting to Exhale (1995)  Forest Whitaker   \n",
       "4  Father of the Bride Part II (1995)    Charles Shyer   \n",
       "\n",
       "                                                                                                                                  starring  \\\n",
       "0  Tim Allen, Tom Hanks, Don Rickles, Jim Varney, John Ratzenberger, Wallace Shawn, Laurie Metcalf, John Morris, R. Lee Ermey, Annie Potts   \n",
       "1                                                                             Jonathan Hyde, Bradley Pierce, Robin Williams, Kirsten Dunst   \n",
       "2                                                                                  Jack Lemmon, Walter Matthau, Ann-Margret , Sophia Loren   \n",
       "3                                                                             Angela Bassett, Loretta Devine, Whitney Houston, Lela Rochon   \n",
       "4                                               Steve Martin, Martin Short, Diane Keaton, Kimberly Williams, George Newbern, Kieran Culkin   \n",
       "\n",
       "   avgRating  item_id  Year  Sentiment  #Movies_directed  \n",
       "0       7.78        1  1995          1                 6  \n",
       "1       6.53        2  1995          0                 9  \n",
       "2       6.34        3  1995          0                11  \n",
       "3       5.74        4  1995          0                 4  \n",
       "4       6.15        5  1995          0                 7  "
      ]
     },
     "execution_count": 45,
     "metadata": {},
     "output_type": "execute_result"
    }
   ],
   "source": [
    "# Taking a look at the Data again\n",
    "\n",
    "cleaner_df.head()"
   ]
  },
  {
   "attachments": {},
   "cell_type": "markdown",
   "id": "32b22f97",
   "metadata": {},
   "source": [
    "Before we continue, we want to explore if the experience a director has might have an impact on the movie ratings. Let's create a plot to compare the number of movies they made to their average rating"
   ]
  },
  {
   "cell_type": "code",
   "execution_count": 46,
   "id": "2732ac49",
   "metadata": {},
   "outputs": [
    {
     "data": {
      "image/png": "[encoded data removed]",
      "text/plain": [
       "<Figure size 640x480 with 1 Axes>"
      ]
     },
     "metadata": {},
     "output_type": "display_data"
    }
   ],
   "source": [
    "plt.figure()\n",
    "\n",
    "plt.scatter(cleaner_df['#Movies_directed'], cleaner_df['avgRating'], alpha=0.1) # change the transparency with the alpha param, between 0 and 1\n",
    "\n",
    "plt.xlabel('# of Movies Directed')\n",
    "plt.ylabel('Rating')\n",
    "plt.title('Director vs Average Rating')\n",
    "\n",
    "plt.show()"
   ]
  },
  {
   "attachments": {},
   "cell_type": "markdown",
   "id": "bdd6bdc5",
   "metadata": {},
   "source": [
    "From this, we can tell that experience does make for more consistent ratings, however we still see that there are people who make few movies with really good ratings for their movies. The data does not signify anything valuable to take but it could help in our prediction models."
   ]
  },
  {
   "attachments": {},
   "cell_type": "markdown",
   "id": "5c9e4e8f",
   "metadata": {},
   "source": [
    "Now, we will address the actor count columns"
   ]
  },
  {
   "cell_type": "code",
   "execution_count": 47,
   "id": "4e29ca93",
   "metadata": {
    "scrolled": false
   },
   "outputs": [],
   "source": [
    "# Gets a column counting by actors, we see it's seperated by commas\n",
    "\n",
    "cleaner_df['actor_count'] = cleaner_df[\"starring\"].str.count(\",\") + 1"
   ]
  },
  {
   "cell_type": "code",
   "execution_count": 48,
   "id": "0e796a9e",
   "metadata": {
    "scrolled": true
   },
   "outputs": [
    {
     "data": {
      "text/plain": [
       "5     0.518104\n",
       "4     0.173878\n",
       "3     0.100488\n",
       "1     0.044771\n",
       "2     0.043908\n",
       "6     0.034280\n",
       "7     0.020214\n",
       "8     0.014239\n",
       "9     0.010068\n",
       "10    0.007731\n",
       "11    0.006414\n",
       "12    0.005206\n",
       "13    0.003999\n",
       "15    0.003324\n",
       "14    0.003152\n",
       "16    0.001678\n",
       "17    0.001600\n",
       "18    0.001443\n",
       "20    0.000862\n",
       "19    0.000831\n",
       "21    0.000800\n",
       "22    0.000455\n",
       "24    0.000376\n",
       "23    0.000282\n",
       "29    0.000251\n",
       "25    0.000235\n",
       "28    0.000220\n",
       "26    0.000220\n",
       "27    0.000188\n",
       "30    0.000157\n",
       "31    0.000110\n",
       "32    0.000094\n",
       "35    0.000063\n",
       "41    0.000047\n",
       "36    0.000047\n",
       "33    0.000031\n",
       "34    0.000031\n",
       "37    0.000031\n",
       "40    0.000031\n",
       "57    0.000031\n",
       "70    0.000016\n",
       "38    0.000016\n",
       "45    0.000016\n",
       "52    0.000016\n",
       "51    0.000016\n",
       "65    0.000016\n",
       "42    0.000016\n",
       "Name: actor_count, dtype: float64"
      ]
     },
     "execution_count": 48,
     "metadata": {},
     "output_type": "execute_result"
    }
   ],
   "source": [
    "# 5 actors is the starring list's most common\n",
    "\n",
    "cleaner_df['actor_count'].value_counts(normalize = True)"
   ]
  },
  {
   "attachments": {},
   "cell_type": "markdown",
   "id": "eb1a6f4c",
   "metadata": {},
   "source": [
    "We see that the most common credit actors list is around 5 credited for this data set, we will see if we sum the movies starting with 1 actor and keep ascending where the data set has a good represented portion."
   ]
  },
  {
   "cell_type": "code",
   "execution_count": 49,
   "id": "7df2c049",
   "metadata": {
    "scrolled": false
   },
   "outputs": [
    {
     "data": {
      "text/plain": [
       "1     0.044771\n",
       "2     0.088679\n",
       "3     0.189167\n",
       "4     0.363045\n",
       "5     0.881149\n",
       "6     0.915429\n",
       "7     0.935643\n",
       "8     0.949882\n",
       "9     0.959949\n",
       "10    0.967680\n",
       "11    0.974094\n",
       "12    0.979300\n",
       "13    0.983299\n",
       "14    0.986451\n",
       "15    0.989776\n",
       "16    0.991454\n",
       "17    0.993053\n",
       "18    0.994496\n",
       "19    0.995327\n",
       "20    0.996189\n",
       "21    0.996989\n",
       "22    0.997444\n",
       "23    0.997726\n",
       "24    0.998103\n",
       "25    0.998338\n",
       "26    0.998557\n",
       "27    0.998745\n",
       "28    0.998965\n",
       "29    0.999216\n",
       "30    0.999373\n",
       "31    0.999483\n",
       "32    0.999577\n",
       "33    0.999608\n",
       "34    0.999639\n",
       "35    0.999702\n",
       "36    0.999749\n",
       "37    0.999780\n",
       "38    0.999796\n",
       "40    0.999828\n",
       "41    0.999875\n",
       "42    0.999890\n",
       "45    0.999906\n",
       "51    0.999922\n",
       "52    0.999937\n",
       "57    0.999969\n",
       "65    0.999984\n",
       "70    1.000000\n",
       "Name: actor_count, dtype: float64"
      ]
     },
     "execution_count": 49,
     "metadata": {},
     "output_type": "execute_result"
    }
   ],
   "source": [
    "# 5 actors also makes up almost 90% of the dataset.\n",
    "# limit it to top 5 actors.\n",
    "\n",
    "cleaner_df['actor_count'].value_counts(normalize=True).sort_index().cumsum()"
   ]
  },
  {
   "attachments": {},
   "cell_type": "markdown",
   "id": "19c2da4e",
   "metadata": {},
   "source": [
    "By doing cumulative sum on the 'actor_count' column, we see that close to 90% of data consists of 5 credited actors or less in their movies. We will reduce the actor count to only show a maximum of 5 actors, as we will be using this to create a new feature later."
   ]
  },
  {
   "cell_type": "code",
   "execution_count": 50,
   "id": "8ef09b71",
   "metadata": {},
   "outputs": [
    {
     "name": "stdout",
     "output_type": "stream",
     "text": [
      "<class 'pandas.core.frame.DataFrame'>\n",
      "Int64Index: 63769 entries, 0 to 84561\n",
      "Data columns (total 9 columns):\n",
      " #   Column            Non-Null Count  Dtype  \n",
      "---  ------            --------------  -----  \n",
      " 0   title             63769 non-null  object \n",
      " 1   directedBy        63769 non-null  object \n",
      " 2   starring          63769 non-null  object \n",
      " 3   avgRating         63769 non-null  float64\n",
      " 4   item_id           63769 non-null  int64  \n",
      " 5   Year              63769 non-null  Int64  \n",
      " 6   Sentiment         63769 non-null  int32  \n",
      " 7   #Movies_directed  63769 non-null  int64  \n",
      " 8   actor_count       63769 non-null  int64  \n",
      "dtypes: Int64(1), float64(1), int32(1), int64(3), object(3)\n",
      "memory usage: 4.7+ MB\n"
     ]
    }
   ],
   "source": [
    "cleaner_df.info()"
   ]
  },
  {
   "cell_type": "code",
   "execution_count": 51,
   "id": "ebdf74ae",
   "metadata": {},
   "outputs": [],
   "source": [
    "# map anyhting over 5 to 5\n",
    "\n",
    "cleaner_df['actor_count'] = np.where(cleaner_df['actor_count'] >= 5, 5, cleaner_df['actor_count'])"
   ]
  },
  {
   "cell_type": "code",
   "execution_count": 52,
   "id": "3600773a",
   "metadata": {
    "scrolled": false
   },
   "outputs": [
    {
     "data": {
      "text/plain": [
       "5    0.636955\n",
       "4    0.173878\n",
       "3    0.100488\n",
       "1    0.044771\n",
       "2    0.043908\n",
       "Name: actor_count, dtype: float64"
      ]
     },
     "execution_count": 52,
     "metadata": {},
     "output_type": "execute_result"
    }
   ],
   "source": [
    "cleaner_df['actor_count'].value_counts(normalize = True)"
   ]
  },
  {
   "attachments": {},
   "cell_type": "markdown",
   "id": "cec465f4",
   "metadata": {},
   "source": [
    "After editing the column to only show the first 5 actors, we will create a new dataset, where we will assign the actors to their own columns from actor 1 to actor 5, if there is no actor to fill, a 0 will show up in it's place."
   ]
  },
  {
   "cell_type": "code",
   "execution_count": 53,
   "id": "7c195bdf",
   "metadata": {},
   "outputs": [
    {
     "data": {
      "text/html": [
       "<div>\n",
       "<style scoped>\n",
       "    .dataframe tbody tr th:only-of-type {\n",
       "        vertical-align: middle;\n",
       "    }\n",
       "\n",
       "    .dataframe tbody tr th {\n",
       "        vertical-align: top;\n",
       "    }\n",
       "\n",
       "    .dataframe thead th {\n",
       "        text-align: right;\n",
       "    }\n",
       "</style>\n",
       "<table border=\"1\" class=\"dataframe\">\n",
       "  <thead>\n",
       "    <tr style=\"text-align: right;\">\n",
       "      <th></th>\n",
       "      <th>Actor 1</th>\n",
       "      <th>Actor 2</th>\n",
       "      <th>Actor 3</th>\n",
       "      <th>Actor 4</th>\n",
       "      <th>Actor 5</th>\n",
       "    </tr>\n",
       "  </thead>\n",
       "  <tbody>\n",
       "    <tr>\n",
       "      <th>0</th>\n",
       "      <td>Tim Allen</td>\n",
       "      <td>Tom Hanks</td>\n",
       "      <td>Don Rickles</td>\n",
       "      <td>Jim Varney</td>\n",
       "      <td>John Ratzenberger</td>\n",
       "    </tr>\n",
       "    <tr>\n",
       "      <th>1</th>\n",
       "      <td>Jonathan Hyde</td>\n",
       "      <td>Bradley Pierce</td>\n",
       "      <td>Robin Williams</td>\n",
       "      <td>Kirsten Dunst</td>\n",
       "      <td>0</td>\n",
       "    </tr>\n",
       "    <tr>\n",
       "      <th>2</th>\n",
       "      <td>Jack Lemmon</td>\n",
       "      <td>Walter Matthau</td>\n",
       "      <td>Ann-Margret</td>\n",
       "      <td>Sophia Loren</td>\n",
       "      <td>0</td>\n",
       "    </tr>\n",
       "    <tr>\n",
       "      <th>3</th>\n",
       "      <td>Angela Bassett</td>\n",
       "      <td>Loretta Devine</td>\n",
       "      <td>Whitney Houston</td>\n",
       "      <td>Lela Rochon</td>\n",
       "      <td>0</td>\n",
       "    </tr>\n",
       "    <tr>\n",
       "      <th>4</th>\n",
       "      <td>Steve Martin</td>\n",
       "      <td>Martin Short</td>\n",
       "      <td>Diane Keaton</td>\n",
       "      <td>Kimberly Williams</td>\n",
       "      <td>George Newbern</td>\n",
       "    </tr>\n",
       "  </tbody>\n",
       "</table>\n",
       "</div>"
      ],
      "text/plain": [
       "          Actor 1          Actor 2           Actor 3             Actor 4  \\\n",
       "0       Tim Allen        Tom Hanks       Don Rickles          Jim Varney   \n",
       "1   Jonathan Hyde   Bradley Pierce    Robin Williams       Kirsten Dunst   \n",
       "2     Jack Lemmon   Walter Matthau      Ann-Margret         Sophia Loren   \n",
       "3  Angela Bassett   Loretta Devine   Whitney Houston         Lela Rochon   \n",
       "4    Steve Martin     Martin Short      Diane Keaton   Kimberly Williams   \n",
       "\n",
       "              Actor 5  \n",
       "0   John Ratzenberger  \n",
       "1                   0  \n",
       "2                   0  \n",
       "3                   0  \n",
       "4      George Newbern  "
      ]
     },
     "execution_count": 53,
     "metadata": {},
     "output_type": "execute_result"
    }
   ],
   "source": [
    "\n",
    "actors_list = []\n",
    "\n",
    "for index, row in cleaner_df.iterrows():\n",
    "    # Split the \"starring\" column by commas to get a list of actors\n",
    "    cols = row['starring'].split(\",\")\n",
    "    if len(cols) < 5:\n",
    "        cols += [0] * (5 - len(cols))\n",
    "    else:\n",
    "        cols = cols[:5]\n",
    "    \n",
    "    # Add the list of actors to the list of actor lists\n",
    "    actors_list.append(cols)\n",
    "\n",
    "# make it a dataframe\n",
    "actors_df = pd.DataFrame(actors_list, columns=['Actor 1', 'Actor 2', 'Actor 3', 'Actor 4', 'Actor 5'])\n",
    "\n",
    "# Look at new table\n",
    "actors_df.head()"
   ]
  },
  {
   "cell_type": "code",
   "execution_count": 54,
   "id": "f3fcabc2",
   "metadata": {
    "scrolled": true
   },
   "outputs": [
    {
     "name": "stdout",
     "output_type": "stream",
     "text": [
      "(63769, 5)\n"
     ]
    }
   ],
   "source": [
    "print(actors_df.shape)"
   ]
  },
  {
   "attachments": {},
   "cell_type": "markdown",
   "id": "bd5717fd",
   "metadata": {},
   "source": [
    "We plan to create a new feature, called 'Celeb_score', which is the total appearances of the actors in movies, divided by the number of actors in the movie, the process will be displayed below."
   ]
  },
  {
   "cell_type": "code",
   "execution_count": 68,
   "id": "9b17d251",
   "metadata": {},
   "outputs": [],
   "source": [
    "# exclude 0s\n",
    "# Flatten the dataframe and count the appearances of each actor\n",
    "actor_counts = actors_df.stack().value_counts()\n",
    "\n",
    "# Create a new dataframe with total appearances for each row\n",
    "total_appearances_df = pd.DataFrame()\n",
    "for index, row in actors_df.iterrows():\n",
    "    actors = [actor for actor in row.values if actor != 0]\n",
    "    total_appearances = actor_counts.loc[actors].sum()\n",
    "    total_appearances_df = total_appearances_df.append(pd.DataFrame({'total_appearances': [total_appearances]}), ignore_index=True)\n"
   ]
  },
  {
   "cell_type": "code",
   "execution_count": 69,
   "id": "4b0f0fc9",
   "metadata": {},
   "outputs": [
    {
     "data": {
      "text/html": [
       "<div>\n",
       "<style scoped>\n",
       "    .dataframe tbody tr th:only-of-type {\n",
       "        vertical-align: middle;\n",
       "    }\n",
       "\n",
       "    .dataframe tbody tr th {\n",
       "        vertical-align: top;\n",
       "    }\n",
       "\n",
       "    .dataframe thead th {\n",
       "        text-align: right;\n",
       "    }\n",
       "</style>\n",
       "<table border=\"1\" class=\"dataframe\">\n",
       "  <thead>\n",
       "    <tr style=\"text-align: right;\">\n",
       "      <th></th>\n",
       "      <th>total_appearances</th>\n",
       "    </tr>\n",
       "  </thead>\n",
       "  <tbody>\n",
       "    <tr>\n",
       "      <th>0</th>\n",
       "      <td>66</td>\n",
       "    </tr>\n",
       "    <tr>\n",
       "      <th>1</th>\n",
       "      <td>52</td>\n",
       "    </tr>\n",
       "    <tr>\n",
       "      <th>2</th>\n",
       "      <td>80</td>\n",
       "    </tr>\n",
       "    <tr>\n",
       "      <th>3</th>\n",
       "      <td>33</td>\n",
       "    </tr>\n",
       "    <tr>\n",
       "      <th>4</th>\n",
       "      <td>75</td>\n",
       "    </tr>\n",
       "  </tbody>\n",
       "</table>\n",
       "</div>"
      ],
      "text/plain": [
       "   total_appearances\n",
       "0                 66\n",
       "1                 52\n",
       "2                 80\n",
       "3                 33\n",
       "4                 75"
      ]
     },
     "execution_count": 69,
     "metadata": {},
     "output_type": "execute_result"
    }
   ],
   "source": [
    "\n",
    "# Display the new dataframe\n",
    "total_appearances_df.head()"
   ]
  },
  {
   "cell_type": "code",
   "execution_count": 70,
   "id": "a9ce0561",
   "metadata": {},
   "outputs": [],
   "source": [
    "# combine the appearance number with the actors dataframe\n",
    "actors_appearances_df = pd.concat([actors_df.reset_index(drop=True), total_appearances_df.reset_index(drop=True)], axis = 1)"
   ]
  },
  {
   "cell_type": "code",
   "execution_count": 71,
   "id": "1a0d642e",
   "metadata": {},
   "outputs": [],
   "source": [
    "# append the actors dataframe to the original dataset\n",
    "# Reset index to avoid adding new rows\n",
    "movies_df = pd.concat([cleaner_df.reset_index(drop=True), actors_appearances_df.reset_index(drop=True)], axis = 1)"
   ]
  },
  {
   "cell_type": "code",
   "execution_count": 72,
   "id": "3f152ecb",
   "metadata": {},
   "outputs": [
    {
     "data": {
      "text/html": [
       "<div>\n",
       "<style scoped>\n",
       "    .dataframe tbody tr th:only-of-type {\n",
       "        vertical-align: middle;\n",
       "    }\n",
       "\n",
       "    .dataframe tbody tr th {\n",
       "        vertical-align: top;\n",
       "    }\n",
       "\n",
       "    .dataframe thead th {\n",
       "        text-align: right;\n",
       "    }\n",
       "</style>\n",
       "<table border=\"1\" class=\"dataframe\">\n",
       "  <thead>\n",
       "    <tr style=\"text-align: right;\">\n",
       "      <th></th>\n",
       "      <th>title</th>\n",
       "      <th>directedBy</th>\n",
       "      <th>starring</th>\n",
       "      <th>avgRating</th>\n",
       "      <th>item_id</th>\n",
       "      <th>Year</th>\n",
       "      <th>Sentiment</th>\n",
       "      <th>#Movies_directed</th>\n",
       "      <th>actor_count</th>\n",
       "      <th>Actor 1</th>\n",
       "      <th>Actor 2</th>\n",
       "      <th>Actor 3</th>\n",
       "      <th>Actor 4</th>\n",
       "      <th>Actor 5</th>\n",
       "      <th>total_appearances</th>\n",
       "    </tr>\n",
       "  </thead>\n",
       "  <tbody>\n",
       "    <tr>\n",
       "      <th>0</th>\n",
       "      <td>Toy Story (1995)</td>\n",
       "      <td>John Lasseter</td>\n",
       "      <td>Tim Allen, Tom Hanks, Don Rickles, Jim Varney, John Ratzenberger, Wallace Shawn, Laurie Metcalf, John Morris, R. Lee Ermey, Annie Potts</td>\n",
       "      <td>7.78</td>\n",
       "      <td>1</td>\n",
       "      <td>1995</td>\n",
       "      <td>1</td>\n",
       "      <td>6</td>\n",
       "      <td>5</td>\n",
       "      <td>Tim Allen</td>\n",
       "      <td>Tom Hanks</td>\n",
       "      <td>Don Rickles</td>\n",
       "      <td>Jim Varney</td>\n",
       "      <td>John Ratzenberger</td>\n",
       "      <td>66</td>\n",
       "    </tr>\n",
       "    <tr>\n",
       "      <th>1</th>\n",
       "      <td>Jumanji (1995)</td>\n",
       "      <td>Joe Johnston</td>\n",
       "      <td>Jonathan Hyde, Bradley Pierce, Robin Williams, Kirsten Dunst</td>\n",
       "      <td>6.53</td>\n",
       "      <td>2</td>\n",
       "      <td>1995</td>\n",
       "      <td>0</td>\n",
       "      <td>9</td>\n",
       "      <td>4</td>\n",
       "      <td>Jonathan Hyde</td>\n",
       "      <td>Bradley Pierce</td>\n",
       "      <td>Robin Williams</td>\n",
       "      <td>Kirsten Dunst</td>\n",
       "      <td>0</td>\n",
       "      <td>52</td>\n",
       "    </tr>\n",
       "    <tr>\n",
       "      <th>2</th>\n",
       "      <td>Grumpier Old Men (1995)</td>\n",
       "      <td>Howard Deutch</td>\n",
       "      <td>Jack Lemmon, Walter Matthau, Ann-Margret , Sophia Loren</td>\n",
       "      <td>6.34</td>\n",
       "      <td>3</td>\n",
       "      <td>1995</td>\n",
       "      <td>0</td>\n",
       "      <td>11</td>\n",
       "      <td>4</td>\n",
       "      <td>Jack Lemmon</td>\n",
       "      <td>Walter Matthau</td>\n",
       "      <td>Ann-Margret</td>\n",
       "      <td>Sophia Loren</td>\n",
       "      <td>0</td>\n",
       "      <td>80</td>\n",
       "    </tr>\n",
       "    <tr>\n",
       "      <th>3</th>\n",
       "      <td>Waiting to Exhale (1995)</td>\n",
       "      <td>Forest Whitaker</td>\n",
       "      <td>Angela Bassett, Loretta Devine, Whitney Houston, Lela Rochon</td>\n",
       "      <td>5.74</td>\n",
       "      <td>4</td>\n",
       "      <td>1995</td>\n",
       "      <td>0</td>\n",
       "      <td>4</td>\n",
       "      <td>4</td>\n",
       "      <td>Angela Bassett</td>\n",
       "      <td>Loretta Devine</td>\n",
       "      <td>Whitney Houston</td>\n",
       "      <td>Lela Rochon</td>\n",
       "      <td>0</td>\n",
       "      <td>33</td>\n",
       "    </tr>\n",
       "    <tr>\n",
       "      <th>4</th>\n",
       "      <td>Father of the Bride Part II (1995)</td>\n",
       "      <td>Charles Shyer</td>\n",
       "      <td>Steve Martin, Martin Short, Diane Keaton, Kimberly Williams, George Newbern, Kieran Culkin</td>\n",
       "      <td>6.15</td>\n",
       "      <td>5</td>\n",
       "      <td>1995</td>\n",
       "      <td>0</td>\n",
       "      <td>7</td>\n",
       "      <td>5</td>\n",
       "      <td>Steve Martin</td>\n",
       "      <td>Martin Short</td>\n",
       "      <td>Diane Keaton</td>\n",
       "      <td>Kimberly Williams</td>\n",
       "      <td>George Newbern</td>\n",
       "      <td>75</td>\n",
       "    </tr>\n",
       "  </tbody>\n",
       "</table>\n",
       "</div>"
      ],
      "text/plain": [
       "                                title       directedBy  \\\n",
       "0                    Toy Story (1995)    John Lasseter   \n",
       "1                      Jumanji (1995)     Joe Johnston   \n",
       "2             Grumpier Old Men (1995)    Howard Deutch   \n",
       "3            Waiting to Exhale (1995)  Forest Whitaker   \n",
       "4  Father of the Bride Part II (1995)    Charles Shyer   \n",
       "\n",
       "                                                                                                                                  starring  \\\n",
       "0  Tim Allen, Tom Hanks, Don Rickles, Jim Varney, John Ratzenberger, Wallace Shawn, Laurie Metcalf, John Morris, R. Lee Ermey, Annie Potts   \n",
       "1                                                                             Jonathan Hyde, Bradley Pierce, Robin Williams, Kirsten Dunst   \n",
       "2                                                                                  Jack Lemmon, Walter Matthau, Ann-Margret , Sophia Loren   \n",
       "3                                                                             Angela Bassett, Loretta Devine, Whitney Houston, Lela Rochon   \n",
       "4                                               Steve Martin, Martin Short, Diane Keaton, Kimberly Williams, George Newbern, Kieran Culkin   \n",
       "\n",
       "   avgRating  item_id  Year  Sentiment  #Movies_directed  actor_count  \\\n",
       "0       7.78        1  1995          1                 6            5   \n",
       "1       6.53        2  1995          0                 9            4   \n",
       "2       6.34        3  1995          0                11            4   \n",
       "3       5.74        4  1995          0                 4            4   \n",
       "4       6.15        5  1995          0                 7            5   \n",
       "\n",
       "          Actor 1          Actor 2           Actor 3             Actor 4  \\\n",
       "0       Tim Allen        Tom Hanks       Don Rickles          Jim Varney   \n",
       "1   Jonathan Hyde   Bradley Pierce    Robin Williams       Kirsten Dunst   \n",
       "2     Jack Lemmon   Walter Matthau      Ann-Margret         Sophia Loren   \n",
       "3  Angela Bassett   Loretta Devine   Whitney Houston         Lela Rochon   \n",
       "4    Steve Martin     Martin Short      Diane Keaton   Kimberly Williams   \n",
       "\n",
       "              Actor 5  total_appearances  \n",
       "0   John Ratzenberger                 66  \n",
       "1                   0                 52  \n",
       "2                   0                 80  \n",
       "3                   0                 33  \n",
       "4      George Newbern                 75  "
      ]
     },
     "execution_count": 72,
     "metadata": {},
     "output_type": "execute_result"
    }
   ],
   "source": [
    "movies_df.head()"
   ]
  },
  {
   "cell_type": "code",
   "execution_count": 73,
   "id": "8e505542",
   "metadata": {},
   "outputs": [],
   "source": [
    "movies_df['Celeb_score'] = movies_df['total_appearances'] / movies_df['actor_count']\n",
    "\n"
   ]
  },
  {
   "cell_type": "code",
   "execution_count": 74,
   "id": "eeeb8041",
   "metadata": {
    "scrolled": true
   },
   "outputs": [
    {
     "data": {
      "image/png": "[encoded data removed]",
      "text/plain": [
       "<Figure size 640x480 with 1 Axes>"
      ]
     },
     "metadata": {},
     "output_type": "display_data"
    }
   ],
   "source": [
    "plt.figure()\n",
    "\n",
    "plt.scatter(movies_df['Celeb_score'], movies_df['avgRating'], alpha=0.4) # change the transparency with the alpha param, between 0 and 1\n",
    "\n",
    "plt.xlabel('Celebrity Score')\n",
    "plt.ylabel('Rating')\n",
    "plt.title('Celebrity Score vs Average Rating')\n",
    "\n",
    "plt.show()"
   ]
  },
  {
   "attachments": {},
   "cell_type": "markdown",
   "id": "0d58f597",
   "metadata": {},
   "source": [
    "Plotting the rating versus the celebrity score, shows us a similar pattern as we do in the plot of movies directed versus rating, where the range of ratings is much wider if the actors show up in less movies or have less experience, but ratings stabilize at higher celebrity score values."
   ]
  },
  {
   "cell_type": "code",
   "execution_count": 75,
   "id": "096d1b6e",
   "metadata": {},
   "outputs": [],
   "source": [
    "# Drop total_appearances as it will not be necessary for future use.\n",
    "\n",
    "movies_df.drop(columns=['total_appearances'], inplace=True)"
   ]
  },
  {
   "cell_type": "code",
   "execution_count": 76,
   "id": "93dcd9f8",
   "metadata": {
    "scrolled": true
   },
   "outputs": [
    {
     "data": {
      "text/html": [
       "<div>\n",
       "<style scoped>\n",
       "    .dataframe tbody tr th:only-of-type {\n",
       "        vertical-align: middle;\n",
       "    }\n",
       "\n",
       "    .dataframe tbody tr th {\n",
       "        vertical-align: top;\n",
       "    }\n",
       "\n",
       "    .dataframe thead th {\n",
       "        text-align: right;\n",
       "    }\n",
       "</style>\n",
       "<table border=\"1\" class=\"dataframe\">\n",
       "  <thead>\n",
       "    <tr style=\"text-align: right;\">\n",
       "      <th></th>\n",
       "      <th>title</th>\n",
       "      <th>directedBy</th>\n",
       "      <th>starring</th>\n",
       "      <th>avgRating</th>\n",
       "      <th>item_id</th>\n",
       "      <th>Year</th>\n",
       "      <th>Sentiment</th>\n",
       "      <th>#Movies_directed</th>\n",
       "      <th>actor_count</th>\n",
       "      <th>Actor 1</th>\n",
       "      <th>Actor 2</th>\n",
       "      <th>Actor 3</th>\n",
       "      <th>Actor 4</th>\n",
       "      <th>Actor 5</th>\n",
       "      <th>Celeb_score</th>\n",
       "    </tr>\n",
       "  </thead>\n",
       "  <tbody>\n",
       "    <tr>\n",
       "      <th>0</th>\n",
       "      <td>Toy Story (1995)</td>\n",
       "      <td>John Lasseter</td>\n",
       "      <td>Tim Allen, Tom Hanks, Don Rickles, Jim Varney, John Ratzenberger, Wallace Shawn, Laurie Metcalf, John Morris, R. Lee Ermey, Annie Potts</td>\n",
       "      <td>7.78</td>\n",
       "      <td>1</td>\n",
       "      <td>1995</td>\n",
       "      <td>1</td>\n",
       "      <td>6</td>\n",
       "      <td>5</td>\n",
       "      <td>Tim Allen</td>\n",
       "      <td>Tom Hanks</td>\n",
       "      <td>Don Rickles</td>\n",
       "      <td>Jim Varney</td>\n",
       "      <td>John Ratzenberger</td>\n",
       "      <td>13.20</td>\n",
       "    </tr>\n",
       "    <tr>\n",
       "      <th>1</th>\n",
       "      <td>Jumanji (1995)</td>\n",
       "      <td>Joe Johnston</td>\n",
       "      <td>Jonathan Hyde, Bradley Pierce, Robin Williams, Kirsten Dunst</td>\n",
       "      <td>6.53</td>\n",
       "      <td>2</td>\n",
       "      <td>1995</td>\n",
       "      <td>0</td>\n",
       "      <td>9</td>\n",
       "      <td>4</td>\n",
       "      <td>Jonathan Hyde</td>\n",
       "      <td>Bradley Pierce</td>\n",
       "      <td>Robin Williams</td>\n",
       "      <td>Kirsten Dunst</td>\n",
       "      <td>0</td>\n",
       "      <td>13.00</td>\n",
       "    </tr>\n",
       "    <tr>\n",
       "      <th>2</th>\n",
       "      <td>Grumpier Old Men (1995)</td>\n",
       "      <td>Howard Deutch</td>\n",
       "      <td>Jack Lemmon, Walter Matthau, Ann-Margret , Sophia Loren</td>\n",
       "      <td>6.34</td>\n",
       "      <td>3</td>\n",
       "      <td>1995</td>\n",
       "      <td>0</td>\n",
       "      <td>11</td>\n",
       "      <td>4</td>\n",
       "      <td>Jack Lemmon</td>\n",
       "      <td>Walter Matthau</td>\n",
       "      <td>Ann-Margret</td>\n",
       "      <td>Sophia Loren</td>\n",
       "      <td>0</td>\n",
       "      <td>20.00</td>\n",
       "    </tr>\n",
       "    <tr>\n",
       "      <th>3</th>\n",
       "      <td>Waiting to Exhale (1995)</td>\n",
       "      <td>Forest Whitaker</td>\n",
       "      <td>Angela Bassett, Loretta Devine, Whitney Houston, Lela Rochon</td>\n",
       "      <td>5.74</td>\n",
       "      <td>4</td>\n",
       "      <td>1995</td>\n",
       "      <td>0</td>\n",
       "      <td>4</td>\n",
       "      <td>4</td>\n",
       "      <td>Angela Bassett</td>\n",
       "      <td>Loretta Devine</td>\n",
       "      <td>Whitney Houston</td>\n",
       "      <td>Lela Rochon</td>\n",
       "      <td>0</td>\n",
       "      <td>8.25</td>\n",
       "    </tr>\n",
       "    <tr>\n",
       "      <th>4</th>\n",
       "      <td>Father of the Bride Part II (1995)</td>\n",
       "      <td>Charles Shyer</td>\n",
       "      <td>Steve Martin, Martin Short, Diane Keaton, Kimberly Williams, George Newbern, Kieran Culkin</td>\n",
       "      <td>6.15</td>\n",
       "      <td>5</td>\n",
       "      <td>1995</td>\n",
       "      <td>0</td>\n",
       "      <td>7</td>\n",
       "      <td>5</td>\n",
       "      <td>Steve Martin</td>\n",
       "      <td>Martin Short</td>\n",
       "      <td>Diane Keaton</td>\n",
       "      <td>Kimberly Williams</td>\n",
       "      <td>George Newbern</td>\n",
       "      <td>15.00</td>\n",
       "    </tr>\n",
       "  </tbody>\n",
       "</table>\n",
       "</div>"
      ],
      "text/plain": [
       "                                title       directedBy  \\\n",
       "0                    Toy Story (1995)    John Lasseter   \n",
       "1                      Jumanji (1995)     Joe Johnston   \n",
       "2             Grumpier Old Men (1995)    Howard Deutch   \n",
       "3            Waiting to Exhale (1995)  Forest Whitaker   \n",
       "4  Father of the Bride Part II (1995)    Charles Shyer   \n",
       "\n",
       "                                                                                                                                  starring  \\\n",
       "0  Tim Allen, Tom Hanks, Don Rickles, Jim Varney, John Ratzenberger, Wallace Shawn, Laurie Metcalf, John Morris, R. Lee Ermey, Annie Potts   \n",
       "1                                                                             Jonathan Hyde, Bradley Pierce, Robin Williams, Kirsten Dunst   \n",
       "2                                                                                  Jack Lemmon, Walter Matthau, Ann-Margret , Sophia Loren   \n",
       "3                                                                             Angela Bassett, Loretta Devine, Whitney Houston, Lela Rochon   \n",
       "4                                               Steve Martin, Martin Short, Diane Keaton, Kimberly Williams, George Newbern, Kieran Culkin   \n",
       "\n",
       "   avgRating  item_id  Year  Sentiment  #Movies_directed  actor_count  \\\n",
       "0       7.78        1  1995          1                 6            5   \n",
       "1       6.53        2  1995          0                 9            4   \n",
       "2       6.34        3  1995          0                11            4   \n",
       "3       5.74        4  1995          0                 4            4   \n",
       "4       6.15        5  1995          0                 7            5   \n",
       "\n",
       "          Actor 1          Actor 2           Actor 3             Actor 4  \\\n",
       "0       Tim Allen        Tom Hanks       Don Rickles          Jim Varney   \n",
       "1   Jonathan Hyde   Bradley Pierce    Robin Williams       Kirsten Dunst   \n",
       "2     Jack Lemmon   Walter Matthau      Ann-Margret         Sophia Loren   \n",
       "3  Angela Bassett   Loretta Devine   Whitney Houston         Lela Rochon   \n",
       "4    Steve Martin     Martin Short      Diane Keaton   Kimberly Williams   \n",
       "\n",
       "              Actor 5  Celeb_score  \n",
       "0   John Ratzenberger        13.20  \n",
       "1                   0        13.00  \n",
       "2                   0        20.00  \n",
       "3                   0         8.25  \n",
       "4      George Newbern        15.00  "
      ]
     },
     "execution_count": 76,
     "metadata": {},
     "output_type": "execute_result"
    }
   ],
   "source": [
    "movies_df.head()"
   ]
  },
  {
   "cell_type": "code",
   "execution_count": 77,
   "id": "cf50d931",
   "metadata": {
    "scrolled": true
   },
   "outputs": [
    {
     "name": "stdout",
     "output_type": "stream",
     "text": [
      "<class 'pandas.core.frame.DataFrame'>\n",
      "RangeIndex: 63769 entries, 0 to 63768\n",
      "Data columns (total 15 columns):\n",
      " #   Column            Non-Null Count  Dtype  \n",
      "---  ------            --------------  -----  \n",
      " 0   title             63769 non-null  object \n",
      " 1   directedBy        63769 non-null  object \n",
      " 2   starring          63769 non-null  object \n",
      " 3   avgRating         63769 non-null  float64\n",
      " 4   item_id           63769 non-null  int64  \n",
      " 5   Year              63769 non-null  Int64  \n",
      " 6   Sentiment         63769 non-null  int32  \n",
      " 7   #Movies_directed  63769 non-null  int64  \n",
      " 8   actor_count       63769 non-null  int64  \n",
      " 9   Actor 1           63769 non-null  object \n",
      " 10  Actor 2           63769 non-null  object \n",
      " 11  Actor 3           63769 non-null  object \n",
      " 12  Actor 4           63769 non-null  object \n",
      " 13  Actor 5           63769 non-null  object \n",
      " 14  Celeb_score       63769 non-null  float64\n",
      "dtypes: Int64(1), float64(2), int32(1), int64(3), object(8)\n",
      "memory usage: 7.1+ MB\n"
     ]
    }
   ],
   "source": [
    "# no nulls and everything seems so have the right data type\n",
    "movies_df.info()"
   ]
  },
  {
   "cell_type": "code",
   "execution_count": 78,
   "id": "c2a5d964",
   "metadata": {},
   "outputs": [],
   "source": [
    "# Copy the dataset\n",
    "\n",
    "linreg_movies_df = movies_df.copy()"
   ]
  },
  {
   "cell_type": "code",
   "execution_count": 79,
   "id": "298e56f5",
   "metadata": {
    "scrolled": true
   },
   "outputs": [
    {
     "data": {
      "text/html": [
       "<div>\n",
       "<style scoped>\n",
       "    .dataframe tbody tr th:only-of-type {\n",
       "        vertical-align: middle;\n",
       "    }\n",
       "\n",
       "    .dataframe tbody tr th {\n",
       "        vertical-align: top;\n",
       "    }\n",
       "\n",
       "    .dataframe thead th {\n",
       "        text-align: right;\n",
       "    }\n",
       "</style>\n",
       "<table border=\"1\" class=\"dataframe\">\n",
       "  <thead>\n",
       "    <tr style=\"text-align: right;\">\n",
       "      <th></th>\n",
       "      <th>title</th>\n",
       "      <th>directedBy</th>\n",
       "      <th>starring</th>\n",
       "      <th>avgRating</th>\n",
       "      <th>item_id</th>\n",
       "      <th>Year</th>\n",
       "      <th>Sentiment</th>\n",
       "      <th>#Movies_directed</th>\n",
       "      <th>actor_count</th>\n",
       "      <th>Actor 1</th>\n",
       "      <th>Actor 2</th>\n",
       "      <th>Actor 3</th>\n",
       "      <th>Actor 4</th>\n",
       "      <th>Actor 5</th>\n",
       "      <th>Celeb_score</th>\n",
       "    </tr>\n",
       "  </thead>\n",
       "  <tbody>\n",
       "    <tr>\n",
       "      <th>0</th>\n",
       "      <td>Toy Story (1995)</td>\n",
       "      <td>John Lasseter</td>\n",
       "      <td>Tim Allen, Tom Hanks, Don Rickles, Jim Varney, John Ratzenberger, Wallace Shawn, Laurie Metcalf, John Morris, R. Lee Ermey, Annie Potts</td>\n",
       "      <td>7.78</td>\n",
       "      <td>1</td>\n",
       "      <td>1995</td>\n",
       "      <td>1</td>\n",
       "      <td>6</td>\n",
       "      <td>5</td>\n",
       "      <td>Tim Allen</td>\n",
       "      <td>Tom Hanks</td>\n",
       "      <td>Don Rickles</td>\n",
       "      <td>Jim Varney</td>\n",
       "      <td>John Ratzenberger</td>\n",
       "      <td>13.20</td>\n",
       "    </tr>\n",
       "    <tr>\n",
       "      <th>1</th>\n",
       "      <td>Jumanji (1995)</td>\n",
       "      <td>Joe Johnston</td>\n",
       "      <td>Jonathan Hyde, Bradley Pierce, Robin Williams, Kirsten Dunst</td>\n",
       "      <td>6.53</td>\n",
       "      <td>2</td>\n",
       "      <td>1995</td>\n",
       "      <td>0</td>\n",
       "      <td>9</td>\n",
       "      <td>4</td>\n",
       "      <td>Jonathan Hyde</td>\n",
       "      <td>Bradley Pierce</td>\n",
       "      <td>Robin Williams</td>\n",
       "      <td>Kirsten Dunst</td>\n",
       "      <td>0</td>\n",
       "      <td>13.00</td>\n",
       "    </tr>\n",
       "    <tr>\n",
       "      <th>2</th>\n",
       "      <td>Grumpier Old Men (1995)</td>\n",
       "      <td>Howard Deutch</td>\n",
       "      <td>Jack Lemmon, Walter Matthau, Ann-Margret , Sophia Loren</td>\n",
       "      <td>6.34</td>\n",
       "      <td>3</td>\n",
       "      <td>1995</td>\n",
       "      <td>0</td>\n",
       "      <td>11</td>\n",
       "      <td>4</td>\n",
       "      <td>Jack Lemmon</td>\n",
       "      <td>Walter Matthau</td>\n",
       "      <td>Ann-Margret</td>\n",
       "      <td>Sophia Loren</td>\n",
       "      <td>0</td>\n",
       "      <td>20.00</td>\n",
       "    </tr>\n",
       "    <tr>\n",
       "      <th>3</th>\n",
       "      <td>Waiting to Exhale (1995)</td>\n",
       "      <td>Forest Whitaker</td>\n",
       "      <td>Angela Bassett, Loretta Devine, Whitney Houston, Lela Rochon</td>\n",
       "      <td>5.74</td>\n",
       "      <td>4</td>\n",
       "      <td>1995</td>\n",
       "      <td>0</td>\n",
       "      <td>4</td>\n",
       "      <td>4</td>\n",
       "      <td>Angela Bassett</td>\n",
       "      <td>Loretta Devine</td>\n",
       "      <td>Whitney Houston</td>\n",
       "      <td>Lela Rochon</td>\n",
       "      <td>0</td>\n",
       "      <td>8.25</td>\n",
       "    </tr>\n",
       "    <tr>\n",
       "      <th>4</th>\n",
       "      <td>Father of the Bride Part II (1995)</td>\n",
       "      <td>Charles Shyer</td>\n",
       "      <td>Steve Martin, Martin Short, Diane Keaton, Kimberly Williams, George Newbern, Kieran Culkin</td>\n",
       "      <td>6.15</td>\n",
       "      <td>5</td>\n",
       "      <td>1995</td>\n",
       "      <td>0</td>\n",
       "      <td>7</td>\n",
       "      <td>5</td>\n",
       "      <td>Steve Martin</td>\n",
       "      <td>Martin Short</td>\n",
       "      <td>Diane Keaton</td>\n",
       "      <td>Kimberly Williams</td>\n",
       "      <td>George Newbern</td>\n",
       "      <td>15.00</td>\n",
       "    </tr>\n",
       "  </tbody>\n",
       "</table>\n",
       "</div>"
      ],
      "text/plain": [
       "                                title       directedBy  \\\n",
       "0                    Toy Story (1995)    John Lasseter   \n",
       "1                      Jumanji (1995)     Joe Johnston   \n",
       "2             Grumpier Old Men (1995)    Howard Deutch   \n",
       "3            Waiting to Exhale (1995)  Forest Whitaker   \n",
       "4  Father of the Bride Part II (1995)    Charles Shyer   \n",
       "\n",
       "                                                                                                                                  starring  \\\n",
       "0  Tim Allen, Tom Hanks, Don Rickles, Jim Varney, John Ratzenberger, Wallace Shawn, Laurie Metcalf, John Morris, R. Lee Ermey, Annie Potts   \n",
       "1                                                                             Jonathan Hyde, Bradley Pierce, Robin Williams, Kirsten Dunst   \n",
       "2                                                                                  Jack Lemmon, Walter Matthau, Ann-Margret , Sophia Loren   \n",
       "3                                                                             Angela Bassett, Loretta Devine, Whitney Houston, Lela Rochon   \n",
       "4                                               Steve Martin, Martin Short, Diane Keaton, Kimberly Williams, George Newbern, Kieran Culkin   \n",
       "\n",
       "   avgRating  item_id  Year  Sentiment  #Movies_directed  actor_count  \\\n",
       "0       7.78        1  1995          1                 6            5   \n",
       "1       6.53        2  1995          0                 9            4   \n",
       "2       6.34        3  1995          0                11            4   \n",
       "3       5.74        4  1995          0                 4            4   \n",
       "4       6.15        5  1995          0                 7            5   \n",
       "\n",
       "          Actor 1          Actor 2           Actor 3             Actor 4  \\\n",
       "0       Tim Allen        Tom Hanks       Don Rickles          Jim Varney   \n",
       "1   Jonathan Hyde   Bradley Pierce    Robin Williams       Kirsten Dunst   \n",
       "2     Jack Lemmon   Walter Matthau      Ann-Margret         Sophia Loren   \n",
       "3  Angela Bassett   Loretta Devine   Whitney Houston         Lela Rochon   \n",
       "4    Steve Martin     Martin Short      Diane Keaton   Kimberly Williams   \n",
       "\n",
       "              Actor 5  Celeb_score  \n",
       "0   John Ratzenberger        13.20  \n",
       "1                   0        13.00  \n",
       "2                   0        20.00  \n",
       "3                   0         8.25  \n",
       "4      George Newbern        15.00  "
      ]
     },
     "execution_count": 79,
     "metadata": {},
     "output_type": "execute_result"
    }
   ],
   "source": [
    "linreg_movies_df.head()"
   ]
  },
  {
   "attachments": {},
   "cell_type": "markdown",
   "id": "1b032ce3",
   "metadata": {},
   "source": [
    "By this point, we should have a dataset which we will be able to use to join with our second dataset from MovieLens, the only thing we need to do is to drop the columns which will not contribute to our model."
   ]
  },
  {
   "cell_type": "code",
   "execution_count": 80,
   "id": "978714f0",
   "metadata": {},
   "outputs": [],
   "source": [
    "# Drops columns\n",
    "\n",
    "linreg_movies_df.drop(columns=['title', 'directedBy', 'starring','Actor 1', 'Actor 2', 'Actor 3', 'Actor 4', 'Actor 5'], inplace=True) "
   ]
  },
  {
   "cell_type": "code",
   "execution_count": 81,
   "id": "f07b46fe",
   "metadata": {},
   "outputs": [
    {
     "name": "stdout",
     "output_type": "stream",
     "text": [
      "<class 'pandas.core.frame.DataFrame'>\n",
      "RangeIndex: 63769 entries, 0 to 63768\n",
      "Data columns (total 7 columns):\n",
      " #   Column            Non-Null Count  Dtype  \n",
      "---  ------            --------------  -----  \n",
      " 0   avgRating         63769 non-null  float64\n",
      " 1   item_id           63769 non-null  int64  \n",
      " 2   Year              63769 non-null  Int64  \n",
      " 3   Sentiment         63769 non-null  int32  \n",
      " 4   #Movies_directed  63769 non-null  int64  \n",
      " 5   actor_count       63769 non-null  int64  \n",
      " 6   Celeb_score       63769 non-null  float64\n",
      "dtypes: Int64(1), float64(2), int32(1), int64(3)\n",
      "memory usage: 3.2 MB\n"
     ]
    }
   ],
   "source": [
    "# shows the info of the dataset\n",
    "# Keeping item_id for a join in the future\n",
    "linreg_movies_df.info()"
   ]
  },
  {
   "attachments": {},
   "cell_type": "markdown",
   "id": "423f1090",
   "metadata": {},
   "source": [
    "A heatmap showing the correlation of the columns has also been created, from the heatmap, we can see that most of the features remaining do not have a high correlation, the only two that seem to have high correlation are the sentiment and average rating, which is understandable as one is derived from the other."
   ]
  },
  {
   "cell_type": "code",
   "execution_count": 82,
   "id": "ea0d46e7",
   "metadata": {},
   "outputs": [
    {
     "data": {
      "image/png": "[encoded data removed]",
      "text/plain": [
       "<Figure size 1500x1500 with 2 Axes>"
      ]
     },
     "metadata": {},
     "output_type": "display_data"
    }
   ],
   "source": [
    "# actor count and celeb score seem to have a high correlation\n",
    "# Plot the correlation matrix as a heatmap\n",
    "plt.figure(figsize=(15,15))\n",
    "sns.heatmap(linreg_movies_df.corr(), annot=True, center=0, vmin=-1, vmax=1)\n",
    "plt.show()\n"
   ]
  },
  {
   "cell_type": "code",
   "execution_count": 79,
   "id": "9fa9f2b1",
   "metadata": {},
   "outputs": [],
   "source": [
    "# Let's save the cleaned movie dataset\n",
    "\n",
    "linreg_movies_df.to_csv(r'C:\\Users\\micha\\OneDrive\\Desktop\\Capstone\\Processed_Data\\lin_reg_movies.csv', index=False)"
   ]
  },
  {
   "attachments": {},
   "cell_type": "markdown",
   "id": "dcedc95d",
   "metadata": {},
   "source": [
    "# Notebook Conclusion"
   ]
  },
  {
   "attachments": {},
   "cell_type": "markdown",
   "id": "64e71362",
   "metadata": {},
   "source": [
    "In this notebook, we have introduced the project as a whole, and went through the process of cleaning and exploring the data of one of the datasets which we are using. The process demonstrates the cleaning, feature engineering, and also showcases several visualizations of the dataset. By the end of this notebook, we obtained a cleaned dataset and saved it as a CSV file for later use.\n",
    "\n",
    "In the next notebook, we will be exploring the review text dataset, and analyzing the sentiment in the review text so we can prepare the data for use in machine learning models."
   ]
  }
 ],
 "metadata": {
  "kernelspec": {
   "display_name": "Python 3 (ipykernel)",
   "language": "python",
   "name": "python3"
  },
  "language_info": {
   "codemirror_mode": {
    "name": "ipython",
    "version": 3
   },
   "file_extension": ".py",
   "mimetype": "text/x-python",
   "name": "python",
   "nbconvert_exporter": "python",
   "pygments_lexer": "ipython3",
   "version": "3.9.13"
  }
 },
 "nbformat": 4,
 "nbformat_minor": 5
}

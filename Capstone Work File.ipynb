{
 "cells": [
  {
   "cell_type": "code",
   "execution_count": 96,
   "id": "5f75e8da",
   "metadata": {},
   "outputs": [],
   "source": [
    "import pandas as pd\n",
    "import numpy as np\n",
    "import matplotlib.pyplot as plt\n",
    "import seaborn as sns\n",
    "import sqlite3 as sql"
   ]
  },
  {
   "cell_type": "markdown",
   "id": "01190d2e",
   "metadata": {},
   "source": [
    "### Movies"
   ]
  },
  {
   "cell_type": "code",
   "execution_count": 97,
   "id": "b3605979",
   "metadata": {},
   "outputs": [],
   "source": [
    "metadata_raw = pd.read_json(r\"C:\\Users\\micha\\OneDrive\\Desktop\\Capstone\\movie_dataset_public_final\\raw\\metadata.json\", lines=True)"
   ]
  },
  {
   "cell_type": "code",
   "execution_count": 98,
   "id": "c9107a4e",
   "metadata": {
    "scrolled": true
   },
   "outputs": [
    {
     "data": {
      "text/html": [
       "<div>\n",
       "<style scoped>\n",
       "    .dataframe tbody tr th:only-of-type {\n",
       "        vertical-align: middle;\n",
       "    }\n",
       "\n",
       "    .dataframe tbody tr th {\n",
       "        vertical-align: top;\n",
       "    }\n",
       "\n",
       "    .dataframe thead th {\n",
       "        text-align: right;\n",
       "    }\n",
       "</style>\n",
       "<table border=\"1\" class=\"dataframe\">\n",
       "  <thead>\n",
       "    <tr style=\"text-align: right;\">\n",
       "      <th></th>\n",
       "      <th>title</th>\n",
       "      <th>directedBy</th>\n",
       "      <th>starring</th>\n",
       "      <th>dateAdded</th>\n",
       "      <th>avgRating</th>\n",
       "      <th>imdbId</th>\n",
       "      <th>item_id</th>\n",
       "    </tr>\n",
       "  </thead>\n",
       "  <tbody>\n",
       "    <tr>\n",
       "      <th>0</th>\n",
       "      <td>Toy Story (1995)</td>\n",
       "      <td>John Lasseter</td>\n",
       "      <td>Tim Allen, Tom Hanks, Don Rickles, Jim Varney, John Ratzenberger, Wallace Shawn, Laurie Metcalf, John Morris, R. Lee Ermey, Annie Potts</td>\n",
       "      <td>None</td>\n",
       "      <td>3.89146</td>\n",
       "      <td>114709</td>\n",
       "      <td>1</td>\n",
       "    </tr>\n",
       "    <tr>\n",
       "      <th>1</th>\n",
       "      <td>Jumanji (1995)</td>\n",
       "      <td>Joe Johnston</td>\n",
       "      <td>Jonathan Hyde, Bradley Pierce, Robin Williams, Kirsten Dunst</td>\n",
       "      <td>None</td>\n",
       "      <td>3.26605</td>\n",
       "      <td>113497</td>\n",
       "      <td>2</td>\n",
       "    </tr>\n",
       "    <tr>\n",
       "      <th>2</th>\n",
       "      <td>Grumpier Old Men (1995)</td>\n",
       "      <td>Howard Deutch</td>\n",
       "      <td>Jack Lemmon, Walter Matthau, Ann-Margret , Sophia Loren</td>\n",
       "      <td>None</td>\n",
       "      <td>3.17146</td>\n",
       "      <td>113228</td>\n",
       "      <td>3</td>\n",
       "    </tr>\n",
       "    <tr>\n",
       "      <th>3</th>\n",
       "      <td>Waiting to Exhale (1995)</td>\n",
       "      <td>Forest Whitaker</td>\n",
       "      <td>Angela Bassett, Loretta Devine, Whitney Houston, Lela Rochon</td>\n",
       "      <td>None</td>\n",
       "      <td>2.86824</td>\n",
       "      <td>114885</td>\n",
       "      <td>4</td>\n",
       "    </tr>\n",
       "    <tr>\n",
       "      <th>4</th>\n",
       "      <td>Father of the Bride Part II (1995)</td>\n",
       "      <td>Charles Shyer</td>\n",
       "      <td>Steve Martin, Martin Short, Diane Keaton, Kimberly Williams, George Newbern, Kieran Culkin</td>\n",
       "      <td>None</td>\n",
       "      <td>3.07620</td>\n",
       "      <td>113041</td>\n",
       "      <td>5</td>\n",
       "    </tr>\n",
       "  </tbody>\n",
       "</table>\n",
       "</div>"
      ],
      "text/plain": [
       "                                title       directedBy  \\\n",
       "0                    Toy Story (1995)    John Lasseter   \n",
       "1                      Jumanji (1995)     Joe Johnston   \n",
       "2             Grumpier Old Men (1995)    Howard Deutch   \n",
       "3            Waiting to Exhale (1995)  Forest Whitaker   \n",
       "4  Father of the Bride Part II (1995)    Charles Shyer   \n",
       "\n",
       "                                                                                                                                  starring  \\\n",
       "0  Tim Allen, Tom Hanks, Don Rickles, Jim Varney, John Ratzenberger, Wallace Shawn, Laurie Metcalf, John Morris, R. Lee Ermey, Annie Potts   \n",
       "1                                                                             Jonathan Hyde, Bradley Pierce, Robin Williams, Kirsten Dunst   \n",
       "2                                                                                  Jack Lemmon, Walter Matthau, Ann-Margret , Sophia Loren   \n",
       "3                                                                             Angela Bassett, Loretta Devine, Whitney Houston, Lela Rochon   \n",
       "4                                               Steve Martin, Martin Short, Diane Keaton, Kimberly Williams, George Newbern, Kieran Culkin   \n",
       "\n",
       "  dateAdded  avgRating  imdbId  item_id  \n",
       "0      None    3.89146  114709        1  \n",
       "1      None    3.26605  113497        2  \n",
       "2      None    3.17146  113228        3  \n",
       "3      None    2.86824  114885        4  \n",
       "4      None    3.07620  113041        5  "
      ]
     },
     "execution_count": 98,
     "metadata": {},
     "output_type": "execute_result"
    }
   ],
   "source": [
    "metadata_raw.head()"
   ]
  },
  {
   "cell_type": "code",
   "execution_count": 99,
   "id": "42ba6782",
   "metadata": {
    "scrolled": true
   },
   "outputs": [
    {
     "data": {
      "text/plain": [
       "(84661, 7)"
      ]
     },
     "execution_count": 99,
     "metadata": {},
     "output_type": "execute_result"
    }
   ],
   "source": [
    "metadata_raw.shape"
   ]
  },
  {
   "cell_type": "code",
   "execution_count": 100,
   "id": "b31380c6",
   "metadata": {},
   "outputs": [
    {
     "name": "stdout",
     "output_type": "stream",
     "text": [
      "<class 'pandas.core.frame.DataFrame'>\n",
      "RangeIndex: 84661 entries, 0 to 84660\n",
      "Data columns (total 7 columns):\n",
      " #   Column      Non-Null Count  Dtype  \n",
      "---  ------      --------------  -----  \n",
      " 0   title       84661 non-null  object \n",
      " 1   directedBy  84661 non-null  object \n",
      " 2   starring    84661 non-null  object \n",
      " 3   dateAdded   78143 non-null  object \n",
      " 4   avgRating   84661 non-null  float64\n",
      " 5   imdbId      84661 non-null  int64  \n",
      " 6   item_id     84661 non-null  int64  \n",
      "dtypes: float64(1), int64(2), object(4)\n",
      "memory usage: 4.5+ MB\n"
     ]
    }
   ],
   "source": [
    "# only missing info from dateAdded\n",
    "metadata_raw.info()"
   ]
  },
  {
   "cell_type": "code",
   "execution_count": 101,
   "id": "3f946795",
   "metadata": {
    "scrolled": true
   },
   "outputs": [
    {
     "data": {
      "text/plain": [
       "title         0.00000\n",
       "directedBy    0.00000\n",
       "starring      0.00000\n",
       "dateAdded     7.69894\n",
       "avgRating     0.00000\n",
       "imdbId        0.00000\n",
       "item_id       0.00000\n",
       "dtype: float64"
      ]
     },
     "execution_count": 101,
     "metadata": {},
     "output_type": "execute_result"
    }
   ],
   "source": [
    "# roughly 15% of data is not clean\n",
    "# Date added is not release date, can drop\n",
    "metadata_raw.isna().sum(axis=0) / metadata_raw.shape[0]*100"
   ]
  },
  {
   "cell_type": "code",
   "execution_count": 102,
   "id": "a220daf9",
   "metadata": {},
   "outputs": [],
   "source": [
    "metadata_raw.drop(columns=['dateAdded', 'imdbId'], inplace=True)  "
   ]
  },
  {
   "cell_type": "code",
   "execution_count": 103,
   "id": "cb7cbc12",
   "metadata": {
    "scrolled": false
   },
   "outputs": [
    {
     "data": {
      "text/plain": [
       "0        False\n",
       "1        False\n",
       "2        False\n",
       "3        False\n",
       "4        False\n",
       "         ...  \n",
       "84656    False\n",
       "84657    False\n",
       "84658    False\n",
       "84659    False\n",
       "84660    False\n",
       "Length: 84661, dtype: bool"
      ]
     },
     "execution_count": 103,
     "metadata": {},
     "output_type": "execute_result"
    }
   ],
   "source": [
    "## No duplicate entries, good \n",
    "metadata_raw.duplicated()"
   ]
  },
  {
   "cell_type": "code",
   "execution_count": 104,
   "id": "d0d13c1d",
   "metadata": {},
   "outputs": [],
   "source": [
    "metadata_raw['Year'] = metadata_raw['title'].str.extract(r'\\((\\d{4})\\)$')"
   ]
  },
  {
   "cell_type": "code",
   "execution_count": 105,
   "id": "b0fcd340",
   "metadata": {},
   "outputs": [
    {
     "data": {
      "text/html": [
       "<div>\n",
       "<style scoped>\n",
       "    .dataframe tbody tr th:only-of-type {\n",
       "        vertical-align: middle;\n",
       "    }\n",
       "\n",
       "    .dataframe tbody tr th {\n",
       "        vertical-align: top;\n",
       "    }\n",
       "\n",
       "    .dataframe thead th {\n",
       "        text-align: right;\n",
       "    }\n",
       "</style>\n",
       "<table border=\"1\" class=\"dataframe\">\n",
       "  <thead>\n",
       "    <tr style=\"text-align: right;\">\n",
       "      <th></th>\n",
       "      <th>title</th>\n",
       "      <th>directedBy</th>\n",
       "      <th>starring</th>\n",
       "      <th>avgRating</th>\n",
       "      <th>item_id</th>\n",
       "      <th>Year</th>\n",
       "    </tr>\n",
       "  </thead>\n",
       "  <tbody>\n",
       "    <tr>\n",
       "      <th>0</th>\n",
       "      <td>Toy Story (1995)</td>\n",
       "      <td>John Lasseter</td>\n",
       "      <td>Tim Allen, Tom Hanks, Don Rickles, Jim Varney, John Ratzenberger, Wallace Shawn, Laurie Metcalf, John Morris, R. Lee Ermey, Annie Potts</td>\n",
       "      <td>3.89146</td>\n",
       "      <td>1</td>\n",
       "      <td>1995</td>\n",
       "    </tr>\n",
       "    <tr>\n",
       "      <th>1</th>\n",
       "      <td>Jumanji (1995)</td>\n",
       "      <td>Joe Johnston</td>\n",
       "      <td>Jonathan Hyde, Bradley Pierce, Robin Williams, Kirsten Dunst</td>\n",
       "      <td>3.26605</td>\n",
       "      <td>2</td>\n",
       "      <td>1995</td>\n",
       "    </tr>\n",
       "    <tr>\n",
       "      <th>2</th>\n",
       "      <td>Grumpier Old Men (1995)</td>\n",
       "      <td>Howard Deutch</td>\n",
       "      <td>Jack Lemmon, Walter Matthau, Ann-Margret , Sophia Loren</td>\n",
       "      <td>3.17146</td>\n",
       "      <td>3</td>\n",
       "      <td>1995</td>\n",
       "    </tr>\n",
       "    <tr>\n",
       "      <th>3</th>\n",
       "      <td>Waiting to Exhale (1995)</td>\n",
       "      <td>Forest Whitaker</td>\n",
       "      <td>Angela Bassett, Loretta Devine, Whitney Houston, Lela Rochon</td>\n",
       "      <td>2.86824</td>\n",
       "      <td>4</td>\n",
       "      <td>1995</td>\n",
       "    </tr>\n",
       "    <tr>\n",
       "      <th>4</th>\n",
       "      <td>Father of the Bride Part II (1995)</td>\n",
       "      <td>Charles Shyer</td>\n",
       "      <td>Steve Martin, Martin Short, Diane Keaton, Kimberly Williams, George Newbern, Kieran Culkin</td>\n",
       "      <td>3.07620</td>\n",
       "      <td>5</td>\n",
       "      <td>1995</td>\n",
       "    </tr>\n",
       "  </tbody>\n",
       "</table>\n",
       "</div>"
      ],
      "text/plain": [
       "                                title       directedBy  \\\n",
       "0                    Toy Story (1995)    John Lasseter   \n",
       "1                      Jumanji (1995)     Joe Johnston   \n",
       "2             Grumpier Old Men (1995)    Howard Deutch   \n",
       "3            Waiting to Exhale (1995)  Forest Whitaker   \n",
       "4  Father of the Bride Part II (1995)    Charles Shyer   \n",
       "\n",
       "                                                                                                                                  starring  \\\n",
       "0  Tim Allen, Tom Hanks, Don Rickles, Jim Varney, John Ratzenberger, Wallace Shawn, Laurie Metcalf, John Morris, R. Lee Ermey, Annie Potts   \n",
       "1                                                                             Jonathan Hyde, Bradley Pierce, Robin Williams, Kirsten Dunst   \n",
       "2                                                                                  Jack Lemmon, Walter Matthau, Ann-Margret , Sophia Loren   \n",
       "3                                                                             Angela Bassett, Loretta Devine, Whitney Houston, Lela Rochon   \n",
       "4                                               Steve Martin, Martin Short, Diane Keaton, Kimberly Williams, George Newbern, Kieran Culkin   \n",
       "\n",
       "   avgRating  item_id  Year  \n",
       "0    3.89146        1  1995  \n",
       "1    3.26605        2  1995  \n",
       "2    3.17146        3  1995  \n",
       "3    2.86824        4  1995  \n",
       "4    3.07620        5  1995  "
      ]
     },
     "execution_count": 105,
     "metadata": {},
     "output_type": "execute_result"
    }
   ],
   "source": [
    "metadata_raw.head()"
   ]
  },
  {
   "cell_type": "code",
   "execution_count": 106,
   "id": "f8c9f4c7",
   "metadata": {
    "scrolled": true
   },
   "outputs": [
    {
     "data": {
      "text/html": [
       "<div>\n",
       "<style scoped>\n",
       "    .dataframe tbody tr th:only-of-type {\n",
       "        vertical-align: middle;\n",
       "    }\n",
       "\n",
       "    .dataframe tbody tr th {\n",
       "        vertical-align: top;\n",
       "    }\n",
       "\n",
       "    .dataframe thead th {\n",
       "        text-align: right;\n",
       "    }\n",
       "</style>\n",
       "<table border=\"1\" class=\"dataframe\">\n",
       "  <thead>\n",
       "    <tr style=\"text-align: right;\">\n",
       "      <th></th>\n",
       "      <th>title</th>\n",
       "      <th>directedBy</th>\n",
       "      <th>starring</th>\n",
       "      <th>avgRating</th>\n",
       "      <th>item_id</th>\n",
       "      <th>Year</th>\n",
       "    </tr>\n",
       "  </thead>\n",
       "  <tbody>\n",
       "    <tr>\n",
       "      <th>0</th>\n",
       "      <td>Toy Story (1995)</td>\n",
       "      <td>John Lasseter</td>\n",
       "      <td>Tim Allen, Tom Hanks, Don Rickles, Jim Varney, John Ratzenberger, Wallace Shawn, Laurie Metcalf, John Morris, R. Lee Ermey, Annie Potts</td>\n",
       "      <td>3.89146</td>\n",
       "      <td>1</td>\n",
       "      <td>1995</td>\n",
       "    </tr>\n",
       "    <tr>\n",
       "      <th>1</th>\n",
       "      <td>Jumanji (1995)</td>\n",
       "      <td>Joe Johnston</td>\n",
       "      <td>Jonathan Hyde, Bradley Pierce, Robin Williams, Kirsten Dunst</td>\n",
       "      <td>3.26605</td>\n",
       "      <td>2</td>\n",
       "      <td>1995</td>\n",
       "    </tr>\n",
       "    <tr>\n",
       "      <th>2</th>\n",
       "      <td>Grumpier Old Men (1995)</td>\n",
       "      <td>Howard Deutch</td>\n",
       "      <td>Jack Lemmon, Walter Matthau, Ann-Margret , Sophia Loren</td>\n",
       "      <td>3.17146</td>\n",
       "      <td>3</td>\n",
       "      <td>1995</td>\n",
       "    </tr>\n",
       "    <tr>\n",
       "      <th>3</th>\n",
       "      <td>Waiting to Exhale (1995)</td>\n",
       "      <td>Forest Whitaker</td>\n",
       "      <td>Angela Bassett, Loretta Devine, Whitney Houston, Lela Rochon</td>\n",
       "      <td>2.86824</td>\n",
       "      <td>4</td>\n",
       "      <td>1995</td>\n",
       "    </tr>\n",
       "    <tr>\n",
       "      <th>4</th>\n",
       "      <td>Father of the Bride Part II (1995)</td>\n",
       "      <td>Charles Shyer</td>\n",
       "      <td>Steve Martin, Martin Short, Diane Keaton, Kimberly Williams, George Newbern, Kieran Culkin</td>\n",
       "      <td>3.07620</td>\n",
       "      <td>5</td>\n",
       "      <td>1995</td>\n",
       "    </tr>\n",
       "  </tbody>\n",
       "</table>\n",
       "</div>"
      ],
      "text/plain": [
       "                                title       directedBy  \\\n",
       "0                    Toy Story (1995)    John Lasseter   \n",
       "1                      Jumanji (1995)     Joe Johnston   \n",
       "2             Grumpier Old Men (1995)    Howard Deutch   \n",
       "3            Waiting to Exhale (1995)  Forest Whitaker   \n",
       "4  Father of the Bride Part II (1995)    Charles Shyer   \n",
       "\n",
       "                                                                                                                                  starring  \\\n",
       "0  Tim Allen, Tom Hanks, Don Rickles, Jim Varney, John Ratzenberger, Wallace Shawn, Laurie Metcalf, John Morris, R. Lee Ermey, Annie Potts   \n",
       "1                                                                             Jonathan Hyde, Bradley Pierce, Robin Williams, Kirsten Dunst   \n",
       "2                                                                                  Jack Lemmon, Walter Matthau, Ann-Margret , Sophia Loren   \n",
       "3                                                                             Angela Bassett, Loretta Devine, Whitney Houston, Lela Rochon   \n",
       "4                                               Steve Martin, Martin Short, Diane Keaton, Kimberly Williams, George Newbern, Kieran Culkin   \n",
       "\n",
       "   avgRating  item_id  Year  \n",
       "0    3.89146        1  1995  \n",
       "1    3.26605        2  1995  \n",
       "2    3.17146        3  1995  \n",
       "3    2.86824        4  1995  \n",
       "4    3.07620        5  1995  "
      ]
     },
     "execution_count": 106,
     "metadata": {},
     "output_type": "execute_result"
    }
   ],
   "source": [
    "metadata_raw.head()"
   ]
  },
  {
   "cell_type": "code",
   "execution_count": 107,
   "id": "098e638a",
   "metadata": {},
   "outputs": [
    {
     "data": {
      "text/plain": [
       "title         0.000000\n",
       "directedBy    0.000000\n",
       "starring      0.000000\n",
       "avgRating     0.000000\n",
       "item_id       0.000000\n",
       "Year          1.040621\n",
       "dtype: float64"
      ]
     },
     "execution_count": 107,
     "metadata": {},
     "output_type": "execute_result"
    }
   ],
   "source": [
    "# roughly 15% of data is not clean\n",
    "# Date added is not release date, can drop\n",
    "metadata_raw.isna().sum(axis=0) / metadata_raw.shape[0]*100"
   ]
  },
  {
   "cell_type": "code",
   "execution_count": 108,
   "id": "b4103b6a",
   "metadata": {},
   "outputs": [
    {
     "name": "stdout",
     "output_type": "stream",
     "text": [
      "<class 'pandas.core.frame.DataFrame'>\n",
      "RangeIndex: 84661 entries, 0 to 84660\n",
      "Data columns (total 6 columns):\n",
      " #   Column      Non-Null Count  Dtype  \n",
      "---  ------      --------------  -----  \n",
      " 0   title       84661 non-null  object \n",
      " 1   directedBy  84661 non-null  object \n",
      " 2   starring    84661 non-null  object \n",
      " 3   avgRating   84661 non-null  float64\n",
      " 4   item_id     84661 non-null  int64  \n",
      " 5   Year        83780 non-null  object \n",
      "dtypes: float64(1), int64(1), object(4)\n",
      "memory usage: 3.9+ MB\n"
     ]
    }
   ],
   "source": [
    "metadata_raw.info()"
   ]
  },
  {
   "cell_type": "code",
   "execution_count": null,
   "id": "3c00777e",
   "metadata": {},
   "outputs": [],
   "source": []
  },
  {
   "cell_type": "code",
   "execution_count": 109,
   "id": "5c88283b",
   "metadata": {
    "scrolled": true
   },
   "outputs": [
    {
     "data": {
      "text/html": [
       "<div>\n",
       "<style scoped>\n",
       "    .dataframe tbody tr th:only-of-type {\n",
       "        vertical-align: middle;\n",
       "    }\n",
       "\n",
       "    .dataframe tbody tr th {\n",
       "        vertical-align: top;\n",
       "    }\n",
       "\n",
       "    .dataframe thead th {\n",
       "        text-align: right;\n",
       "    }\n",
       "</style>\n",
       "<table border=\"1\" class=\"dataframe\">\n",
       "  <thead>\n",
       "    <tr style=\"text-align: right;\">\n",
       "      <th></th>\n",
       "      <th>title</th>\n",
       "      <th>directedBy</th>\n",
       "      <th>starring</th>\n",
       "      <th>avgRating</th>\n",
       "      <th>item_id</th>\n",
       "      <th>Year</th>\n",
       "    </tr>\n",
       "  </thead>\n",
       "  <tbody>\n",
       "    <tr>\n",
       "      <th>0</th>\n",
       "      <td>Toy Story (1995)</td>\n",
       "      <td>John Lasseter</td>\n",
       "      <td>Tim Allen, Tom Hanks, Don Rickles, Jim Varney, John Ratzenberger, Wallace Shawn, Laurie Metcalf, John Morris, R. Lee Ermey, Annie Potts</td>\n",
       "      <td>3.89146</td>\n",
       "      <td>1</td>\n",
       "      <td>1995</td>\n",
       "    </tr>\n",
       "    <tr>\n",
       "      <th>1</th>\n",
       "      <td>Jumanji (1995)</td>\n",
       "      <td>Joe Johnston</td>\n",
       "      <td>Jonathan Hyde, Bradley Pierce, Robin Williams, Kirsten Dunst</td>\n",
       "      <td>3.26605</td>\n",
       "      <td>2</td>\n",
       "      <td>1995</td>\n",
       "    </tr>\n",
       "    <tr>\n",
       "      <th>2</th>\n",
       "      <td>Grumpier Old Men (1995)</td>\n",
       "      <td>Howard Deutch</td>\n",
       "      <td>Jack Lemmon, Walter Matthau, Ann-Margret , Sophia Loren</td>\n",
       "      <td>3.17146</td>\n",
       "      <td>3</td>\n",
       "      <td>1995</td>\n",
       "    </tr>\n",
       "    <tr>\n",
       "      <th>3</th>\n",
       "      <td>Waiting to Exhale (1995)</td>\n",
       "      <td>Forest Whitaker</td>\n",
       "      <td>Angela Bassett, Loretta Devine, Whitney Houston, Lela Rochon</td>\n",
       "      <td>2.86824</td>\n",
       "      <td>4</td>\n",
       "      <td>1995</td>\n",
       "    </tr>\n",
       "    <tr>\n",
       "      <th>4</th>\n",
       "      <td>Father of the Bride Part II (1995)</td>\n",
       "      <td>Charles Shyer</td>\n",
       "      <td>Steve Martin, Martin Short, Diane Keaton, Kimberly Williams, George Newbern, Kieran Culkin</td>\n",
       "      <td>3.07620</td>\n",
       "      <td>5</td>\n",
       "      <td>1995</td>\n",
       "    </tr>\n",
       "  </tbody>\n",
       "</table>\n",
       "</div>"
      ],
      "text/plain": [
       "                                title       directedBy  \\\n",
       "0                    Toy Story (1995)    John Lasseter   \n",
       "1                      Jumanji (1995)     Joe Johnston   \n",
       "2             Grumpier Old Men (1995)    Howard Deutch   \n",
       "3            Waiting to Exhale (1995)  Forest Whitaker   \n",
       "4  Father of the Bride Part II (1995)    Charles Shyer   \n",
       "\n",
       "                                                                                                                                  starring  \\\n",
       "0  Tim Allen, Tom Hanks, Don Rickles, Jim Varney, John Ratzenberger, Wallace Shawn, Laurie Metcalf, John Morris, R. Lee Ermey, Annie Potts   \n",
       "1                                                                             Jonathan Hyde, Bradley Pierce, Robin Williams, Kirsten Dunst   \n",
       "2                                                                                  Jack Lemmon, Walter Matthau, Ann-Margret , Sophia Loren   \n",
       "3                                                                             Angela Bassett, Loretta Devine, Whitney Houston, Lela Rochon   \n",
       "4                                               Steve Martin, Martin Short, Diane Keaton, Kimberly Williams, George Newbern, Kieran Culkin   \n",
       "\n",
       "   avgRating  item_id  Year  \n",
       "0    3.89146        1  1995  \n",
       "1    3.26605        2  1995  \n",
       "2    3.17146        3  1995  \n",
       "3    2.86824        4  1995  \n",
       "4    3.07620        5  1995  "
      ]
     },
     "execution_count": 109,
     "metadata": {},
     "output_type": "execute_result"
    }
   ],
   "source": [
    "metadata_raw.head()"
   ]
  },
  {
   "cell_type": "code",
   "execution_count": 110,
   "id": "bbcb95d4",
   "metadata": {},
   "outputs": [],
   "source": [
    "metadata_raw['Year'] = metadata_raw['Year'].astype('Int64')"
   ]
  },
  {
   "cell_type": "code",
   "execution_count": 111,
   "id": "23bfd932",
   "metadata": {},
   "outputs": [
    {
     "name": "stdout",
     "output_type": "stream",
     "text": [
      "<class 'pandas.core.frame.DataFrame'>\n",
      "RangeIndex: 84661 entries, 0 to 84660\n",
      "Data columns (total 6 columns):\n",
      " #   Column      Non-Null Count  Dtype  \n",
      "---  ------      --------------  -----  \n",
      " 0   title       84661 non-null  object \n",
      " 1   directedBy  84661 non-null  object \n",
      " 2   starring    84661 non-null  object \n",
      " 3   avgRating   84661 non-null  float64\n",
      " 4   item_id     84661 non-null  int64  \n",
      " 5   Year        83780 non-null  Int64  \n",
      "dtypes: Int64(1), float64(1), int64(1), object(3)\n",
      "memory usage: 4.0+ MB\n"
     ]
    }
   ],
   "source": [
    "metadata_raw.info()"
   ]
  },
  {
   "cell_type": "code",
   "execution_count": 119,
   "id": "0772b3cc",
   "metadata": {},
   "outputs": [
    {
     "data": {
      "text/html": [
       "<div>\n",
       "<style scoped>\n",
       "    .dataframe tbody tr th:only-of-type {\n",
       "        vertical-align: middle;\n",
       "    }\n",
       "\n",
       "    .dataframe tbody tr th {\n",
       "        vertical-align: top;\n",
       "    }\n",
       "\n",
       "    .dataframe thead th {\n",
       "        text-align: right;\n",
       "    }\n",
       "</style>\n",
       "<table border=\"1\" class=\"dataframe\">\n",
       "  <thead>\n",
       "    <tr style=\"text-align: right;\">\n",
       "      <th></th>\n",
       "      <th>title</th>\n",
       "      <th>directedBy</th>\n",
       "      <th>starring</th>\n",
       "      <th>avgRating</th>\n",
       "      <th>item_id</th>\n",
       "      <th>Year</th>\n",
       "    </tr>\n",
       "  </thead>\n",
       "  <tbody>\n",
       "    <tr>\n",
       "      <th>0</th>\n",
       "      <td>Toy Story (1995)</td>\n",
       "      <td>John Lasseter</td>\n",
       "      <td>Tim Allen, Tom Hanks, Don Rickles, Jim Varney, John Ratzenberger, Wallace Shawn, Laurie Metcalf, John Morris, R. Lee Ermey, Annie Potts</td>\n",
       "      <td>3.89146</td>\n",
       "      <td>1</td>\n",
       "      <td>1995</td>\n",
       "    </tr>\n",
       "    <tr>\n",
       "      <th>1</th>\n",
       "      <td>Jumanji (1995)</td>\n",
       "      <td>Joe Johnston</td>\n",
       "      <td>Jonathan Hyde, Bradley Pierce, Robin Williams, Kirsten Dunst</td>\n",
       "      <td>3.26605</td>\n",
       "      <td>2</td>\n",
       "      <td>1995</td>\n",
       "    </tr>\n",
       "    <tr>\n",
       "      <th>2</th>\n",
       "      <td>Grumpier Old Men (1995)</td>\n",
       "      <td>Howard Deutch</td>\n",
       "      <td>Jack Lemmon, Walter Matthau, Ann-Margret , Sophia Loren</td>\n",
       "      <td>3.17146</td>\n",
       "      <td>3</td>\n",
       "      <td>1995</td>\n",
       "    </tr>\n",
       "    <tr>\n",
       "      <th>3</th>\n",
       "      <td>Waiting to Exhale (1995)</td>\n",
       "      <td>Forest Whitaker</td>\n",
       "      <td>Angela Bassett, Loretta Devine, Whitney Houston, Lela Rochon</td>\n",
       "      <td>2.86824</td>\n",
       "      <td>4</td>\n",
       "      <td>1995</td>\n",
       "    </tr>\n",
       "    <tr>\n",
       "      <th>4</th>\n",
       "      <td>Father of the Bride Part II (1995)</td>\n",
       "      <td>Charles Shyer</td>\n",
       "      <td>Steve Martin, Martin Short, Diane Keaton, Kimberly Williams, George Newbern, Kieran Culkin</td>\n",
       "      <td>3.07620</td>\n",
       "      <td>5</td>\n",
       "      <td>1995</td>\n",
       "    </tr>\n",
       "  </tbody>\n",
       "</table>\n",
       "</div>"
      ],
      "text/plain": [
       "                                title       directedBy  \\\n",
       "0                    Toy Story (1995)    John Lasseter   \n",
       "1                      Jumanji (1995)     Joe Johnston   \n",
       "2             Grumpier Old Men (1995)    Howard Deutch   \n",
       "3            Waiting to Exhale (1995)  Forest Whitaker   \n",
       "4  Father of the Bride Part II (1995)    Charles Shyer   \n",
       "\n",
       "                                                                                                                                  starring  \\\n",
       "0  Tim Allen, Tom Hanks, Don Rickles, Jim Varney, John Ratzenberger, Wallace Shawn, Laurie Metcalf, John Morris, R. Lee Ermey, Annie Potts   \n",
       "1                                                                             Jonathan Hyde, Bradley Pierce, Robin Williams, Kirsten Dunst   \n",
       "2                                                                                  Jack Lemmon, Walter Matthau, Ann-Margret , Sophia Loren   \n",
       "3                                                                             Angela Bassett, Loretta Devine, Whitney Houston, Lela Rochon   \n",
       "4                                               Steve Martin, Martin Short, Diane Keaton, Kimberly Williams, George Newbern, Kieran Culkin   \n",
       "\n",
       "   avgRating  item_id  Year  \n",
       "0    3.89146        1  1995  \n",
       "1    3.26605        2  1995  \n",
       "2    3.17146        3  1995  \n",
       "3    2.86824        4  1995  \n",
       "4    3.07620        5  1995  "
      ]
     },
     "execution_count": 119,
     "metadata": {},
     "output_type": "execute_result"
    }
   ],
   "source": [
    "metadata_raw.head()"
   ]
  },
  {
   "cell_type": "code",
   "execution_count": 121,
   "id": "07d98c76",
   "metadata": {},
   "outputs": [
    {
     "data": {
      "text/plain": [
       "0        1995\n",
       "1        1995\n",
       "2        1995\n",
       "3        1995\n",
       "4        1995\n",
       "         ... \n",
       "84655    1978\n",
       "84656    1976\n",
       "84657    1974\n",
       "84658    2019\n",
       "84659    2020\n",
       "Name: Year, Length: 83780, dtype: Int64"
      ]
     },
     "execution_count": 121,
     "metadata": {},
     "output_type": "execute_result"
    }
   ],
   "source": [
    "# using value_counts() \n",
    "metadata_raw['Year'].dropna()"
   ]
  },
  {
   "cell_type": "code",
   "execution_count": 122,
   "id": "3540f086",
   "metadata": {},
   "outputs": [
    {
     "ename": "TypeError",
     "evalue": "float() argument must be a string or a number, not 'NAType'",
     "output_type": "error",
     "traceback": [
      "\u001b[1;31m---------------------------------------------------------------------------\u001b[0m",
      "\u001b[1;31mTypeError\u001b[0m                                 Traceback (most recent call last)",
      "\u001b[1;32m~\\AppData\\Local\\Temp\\ipykernel_8468\\645244892.py\u001b[0m in \u001b[0;36m<module>\u001b[1;34m\u001b[0m\n\u001b[1;32m----> 1\u001b[1;33m \u001b[0mplt\u001b[0m\u001b[1;33m.\u001b[0m\u001b[0mscatter\u001b[0m\u001b[1;33m(\u001b[0m\u001b[0mmetadata_raw\u001b[0m\u001b[1;33m[\u001b[0m\u001b[1;34m\"Year\"\u001b[0m\u001b[1;33m]\u001b[0m\u001b[1;33m,\u001b[0m \u001b[0mmetadata_raw\u001b[0m\u001b[1;33m[\u001b[0m\u001b[1;34m\"avgRating\"\u001b[0m\u001b[1;33m]\u001b[0m\u001b[1;33m,\u001b[0m \u001b[0malpha\u001b[0m \u001b[1;33m=\u001b[0m \u001b[1;36m0.01\u001b[0m\u001b[1;33m)\u001b[0m\u001b[1;33m\u001b[0m\u001b[1;33m\u001b[0m\u001b[0m\n\u001b[0m\u001b[0;32m      2\u001b[0m \u001b[0mplt\u001b[0m\u001b[1;33m.\u001b[0m\u001b[0mtitle\u001b[0m\u001b[1;33m(\u001b[0m\u001b[1;34m\"Year vs Rating Average\"\u001b[0m\u001b[1;33m)\u001b[0m\u001b[1;33m\u001b[0m\u001b[1;33m\u001b[0m\u001b[0m\n\u001b[0;32m      3\u001b[0m \u001b[0mplt\u001b[0m\u001b[1;33m.\u001b[0m\u001b[0mxlabel\u001b[0m\u001b[1;33m(\u001b[0m\u001b[1;34m\"Year\"\u001b[0m\u001b[1;33m)\u001b[0m\u001b[1;33m\u001b[0m\u001b[1;33m\u001b[0m\u001b[0m\n",
      "\u001b[1;32m~\\anaconda3\\lib\\site-packages\\matplotlib\\pyplot.py\u001b[0m in \u001b[0;36mscatter\u001b[1;34m(x, y, s, c, marker, cmap, norm, vmin, vmax, alpha, linewidths, edgecolors, plotnonfinite, data, **kwargs)\u001b[0m\n\u001b[0;32m   2817\u001b[0m         \u001b[0mvmin\u001b[0m\u001b[1;33m=\u001b[0m\u001b[1;32mNone\u001b[0m\u001b[1;33m,\u001b[0m \u001b[0mvmax\u001b[0m\u001b[1;33m=\u001b[0m\u001b[1;32mNone\u001b[0m\u001b[1;33m,\u001b[0m \u001b[0malpha\u001b[0m\u001b[1;33m=\u001b[0m\u001b[1;32mNone\u001b[0m\u001b[1;33m,\u001b[0m \u001b[0mlinewidths\u001b[0m\u001b[1;33m=\u001b[0m\u001b[1;32mNone\u001b[0m\u001b[1;33m,\u001b[0m \u001b[1;33m*\u001b[0m\u001b[1;33m,\u001b[0m\u001b[1;33m\u001b[0m\u001b[1;33m\u001b[0m\u001b[0m\n\u001b[0;32m   2818\u001b[0m         edgecolors=None, plotnonfinite=False, data=None, **kwargs):\n\u001b[1;32m-> 2819\u001b[1;33m     __ret = gca().scatter(\n\u001b[0m\u001b[0;32m   2820\u001b[0m         \u001b[0mx\u001b[0m\u001b[1;33m,\u001b[0m \u001b[0my\u001b[0m\u001b[1;33m,\u001b[0m \u001b[0ms\u001b[0m\u001b[1;33m=\u001b[0m\u001b[0ms\u001b[0m\u001b[1;33m,\u001b[0m \u001b[0mc\u001b[0m\u001b[1;33m=\u001b[0m\u001b[0mc\u001b[0m\u001b[1;33m,\u001b[0m \u001b[0mmarker\u001b[0m\u001b[1;33m=\u001b[0m\u001b[0mmarker\u001b[0m\u001b[1;33m,\u001b[0m \u001b[0mcmap\u001b[0m\u001b[1;33m=\u001b[0m\u001b[0mcmap\u001b[0m\u001b[1;33m,\u001b[0m \u001b[0mnorm\u001b[0m\u001b[1;33m=\u001b[0m\u001b[0mnorm\u001b[0m\u001b[1;33m,\u001b[0m\u001b[1;33m\u001b[0m\u001b[1;33m\u001b[0m\u001b[0m\n\u001b[0;32m   2821\u001b[0m         \u001b[0mvmin\u001b[0m\u001b[1;33m=\u001b[0m\u001b[0mvmin\u001b[0m\u001b[1;33m,\u001b[0m \u001b[0mvmax\u001b[0m\u001b[1;33m=\u001b[0m\u001b[0mvmax\u001b[0m\u001b[1;33m,\u001b[0m \u001b[0malpha\u001b[0m\u001b[1;33m=\u001b[0m\u001b[0malpha\u001b[0m\u001b[1;33m,\u001b[0m \u001b[0mlinewidths\u001b[0m\u001b[1;33m=\u001b[0m\u001b[0mlinewidths\u001b[0m\u001b[1;33m,\u001b[0m\u001b[1;33m\u001b[0m\u001b[1;33m\u001b[0m\u001b[0m\n",
      "\u001b[1;32m~\\anaconda3\\lib\\site-packages\\matplotlib\\__init__.py\u001b[0m in \u001b[0;36minner\u001b[1;34m(ax, data, *args, **kwargs)\u001b[0m\n\u001b[0;32m   1410\u001b[0m     \u001b[1;32mdef\u001b[0m \u001b[0minner\u001b[0m\u001b[1;33m(\u001b[0m\u001b[0max\u001b[0m\u001b[1;33m,\u001b[0m \u001b[1;33m*\u001b[0m\u001b[0margs\u001b[0m\u001b[1;33m,\u001b[0m \u001b[0mdata\u001b[0m\u001b[1;33m=\u001b[0m\u001b[1;32mNone\u001b[0m\u001b[1;33m,\u001b[0m \u001b[1;33m**\u001b[0m\u001b[0mkwargs\u001b[0m\u001b[1;33m)\u001b[0m\u001b[1;33m:\u001b[0m\u001b[1;33m\u001b[0m\u001b[1;33m\u001b[0m\u001b[0m\n\u001b[0;32m   1411\u001b[0m         \u001b[1;32mif\u001b[0m \u001b[0mdata\u001b[0m \u001b[1;32mis\u001b[0m \u001b[1;32mNone\u001b[0m\u001b[1;33m:\u001b[0m\u001b[1;33m\u001b[0m\u001b[1;33m\u001b[0m\u001b[0m\n\u001b[1;32m-> 1412\u001b[1;33m             \u001b[1;32mreturn\u001b[0m \u001b[0mfunc\u001b[0m\u001b[1;33m(\u001b[0m\u001b[0max\u001b[0m\u001b[1;33m,\u001b[0m \u001b[1;33m*\u001b[0m\u001b[0mmap\u001b[0m\u001b[1;33m(\u001b[0m\u001b[0msanitize_sequence\u001b[0m\u001b[1;33m,\u001b[0m \u001b[0margs\u001b[0m\u001b[1;33m)\u001b[0m\u001b[1;33m,\u001b[0m \u001b[1;33m**\u001b[0m\u001b[0mkwargs\u001b[0m\u001b[1;33m)\u001b[0m\u001b[1;33m\u001b[0m\u001b[1;33m\u001b[0m\u001b[0m\n\u001b[0m\u001b[0;32m   1413\u001b[0m \u001b[1;33m\u001b[0m\u001b[0m\n\u001b[0;32m   1414\u001b[0m         \u001b[0mbound\u001b[0m \u001b[1;33m=\u001b[0m \u001b[0mnew_sig\u001b[0m\u001b[1;33m.\u001b[0m\u001b[0mbind\u001b[0m\u001b[1;33m(\u001b[0m\u001b[0max\u001b[0m\u001b[1;33m,\u001b[0m \u001b[1;33m*\u001b[0m\u001b[0margs\u001b[0m\u001b[1;33m,\u001b[0m \u001b[1;33m**\u001b[0m\u001b[0mkwargs\u001b[0m\u001b[1;33m)\u001b[0m\u001b[1;33m\u001b[0m\u001b[1;33m\u001b[0m\u001b[0m\n",
      "\u001b[1;32m~\\anaconda3\\lib\\site-packages\\matplotlib\\axes\\_axes.py\u001b[0m in \u001b[0;36mscatter\u001b[1;34m(self, x, y, s, c, marker, cmap, norm, vmin, vmax, alpha, linewidths, edgecolors, plotnonfinite, **kwargs)\u001b[0m\n\u001b[0;32m   4449\u001b[0m         \u001b[0moffsets\u001b[0m \u001b[1;33m=\u001b[0m \u001b[0mnp\u001b[0m\u001b[1;33m.\u001b[0m\u001b[0mma\u001b[0m\u001b[1;33m.\u001b[0m\u001b[0mcolumn_stack\u001b[0m\u001b[1;33m(\u001b[0m\u001b[1;33m[\u001b[0m\u001b[0mx\u001b[0m\u001b[1;33m,\u001b[0m \u001b[0my\u001b[0m\u001b[1;33m]\u001b[0m\u001b[1;33m)\u001b[0m\u001b[1;33m\u001b[0m\u001b[1;33m\u001b[0m\u001b[0m\n\u001b[0;32m   4450\u001b[0m \u001b[1;33m\u001b[0m\u001b[0m\n\u001b[1;32m-> 4451\u001b[1;33m         collection = mcoll.PathCollection(\n\u001b[0m\u001b[0;32m   4452\u001b[0m                 \u001b[1;33m(\u001b[0m\u001b[0mpath\u001b[0m\u001b[1;33m,\u001b[0m\u001b[1;33m)\u001b[0m\u001b[1;33m,\u001b[0m \u001b[0mscales\u001b[0m\u001b[1;33m,\u001b[0m\u001b[1;33m\u001b[0m\u001b[1;33m\u001b[0m\u001b[0m\n\u001b[0;32m   4453\u001b[0m                 \u001b[0mfacecolors\u001b[0m\u001b[1;33m=\u001b[0m\u001b[0mcolors\u001b[0m\u001b[1;33m,\u001b[0m\u001b[1;33m\u001b[0m\u001b[1;33m\u001b[0m\u001b[0m\n",
      "\u001b[1;32m~\\anaconda3\\lib\\site-packages\\matplotlib\\collections.py\u001b[0m in \u001b[0;36m__init__\u001b[1;34m(self, paths, sizes, **kwargs)\u001b[0m\n\u001b[0;32m   1010\u001b[0m         \"\"\"\n\u001b[0;32m   1011\u001b[0m \u001b[1;33m\u001b[0m\u001b[0m\n\u001b[1;32m-> 1012\u001b[1;33m         \u001b[0msuper\u001b[0m\u001b[1;33m(\u001b[0m\u001b[1;33m)\u001b[0m\u001b[1;33m.\u001b[0m\u001b[0m__init__\u001b[0m\u001b[1;33m(\u001b[0m\u001b[1;33m**\u001b[0m\u001b[0mkwargs\u001b[0m\u001b[1;33m)\u001b[0m\u001b[1;33m\u001b[0m\u001b[1;33m\u001b[0m\u001b[0m\n\u001b[0m\u001b[0;32m   1013\u001b[0m         \u001b[0mself\u001b[0m\u001b[1;33m.\u001b[0m\u001b[0mset_paths\u001b[0m\u001b[1;33m(\u001b[0m\u001b[0mpaths\u001b[0m\u001b[1;33m)\u001b[0m\u001b[1;33m\u001b[0m\u001b[1;33m\u001b[0m\u001b[0m\n\u001b[0;32m   1014\u001b[0m         \u001b[0mself\u001b[0m\u001b[1;33m.\u001b[0m\u001b[0mset_sizes\u001b[0m\u001b[1;33m(\u001b[0m\u001b[0msizes\u001b[0m\u001b[1;33m)\u001b[0m\u001b[1;33m\u001b[0m\u001b[1;33m\u001b[0m\u001b[0m\n",
      "\u001b[1;32m~\\anaconda3\\lib\\site-packages\\matplotlib\\collections.py\u001b[0m in \u001b[0;36m__init__\u001b[1;34m(self, edgecolors, facecolors, linewidths, linestyles, capstyle, joinstyle, antialiaseds, offsets, transOffset, norm, cmap, pickradius, hatch, urls, zorder, **kwargs)\u001b[0m\n\u001b[0;32m    194\u001b[0m \u001b[1;33m\u001b[0m\u001b[0m\n\u001b[0;32m    195\u001b[0m         \u001b[1;32mif\u001b[0m \u001b[0moffsets\u001b[0m \u001b[1;32mis\u001b[0m \u001b[1;32mnot\u001b[0m \u001b[1;32mNone\u001b[0m\u001b[1;33m:\u001b[0m\u001b[1;33m\u001b[0m\u001b[1;33m\u001b[0m\u001b[0m\n\u001b[1;32m--> 196\u001b[1;33m             \u001b[0moffsets\u001b[0m \u001b[1;33m=\u001b[0m \u001b[0mnp\u001b[0m\u001b[1;33m.\u001b[0m\u001b[0masanyarray\u001b[0m\u001b[1;33m(\u001b[0m\u001b[0moffsets\u001b[0m\u001b[1;33m,\u001b[0m \u001b[0mfloat\u001b[0m\u001b[1;33m)\u001b[0m\u001b[1;33m\u001b[0m\u001b[1;33m\u001b[0m\u001b[0m\n\u001b[0m\u001b[0;32m    197\u001b[0m             \u001b[1;31m# Broadcast (2,) -> (1, 2) but nothing else.\u001b[0m\u001b[1;33m\u001b[0m\u001b[1;33m\u001b[0m\u001b[0m\n\u001b[0;32m    198\u001b[0m             \u001b[1;32mif\u001b[0m \u001b[0moffsets\u001b[0m\u001b[1;33m.\u001b[0m\u001b[0mshape\u001b[0m \u001b[1;33m==\u001b[0m \u001b[1;33m(\u001b[0m\u001b[1;36m2\u001b[0m\u001b[1;33m,\u001b[0m\u001b[1;33m)\u001b[0m\u001b[1;33m:\u001b[0m\u001b[1;33m\u001b[0m\u001b[1;33m\u001b[0m\u001b[0m\n",
      "\u001b[1;31mTypeError\u001b[0m: float() argument must be a string or a number, not 'NAType'"
     ]
    },
    {
     "data": {
      "image/png": "[encoded data removed]",
      "text/plain": [
       "<Figure size 640x480 with 1 Axes>"
      ]
     },
     "metadata": {},
     "output_type": "display_data"
    }
   ],
   "source": [
    "plt.scatter(metadata_raw[\"Year\"], metadata_raw[\"avgRating\"], alpha = 0.01)\n",
    "plt.title(\"Year vs Rating Average\")\n",
    "plt.xlabel(\"Year\")\n"
   ]
  },
  {
   "cell_type": "markdown",
   "id": "7c8954eb",
   "metadata": {},
   "source": [
    "### Reviews"
   ]
  },
  {
   "cell_type": "code",
   "execution_count": 4,
   "id": "650a4e8b",
   "metadata": {},
   "outputs": [],
   "source": [
    "reviews_raw = pd.read_json(r\"C:\\Users\\micha\\OneDrive\\Desktop\\Capstone\\movie_dataset_public_final\\raw\\reviews.json\", lines=True)"
   ]
  },
  {
   "cell_type": "code",
   "execution_count": 3,
   "id": "6a3b167b",
   "metadata": {},
   "outputs": [],
   "source": [
    "pd.set_option('display.max_colwidth',10000)"
   ]
  },
  {
   "cell_type": "code",
   "execution_count": 5,
   "id": "dc376e41",
   "metadata": {
    "scrolled": true
   },
   "outputs": [
    {
     "data": {
      "text/html": [
       "<div>\n",
       "<style scoped>\n",
       "    .dataframe tbody tr th:only-of-type {\n",
       "        vertical-align: middle;\n",
       "    }\n",
       "\n",
       "    .dataframe tbody tr th {\n",
       "        vertical-align: top;\n",
       "    }\n",
       "\n",
       "    .dataframe thead th {\n",
       "        text-align: right;\n",
       "    }\n",
       "</style>\n",
       "<table border=\"1\" class=\"dataframe\">\n",
       "  <thead>\n",
       "    <tr style=\"text-align: right;\">\n",
       "      <th></th>\n",
       "      <th>item_id</th>\n",
       "      <th>txt</th>\n",
       "    </tr>\n",
       "  </thead>\n",
       "  <tbody>\n",
       "    <tr>\n",
       "      <th>0</th>\n",
       "      <td>172063</td>\n",
       "      <td>one-shot record of a belly dancer; \"Carmencita Dancing,\" one of a series of Edison short films featuring \\r circus and vaudeville acts, displayed the... um... \"talents\" of a zaftig belly-dancer who agreed to undulate before the camera of the famous \"Black \\r Maria\" studio. \\r \\r The dance was originally intended to be played in a Kinetoscope, a single -person arcade viewer connected to Edison's more famous invention, the phonograph. Through a pair of crude headphones, the latter device supplied an asynchronous soundtrack of \"hootchie-cootchie\" music. \\r \\r The Kinetograph camera here employed is so new -- even to its inventors \\r -- that director Dickson has drastically \"overcranked\" the film, unintentionally producing one of the first examples of slow-motion.\\r \\r Carmencita's titillating movements were considered by many to be \\r scandalous. Thus, the film prompted some of the earliest discussions of film censorship.</td>\n",
       "    </tr>\n",
       "    <tr>\n",
       "      <th>1</th>\n",
       "      <td>95541</td>\n",
       "      <td>Banging Away..; Thomas Edison and William K.L. Dickson's \"Blacksmith Scene,\" was the first film shown publicly in 1893. This short is a brief look at 3 workers as they go about their daily ritual. Great piece of work for its time. In the early days of cinema, directors typically recorded everyday events such as the arrival of ships or workers leaving a factory. These short films were called \"actualities.\" Later, with the advent of better equipment (which could record for longer), directors began to introduce more complicated narratives into film. 10* (10* Rating System)</td>\n",
       "    </tr>\n",
       "    <tr>\n",
       "      <th>2</th>\n",
       "      <td>7065</td>\n",
       "      <td>unbelievable; I cannot understand how anyone can call this one of the greatest movies ever made. It is disgraceful and appalling. I guess it is still high entertainment to see white actors in black face and watch a film loaded with stereotype.</td>\n",
       "    </tr>\n",
       "    <tr>\n",
       "      <th>3</th>\n",
       "      <td>3739</td>\n",
       "      <td>I'm still starry-eyed from it; I saw this last night on the Turner Classic Movies station.  Wow.  This is a perfect, shining, ebullient example of what was possible before The Code. The clever, witty, salacious dialogue!  The compromising situations!  The sheer sexuality permeating every scene, including the ones where the camera is on this side of a closed door!  I am so glad that I finally saw this film, and would own a copy immediately were it available in any format. There's a lesson here.  All together now: NEVER AGAIN with the censorship!!!</td>\n",
       "    </tr>\n",
       "    <tr>\n",
       "      <th>4</th>\n",
       "      <td>1562</td>\n",
       "      <td>Failed on every Front; Joel Schumacher who did an OK job on the third Batman Movie, has simply lost the plot on this one. Poorly cast with the exception of Robin and Ivy, this is far more like the 60's TV series than the comic books, and it just does not work. The Baddies are not menacing, Schwarzenegger rarely performs this badly and Uma Thurman, although she did an OK job was just a poor character. As for Batgirl, this is just too much. Bring back Keaton and Tim Burton and take Batman back to his dark roots. There is no future for Batman if it continues like this. 3/10</td>\n",
       "    </tr>\n",
       "  </tbody>\n",
       "</table>\n",
       "</div>"
      ],
      "text/plain": [
       "   item_id  \\\n",
       "0   172063   \n",
       "1    95541   \n",
       "2     7065   \n",
       "3     3739   \n",
       "4     1562   \n",
       "\n",
       "                                                                                                                                                                                                                                                                                                                                                                                                                                                                                                                                                                                                                                                                                                                                                                                                                                                                                                                                                                    txt  \n",
       "0  one-shot record of a belly dancer; \"Carmencita Dancing,\" one of a series of Edison short films featuring \\r circus and vaudeville acts, displayed the... um... \"talents\" of a zaftig belly-dancer who agreed to undulate before the camera of the famous \"Black \\r Maria\" studio. \\r \\r The dance was originally intended to be played in a Kinetoscope, a single -person arcade viewer connected to Edison's more famous invention, the phonograph. Through a pair of crude headphones, the latter device supplied an asynchronous soundtrack of \"hootchie-cootchie\" music. \\r \\r The Kinetograph camera here employed is so new -- even to its inventors \\r -- that director Dickson has drastically \"overcranked\" the film, unintentionally producing one of the first examples of slow-motion.\\r \\r Carmencita's titillating movements were considered by many to be \\r scandalous. Thus, the film prompted some of the earliest discussions of film censorship.  \n",
       "1                                                                                                                                                                                                                                                                                                                                                                      Banging Away..; Thomas Edison and William K.L. Dickson's \"Blacksmith Scene,\" was the first film shown publicly in 1893. This short is a brief look at 3 workers as they go about their daily ritual. Great piece of work for its time. In the early days of cinema, directors typically recorded everyday events such as the arrival of ships or workers leaving a factory. These short films were called \"actualities.\" Later, with the advent of better equipment (which could record for longer), directors began to introduce more complicated narratives into film. 10* (10* Rating System)  \n",
       "2                                                                                                                                                                                                                                                                                                                                                                                                                                                                                                                                                                                                                                                                                                                   unbelievable; I cannot understand how anyone can call this one of the greatest movies ever made. It is disgraceful and appalling. I guess it is still high entertainment to see white actors in black face and watch a film loaded with stereotype.  \n",
       "3                                                                                                                                                                                                                                                                                                                                                                                              I'm still starry-eyed from it; I saw this last night on the Turner Classic Movies station.  Wow.  This is a perfect, shining, ebullient example of what was possible before The Code. The clever, witty, salacious dialogue!  The compromising situations!  The sheer sexuality permeating every scene, including the ones where the camera is on this side of a closed door!  I am so glad that I finally saw this film, and would own a copy immediately were it available in any format. There's a lesson here.  All together now: NEVER AGAIN with the censorship!!!  \n",
       "4                                                                                                                                                                                                                                                                                                                                                                     Failed on every Front; Joel Schumacher who did an OK job on the third Batman Movie, has simply lost the plot on this one. Poorly cast with the exception of Robin and Ivy, this is far more like the 60's TV series than the comic books, and it just does not work. The Baddies are not menacing, Schwarzenegger rarely performs this badly and Uma Thurman, although she did an OK job was just a poor character. As for Batgirl, this is just too much. Bring back Keaton and Tim Burton and take Batman back to his dark roots. There is no future for Batman if it continues like this. 3/10  "
      ]
     },
     "execution_count": 5,
     "metadata": {},
     "output_type": "execute_result"
    }
   ],
   "source": [
    "reviews_raw.head()"
   ]
  },
  {
   "cell_type": "code",
   "execution_count": 239,
   "id": "7eaa9343",
   "metadata": {},
   "outputs": [
    {
     "data": {
      "text/plain": [
       "(2624608, 2)"
      ]
     },
     "execution_count": 239,
     "metadata": {},
     "output_type": "execute_result"
    }
   ],
   "source": [
    "reviews_raw.shape"
   ]
  },
  {
   "cell_type": "code",
   "execution_count": 85,
   "id": "3f5c6792",
   "metadata": {},
   "outputs": [
    {
     "data": {
      "text/plain": [
       "item_id    0.0\n",
       "txt        0.0\n",
       "dtype: float64"
      ]
     },
     "execution_count": 85,
     "metadata": {},
     "output_type": "execute_result"
    }
   ],
   "source": [
    "\n",
    "reviews_raw.isna().sum(axis=0) / reviews_raw.shape[0]*100\n"
   ]
  },
  {
   "cell_type": "code",
   "execution_count": 90,
   "id": "4b8f7e29",
   "metadata": {},
   "outputs": [],
   "source": [
    "#merging both columns so that the reviews are visible under each\n",
    "\n",
    "movies_df = data.merge(reviews_raw, on='item_id', how='left')"
   ]
  },
  {
   "cell_type": "markdown",
   "id": "f45b301e",
   "metadata": {},
   "source": [
    "Stuff to explore: \n",
    "count of actors, count of reviews, check for multiple directors\n",
    "\n",
    "Sentiment analysis, count vectorization, \n",
    "\n",
    "instead of dummy variables, add a feature to show how many times the director has shown up.\n",
    "\n",
    "or bin the directors (ie, novice, intermediate, explore the data)\n",
    "\n"
   ]
  },
  {
   "cell_type": "code",
   "execution_count": 95,
   "id": "f708df2c",
   "metadata": {
    "scrolled": false
   },
   "outputs": [
    {
     "data": {
      "text/html": [
       "<div>\n",
       "<style scoped>\n",
       "    .dataframe tbody tr th:only-of-type {\n",
       "        vertical-align: middle;\n",
       "    }\n",
       "\n",
       "    .dataframe tbody tr th {\n",
       "        vertical-align: top;\n",
       "    }\n",
       "\n",
       "    .dataframe thead th {\n",
       "        text-align: right;\n",
       "    }\n",
       "</style>\n",
       "<table border=\"1\" class=\"dataframe\">\n",
       "  <thead>\n",
       "    <tr style=\"text-align: right;\">\n",
       "      <th></th>\n",
       "      <th>title</th>\n",
       "      <th>directedBy</th>\n",
       "      <th>starring</th>\n",
       "      <th>avgRating</th>\n",
       "      <th>item_id</th>\n",
       "      <th>Year</th>\n",
       "      <th>txt</th>\n",
       "    </tr>\n",
       "  </thead>\n",
       "  <tbody>\n",
       "    <tr>\n",
       "      <th>0</th>\n",
       "      <td>Toy Story (1995)</td>\n",
       "      <td>John Lasseter</td>\n",
       "      <td>Tim Allen, Tom Hanks, Don Rickles, Jim Varney, John Ratzenberger, Wallace Shawn, Laurie Metcalf, John Morris, R. Lee Ermey, Annie Potts</td>\n",
       "      <td>3.89146</td>\n",
       "      <td>1</td>\n",
       "      <td>1995</td>\n",
       "      <td>The one film that started what is now a cliché; I remember it all very well. I was about six years old when this movie came out. I remember the movie being sold out when I saw it and I had to wait to get in to see it. It was well worth the wait, even as a six year old I could realize that. Toy Story was the first fully computer animated movie ever to be made. This was a huge impact in the world of special effects and art. That was part of the reason why this movie was such a huge success. The other reason for the huge success is because of the concept of the movie. Where else can you find a movie where toys come to life and have their own world inside of a little boy's room. This is one of the first movies to have that type of story. The other computer animated movies to follow Toy Story are A Bug's Life, Antz, Toy Story 2, Shrek, Monster's Inc., Ice Age, Shrek 2, The Incredibles, The Polar Express, and Shark Tale. After seeing Shark Tale, I figured out that computer animated films are starting to become a cliché. However, the Pixar movies are really good. The voice work in Toy Story is also really good. Tom Hanks and Tim Allen are the perfect voices to fit the characters of this movie. This was also a part of Tim Allen's big uprising in the '90's. Every kid should see this, most kids that I know like this movie. Anybody else who somehow hasn't seen this should also see it to see where the animated films of today got started from.</td>\n",
       "    </tr>\n",
       "    <tr>\n",
       "      <th>1</th>\n",
       "      <td>Toy Story (1995)</td>\n",
       "      <td>John Lasseter</td>\n",
       "      <td>Tim Allen, Tom Hanks, Don Rickles, Jim Varney, John Ratzenberger, Wallace Shawn, Laurie Metcalf, John Morris, R. Lee Ermey, Annie Potts</td>\n",
       "      <td>3.89146</td>\n",
       "      <td>1</td>\n",
       "      <td>1995</td>\n",
       "      <td>One of the greatest animated movies ever created!; I don't want to be biast, but Toy Story is one of the greatest animated movies ever created. I first watched this movie at about 2-4 years old, and I loved this movie. The storyline is excellently written, and always gets me laughing! The animation in this movie is incredible! As a computer animated film it was well ahead of its era (at least I think). Also, it was the first feature length film that was fully animated, and to this day is one of the best. With the success of this film it was no wonder they made a sequel, one that i enjoyed a lot! Also, I have heard that Pixar have announced Toy Story 3, and it will be a movie I will definitely see!</td>\n",
       "    </tr>\n",
       "    <tr>\n",
       "      <th>2</th>\n",
       "      <td>Toy Story (1995)</td>\n",
       "      <td>John Lasseter</td>\n",
       "      <td>Tim Allen, Tom Hanks, Don Rickles, Jim Varney, John Ratzenberger, Wallace Shawn, Laurie Metcalf, John Morris, R. Lee Ermey, Annie Potts</td>\n",
       "      <td>3.89146</td>\n",
       "      <td>1</td>\n",
       "      <td>1995</td>\n",
       "      <td>Toy Story 1; I have to give Toy Story 1 an 8 b/c even though I am a grown adult, I love all types of Disney movies but this one nearly tops the charts. Toy Story 2 on the other hand gets a 2, it was the most boring movie there ever was... actually kind of depressing to. Granted Toy Story 1 was extremely good it's just not a movie they should have came out with a sequel to. I am currently searching for pictures (scenes) from the movie because of my screen name I would like to find pictures of buzz with the pink hat on portraying Misses Nesbit. If anyone has these pictures could you please reply? I also believe that Toy Story 1 was the best movie because of the cool graphic's. I think that Disney done an exceptional job on the movie in parts where the Pizza Planet scene was taken because of the reality of the crane machine and the little green aliens. Also the kids in the scenes looked very real to, even though I think the mother of Andy had way to much animation in it.</td>\n",
       "    </tr>\n",
       "    <tr>\n",
       "      <th>3</th>\n",
       "      <td>Toy Story (1995)</td>\n",
       "      <td>John Lasseter</td>\n",
       "      <td>Tim Allen, Tom Hanks, Don Rickles, Jim Varney, John Ratzenberger, Wallace Shawn, Laurie Metcalf, John Morris, R. Lee Ermey, Annie Potts</td>\n",
       "      <td>3.89146</td>\n",
       "      <td>1</td>\n",
       "      <td>1995</td>\n",
       "      <td>Best!; This is a cartoon but not only for children, anybody can enjoy this wonderful movie. This movie was rated 'classic' because of the beautiful computer graphics, good voice acting and the exciting plot. The memorable and funny characters like \"Mr. Potato Head\" and Buzz Light Year, I will never forget them. Toy Story is the first movie made with computers and not using real-life actors, computers were not common when Toy Story on show, it was a great success. The story was good, for a lot of us are fascinated by talking toys and what it might be like if they really existed. It gave us many imagination. This is the best movie I ever seen!</td>\n",
       "    </tr>\n",
       "    <tr>\n",
       "      <th>4</th>\n",
       "      <td>Toy Story (1995)</td>\n",
       "      <td>John Lasseter</td>\n",
       "      <td>Tim Allen, Tom Hanks, Don Rickles, Jim Varney, John Ratzenberger, Wallace Shawn, Laurie Metcalf, John Morris, R. Lee Ermey, Annie Potts</td>\n",
       "      <td>3.89146</td>\n",
       "      <td>1</td>\n",
       "      <td>1995</td>\n",
       "      <td>A delight!; Kids have always wondered if their toys ever came to life when they were asleep and if the toys themselves had lives of their own by doing the same things that humans do. Toy Story is the first film from Pixar Studios to make cartoons more humanistic with CGI than by drawing them out. Tom Hanks provides the voice of Woody the Cowboy, who is the ringleader of the toys around Andy's room. He overhears the important events around Andy's life and one of the things shocking is that they are moving to another home. Most of Andy's toys are compiled of average boy toys: from a nervous dinosaur name Rex (Wallace Shawn) to a grumpy Mr. Potato Head (Don Rickels), a smart Aleck piggy bank called Hamm (John Ratzenburg); even Andy's little sister has toys that join with the gang, Bo Peep (Annie Potts of \"Ghostbusters\" fame) has a crush on the cowboy. There are other characters in the story; a dog on a string name Slinky Dog (Jim Varney of \"Ernest\" fame) and a plastic army doll name Sarge (R. Lee Ermey of Full Metal Jacket). One of the elements of \"Toy Story\" is very psychological, and that is the fear of a new toy. Sure everybody likes to get a new toy, but the problem is that when people buy new toys, they automatically forget that their old toys exist and lose excitement within them. When Andy's birthday party comes a week before the leave, Woody sends Sarge and the plastic army men with the baby talkers to hear what kind of presents Andy has gotten this year. As Mr. Potato jokes that he wants a wife, the gang gets cut off by a nervous Rex and realize that the toys have to stay still. The new toy in Andy's life is the popular and all out, Buzz Lightyear (voiced by Tim Allen) in which he pushes Woody to the side leaving the new toy on the bed. Everybody clamors over Woody being pushed off the bed as every other toy in the room tries to figure out what's up there. Woody is introduced to the new character as he tells everyone he can fly and fire a high laser. A smart-ass Potato Head makes a statement about Woody's voice box that it sounds a car ran over it. Days before the move, Woody is left out of the group as everybody including Bo Peep are all with Buzz Lightyear. Woody has a plan of getting rid of Buzz and he uses an electric race-car to push him out the window. Now every toy is against Woody and want to beat him up; but Andy saves Woody when him and the rest of his family are going out for pizza and can't find Buzz, so Andy takes the cowboy instead. With little relief, when the car stops at a gas station, Buzz has been hiding under the car and fights with Woody outside; suddenly the car leaves with both toys stranded. Buzz has a plan for both him and Woody to get back with Andy; they get into a pizza truck and try to find Andy and his family and notices that the neighborhood bully Sid is there so the toys hide in a toy machine where they are taken with another toy back to Sid's house where one toy is torture to death (relax, its not the main toys). So now they have to work together in order to be with Andy and tell the other toys that everything is all right. \"Toy Story\" is a blessing with delight and wonder and just like my review of \"Monsters, Inc.\" it's a movie of curiosity and a joy to behold.</td>\n",
       "    </tr>\n",
       "    <tr>\n",
       "      <th>...</th>\n",
       "      <td>...</td>\n",
       "      <td>...</td>\n",
       "      <td>...</td>\n",
       "      <td>...</td>\n",
       "      <td>...</td>\n",
       "      <td>...</td>\n",
       "      <td>...</td>\n",
       "    </tr>\n",
       "    <tr>\n",
       "      <th>695</th>\n",
       "      <td>Waiting to Exhale (1995)</td>\n",
       "      <td>Forest Whitaker</td>\n",
       "      <td>Angela Bassett, Loretta Devine, Whitney Houston, Lela Rochon</td>\n",
       "      <td>2.86824</td>\n",
       "      <td>4</td>\n",
       "      <td>1995</td>\n",
       "      <td>pure unadulterated drivel; do you read harlequin romances? danielle steel? do you in cessantly read women's magazines to find out  how to please your man? do you hinge all happiness on having a man in your life? is your IQ equivalent to your age? then you will love this movie.</td>\n",
       "    </tr>\n",
       "    <tr>\n",
       "      <th>696</th>\n",
       "      <td>Waiting to Exhale (1995)</td>\n",
       "      <td>Forest Whitaker</td>\n",
       "      <td>Angela Bassett, Loretta Devine, Whitney Houston, Lela Rochon</td>\n",
       "      <td>2.86824</td>\n",
       "      <td>4</td>\n",
       "      <td>1995</td>\n",
       "      <td>Hot Soundtrack, Terrible Character Development; Waiting to Exhale is guided thoroughly by a hot soundtrack from beginning to end.  It is also complimented by sharply shot scenes and attractive locales.  However, much of this is wasted on poor character development.  Without likeable characters, this plot sinks quickly and doesn't recover.  What should be shown is complex identities that the women have, but instead viewers are shown superficial confusions of the women which makes them out to be dumb and non-rational leading ladies.  While the movie is supposed to highlight the women, and have males as supporting characters, the plot so demonized the men that even the \"nice\" men such as Gregory Hines and Wesley Snipes seem entirely out of place and more token goodness than believeable characters. Worst of all, were some vastly misplaced and undesirable scenes, which I honestly hope were either more deeply probed in the book, or not part of the book at all.  For instance, why was the fact that Gloria's former man is gay/bi-sexual even remotely important to this script.  Clearly the answer is that it isn't.  Gloria's character did not need that type of nonsense to provide a background that she could work with.  Why the director didn't see this, I don't know. Weak film, waste of acting talent by wonderful actresses like Angela Bassett, and a brutal waste of an excellent soundtrack by Babyface. 4/10</td>\n",
       "    </tr>\n",
       "    <tr>\n",
       "      <th>697</th>\n",
       "      <td>Waiting to Exhale (1995)</td>\n",
       "      <td>Forest Whitaker</td>\n",
       "      <td>Angela Bassett, Loretta Devine, Whitney Houston, Lela Rochon</td>\n",
       "      <td>2.86824</td>\n",
       "      <td>4</td>\n",
       "      <td>1995</td>\n",
       "      <td>in response to your response; I read some of the other comments comcerning this movie. And personally i thought that this movie was greatly misinterpreted. This movie (while have some \"man-bashing\" elements) is more about the friendship of four strong real black women who represent a little part of most women in society. I love this movie. I think that it has humor, depth, and presents a very real perspective on love and dating in today's world. And while men might take offense to the representation of the male gender in this movie, I think that it's important to realize that unfaithful, self-absorbed men do exist. However, as we must acknowledge the less moral men of our society, this movie also portrays that good decent men are not a figment of our imagination. With Wesley Snipes and Gregory Hines characters, we see that men are not all callous unfeeling creatures. So basically, I feel that this movie is one to be appreciated and enjoyed. (And in response to one respone that i read. . . One does not CHOOSE who they fall in love with, love just happens. We cannot choose who we love.) Anyways. . .i loved the part where she burned all the clothes too :)</td>\n",
       "    </tr>\n",
       "    <tr>\n",
       "      <th>698</th>\n",
       "      <td>Waiting to Exhale (1995)</td>\n",
       "      <td>Forest Whitaker</td>\n",
       "      <td>Angela Bassett, Loretta Devine, Whitney Houston, Lela Rochon</td>\n",
       "      <td>2.86824</td>\n",
       "      <td>4</td>\n",
       "      <td>1995</td>\n",
       "      <td>Meh.; I got an opportunity to see Waiting To Exhale for the second time recently, the first time shortly after it came out, and now now. I can't say time has improved my thoughts of the film, which is odd, as I seemed to recall really enjoying this the first time it came out. (Maybe I should watch 'Homeward Bound' again, as I LOVED that movie the first time I saw it) The only actress really to impress in this movie is of course the amazing Angela Bassett who growls and hisses every chance she gets! I really liked this character, and I felt for the trials she was going through. The other character I liked was the one played by Loretta Devine, who was cute as the overweight mother who unexpectedly falls in love. I kind of thought the Lela Rachon character was underwritten, and seemed to almost revel in her wantonness. lol. As for Miss Houston, when I was watching her \"act\", well, Chesty Morgan's performance in \"Deadly Weapons\" came to mind for some odd reason, as it appears the acting thing was becoming a struggle, and wasn't going to last for too long.. All in all, I wasn't really disappointed in the film, it just slid off...</td>\n",
       "    </tr>\n",
       "    <tr>\n",
       "      <th>699</th>\n",
       "      <td>Father of the Bride Part II (1995)</td>\n",
       "      <td>Charles Shyer</td>\n",
       "      <td>Steve Martin, Martin Short, Diane Keaton, Kimberly Williams, George Newbern, Kieran Culkin</td>\n",
       "      <td>3.07620</td>\n",
       "      <td>5</td>\n",
       "      <td>1995</td>\n",
       "      <td>The Best Movie of All Time; let me tell you.. anyone who does not like the movie is just a little close minded.. i read comments that thought the movie was too unrealistic but thats what makes it so great! i mean look at other movies such as lord of the rings or star wars neither or them contain true reality.. this is why its a movie. Anyway, i loved Steve martin in this movie. he does a magnificent job of playing the character for an over protective dramatic father. he was the best actor. who could have played the part of Nina as well as Diane Keaton. she makes the part of the mom annoyingly overwhelming mother, which is exactly what the point of us as the audience to think of her. martin short is the best of all \"fra'nk's\". the way he seeks George banks's approval is perfect. and lastly Kimberly Williams is the gorgeous daughter we are all expecting her to be.. i watch this movie every night before bed and i can recite every word to this movie. because of father of the bride II i have dreamed to meet Steve martin.. \"hes my hero!!\" hopefully you fall in love with it too. and dream to be pregnant with your mother as did Annie banks.</td>\n",
       "    </tr>\n",
       "  </tbody>\n",
       "</table>\n",
       "<p>700 rows × 7 columns</p>\n",
       "</div>"
      ],
      "text/plain": [
       "                                  title       directedBy  \\\n",
       "0                      Toy Story (1995)    John Lasseter   \n",
       "1                      Toy Story (1995)    John Lasseter   \n",
       "2                      Toy Story (1995)    John Lasseter   \n",
       "3                      Toy Story (1995)    John Lasseter   \n",
       "4                      Toy Story (1995)    John Lasseter   \n",
       "..                                  ...              ...   \n",
       "695            Waiting to Exhale (1995)  Forest Whitaker   \n",
       "696            Waiting to Exhale (1995)  Forest Whitaker   \n",
       "697            Waiting to Exhale (1995)  Forest Whitaker   \n",
       "698            Waiting to Exhale (1995)  Forest Whitaker   \n",
       "699  Father of the Bride Part II (1995)    Charles Shyer   \n",
       "\n",
       "                                                                                                                                    starring  \\\n",
       "0    Tim Allen, Tom Hanks, Don Rickles, Jim Varney, John Ratzenberger, Wallace Shawn, Laurie Metcalf, John Morris, R. Lee Ermey, Annie Potts   \n",
       "1    Tim Allen, Tom Hanks, Don Rickles, Jim Varney, John Ratzenberger, Wallace Shawn, Laurie Metcalf, John Morris, R. Lee Ermey, Annie Potts   \n",
       "2    Tim Allen, Tom Hanks, Don Rickles, Jim Varney, John Ratzenberger, Wallace Shawn, Laurie Metcalf, John Morris, R. Lee Ermey, Annie Potts   \n",
       "3    Tim Allen, Tom Hanks, Don Rickles, Jim Varney, John Ratzenberger, Wallace Shawn, Laurie Metcalf, John Morris, R. Lee Ermey, Annie Potts   \n",
       "4    Tim Allen, Tom Hanks, Don Rickles, Jim Varney, John Ratzenberger, Wallace Shawn, Laurie Metcalf, John Morris, R. Lee Ermey, Annie Potts   \n",
       "..                                                                                                                                       ...   \n",
       "695                                                                             Angela Bassett, Loretta Devine, Whitney Houston, Lela Rochon   \n",
       "696                                                                             Angela Bassett, Loretta Devine, Whitney Houston, Lela Rochon   \n",
       "697                                                                             Angela Bassett, Loretta Devine, Whitney Houston, Lela Rochon   \n",
       "698                                                                             Angela Bassett, Loretta Devine, Whitney Houston, Lela Rochon   \n",
       "699                                               Steve Martin, Martin Short, Diane Keaton, Kimberly Williams, George Newbern, Kieran Culkin   \n",
       "\n",
       "     avgRating  item_id  Year  \\\n",
       "0      3.89146        1  1995   \n",
       "1      3.89146        1  1995   \n",
       "2      3.89146        1  1995   \n",
       "3      3.89146        1  1995   \n",
       "4      3.89146        1  1995   \n",
       "..         ...      ...   ...   \n",
       "695    2.86824        4  1995   \n",
       "696    2.86824        4  1995   \n",
       "697    2.86824        4  1995   \n",
       "698    2.86824        4  1995   \n",
       "699    3.07620        5  1995   \n",
       "\n",
       "                                                                                                                                                                                                                                                                                                                                                                                                                                                                                                                                                                                                                                                                                                                                                                                                                                                                                                                                                                                                                                                                                                                                                                                                                                                                                                                                                                                                                                                                                                                                                                                                                                                                                                                                                                                                                                                                                                                                                                                                                                                                                                                                                                                                                                                                                                                                                                                                                                                                                                                                                                                                                                                                                                                                                                                                                                                                                                                                                                                                                                                                                                                                                                                                                                                                                                                                                                                             txt  \n",
       "0                                                                                                                                                                                                                                                                                                                                                                                                                                                                                                                                                                                                                                                                                                                                                                                                                                                                                                                                                                                                                                                                                                                                                                                                                                                                                                                                                                                                                                                                                                                                                                                                                                                                                                                                                                                                                                                                                 The one film that started what is now a cliché; I remember it all very well. I was about six years old when this movie came out. I remember the movie being sold out when I saw it and I had to wait to get in to see it. It was well worth the wait, even as a six year old I could realize that. Toy Story was the first fully computer animated movie ever to be made. This was a huge impact in the world of special effects and art. That was part of the reason why this movie was such a huge success. The other reason for the huge success is because of the concept of the movie. Where else can you find a movie where toys come to life and have their own world inside of a little boy's room. This is one of the first movies to have that type of story. The other computer animated movies to follow Toy Story are A Bug's Life, Antz, Toy Story 2, Shrek, Monster's Inc., Ice Age, Shrek 2, The Incredibles, The Polar Express, and Shark Tale. After seeing Shark Tale, I figured out that computer animated films are starting to become a cliché. However, the Pixar movies are really good. The voice work in Toy Story is also really good. Tom Hanks and Tim Allen are the perfect voices to fit the characters of this movie. This was also a part of Tim Allen's big uprising in the '90's. Every kid should see this, most kids that I know like this movie. Anybody else who somehow hasn't seen this should also see it to see where the animated films of today got started from.  \n",
       "1                                                                                                                                                                                                                                                                                                                                                                                                                                                                                                                                                                                                                                                                                                                                                                                                                                                                                                                                                                                                                                                                                                                                                                                                                                                                                                                                                                                                                                                                                                                                                                                                                                                                                                                                                                                                                                                                                                                                                                                                                                                                                                                                                                                                                                                                                                                                                                                                                                                                                                                                                                                                                                                             One of the greatest animated movies ever created!; I don't want to be biast, but Toy Story is one of the greatest animated movies ever created. I first watched this movie at about 2-4 years old, and I loved this movie. The storyline is excellently written, and always gets me laughing! The animation in this movie is incredible! As a computer animated film it was well ahead of its era (at least I think). Also, it was the first feature length film that was fully animated, and to this day is one of the best. With the success of this film it was no wonder they made a sequel, one that i enjoyed a lot! Also, I have heard that Pixar have announced Toy Story 3, and it will be a movie I will definitely see!  \n",
       "2                                                                                                                                                                                                                                                                                                                                                                                                                                                                                                                                                                                                                                                                                                                                                                                                                                                                                                                                                                                                                                                                                                                                                                                                                                                                                                                                                                                                                                                                                                                                                                                                                                                                                                                                                                                                                                                                                                                                                                                                                                                                                                                                                                                                                                                                                                                                                                         Toy Story 1; I have to give Toy Story 1 an 8 b/c even though I am a grown adult, I love all types of Disney movies but this one nearly tops the charts. Toy Story 2 on the other hand gets a 2, it was the most boring movie there ever was... actually kind of depressing to. Granted Toy Story 1 was extremely good it's just not a movie they should have came out with a sequel to. I am currently searching for pictures (scenes) from the movie because of my screen name I would like to find pictures of buzz with the pink hat on portraying Misses Nesbit. If anyone has these pictures could you please reply? I also believe that Toy Story 1 was the best movie because of the cool graphic's. I think that Disney done an exceptional job on the movie in parts where the Pizza Planet scene was taken because of the reality of the crane machine and the little green aliens. Also the kids in the scenes looked very real to, even though I think the mother of Andy had way to much animation in it.  \n",
       "3                                                                                                                                                                                                                                                                                                                                                                                                                                                                                                                                                                                                                                                                                                                                                                                                                                                                                                                                                                                                                                                                                                                                                                                                                                                                                                                                                                                                                                                                                                                                                                                                                                                                                                                                                                                                                                                                                                                                                                                                                                                                                                                                                                                                                                                                                                                                                                                                                                                                                                                                                                                                                                                                                                                      Best!; This is a cartoon but not only for children, anybody can enjoy this wonderful movie. This movie was rated 'classic' because of the beautiful computer graphics, good voice acting and the exciting plot. The memorable and funny characters like \"Mr. Potato Head\" and Buzz Light Year, I will never forget them. Toy Story is the first movie made with computers and not using real-life actors, computers were not common when Toy Story on show, it was a great success. The story was good, for a lot of us are fascinated by talking toys and what it might be like if they really existed. It gave us many imagination. This is the best movie I ever seen!  \n",
       "4    A delight!; Kids have always wondered if their toys ever came to life when they were asleep and if the toys themselves had lives of their own by doing the same things that humans do. Toy Story is the first film from Pixar Studios to make cartoons more humanistic with CGI than by drawing them out. Tom Hanks provides the voice of Woody the Cowboy, who is the ringleader of the toys around Andy's room. He overhears the important events around Andy's life and one of the things shocking is that they are moving to another home. Most of Andy's toys are compiled of average boy toys: from a nervous dinosaur name Rex (Wallace Shawn) to a grumpy Mr. Potato Head (Don Rickels), a smart Aleck piggy bank called Hamm (John Ratzenburg); even Andy's little sister has toys that join with the gang, Bo Peep (Annie Potts of \"Ghostbusters\" fame) has a crush on the cowboy. There are other characters in the story; a dog on a string name Slinky Dog (Jim Varney of \"Ernest\" fame) and a plastic army doll name Sarge (R. Lee Ermey of Full Metal Jacket). One of the elements of \"Toy Story\" is very psychological, and that is the fear of a new toy. Sure everybody likes to get a new toy, but the problem is that when people buy new toys, they automatically forget that their old toys exist and lose excitement within them. When Andy's birthday party comes a week before the leave, Woody sends Sarge and the plastic army men with the baby talkers to hear what kind of presents Andy has gotten this year. As Mr. Potato jokes that he wants a wife, the gang gets cut off by a nervous Rex and realize that the toys have to stay still. The new toy in Andy's life is the popular and all out, Buzz Lightyear (voiced by Tim Allen) in which he pushes Woody to the side leaving the new toy on the bed. Everybody clamors over Woody being pushed off the bed as every other toy in the room tries to figure out what's up there. Woody is introduced to the new character as he tells everyone he can fly and fire a high laser. A smart-ass Potato Head makes a statement about Woody's voice box that it sounds a car ran over it. Days before the move, Woody is left out of the group as everybody including Bo Peep are all with Buzz Lightyear. Woody has a plan of getting rid of Buzz and he uses an electric race-car to push him out the window. Now every toy is against Woody and want to beat him up; but Andy saves Woody when him and the rest of his family are going out for pizza and can't find Buzz, so Andy takes the cowboy instead. With little relief, when the car stops at a gas station, Buzz has been hiding under the car and fights with Woody outside; suddenly the car leaves with both toys stranded. Buzz has a plan for both him and Woody to get back with Andy; they get into a pizza truck and try to find Andy and his family and notices that the neighborhood bully Sid is there so the toys hide in a toy machine where they are taken with another toy back to Sid's house where one toy is torture to death (relax, its not the main toys). So now they have to work together in order to be with Andy and tell the other toys that everything is all right. \"Toy Story\" is a blessing with delight and wonder and just like my review of \"Monsters, Inc.\" it's a movie of curiosity and a joy to behold.  \n",
       "..                                                                                                                                                                                                                                                                                                                                                                                                                                                                                                                                                                                                                                                                                                                                                                                                                                                                                                                                                                                                                                                                                                                                                                                                                                                                                                                                                                                                                                                                                                                                                                                                                                                                                                                                                                                                                                                                                                                                                                                                                                                                                                                                                                                                                                                                                                                                                                                                                                                                                                                                                                                                                                                                                                                                                                                                                                                                                                                                                                                                                                                                                                                                                                                                                                                                                                                                                                                           ...  \n",
       "695                                                                                                                                                                                                                                                                                                                                                                                                                                                                                                                                                                                                                                                                                                                                                                                                                                                                                                                                                                                                                                                                                                                                                                                                                                                                                                                                                                                                                                                                                                                                                                                                                                                                                                                                                                                                                                                                                                                                                                                                                                                                                                                                                                                                                                                                                                                                                                                                                                                                                                                                                                                                                                                                                                                                                                                                                                                                                                                                                                                                                                                                                                        pure unadulterated drivel; do you read harlequin romances? danielle steel? do you in cessantly read women's magazines to find out  how to please your man? do you hinge all happiness on having a man in your life? is your IQ equivalent to your age? then you will love this movie.  \n",
       "696                                                                                                                                                                                                                                                                                                                                                                                                                                                                                                                                                                                                                                                                                                                                                                                                                                                                                                                                                                                                                                                                                                                                                                                                                                                                                                                                                                                                                                                                                                                                                                                                                                                                                                                                                                                                                                                                                                                     Hot Soundtrack, Terrible Character Development; Waiting to Exhale is guided thoroughly by a hot soundtrack from beginning to end.  It is also complimented by sharply shot scenes and attractive locales.  However, much of this is wasted on poor character development.  Without likeable characters, this plot sinks quickly and doesn't recover.  What should be shown is complex identities that the women have, but instead viewers are shown superficial confusions of the women which makes them out to be dumb and non-rational leading ladies.  While the movie is supposed to highlight the women, and have males as supporting characters, the plot so demonized the men that even the \"nice\" men such as Gregory Hines and Wesley Snipes seem entirely out of place and more token goodness than believeable characters. Worst of all, were some vastly misplaced and undesirable scenes, which I honestly hope were either more deeply probed in the book, or not part of the book at all.  For instance, why was the fact that Gloria's former man is gay/bi-sexual even remotely important to this script.  Clearly the answer is that it isn't.  Gloria's character did not need that type of nonsense to provide a background that she could work with.  Why the director didn't see this, I don't know. Weak film, waste of acting talent by wonderful actresses like Angela Bassett, and a brutal waste of an excellent soundtrack by Babyface. 4/10  \n",
       "697                                                                                                                                                                                                                                                                                                                                                                                                                                                                                                                                                                                                                                                                                                                                                                                                                                                                                                                                                                                                                                                                                                                                                                                                                                                                                                                                                                                                                                                                                                                                                                                                                                                                                                                                                                                                                                                                                                                                                                                                                                                                                                                                                                           in response to your response; I read some of the other comments comcerning this movie. And personally i thought that this movie was greatly misinterpreted. This movie (while have some \"man-bashing\" elements) is more about the friendship of four strong real black women who represent a little part of most women in society. I love this movie. I think that it has humor, depth, and presents a very real perspective on love and dating in today's world. And while men might take offense to the representation of the male gender in this movie, I think that it's important to realize that unfaithful, self-absorbed men do exist. However, as we must acknowledge the less moral men of our society, this movie also portrays that good decent men are not a figment of our imagination. With Wesley Snipes and Gregory Hines characters, we see that men are not all callous unfeeling creatures. So basically, I feel that this movie is one to be appreciated and enjoyed. (And in response to one respone that i read. . . One does not CHOOSE who they fall in love with, love just happens. We cannot choose who we love.) Anyways. . .i loved the part where she burned all the clothes too :)  \n",
       "698                                                                                                                                                                                                                                                                                                                                                                                                                                                                                                                                                                                                                                                                                                                                                                                                                                                                                                                                                                                                                                                                                                                                                                                                                                                                                                                                                                                                                                                                                                                                                                                                                                                                                                                                                                                                                                                                                                                                                                                                                                                                                                                                                                                                       Meh.; I got an opportunity to see Waiting To Exhale for the second time recently, the first time shortly after it came out, and now now. I can't say time has improved my thoughts of the film, which is odd, as I seemed to recall really enjoying this the first time it came out. (Maybe I should watch 'Homeward Bound' again, as I LOVED that movie the first time I saw it) The only actress really to impress in this movie is of course the amazing Angela Bassett who growls and hisses every chance she gets! I really liked this character, and I felt for the trials she was going through. The other character I liked was the one played by Loretta Devine, who was cute as the overweight mother who unexpectedly falls in love. I kind of thought the Lela Rachon character was underwritten, and seemed to almost revel in her wantonness. lol. As for Miss Houston, when I was watching her \"act\", well, Chesty Morgan's performance in \"Deadly Weapons\" came to mind for some odd reason, as it appears the acting thing was becoming a struggle, and wasn't going to last for too long.. All in all, I wasn't really disappointed in the film, it just slid off...  \n",
       "699                                                                                                                                                                                                                                                                                                                                                                                                                                                                                                                                                                                                                                                                                                                                                                                                                                                                                                                                                                                                                                                                                                                                                                                                                                                                                                                                                                                                                                                                                                                                                                                                                                                                                                                                                                                                                                                                                                                                                                                                                                                                                                                                                                                               The Best Movie of All Time; let me tell you.. anyone who does not like the movie is just a little close minded.. i read comments that thought the movie was too unrealistic but thats what makes it so great! i mean look at other movies such as lord of the rings or star wars neither or them contain true reality.. this is why its a movie. Anyway, i loved Steve martin in this movie. he does a magnificent job of playing the character for an over protective dramatic father. he was the best actor. who could have played the part of Nina as well as Diane Keaton. she makes the part of the mom annoyingly overwhelming mother, which is exactly what the point of us as the audience to think of her. martin short is the best of all \"fra'nk's\". the way he seeks George banks's approval is perfect. and lastly Kimberly Williams is the gorgeous daughter we are all expecting her to be.. i watch this movie every night before bed and i can recite every word to this movie. because of father of the bride II i have dreamed to meet Steve martin.. \"hes my hero!!\" hopefully you fall in love with it too. and dream to be pregnant with your mother as did Annie banks.  \n",
       "\n",
       "[700 rows x 7 columns]"
      ]
     },
     "execution_count": 95,
     "metadata": {},
     "output_type": "execute_result"
    }
   ],
   "source": [
    "movies_df.head(700)"
   ]
  },
  {
   "cell_type": "code",
   "execution_count": null,
   "id": "222fb155",
   "metadata": {},
   "outputs": [],
   "source": []
  }
 ],
 "metadata": {
  "kernelspec": {
   "display_name": "capstone",
   "language": "python",
   "name": "capstone"
  },
  "language_info": {
   "codemirror_mode": {
    "name": "ipython",
    "version": 3
   },
   "file_extension": ".py",
   "mimetype": "text/x-python",
   "name": "python",
   "nbconvert_exporter": "python",
   "pygments_lexer": "ipython3",
   "version": "3.9.13"
  }
 },
 "nbformat": 4,
 "nbformat_minor": 5
}

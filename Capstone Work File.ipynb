{
 "cells": [
  {
   "cell_type": "code",
   "execution_count": 1,
   "id": "5f75e8da",
   "metadata": {},
   "outputs": [],
   "source": [
    "import pandas as pd\n",
    "import numpy as np\n",
    "import matplotlib.pyplot as plt\n",
    "import seaborn as sns\n",
    "\n",
    "from sklearn.model_selection import train_test_split\n",
    "from sklearn.preprocessing import OneHotEncoder\n",
    "\n",
    "from sklearn.feature_extraction.text import CountVectorizer\n",
    "from sklearn.feature_extraction.text import TfidfVectorizer\n",
    "import nltk\n",
    "\n",
    "\n",
    "import warnings\n",
    "warnings.filterwarnings('ignore')\n",
    "\n",
    "pd.set_option('display.max_colwidth',100000000)"
   ]
  },
  {
   "cell_type": "markdown",
   "id": "d2c811f7",
   "metadata": {},
   "source": [
    "### Data Dictionary (Will edit later)\n",
    "\n",
    "\n",
    "raw/metadata.json\n",
    "--------\n",
    "The file contains information about movies from MovieLens - 84,661 lines of json objects that have the following fields:\n",
    "\n",
    "title – movie title (84,484 unique titles)\n",
    "\n",
    "directedBy – directors separated by comma (‘,’)\n",
    "\n",
    "starring – actors separated by comma (‘,’)\n",
    "\n",
    "dateAdded – date, when the movie was added to MovieLens\n",
    "\n",
    "avgRating – average rating of a movie, scale of 0.5 to 5\n",
    "\n",
    "imdbId – movie id on the IMDB website (84,661 unique ids)\n",
    "\n",
    "item_id – movie id, which is consistent across files (84,661 unique ids)\n",
    "\n",
    "Example line:\n",
    "{\"title\": \"Toy Story (1995)\", \"directedBy\": \"John Lasseter\", \"starring\": \"Tim Allen, Tom Hanks, Don Rickles, Jim Varney, John Ratzenberger, Wallace Shawn, Laurie Metcalf, John Morris, R. Lee Ermey, Annie Potts\", \"dateAdded\": null, \"avgRating\": 3.89146, \"imdbId\": \"0114709\", \"item_id\": 1}\n",
    "\n",
    "\n",
    "raw/reviews.json\n",
    "--------\n",
    "The file contains 2,624,608 lines of movie reviews collected from the IMDB website. The json objects have the following fields:\n",
    "\n",
    "item_id – movie id (52,081 unique ids)\n",
    "\n",
    "txt – review text\n",
    "\n",
    "Example line:\n",
    "{\"item_id\": 172063, \"txt\": \"one-shot record of a belly dancer; \\\"Carmencita Dancing,\\\" one of a series of Edison short films featuring \\r circus and vaudeville acts, displayed the... um... \\\"talents\\\" of a zaftig belly-dancer who agreed to undulate before the camera of the famous \\\"Black \\r Maria\\\" studio. \\r \\r The dance was originally intended to be played in a Kinetoscope, a single -person arcade viewer connected to Edison's more famous invention, the phonograph. Through a pair of crude headphones, the latter device supplied an asynchronous soundtrack of \\\"hootchie-cootchie\\\" music. \\r \\r The Kinetograph camera here employed is so new -- even to its inventors \\r -- that director Dickson has drastically \\\"overcranked\\\" the film, unintentionally producing one of the first examples of slow-motion.\\r \\r Carmencita's titillating movements were considered by many to be \\r scandalous. Thus, the film prompted some of the earliest discussions of film censorship.\"}"
   ]
  },
  {
   "cell_type": "markdown",
   "id": "01190d2e",
   "metadata": {},
   "source": [
    "### Movies"
   ]
  },
  {
   "cell_type": "code",
   "execution_count": 2,
   "id": "b3605979",
   "metadata": {},
   "outputs": [],
   "source": [
    "metadata_raw = pd.read_json(r\"C:\\Users\\micha\\OneDrive\\Desktop\\Capstone\\movie_dataset_public_final\\raw\\metadata.json\", lines=True)"
   ]
  },
  {
   "cell_type": "code",
   "execution_count": 3,
   "id": "c9107a4e",
   "metadata": {
    "scrolled": true
   },
   "outputs": [
    {
     "data": {
      "text/html": [
       "<div>\n",
       "<style scoped>\n",
       "    .dataframe tbody tr th:only-of-type {\n",
       "        vertical-align: middle;\n",
       "    }\n",
       "\n",
       "    .dataframe tbody tr th {\n",
       "        vertical-align: top;\n",
       "    }\n",
       "\n",
       "    .dataframe thead th {\n",
       "        text-align: right;\n",
       "    }\n",
       "</style>\n",
       "<table border=\"1\" class=\"dataframe\">\n",
       "  <thead>\n",
       "    <tr style=\"text-align: right;\">\n",
       "      <th></th>\n",
       "      <th>title</th>\n",
       "      <th>directedBy</th>\n",
       "      <th>starring</th>\n",
       "      <th>dateAdded</th>\n",
       "      <th>avgRating</th>\n",
       "      <th>imdbId</th>\n",
       "      <th>item_id</th>\n",
       "    </tr>\n",
       "  </thead>\n",
       "  <tbody>\n",
       "    <tr>\n",
       "      <th>0</th>\n",
       "      <td>Toy Story (1995)</td>\n",
       "      <td>John Lasseter</td>\n",
       "      <td>Tim Allen, Tom Hanks, Don Rickles, Jim Varney, John Ratzenberger, Wallace Shawn, Laurie Metcalf, John Morris, R. Lee Ermey, Annie Potts</td>\n",
       "      <td>None</td>\n",
       "      <td>3.89146</td>\n",
       "      <td>114709</td>\n",
       "      <td>1</td>\n",
       "    </tr>\n",
       "    <tr>\n",
       "      <th>1</th>\n",
       "      <td>Jumanji (1995)</td>\n",
       "      <td>Joe Johnston</td>\n",
       "      <td>Jonathan Hyde, Bradley Pierce, Robin Williams, Kirsten Dunst</td>\n",
       "      <td>None</td>\n",
       "      <td>3.26605</td>\n",
       "      <td>113497</td>\n",
       "      <td>2</td>\n",
       "    </tr>\n",
       "    <tr>\n",
       "      <th>2</th>\n",
       "      <td>Grumpier Old Men (1995)</td>\n",
       "      <td>Howard Deutch</td>\n",
       "      <td>Jack Lemmon, Walter Matthau, Ann-Margret , Sophia Loren</td>\n",
       "      <td>None</td>\n",
       "      <td>3.17146</td>\n",
       "      <td>113228</td>\n",
       "      <td>3</td>\n",
       "    </tr>\n",
       "    <tr>\n",
       "      <th>3</th>\n",
       "      <td>Waiting to Exhale (1995)</td>\n",
       "      <td>Forest Whitaker</td>\n",
       "      <td>Angela Bassett, Loretta Devine, Whitney Houston, Lela Rochon</td>\n",
       "      <td>None</td>\n",
       "      <td>2.86824</td>\n",
       "      <td>114885</td>\n",
       "      <td>4</td>\n",
       "    </tr>\n",
       "    <tr>\n",
       "      <th>4</th>\n",
       "      <td>Father of the Bride Part II (1995)</td>\n",
       "      <td>Charles Shyer</td>\n",
       "      <td>Steve Martin, Martin Short, Diane Keaton, Kimberly Williams, George Newbern, Kieran Culkin</td>\n",
       "      <td>None</td>\n",
       "      <td>3.07620</td>\n",
       "      <td>113041</td>\n",
       "      <td>5</td>\n",
       "    </tr>\n",
       "  </tbody>\n",
       "</table>\n",
       "</div>"
      ],
      "text/plain": [
       "                                title       directedBy  \\\n",
       "0                    Toy Story (1995)    John Lasseter   \n",
       "1                      Jumanji (1995)     Joe Johnston   \n",
       "2             Grumpier Old Men (1995)    Howard Deutch   \n",
       "3            Waiting to Exhale (1995)  Forest Whitaker   \n",
       "4  Father of the Bride Part II (1995)    Charles Shyer   \n",
       "\n",
       "                                                                                                                                  starring  \\\n",
       "0  Tim Allen, Tom Hanks, Don Rickles, Jim Varney, John Ratzenberger, Wallace Shawn, Laurie Metcalf, John Morris, R. Lee Ermey, Annie Potts   \n",
       "1                                                                             Jonathan Hyde, Bradley Pierce, Robin Williams, Kirsten Dunst   \n",
       "2                                                                                  Jack Lemmon, Walter Matthau, Ann-Margret , Sophia Loren   \n",
       "3                                                                             Angela Bassett, Loretta Devine, Whitney Houston, Lela Rochon   \n",
       "4                                               Steve Martin, Martin Short, Diane Keaton, Kimberly Williams, George Newbern, Kieran Culkin   \n",
       "\n",
       "  dateAdded  avgRating  imdbId  item_id  \n",
       "0      None    3.89146  114709        1  \n",
       "1      None    3.26605  113497        2  \n",
       "2      None    3.17146  113228        3  \n",
       "3      None    2.86824  114885        4  \n",
       "4      None    3.07620  113041        5  "
      ]
     },
     "execution_count": 3,
     "metadata": {},
     "output_type": "execute_result"
    }
   ],
   "source": [
    "metadata_raw.head()"
   ]
  },
  {
   "cell_type": "code",
   "execution_count": 4,
   "id": "42ba6782",
   "metadata": {
    "scrolled": true
   },
   "outputs": [
    {
     "data": {
      "text/plain": [
       "(84661, 7)"
      ]
     },
     "execution_count": 4,
     "metadata": {},
     "output_type": "execute_result"
    }
   ],
   "source": [
    "metadata_raw.shape"
   ]
  },
  {
   "cell_type": "code",
   "execution_count": 5,
   "id": "be78bf89",
   "metadata": {},
   "outputs": [],
   "source": [
    "metadata_raw = metadata_raw.replace(r'^\\s*$', pd.np.nan, regex=True)\n",
    "\n"
   ]
  },
  {
   "cell_type": "code",
   "execution_count": 6,
   "id": "b31380c6",
   "metadata": {
    "scrolled": true
   },
   "outputs": [
    {
     "name": "stdout",
     "output_type": "stream",
     "text": [
      "<class 'pandas.core.frame.DataFrame'>\n",
      "RangeIndex: 84661 entries, 0 to 84660\n",
      "Data columns (total 7 columns):\n",
      " #   Column      Non-Null Count  Dtype  \n",
      "---  ------      --------------  -----  \n",
      " 0   title       84661 non-null  object \n",
      " 1   directedBy  81511 non-null  object \n",
      " 2   starring    77778 non-null  object \n",
      " 3   dateAdded   78143 non-null  object \n",
      " 4   avgRating   84661 non-null  float64\n",
      " 5   imdbId      84661 non-null  int64  \n",
      " 6   item_id     84661 non-null  int64  \n",
      "dtypes: float64(1), int64(2), object(4)\n",
      "memory usage: 4.5+ MB\n"
     ]
    }
   ],
   "source": [
    "# only missing info from dateAdded\n",
    "metadata_raw.info()"
   ]
  },
  {
   "cell_type": "code",
   "execution_count": 7,
   "id": "ace5905f",
   "metadata": {},
   "outputs": [],
   "source": [
    "# Date added is not the same as year release date, imdbID is not used to join any columns, can drop\n",
    "metadata_raw.drop(columns=['dateAdded', 'imdbId'], inplace=True)  "
   ]
  },
  {
   "cell_type": "code",
   "execution_count": 8,
   "id": "bb4459f0",
   "metadata": {},
   "outputs": [],
   "source": [
    "# Drop all rows that contain NaN values\n",
    "metadata_raw = metadata_raw.dropna()\n"
   ]
  },
  {
   "cell_type": "code",
   "execution_count": 9,
   "id": "3f946795",
   "metadata": {
    "scrolled": true
   },
   "outputs": [
    {
     "data": {
      "text/plain": [
       "title         0.0\n",
       "directedBy    0.0\n",
       "starring      0.0\n",
       "avgRating     0.0\n",
       "item_id       0.0\n",
       "dtype: float64"
      ]
     },
     "execution_count": 9,
     "metadata": {},
     "output_type": "execute_result"
    }
   ],
   "source": [
    "# roughly 15% of data is not clean\n",
    "# Date added is not release date, can drop\n",
    "metadata_raw.isna().sum(axis=0) / metadata_raw.shape[0]*100"
   ]
  },
  {
   "cell_type": "code",
   "execution_count": 10,
   "id": "cb7cbc12",
   "metadata": {
    "scrolled": false
   },
   "outputs": [
    {
     "data": {
      "text/plain": [
       "0"
      ]
     },
     "execution_count": 10,
     "metadata": {},
     "output_type": "execute_result"
    }
   ],
   "source": [
    "## No duplicate entries, good \n",
    "metadata_raw.duplicated().sum()"
   ]
  },
  {
   "cell_type": "code",
   "execution_count": 11,
   "id": "d0d13c1d",
   "metadata": {},
   "outputs": [],
   "source": [
    "metadata_raw['Year'] = metadata_raw['title'].str.extract(r'\\((\\d{4})\\)$')"
   ]
  },
  {
   "cell_type": "code",
   "execution_count": 12,
   "id": "f8c9f4c7",
   "metadata": {
    "scrolled": false
   },
   "outputs": [
    {
     "data": {
      "text/html": [
       "<div>\n",
       "<style scoped>\n",
       "    .dataframe tbody tr th:only-of-type {\n",
       "        vertical-align: middle;\n",
       "    }\n",
       "\n",
       "    .dataframe tbody tr th {\n",
       "        vertical-align: top;\n",
       "    }\n",
       "\n",
       "    .dataframe thead th {\n",
       "        text-align: right;\n",
       "    }\n",
       "</style>\n",
       "<table border=\"1\" class=\"dataframe\">\n",
       "  <thead>\n",
       "    <tr style=\"text-align: right;\">\n",
       "      <th></th>\n",
       "      <th>title</th>\n",
       "      <th>directedBy</th>\n",
       "      <th>starring</th>\n",
       "      <th>avgRating</th>\n",
       "      <th>item_id</th>\n",
       "      <th>Year</th>\n",
       "    </tr>\n",
       "  </thead>\n",
       "  <tbody>\n",
       "    <tr>\n",
       "      <th>0</th>\n",
       "      <td>Toy Story (1995)</td>\n",
       "      <td>John Lasseter</td>\n",
       "      <td>Tim Allen, Tom Hanks, Don Rickles, Jim Varney, John Ratzenberger, Wallace Shawn, Laurie Metcalf, John Morris, R. Lee Ermey, Annie Potts</td>\n",
       "      <td>3.89146</td>\n",
       "      <td>1</td>\n",
       "      <td>1995</td>\n",
       "    </tr>\n",
       "    <tr>\n",
       "      <th>1</th>\n",
       "      <td>Jumanji (1995)</td>\n",
       "      <td>Joe Johnston</td>\n",
       "      <td>Jonathan Hyde, Bradley Pierce, Robin Williams, Kirsten Dunst</td>\n",
       "      <td>3.26605</td>\n",
       "      <td>2</td>\n",
       "      <td>1995</td>\n",
       "    </tr>\n",
       "    <tr>\n",
       "      <th>2</th>\n",
       "      <td>Grumpier Old Men (1995)</td>\n",
       "      <td>Howard Deutch</td>\n",
       "      <td>Jack Lemmon, Walter Matthau, Ann-Margret , Sophia Loren</td>\n",
       "      <td>3.17146</td>\n",
       "      <td>3</td>\n",
       "      <td>1995</td>\n",
       "    </tr>\n",
       "    <tr>\n",
       "      <th>3</th>\n",
       "      <td>Waiting to Exhale (1995)</td>\n",
       "      <td>Forest Whitaker</td>\n",
       "      <td>Angela Bassett, Loretta Devine, Whitney Houston, Lela Rochon</td>\n",
       "      <td>2.86824</td>\n",
       "      <td>4</td>\n",
       "      <td>1995</td>\n",
       "    </tr>\n",
       "    <tr>\n",
       "      <th>4</th>\n",
       "      <td>Father of the Bride Part II (1995)</td>\n",
       "      <td>Charles Shyer</td>\n",
       "      <td>Steve Martin, Martin Short, Diane Keaton, Kimberly Williams, George Newbern, Kieran Culkin</td>\n",
       "      <td>3.07620</td>\n",
       "      <td>5</td>\n",
       "      <td>1995</td>\n",
       "    </tr>\n",
       "  </tbody>\n",
       "</table>\n",
       "</div>"
      ],
      "text/plain": [
       "                                title       directedBy  \\\n",
       "0                    Toy Story (1995)    John Lasseter   \n",
       "1                      Jumanji (1995)     Joe Johnston   \n",
       "2             Grumpier Old Men (1995)    Howard Deutch   \n",
       "3            Waiting to Exhale (1995)  Forest Whitaker   \n",
       "4  Father of the Bride Part II (1995)    Charles Shyer   \n",
       "\n",
       "                                                                                                                                  starring  \\\n",
       "0  Tim Allen, Tom Hanks, Don Rickles, Jim Varney, John Ratzenberger, Wallace Shawn, Laurie Metcalf, John Morris, R. Lee Ermey, Annie Potts   \n",
       "1                                                                             Jonathan Hyde, Bradley Pierce, Robin Williams, Kirsten Dunst   \n",
       "2                                                                                  Jack Lemmon, Walter Matthau, Ann-Margret , Sophia Loren   \n",
       "3                                                                             Angela Bassett, Loretta Devine, Whitney Houston, Lela Rochon   \n",
       "4                                               Steve Martin, Martin Short, Diane Keaton, Kimberly Williams, George Newbern, Kieran Culkin   \n",
       "\n",
       "   avgRating  item_id  Year  \n",
       "0    3.89146        1  1995  \n",
       "1    3.26605        2  1995  \n",
       "2    3.17146        3  1995  \n",
       "3    2.86824        4  1995  \n",
       "4    3.07620        5  1995  "
      ]
     },
     "execution_count": 12,
     "metadata": {},
     "output_type": "execute_result"
    }
   ],
   "source": [
    "metadata_raw.head()"
   ]
  },
  {
   "cell_type": "code",
   "execution_count": 13,
   "id": "098e638a",
   "metadata": {},
   "outputs": [
    {
     "data": {
      "text/plain": [
       "title         0.00000\n",
       "directedBy    0.00000\n",
       "starring      0.00000\n",
       "avgRating     0.00000\n",
       "item_id       0.00000\n",
       "Year          0.53443\n",
       "dtype: float64"
      ]
     },
     "execution_count": 13,
     "metadata": {},
     "output_type": "execute_result"
    }
   ],
   "source": [
    "# Year gets dropped down to 1 Percent missing\n",
    "metadata_raw.isna().sum(axis=0) / metadata_raw.shape[0]*100"
   ]
  },
  {
   "cell_type": "code",
   "execution_count": 14,
   "id": "bbcb95d4",
   "metadata": {},
   "outputs": [],
   "source": [
    "# Change Data type so it's numerical\n",
    "metadata_raw['Year'] = metadata_raw['Year'].astype('Int64')"
   ]
  },
  {
   "cell_type": "code",
   "execution_count": 15,
   "id": "23bfd932",
   "metadata": {},
   "outputs": [
    {
     "name": "stdout",
     "output_type": "stream",
     "text": [
      "<class 'pandas.core.frame.DataFrame'>\n",
      "Int64Index: 76343 entries, 0 to 84659\n",
      "Data columns (total 6 columns):\n",
      " #   Column      Non-Null Count  Dtype  \n",
      "---  ------      --------------  -----  \n",
      " 0   title       76343 non-null  object \n",
      " 1   directedBy  76343 non-null  object \n",
      " 2   starring    76343 non-null  object \n",
      " 3   avgRating   76343 non-null  float64\n",
      " 4   item_id     76343 non-null  int64  \n",
      " 5   Year        75935 non-null  Int64  \n",
      "dtypes: Int64(1), float64(1), int64(1), object(3)\n",
      "memory usage: 4.1+ MB\n"
     ]
    }
   ],
   "source": [
    "metadata_raw.info()"
   ]
  },
  {
   "cell_type": "code",
   "execution_count": 16,
   "id": "0772b3cc",
   "metadata": {},
   "outputs": [
    {
     "data": {
      "text/html": [
       "<div>\n",
       "<style scoped>\n",
       "    .dataframe tbody tr th:only-of-type {\n",
       "        vertical-align: middle;\n",
       "    }\n",
       "\n",
       "    .dataframe tbody tr th {\n",
       "        vertical-align: top;\n",
       "    }\n",
       "\n",
       "    .dataframe thead th {\n",
       "        text-align: right;\n",
       "    }\n",
       "</style>\n",
       "<table border=\"1\" class=\"dataframe\">\n",
       "  <thead>\n",
       "    <tr style=\"text-align: right;\">\n",
       "      <th></th>\n",
       "      <th>title</th>\n",
       "      <th>directedBy</th>\n",
       "      <th>starring</th>\n",
       "      <th>avgRating</th>\n",
       "      <th>item_id</th>\n",
       "      <th>Year</th>\n",
       "    </tr>\n",
       "  </thead>\n",
       "  <tbody>\n",
       "    <tr>\n",
       "      <th>0</th>\n",
       "      <td>Toy Story (1995)</td>\n",
       "      <td>John Lasseter</td>\n",
       "      <td>Tim Allen, Tom Hanks, Don Rickles, Jim Varney, John Ratzenberger, Wallace Shawn, Laurie Metcalf, John Morris, R. Lee Ermey, Annie Potts</td>\n",
       "      <td>3.89146</td>\n",
       "      <td>1</td>\n",
       "      <td>1995</td>\n",
       "    </tr>\n",
       "    <tr>\n",
       "      <th>1</th>\n",
       "      <td>Jumanji (1995)</td>\n",
       "      <td>Joe Johnston</td>\n",
       "      <td>Jonathan Hyde, Bradley Pierce, Robin Williams, Kirsten Dunst</td>\n",
       "      <td>3.26605</td>\n",
       "      <td>2</td>\n",
       "      <td>1995</td>\n",
       "    </tr>\n",
       "    <tr>\n",
       "      <th>2</th>\n",
       "      <td>Grumpier Old Men (1995)</td>\n",
       "      <td>Howard Deutch</td>\n",
       "      <td>Jack Lemmon, Walter Matthau, Ann-Margret , Sophia Loren</td>\n",
       "      <td>3.17146</td>\n",
       "      <td>3</td>\n",
       "      <td>1995</td>\n",
       "    </tr>\n",
       "    <tr>\n",
       "      <th>3</th>\n",
       "      <td>Waiting to Exhale (1995)</td>\n",
       "      <td>Forest Whitaker</td>\n",
       "      <td>Angela Bassett, Loretta Devine, Whitney Houston, Lela Rochon</td>\n",
       "      <td>2.86824</td>\n",
       "      <td>4</td>\n",
       "      <td>1995</td>\n",
       "    </tr>\n",
       "    <tr>\n",
       "      <th>4</th>\n",
       "      <td>Father of the Bride Part II (1995)</td>\n",
       "      <td>Charles Shyer</td>\n",
       "      <td>Steve Martin, Martin Short, Diane Keaton, Kimberly Williams, George Newbern, Kieran Culkin</td>\n",
       "      <td>3.07620</td>\n",
       "      <td>5</td>\n",
       "      <td>1995</td>\n",
       "    </tr>\n",
       "  </tbody>\n",
       "</table>\n",
       "</div>"
      ],
      "text/plain": [
       "                                title       directedBy  \\\n",
       "0                    Toy Story (1995)    John Lasseter   \n",
       "1                      Jumanji (1995)     Joe Johnston   \n",
       "2             Grumpier Old Men (1995)    Howard Deutch   \n",
       "3            Waiting to Exhale (1995)  Forest Whitaker   \n",
       "4  Father of the Bride Part II (1995)    Charles Shyer   \n",
       "\n",
       "                                                                                                                                  starring  \\\n",
       "0  Tim Allen, Tom Hanks, Don Rickles, Jim Varney, John Ratzenberger, Wallace Shawn, Laurie Metcalf, John Morris, R. Lee Ermey, Annie Potts   \n",
       "1                                                                             Jonathan Hyde, Bradley Pierce, Robin Williams, Kirsten Dunst   \n",
       "2                                                                                  Jack Lemmon, Walter Matthau, Ann-Margret , Sophia Loren   \n",
       "3                                                                             Angela Bassett, Loretta Devine, Whitney Houston, Lela Rochon   \n",
       "4                                               Steve Martin, Martin Short, Diane Keaton, Kimberly Williams, George Newbern, Kieran Culkin   \n",
       "\n",
       "   avgRating  item_id  Year  \n",
       "0    3.89146        1  1995  \n",
       "1    3.26605        2  1995  \n",
       "2    3.17146        3  1995  \n",
       "3    2.86824        4  1995  \n",
       "4    3.07620        5  1995  "
      ]
     },
     "execution_count": 16,
     "metadata": {},
     "output_type": "execute_result"
    }
   ],
   "source": [
    "metadata_raw.head()"
   ]
  },
  {
   "cell_type": "code",
   "execution_count": 17,
   "id": "cd34053c",
   "metadata": {
    "scrolled": false
   },
   "outputs": [
    {
     "data": {
      "text/plain": [
       "title         0.00000\n",
       "directedBy    0.00000\n",
       "starring      0.00000\n",
       "avgRating     0.00000\n",
       "item_id       0.00000\n",
       "Year          0.53443\n",
       "dtype: float64"
      ]
     },
     "execution_count": 17,
     "metadata": {},
     "output_type": "execute_result"
    }
   ],
   "source": [
    "# roughly 15% of data is not clean\n",
    "# Date added is not release date, can drop\n",
    "metadata_raw.isna().sum(axis=0) / metadata_raw.shape[0]*100"
   ]
  },
  {
   "cell_type": "code",
   "execution_count": 18,
   "id": "c3d00e73",
   "metadata": {
    "scrolled": false
   },
   "outputs": [
    {
     "data": {
      "text/html": [
       "<div>\n",
       "<style scoped>\n",
       "    .dataframe tbody tr th:only-of-type {\n",
       "        vertical-align: middle;\n",
       "    }\n",
       "\n",
       "    .dataframe tbody tr th {\n",
       "        vertical-align: top;\n",
       "    }\n",
       "\n",
       "    .dataframe thead th {\n",
       "        text-align: right;\n",
       "    }\n",
       "</style>\n",
       "<table border=\"1\" class=\"dataframe\">\n",
       "  <thead>\n",
       "    <tr style=\"text-align: right;\">\n",
       "      <th></th>\n",
       "      <th>title</th>\n",
       "      <th>directedBy</th>\n",
       "      <th>starring</th>\n",
       "      <th>avgRating</th>\n",
       "      <th>item_id</th>\n",
       "      <th>Year</th>\n",
       "    </tr>\n",
       "  </thead>\n",
       "  <tbody>\n",
       "    <tr>\n",
       "      <th>8496</th>\n",
       "      <td>Babe Ruth Story, The (1948)</td>\n",
       "      <td>Roy Del Ruth</td>\n",
       "      <td>William Bendix, Claire Trevor, Charles Bickford</td>\n",
       "      <td>2.50000</td>\n",
       "      <td>25936</td>\n",
       "      <td>&lt;NA&gt;</td>\n",
       "    </tr>\n",
       "    <tr>\n",
       "      <th>8636</th>\n",
       "      <td>Heroes of Telemark, The (1965)</td>\n",
       "      <td>Anthony Mann</td>\n",
       "      <td>Kirk Douglas, Richard Harris, Ulla Jacobsson,Michael Redgrave</td>\n",
       "      <td>2.85714</td>\n",
       "      <td>26137</td>\n",
       "      <td>&lt;NA&gt;</td>\n",
       "    </tr>\n",
       "    <tr>\n",
       "      <th>8964</th>\n",
       "      <td>Jack's Back (1988)</td>\n",
       "      <td>Rowdy Herrington</td>\n",
       "      <td>James Spader, Cynthia Gibb, Jim Haynie</td>\n",
       "      <td>3.06522</td>\n",
       "      <td>26628</td>\n",
       "      <td>&lt;NA&gt;</td>\n",
       "    </tr>\n",
       "    <tr>\n",
       "      <th>9174</th>\n",
       "      <td>From Dusk Till Dawn 2: Texas Blood Money (1999)</td>\n",
       "      <td>Scott Spiegel</td>\n",
       "      <td>Bruce Campbell, Danny Trejo, Robert Patrick, Muse Watson, Brett Harrelson, Bo Hopkins, Raymond Cruz, Duane Whitaker</td>\n",
       "      <td>2.12222</td>\n",
       "      <td>27008</td>\n",
       "      <td>&lt;NA&gt;</td>\n",
       "    </tr>\n",
       "    <tr>\n",
       "      <th>9237</th>\n",
       "      <td>After the Rain (Ame agaru) (1999)</td>\n",
       "      <td>Takashi Koizumi</td>\n",
       "      <td>Akira Terao, Yoshiko Miyazaki, Shirô Mifune</td>\n",
       "      <td>3.75926</td>\n",
       "      <td>27189</td>\n",
       "      <td>&lt;NA&gt;</td>\n",
       "    </tr>\n",
       "    <tr>\n",
       "      <th>...</th>\n",
       "      <td>...</td>\n",
       "      <td>...</td>\n",
       "      <td>...</td>\n",
       "      <td>...</td>\n",
       "      <td>...</td>\n",
       "      <td>...</td>\n",
       "    </tr>\n",
       "    <tr>\n",
       "      <th>81979</th>\n",
       "      <td>The Woman in the Window</td>\n",
       "      <td>Joe Wright</td>\n",
       "      <td>Amy Adams,Gary Oldman,Jennifer Jason Leigh,Julianne Moore,Wyatt Russell</td>\n",
       "      <td>0.00000</td>\n",
       "      <td>233953</td>\n",
       "      <td>&lt;NA&gt;</td>\n",
       "    </tr>\n",
       "    <tr>\n",
       "      <th>82792</th>\n",
       "      <td>Obsessed With the Babysitter</td>\n",
       "      <td>Brian Skiba</td>\n",
       "      <td>Hannah Aniela,Lyla Emerson Booker,Jayd'n Harris,Simon Haycock,Dom Huynh</td>\n",
       "      <td>1.00000</td>\n",
       "      <td>235579</td>\n",
       "      <td>&lt;NA&gt;</td>\n",
       "    </tr>\n",
       "    <tr>\n",
       "      <th>84225</th>\n",
       "      <td>Grass Roots</td>\n",
       "      <td>Jerry London</td>\n",
       "      <td>Corbin Bernsen,Claude Akins,Donzaleigh Abernathy,Karen Beyer</td>\n",
       "      <td>0.00000</td>\n",
       "      <td>238444</td>\n",
       "      <td>&lt;NA&gt;</td>\n",
       "    </tr>\n",
       "    <tr>\n",
       "      <th>84278</th>\n",
       "      <td>The Craven Cove Murders</td>\n",
       "      <td>Ron Ford</td>\n",
       "      <td>Randal Malone,Trish Haight,Ted Newsom</td>\n",
       "      <td>0.00000</td>\n",
       "      <td>238550</td>\n",
       "      <td>&lt;NA&gt;</td>\n",
       "    </tr>\n",
       "    <tr>\n",
       "      <th>84514</th>\n",
       "      <td>Eric</td>\n",
       "      <td>James Goldstone</td>\n",
       "      <td>Patricia Neal,Claude Akins,Sian Barbara Allen,Mark Hamill,Nehemiah Persoff</td>\n",
       "      <td>0.00000</td>\n",
       "      <td>239022</td>\n",
       "      <td>&lt;NA&gt;</td>\n",
       "    </tr>\n",
       "  </tbody>\n",
       "</table>\n",
       "<p>408 rows × 6 columns</p>\n",
       "</div>"
      ],
      "text/plain": [
       "                                                  title        directedBy  \\\n",
       "8496                       Babe Ruth Story, The (1948)       Roy Del Ruth   \n",
       "8636                    Heroes of Telemark, The (1965)      Anthony Mann    \n",
       "8964                                Jack's Back (1988)   Rowdy Herrington   \n",
       "9174   From Dusk Till Dawn 2: Texas Blood Money (1999)      Scott Spiegel   \n",
       "9237                 After the Rain (Ame agaru) (1999)    Takashi Koizumi   \n",
       "...                                                 ...               ...   \n",
       "81979                           The Woman in the Window        Joe Wright   \n",
       "82792                      Obsessed With the Babysitter       Brian Skiba   \n",
       "84225                                       Grass Roots      Jerry London   \n",
       "84278                           The Craven Cove Murders          Ron Ford   \n",
       "84514                                              Eric   James Goldstone   \n",
       "\n",
       "                                                                                                                  starring  \\\n",
       "8496                                                                      William Bendix, Claire Trevor, Charles Bickford    \n",
       "8636                                                         Kirk Douglas, Richard Harris, Ulla Jacobsson,Michael Redgrave   \n",
       "8964                                                                                James Spader, Cynthia Gibb, Jim Haynie   \n",
       "9174   Bruce Campbell, Danny Trejo, Robert Patrick, Muse Watson, Brett Harrelson, Bo Hopkins, Raymond Cruz, Duane Whitaker   \n",
       "9237                                                                           Akira Terao, Yoshiko Miyazaki, Shirô Mifune   \n",
       "...                                                                                                                    ...   \n",
       "81979                                              Amy Adams,Gary Oldman,Jennifer Jason Leigh,Julianne Moore,Wyatt Russell   \n",
       "82792                                              Hannah Aniela,Lyla Emerson Booker,Jayd'n Harris,Simon Haycock,Dom Huynh   \n",
       "84225                                                         Corbin Bernsen,Claude Akins,Donzaleigh Abernathy,Karen Beyer   \n",
       "84278                                                                                Randal Malone,Trish Haight,Ted Newsom   \n",
       "84514                                           Patricia Neal,Claude Akins,Sian Barbara Allen,Mark Hamill,Nehemiah Persoff   \n",
       "\n",
       "       avgRating  item_id  Year  \n",
       "8496     2.50000    25936  <NA>  \n",
       "8636     2.85714    26137  <NA>  \n",
       "8964     3.06522    26628  <NA>  \n",
       "9174     2.12222    27008  <NA>  \n",
       "9237     3.75926    27189  <NA>  \n",
       "...          ...      ...   ...  \n",
       "81979    0.00000   233953  <NA>  \n",
       "82792    1.00000   235579  <NA>  \n",
       "84225    0.00000   238444  <NA>  \n",
       "84278    0.00000   238550  <NA>  \n",
       "84514    0.00000   239022  <NA>  \n",
       "\n",
       "[408 rows x 6 columns]"
      ]
     },
     "execution_count": 18,
     "metadata": {},
     "output_type": "execute_result"
    }
   ],
   "source": [
    "# We can tell that they are all individual movies, ... going to have to remove all of them with the na values\n",
    "metadata_raw[metadata_raw['Year'].isna()]"
   ]
  },
  {
   "cell_type": "code",
   "execution_count": 19,
   "id": "be00cb17",
   "metadata": {},
   "outputs": [],
   "source": [
    "metadata_raw = metadata_raw[pd.notnull(metadata_raw['Year'])]"
   ]
  },
  {
   "cell_type": "code",
   "execution_count": 20,
   "id": "9669b1a5",
   "metadata": {
    "scrolled": true
   },
   "outputs": [
    {
     "name": "stdout",
     "output_type": "stream",
     "text": [
      "<class 'pandas.core.frame.DataFrame'>\n",
      "Int64Index: 75935 entries, 0 to 84659\n",
      "Data columns (total 6 columns):\n",
      " #   Column      Non-Null Count  Dtype  \n",
      "---  ------      --------------  -----  \n",
      " 0   title       75935 non-null  object \n",
      " 1   directedBy  75935 non-null  object \n",
      " 2   starring    75935 non-null  object \n",
      " 3   avgRating   75935 non-null  float64\n",
      " 4   item_id     75935 non-null  int64  \n",
      " 5   Year        75935 non-null  Int64  \n",
      "dtypes: Int64(1), float64(1), int64(1), object(3)\n",
      "memory usage: 4.1+ MB\n"
     ]
    }
   ],
   "source": [
    "# Kept All columns without null values\n",
    "metadata_raw.info()"
   ]
  },
  {
   "cell_type": "code",
   "execution_count": 21,
   "id": "7d9a8fe0",
   "metadata": {},
   "outputs": [
    {
     "data": {
      "text/plain": [
       "count    75935.000000\n",
       "mean      1993.618108\n",
       "std         24.946430\n",
       "min       1880.000000\n",
       "25%       1978.000000\n",
       "50%       2003.000000\n",
       "75%       2013.000000\n",
       "max       2021.000000\n",
       "Name: Year, dtype: float64"
      ]
     },
     "execution_count": 21,
     "metadata": {},
     "output_type": "execute_result"
    }
   ],
   "source": [
    "# Checking if the lowest year is reasonable (not like 1200 or something)\n",
    "metadata_raw['Year'].describe()"
   ]
  },
  {
   "cell_type": "code",
   "execution_count": 22,
   "id": "c0ab701c",
   "metadata": {
    "scrolled": false
   },
   "outputs": [
    {
     "data": {
      "text/plain": [
       "(array([2.5000e+01, 1.0300e+02, 4.3700e+02, 2.0240e+03, 3.7760e+03,\n",
       "        5.0980e+03, 7.6550e+03, 8.7620e+03, 1.5003e+04, 3.3052e+04]),\n",
       " array([1880.0, 1894.1, 1908.2, 1922.3, 1936.4, 1950.5, 1964.6, 1978.7,\n",
       "        1992.8, 2006.9, 2021.0], dtype=object),\n",
       " <BarContainer object of 10 artists>)"
      ]
     },
     "execution_count": 22,
     "metadata": {},
     "output_type": "execute_result"
    },
    {
     "data": {
      "image/png": "[encoded data removed]",
      "text/plain": [
       "<Figure size 640x480 with 1 Axes>"
      ]
     },
     "metadata": {},
     "output_type": "display_data"
    }
   ],
   "source": [
    "# Looks good, no awkward years atm \n",
    "plt.hist(metadata_raw['Year'].values)"
   ]
  },
  {
   "cell_type": "code",
   "execution_count": 23,
   "id": "979d0d16",
   "metadata": {},
   "outputs": [],
   "source": [
    "# Want to add a multiplier to bring the values of movie reviews from a range of 0.5-5 to 1-10\n",
    "\n",
    "metadata_raw['avgRating'] = metadata_raw['avgRating'].multiply(2)"
   ]
  },
  {
   "cell_type": "code",
   "execution_count": 24,
   "id": "845953c2",
   "metadata": {
    "scrolled": false
   },
   "outputs": [
    {
     "data": {
      "text/html": [
       "<div>\n",
       "<style scoped>\n",
       "    .dataframe tbody tr th:only-of-type {\n",
       "        vertical-align: middle;\n",
       "    }\n",
       "\n",
       "    .dataframe tbody tr th {\n",
       "        vertical-align: top;\n",
       "    }\n",
       "\n",
       "    .dataframe thead th {\n",
       "        text-align: right;\n",
       "    }\n",
       "</style>\n",
       "<table border=\"1\" class=\"dataframe\">\n",
       "  <thead>\n",
       "    <tr style=\"text-align: right;\">\n",
       "      <th></th>\n",
       "      <th>title</th>\n",
       "      <th>directedBy</th>\n",
       "      <th>starring</th>\n",
       "      <th>avgRating</th>\n",
       "      <th>item_id</th>\n",
       "      <th>Year</th>\n",
       "    </tr>\n",
       "  </thead>\n",
       "  <tbody>\n",
       "    <tr>\n",
       "      <th>0</th>\n",
       "      <td>Toy Story (1995)</td>\n",
       "      <td>John Lasseter</td>\n",
       "      <td>Tim Allen, Tom Hanks, Don Rickles, Jim Varney, John Ratzenberger, Wallace Shawn, Laurie Metcalf, John Morris, R. Lee Ermey, Annie Potts</td>\n",
       "      <td>7.78292</td>\n",
       "      <td>1</td>\n",
       "      <td>1995</td>\n",
       "    </tr>\n",
       "    <tr>\n",
       "      <th>1</th>\n",
       "      <td>Jumanji (1995)</td>\n",
       "      <td>Joe Johnston</td>\n",
       "      <td>Jonathan Hyde, Bradley Pierce, Robin Williams, Kirsten Dunst</td>\n",
       "      <td>6.53210</td>\n",
       "      <td>2</td>\n",
       "      <td>1995</td>\n",
       "    </tr>\n",
       "    <tr>\n",
       "      <th>2</th>\n",
       "      <td>Grumpier Old Men (1995)</td>\n",
       "      <td>Howard Deutch</td>\n",
       "      <td>Jack Lemmon, Walter Matthau, Ann-Margret , Sophia Loren</td>\n",
       "      <td>6.34292</td>\n",
       "      <td>3</td>\n",
       "      <td>1995</td>\n",
       "    </tr>\n",
       "    <tr>\n",
       "      <th>3</th>\n",
       "      <td>Waiting to Exhale (1995)</td>\n",
       "      <td>Forest Whitaker</td>\n",
       "      <td>Angela Bassett, Loretta Devine, Whitney Houston, Lela Rochon</td>\n",
       "      <td>5.73648</td>\n",
       "      <td>4</td>\n",
       "      <td>1995</td>\n",
       "    </tr>\n",
       "    <tr>\n",
       "      <th>4</th>\n",
       "      <td>Father of the Bride Part II (1995)</td>\n",
       "      <td>Charles Shyer</td>\n",
       "      <td>Steve Martin, Martin Short, Diane Keaton, Kimberly Williams, George Newbern, Kieran Culkin</td>\n",
       "      <td>6.15240</td>\n",
       "      <td>5</td>\n",
       "      <td>1995</td>\n",
       "    </tr>\n",
       "  </tbody>\n",
       "</table>\n",
       "</div>"
      ],
      "text/plain": [
       "                                title       directedBy  \\\n",
       "0                    Toy Story (1995)    John Lasseter   \n",
       "1                      Jumanji (1995)     Joe Johnston   \n",
       "2             Grumpier Old Men (1995)    Howard Deutch   \n",
       "3            Waiting to Exhale (1995)  Forest Whitaker   \n",
       "4  Father of the Bride Part II (1995)    Charles Shyer   \n",
       "\n",
       "                                                                                                                                  starring  \\\n",
       "0  Tim Allen, Tom Hanks, Don Rickles, Jim Varney, John Ratzenberger, Wallace Shawn, Laurie Metcalf, John Morris, R. Lee Ermey, Annie Potts   \n",
       "1                                                                             Jonathan Hyde, Bradley Pierce, Robin Williams, Kirsten Dunst   \n",
       "2                                                                                  Jack Lemmon, Walter Matthau, Ann-Margret , Sophia Loren   \n",
       "3                                                                             Angela Bassett, Loretta Devine, Whitney Houston, Lela Rochon   \n",
       "4                                               Steve Martin, Martin Short, Diane Keaton, Kimberly Williams, George Newbern, Kieran Culkin   \n",
       "\n",
       "   avgRating  item_id  Year  \n",
       "0    7.78292        1  1995  \n",
       "1    6.53210        2  1995  \n",
       "2    6.34292        3  1995  \n",
       "3    5.73648        4  1995  \n",
       "4    6.15240        5  1995  "
      ]
     },
     "execution_count": 24,
     "metadata": {},
     "output_type": "execute_result"
    }
   ],
   "source": [
    "metadata_raw.head()"
   ]
  },
  {
   "cell_type": "code",
   "execution_count": 25,
   "id": "5744bd8a",
   "metadata": {},
   "outputs": [],
   "source": [
    "# rounding all avgrating to 2 decimal place.\n",
    "\n",
    "metadata_raw['avgRating'] = metadata_raw['avgRating'].round(2)\n"
   ]
  },
  {
   "cell_type": "code",
   "execution_count": 26,
   "id": "a2ab3c59",
   "metadata": {
    "scrolled": true
   },
   "outputs": [
    {
     "data": {
      "text/plain": [
       "count    75935.000000\n",
       "mean         5.093611\n",
       "std          2.600895\n",
       "min          0.000000\n",
       "25%          4.200000\n",
       "50%          6.000000\n",
       "75%          6.930000\n",
       "max         10.000000\n",
       "Name: avgRating, dtype: float64"
      ]
     },
     "execution_count": 26,
     "metadata": {},
     "output_type": "execute_result"
    }
   ],
   "source": [
    "# Checking the rating, we see the ratings have a minimum of 0\n",
    "# previously we checked for null values and there are none fortunately\n",
    "# remove the movies that have less than a rating of 1\n",
    "metadata_raw['avgRating'].describe()"
   ]
  },
  {
   "cell_type": "code",
   "execution_count": 27,
   "id": "a1263364",
   "metadata": {},
   "outputs": [],
   "source": [
    "# Should be last thing that is from the original dataset that needs to be addressed, joining columns afterwards\n",
    "cleaner_df = metadata_raw[(metadata_raw['avgRating']>=1)]"
   ]
  },
  {
   "cell_type": "code",
   "execution_count": 28,
   "id": "50ae1309",
   "metadata": {},
   "outputs": [
    {
     "name": "stdout",
     "output_type": "stream",
     "text": [
      "<class 'pandas.core.frame.DataFrame'>\n",
      "Int64Index: 63769 entries, 0 to 84561\n",
      "Data columns (total 6 columns):\n",
      " #   Column      Non-Null Count  Dtype  \n",
      "---  ------      --------------  -----  \n",
      " 0   title       63769 non-null  object \n",
      " 1   directedBy  63769 non-null  object \n",
      " 2   starring    63769 non-null  object \n",
      " 3   avgRating   63769 non-null  float64\n",
      " 4   item_id     63769 non-null  int64  \n",
      " 5   Year        63769 non-null  Int64  \n",
      "dtypes: Int64(1), float64(1), int64(1), object(3)\n",
      "memory usage: 3.5+ MB\n"
     ]
    }
   ],
   "source": [
    "# Still a big enough dataset, 70k entries\n",
    "cleaner_df.info()"
   ]
  },
  {
   "cell_type": "code",
   "execution_count": 29,
   "id": "992a8541",
   "metadata": {
    "scrolled": true
   },
   "outputs": [
    {
     "data": {
      "text/html": [
       "<div>\n",
       "<style scoped>\n",
       "    .dataframe tbody tr th:only-of-type {\n",
       "        vertical-align: middle;\n",
       "    }\n",
       "\n",
       "    .dataframe tbody tr th {\n",
       "        vertical-align: top;\n",
       "    }\n",
       "\n",
       "    .dataframe thead th {\n",
       "        text-align: right;\n",
       "    }\n",
       "</style>\n",
       "<table border=\"1\" class=\"dataframe\">\n",
       "  <thead>\n",
       "    <tr style=\"text-align: right;\">\n",
       "      <th></th>\n",
       "      <th>title</th>\n",
       "      <th>directedBy</th>\n",
       "      <th>starring</th>\n",
       "      <th>avgRating</th>\n",
       "      <th>item_id</th>\n",
       "      <th>Year</th>\n",
       "    </tr>\n",
       "  </thead>\n",
       "  <tbody>\n",
       "    <tr>\n",
       "      <th>0</th>\n",
       "      <td>Toy Story (1995)</td>\n",
       "      <td>John Lasseter</td>\n",
       "      <td>Tim Allen, Tom Hanks, Don Rickles, Jim Varney, John Ratzenberger, Wallace Shawn, Laurie Metcalf, John Morris, R. Lee Ermey, Annie Potts</td>\n",
       "      <td>7.78</td>\n",
       "      <td>1</td>\n",
       "      <td>1995</td>\n",
       "    </tr>\n",
       "    <tr>\n",
       "      <th>1</th>\n",
       "      <td>Jumanji (1995)</td>\n",
       "      <td>Joe Johnston</td>\n",
       "      <td>Jonathan Hyde, Bradley Pierce, Robin Williams, Kirsten Dunst</td>\n",
       "      <td>6.53</td>\n",
       "      <td>2</td>\n",
       "      <td>1995</td>\n",
       "    </tr>\n",
       "    <tr>\n",
       "      <th>2</th>\n",
       "      <td>Grumpier Old Men (1995)</td>\n",
       "      <td>Howard Deutch</td>\n",
       "      <td>Jack Lemmon, Walter Matthau, Ann-Margret , Sophia Loren</td>\n",
       "      <td>6.34</td>\n",
       "      <td>3</td>\n",
       "      <td>1995</td>\n",
       "    </tr>\n",
       "    <tr>\n",
       "      <th>3</th>\n",
       "      <td>Waiting to Exhale (1995)</td>\n",
       "      <td>Forest Whitaker</td>\n",
       "      <td>Angela Bassett, Loretta Devine, Whitney Houston, Lela Rochon</td>\n",
       "      <td>5.74</td>\n",
       "      <td>4</td>\n",
       "      <td>1995</td>\n",
       "    </tr>\n",
       "    <tr>\n",
       "      <th>4</th>\n",
       "      <td>Father of the Bride Part II (1995)</td>\n",
       "      <td>Charles Shyer</td>\n",
       "      <td>Steve Martin, Martin Short, Diane Keaton, Kimberly Williams, George Newbern, Kieran Culkin</td>\n",
       "      <td>6.15</td>\n",
       "      <td>5</td>\n",
       "      <td>1995</td>\n",
       "    </tr>\n",
       "  </tbody>\n",
       "</table>\n",
       "</div>"
      ],
      "text/plain": [
       "                                title       directedBy  \\\n",
       "0                    Toy Story (1995)    John Lasseter   \n",
       "1                      Jumanji (1995)     Joe Johnston   \n",
       "2             Grumpier Old Men (1995)    Howard Deutch   \n",
       "3            Waiting to Exhale (1995)  Forest Whitaker   \n",
       "4  Father of the Bride Part II (1995)    Charles Shyer   \n",
       "\n",
       "                                                                                                                                  starring  \\\n",
       "0  Tim Allen, Tom Hanks, Don Rickles, Jim Varney, John Ratzenberger, Wallace Shawn, Laurie Metcalf, John Morris, R. Lee Ermey, Annie Potts   \n",
       "1                                                                             Jonathan Hyde, Bradley Pierce, Robin Williams, Kirsten Dunst   \n",
       "2                                                                                  Jack Lemmon, Walter Matthau, Ann-Margret , Sophia Loren   \n",
       "3                                                                             Angela Bassett, Loretta Devine, Whitney Houston, Lela Rochon   \n",
       "4                                               Steve Martin, Martin Short, Diane Keaton, Kimberly Williams, George Newbern, Kieran Culkin   \n",
       "\n",
       "   avgRating  item_id  Year  \n",
       "0       7.78        1  1995  \n",
       "1       6.53        2  1995  \n",
       "2       6.34        3  1995  \n",
       "3       5.74        4  1995  \n",
       "4       6.15        5  1995  "
      ]
     },
     "execution_count": 29,
     "metadata": {},
     "output_type": "execute_result"
    }
   ],
   "source": [
    "cleaner_df.head()"
   ]
  },
  {
   "cell_type": "code",
   "execution_count": 30,
   "id": "a0e60d36",
   "metadata": {
    "scrolled": false
   },
   "outputs": [
    {
     "data": {
      "text/plain": [
       "count    63769.000000\n",
       "mean         6.065382\n",
       "std          1.470032\n",
       "min          1.000000\n",
       "25%          5.290000\n",
       "50%          6.210000\n",
       "75%          7.000000\n",
       "max         10.000000\n",
       "Name: avgRating, dtype: float64"
      ]
     },
     "execution_count": 30,
     "metadata": {},
     "output_type": "execute_result"
    }
   ],
   "source": [
    "# cool, minimum value of avg rating is now 1\n",
    "cleaner_df['avgRating'].describe()"
   ]
  },
  {
   "cell_type": "code",
   "execution_count": 31,
   "id": "6ddbb437",
   "metadata": {
    "scrolled": false
   },
   "outputs": [
    {
     "data": {
      "image/png": "[encoded data removed]",
      "text/plain": [
       "<Figure size 640x480 with 1 Axes>"
      ]
     },
     "metadata": {},
     "output_type": "display_data"
    }
   ],
   "source": [
    "# Basic histogram plot, \n",
    "plt.hist(cleaner_df['avgRating'], bins=9)\n",
    "\n",
    "# Plots mean \n",
    "plt.axvline(cleaner_df['avgRating'].mean(), 0, 1000, label=\"mean\", color=\"lightcoral\")\n",
    "\n",
    "plt.title(\"Review Score distribution\")\n",
    "sns.despine()\n",
    "plt.legend()\n",
    "plt.show()"
   ]
  },
  {
   "cell_type": "code",
   "execution_count": 32,
   "id": "326ca698",
   "metadata": {
    "scrolled": true
   },
   "outputs": [
    {
     "data": {
      "text/html": [
       "<div>\n",
       "<style scoped>\n",
       "    .dataframe tbody tr th:only-of-type {\n",
       "        vertical-align: middle;\n",
       "    }\n",
       "\n",
       "    .dataframe tbody tr th {\n",
       "        vertical-align: top;\n",
       "    }\n",
       "\n",
       "    .dataframe thead th {\n",
       "        text-align: right;\n",
       "    }\n",
       "</style>\n",
       "<table border=\"1\" class=\"dataframe\">\n",
       "  <thead>\n",
       "    <tr style=\"text-align: right;\">\n",
       "      <th></th>\n",
       "      <th>title</th>\n",
       "      <th>directedBy</th>\n",
       "      <th>starring</th>\n",
       "      <th>avgRating</th>\n",
       "      <th>item_id</th>\n",
       "      <th>Year</th>\n",
       "      <th>Sentiment</th>\n",
       "    </tr>\n",
       "  </thead>\n",
       "  <tbody>\n",
       "    <tr>\n",
       "      <th>0</th>\n",
       "      <td>Toy Story (1995)</td>\n",
       "      <td>John Lasseter</td>\n",
       "      <td>Tim Allen, Tom Hanks, Don Rickles, Jim Varney, John Ratzenberger, Wallace Shawn, Laurie Metcalf, John Morris, R. Lee Ermey, Annie Potts</td>\n",
       "      <td>7.78</td>\n",
       "      <td>1</td>\n",
       "      <td>1995</td>\n",
       "      <td>1</td>\n",
       "    </tr>\n",
       "    <tr>\n",
       "      <th>1</th>\n",
       "      <td>Jumanji (1995)</td>\n",
       "      <td>Joe Johnston</td>\n",
       "      <td>Jonathan Hyde, Bradley Pierce, Robin Williams, Kirsten Dunst</td>\n",
       "      <td>6.53</td>\n",
       "      <td>2</td>\n",
       "      <td>1995</td>\n",
       "      <td>0</td>\n",
       "    </tr>\n",
       "    <tr>\n",
       "      <th>2</th>\n",
       "      <td>Grumpier Old Men (1995)</td>\n",
       "      <td>Howard Deutch</td>\n",
       "      <td>Jack Lemmon, Walter Matthau, Ann-Margret , Sophia Loren</td>\n",
       "      <td>6.34</td>\n",
       "      <td>3</td>\n",
       "      <td>1995</td>\n",
       "      <td>0</td>\n",
       "    </tr>\n",
       "    <tr>\n",
       "      <th>3</th>\n",
       "      <td>Waiting to Exhale (1995)</td>\n",
       "      <td>Forest Whitaker</td>\n",
       "      <td>Angela Bassett, Loretta Devine, Whitney Houston, Lela Rochon</td>\n",
       "      <td>5.74</td>\n",
       "      <td>4</td>\n",
       "      <td>1995</td>\n",
       "      <td>0</td>\n",
       "    </tr>\n",
       "    <tr>\n",
       "      <th>4</th>\n",
       "      <td>Father of the Bride Part II (1995)</td>\n",
       "      <td>Charles Shyer</td>\n",
       "      <td>Steve Martin, Martin Short, Diane Keaton, Kimberly Williams, George Newbern, Kieran Culkin</td>\n",
       "      <td>6.15</td>\n",
       "      <td>5</td>\n",
       "      <td>1995</td>\n",
       "      <td>0</td>\n",
       "    </tr>\n",
       "  </tbody>\n",
       "</table>\n",
       "</div>"
      ],
      "text/plain": [
       "                                title       directedBy  \\\n",
       "0                    Toy Story (1995)    John Lasseter   \n",
       "1                      Jumanji (1995)     Joe Johnston   \n",
       "2             Grumpier Old Men (1995)    Howard Deutch   \n",
       "3            Waiting to Exhale (1995)  Forest Whitaker   \n",
       "4  Father of the Bride Part II (1995)    Charles Shyer   \n",
       "\n",
       "                                                                                                                                  starring  \\\n",
       "0  Tim Allen, Tom Hanks, Don Rickles, Jim Varney, John Ratzenberger, Wallace Shawn, Laurie Metcalf, John Morris, R. Lee Ermey, Annie Potts   \n",
       "1                                                                             Jonathan Hyde, Bradley Pierce, Robin Williams, Kirsten Dunst   \n",
       "2                                                                                  Jack Lemmon, Walter Matthau, Ann-Margret , Sophia Loren   \n",
       "3                                                                             Angela Bassett, Loretta Devine, Whitney Houston, Lela Rochon   \n",
       "4                                               Steve Martin, Martin Short, Diane Keaton, Kimberly Williams, George Newbern, Kieran Culkin   \n",
       "\n",
       "   avgRating  item_id  Year  Sentiment  \n",
       "0       7.78        1  1995          1  \n",
       "1       6.53        2  1995          0  \n",
       "2       6.34        3  1995          0  \n",
       "3       5.74        4  1995          0  \n",
       "4       6.15        5  1995          0  "
      ]
     },
     "execution_count": 32,
     "metadata": {},
     "output_type": "execute_result"
    }
   ],
   "source": [
    "# Create a sentiment column if rating is 7.0 or above, 1\n",
    "\n",
    "cleaner_df['Sentiment'] = np.where(cleaner_df['avgRating'] >= 7, 1, 0)\n",
    "cleaner_df.head()"
   ]
  },
  {
   "cell_type": "code",
   "execution_count": 33,
   "id": "97fce2ed",
   "metadata": {},
   "outputs": [
    {
     "data": {
      "image/png": "[encoded data removed]",
      "text/plain": [
       "<Figure size 640x480 with 1 Axes>"
      ]
     },
     "metadata": {},
     "output_type": "display_data"
    },
    {
     "name": "stdout",
     "output_type": "stream",
     "text": [
      "Class imbalance: [0.71 0.29]\n"
     ]
    }
   ],
   "source": [
    "values, counts = np.unique(cleaner_df['Sentiment'], return_counts=True)\n",
    "normalized_counts = counts/counts.sum()\n",
    "\n",
    "plt.figure()\n",
    "plt.bar([\"0\", \"1\"], normalized_counts*100) # plot normalized counts\n",
    "plt.xlabel('Review Rating')\n",
    "plt.ylabel('% of Reviews')\n",
    "plt.show()\n",
    "\n",
    "print(f\"Class imbalance: {np.round(normalized_counts, 2)}\")"
   ]
  },
  {
   "cell_type": "code",
   "execution_count": 34,
   "id": "07903fb1",
   "metadata": {},
   "outputs": [],
   "source": [
    "# we can assume that theres only one director per movie, but maybe there's an additional credit, lets count the number of words in each directedBy entry\n",
    "\n",
    "cleaner_df['director_count'] = cleaner_df['directedBy'].str.split(\",\").apply(len)"
   ]
  },
  {
   "cell_type": "code",
   "execution_count": 35,
   "id": "c19b0b6e",
   "metadata": {},
   "outputs": [
    {
     "data": {
      "text/html": [
       "<div>\n",
       "<style scoped>\n",
       "    .dataframe tbody tr th:only-of-type {\n",
       "        vertical-align: middle;\n",
       "    }\n",
       "\n",
       "    .dataframe tbody tr th {\n",
       "        vertical-align: top;\n",
       "    }\n",
       "\n",
       "    .dataframe thead th {\n",
       "        text-align: right;\n",
       "    }\n",
       "</style>\n",
       "<table border=\"1\" class=\"dataframe\">\n",
       "  <thead>\n",
       "    <tr style=\"text-align: right;\">\n",
       "      <th></th>\n",
       "      <th>title</th>\n",
       "      <th>directedBy</th>\n",
       "      <th>starring</th>\n",
       "      <th>avgRating</th>\n",
       "      <th>item_id</th>\n",
       "      <th>Year</th>\n",
       "      <th>Sentiment</th>\n",
       "      <th>director_count</th>\n",
       "    </tr>\n",
       "  </thead>\n",
       "  <tbody>\n",
       "    <tr>\n",
       "      <th>0</th>\n",
       "      <td>Toy Story (1995)</td>\n",
       "      <td>John Lasseter</td>\n",
       "      <td>Tim Allen, Tom Hanks, Don Rickles, Jim Varney, John Ratzenberger, Wallace Shawn, Laurie Metcalf, John Morris, R. Lee Ermey, Annie Potts</td>\n",
       "      <td>7.78</td>\n",
       "      <td>1</td>\n",
       "      <td>1995</td>\n",
       "      <td>1</td>\n",
       "      <td>1</td>\n",
       "    </tr>\n",
       "    <tr>\n",
       "      <th>1</th>\n",
       "      <td>Jumanji (1995)</td>\n",
       "      <td>Joe Johnston</td>\n",
       "      <td>Jonathan Hyde, Bradley Pierce, Robin Williams, Kirsten Dunst</td>\n",
       "      <td>6.53</td>\n",
       "      <td>2</td>\n",
       "      <td>1995</td>\n",
       "      <td>0</td>\n",
       "      <td>1</td>\n",
       "    </tr>\n",
       "    <tr>\n",
       "      <th>2</th>\n",
       "      <td>Grumpier Old Men (1995)</td>\n",
       "      <td>Howard Deutch</td>\n",
       "      <td>Jack Lemmon, Walter Matthau, Ann-Margret , Sophia Loren</td>\n",
       "      <td>6.34</td>\n",
       "      <td>3</td>\n",
       "      <td>1995</td>\n",
       "      <td>0</td>\n",
       "      <td>1</td>\n",
       "    </tr>\n",
       "    <tr>\n",
       "      <th>3</th>\n",
       "      <td>Waiting to Exhale (1995)</td>\n",
       "      <td>Forest Whitaker</td>\n",
       "      <td>Angela Bassett, Loretta Devine, Whitney Houston, Lela Rochon</td>\n",
       "      <td>5.74</td>\n",
       "      <td>4</td>\n",
       "      <td>1995</td>\n",
       "      <td>0</td>\n",
       "      <td>1</td>\n",
       "    </tr>\n",
       "    <tr>\n",
       "      <th>4</th>\n",
       "      <td>Father of the Bride Part II (1995)</td>\n",
       "      <td>Charles Shyer</td>\n",
       "      <td>Steve Martin, Martin Short, Diane Keaton, Kimberly Williams, George Newbern, Kieran Culkin</td>\n",
       "      <td>6.15</td>\n",
       "      <td>5</td>\n",
       "      <td>1995</td>\n",
       "      <td>0</td>\n",
       "      <td>1</td>\n",
       "    </tr>\n",
       "    <tr>\n",
       "      <th>5</th>\n",
       "      <td>Heat (1995)</td>\n",
       "      <td>Michael Mann</td>\n",
       "      <td>Robert De Niro, Al Pacino, Val Kilmer, Jon Voight, Tom Sizemore, Ashley Judd, Diane Venora, Natalie Portman</td>\n",
       "      <td>7.71</td>\n",
       "      <td>6</td>\n",
       "      <td>1995</td>\n",
       "      <td>1</td>\n",
       "      <td>1</td>\n",
       "    </tr>\n",
       "    <tr>\n",
       "      <th>6</th>\n",
       "      <td>Sabrina (1995)</td>\n",
       "      <td>Sydney Pollack</td>\n",
       "      <td>Harrison Ford, Greg Kinnear, Nancy Marchand, Julia Ormond</td>\n",
       "      <td>6.74</td>\n",
       "      <td>7</td>\n",
       "      <td>1995</td>\n",
       "      <td>0</td>\n",
       "      <td>1</td>\n",
       "    </tr>\n",
       "    <tr>\n",
       "      <th>7</th>\n",
       "      <td>Tom and Huck (1995)</td>\n",
       "      <td>Peter Hewitt</td>\n",
       "      <td>Jonathan Taylor Thomas, Brad Renfro, Eric Schweig, Charles Rocket, Amy Wright, Michael McShane, Marian Seldes, Rachael Leigh Cook, Peter Mackenzie, Andy Stahl, Adrian Roberts, David Cowgill, Ike Eisenmann, Tamara Mello, Courtney Peldon</td>\n",
       "      <td>6.23</td>\n",
       "      <td>8</td>\n",
       "      <td>1995</td>\n",
       "      <td>0</td>\n",
       "      <td>1</td>\n",
       "    </tr>\n",
       "    <tr>\n",
       "      <th>8</th>\n",
       "      <td>Sudden Death (1995)</td>\n",
       "      <td>Peter Hyams</td>\n",
       "      <td>Raymond J. Barry, Powers Boothe, Jean-Claude Van Damme, Whittni Wright</td>\n",
       "      <td>6.00</td>\n",
       "      <td>9</td>\n",
       "      <td>1995</td>\n",
       "      <td>0</td>\n",
       "      <td>1</td>\n",
       "    </tr>\n",
       "    <tr>\n",
       "      <th>9</th>\n",
       "      <td>GoldenEye (1995)</td>\n",
       "      <td>Martin Campbell</td>\n",
       "      <td>Pierce Brosnan, Sean Bean, Famke Janssen, Izabella Scorupco, Joe Don Baker, Judi Dench, Robbie Coltrane, Alan Cumming, Tchéky Karyo, Desmond Llewelyn, Samantha Bond</td>\n",
       "      <td>6.87</td>\n",
       "      <td>10</td>\n",
       "      <td>1995</td>\n",
       "      <td>0</td>\n",
       "      <td>1</td>\n",
       "    </tr>\n",
       "    <tr>\n",
       "      <th>10</th>\n",
       "      <td>American President, The (1995)</td>\n",
       "      <td>Rob Reiner</td>\n",
       "      <td>Michael Douglas, Michael J. Fox, Martin Sheen, Annette Bening, Richard Dreyfuss</td>\n",
       "      <td>7.32</td>\n",
       "      <td>11</td>\n",
       "      <td>1995</td>\n",
       "      <td>1</td>\n",
       "      <td>1</td>\n",
       "    </tr>\n",
       "    <tr>\n",
       "      <th>11</th>\n",
       "      <td>Dracula: Dead and Loving It (1995)</td>\n",
       "      <td>Mel Brooks</td>\n",
       "      <td>Peter MacNicol, Leslie Nielsen, Steven Weber, Amy Yasbeck</td>\n",
       "      <td>5.35</td>\n",
       "      <td>12</td>\n",
       "      <td>1995</td>\n",
       "      <td>0</td>\n",
       "      <td>1</td>\n",
       "    </tr>\n",
       "    <tr>\n",
       "      <th>12</th>\n",
       "      <td>Balto (1995)</td>\n",
       "      <td>Simon Wells</td>\n",
       "      <td>Kevin Bacon, Jim Cummings, Bob Hoskins, Bridget Fonda</td>\n",
       "      <td>6.69</td>\n",
       "      <td>13</td>\n",
       "      <td>1995</td>\n",
       "      <td>0</td>\n",
       "      <td>1</td>\n",
       "    </tr>\n",
       "    <tr>\n",
       "      <th>13</th>\n",
       "      <td>Nixon (1995)</td>\n",
       "      <td>Oliver Stone</td>\n",
       "      <td>Anthony Hopkins, Joan Allen, Powers Boothe, Ed Harris, Bob Hoskins, E.G. Marshall, David Paymer, David Hyde Pierce, Paul Sorvino, Mary Steenburgen, J.T. Walsh, James Woods, Brian Bedford, Kevin Dunn, Fyvush Finkel, Annabeth Gish, Tom Bower, Tony Goldwyn, Larry Hagman, Edward Herrmann, Madeline Kahn, Dan Hedaya, Tony Lo Bianco, Saul Rubinek, Robert Beltran, John Cunningham, John Diehl, John C. McGinley, Michael Chiklis, David Barry Gray, Enrique Castillo, Victor Rivers, Bridgette Wilson, Ric Young, O'Neal Compton, Marley Shelton, James Karen, Richard Fancy, Ling Bai, John Stockwell, Tony Plana</td>\n",
       "      <td>6.86</td>\n",
       "      <td>14</td>\n",
       "      <td>1995</td>\n",
       "      <td>0</td>\n",
       "      <td>1</td>\n",
       "    </tr>\n",
       "    <tr>\n",
       "      <th>14</th>\n",
       "      <td>Cutthroat Island (1995)</td>\n",
       "      <td>Renny Harlin</td>\n",
       "      <td>Maury Chaykin, Frank Langella, Matthew Modine, Geena Davis</td>\n",
       "      <td>5.47</td>\n",
       "      <td>15</td>\n",
       "      <td>1995</td>\n",
       "      <td>0</td>\n",
       "      <td>1</td>\n",
       "    </tr>\n",
       "    <tr>\n",
       "      <th>15</th>\n",
       "      <td>Casino (1995)</td>\n",
       "      <td>Martin Scorsese</td>\n",
       "      <td>Robert De Niro, Joe Pesci, James Woods, Sharon Stone</td>\n",
       "      <td>7.64</td>\n",
       "      <td>16</td>\n",
       "      <td>1995</td>\n",
       "      <td>1</td>\n",
       "      <td>1</td>\n",
       "    </tr>\n",
       "    <tr>\n",
       "      <th>16</th>\n",
       "      <td>Sense and Sensibility (1995)</td>\n",
       "      <td>Ang Lee</td>\n",
       "      <td>Hugh Grant, Alan Rickman, Emma Thompson, Kate Winslet</td>\n",
       "      <td>7.89</td>\n",
       "      <td>17</td>\n",
       "      <td>1995</td>\n",
       "      <td>1</td>\n",
       "      <td>1</td>\n",
       "    </tr>\n",
       "    <tr>\n",
       "      <th>17</th>\n",
       "      <td>Four Rooms (1995)</td>\n",
       "      <td>Allison Anders, Alexandre Rockwell, Robert Rodriguez, Quentin Tarantino</td>\n",
       "      <td>Sammi Davis, Amanda De Cadenet, Valeria Golino, Madonna, Ione Skye, Lili Taylor, Alicia Witt, Jennifer Beals, David Proval, Antonio Banderas, Lana McKissack, Salma Hayek, Quentin Tarantino, Kathy Griffin, Marisa Tomei, Tim Roth, Bruce Willis</td>\n",
       "      <td>6.83</td>\n",
       "      <td>18</td>\n",
       "      <td>1995</td>\n",
       "      <td>0</td>\n",
       "      <td>4</td>\n",
       "    </tr>\n",
       "    <tr>\n",
       "      <th>18</th>\n",
       "      <td>Ace Ventura: When Nature Calls (1995)</td>\n",
       "      <td>Steve Oedekerk</td>\n",
       "      <td>Simon Callow, Jim Carrey, Maynard Eziashi, Ian McNeice, Bob Gunton</td>\n",
       "      <td>5.32</td>\n",
       "      <td>19</td>\n",
       "      <td>1995</td>\n",
       "      <td>0</td>\n",
       "      <td>1</td>\n",
       "    </tr>\n",
       "    <tr>\n",
       "      <th>19</th>\n",
       "      <td>Money Train (1995)</td>\n",
       "      <td>Joseph Ruben</td>\n",
       "      <td>Wesley Snipes, Woody Harrelson, Jennifer Lopez, Robert Blake, Chris Cooper, Joe Grifasi, Skipp Sudduth, Aida Turturro, Vincent Pastore, Dean Norris, José Zúñiga, Bill Nunn, Larry Gilliard Jr., Flex Alexander</td>\n",
       "      <td>5.78</td>\n",
       "      <td>20</td>\n",
       "      <td>1995</td>\n",
       "      <td>0</td>\n",
       "      <td>1</td>\n",
       "    </tr>\n",
       "  </tbody>\n",
       "</table>\n",
       "</div>"
      ],
      "text/plain": [
       "                                    title  \\\n",
       "0                        Toy Story (1995)   \n",
       "1                          Jumanji (1995)   \n",
       "2                 Grumpier Old Men (1995)   \n",
       "3                Waiting to Exhale (1995)   \n",
       "4      Father of the Bride Part II (1995)   \n",
       "5                             Heat (1995)   \n",
       "6                          Sabrina (1995)   \n",
       "7                     Tom and Huck (1995)   \n",
       "8                     Sudden Death (1995)   \n",
       "9                        GoldenEye (1995)   \n",
       "10         American President, The (1995)   \n",
       "11     Dracula: Dead and Loving It (1995)   \n",
       "12                           Balto (1995)   \n",
       "13                           Nixon (1995)   \n",
       "14                Cutthroat Island (1995)   \n",
       "15                          Casino (1995)   \n",
       "16           Sense and Sensibility (1995)   \n",
       "17                      Four Rooms (1995)   \n",
       "18  Ace Ventura: When Nature Calls (1995)   \n",
       "19                     Money Train (1995)   \n",
       "\n",
       "                                                                 directedBy  \\\n",
       "0                                                             John Lasseter   \n",
       "1                                                              Joe Johnston   \n",
       "2                                                             Howard Deutch   \n",
       "3                                                           Forest Whitaker   \n",
       "4                                                             Charles Shyer   \n",
       "5                                                              Michael Mann   \n",
       "6                                                            Sydney Pollack   \n",
       "7                                                              Peter Hewitt   \n",
       "8                                                               Peter Hyams   \n",
       "9                                                           Martin Campbell   \n",
       "10                                                               Rob Reiner   \n",
       "11                                                               Mel Brooks   \n",
       "12                                                              Simon Wells   \n",
       "13                                                             Oliver Stone   \n",
       "14                                                             Renny Harlin   \n",
       "15                                                          Martin Scorsese   \n",
       "16                                                                  Ang Lee   \n",
       "17  Allison Anders, Alexandre Rockwell, Robert Rodriguez, Quentin Tarantino   \n",
       "18                                                           Steve Oedekerk   \n",
       "19                                                             Joseph Ruben   \n",
       "\n",
       "                                                                                                                                                                                                                                                                                                                                                                                                                                                                                                                                                                                                                   starring  \\\n",
       "0                                                                                                                                                                                                                                                                                                                                                                                                                                                                                   Tim Allen, Tom Hanks, Don Rickles, Jim Varney, John Ratzenberger, Wallace Shawn, Laurie Metcalf, John Morris, R. Lee Ermey, Annie Potts   \n",
       "1                                                                                                                                                                                                                                                                                                                                                                                                                                                                                                                                                              Jonathan Hyde, Bradley Pierce, Robin Williams, Kirsten Dunst   \n",
       "2                                                                                                                                                                                                                                                                                                                                                                                                                                                                                                                                                                   Jack Lemmon, Walter Matthau, Ann-Margret , Sophia Loren   \n",
       "3                                                                                                                                                                                                                                                                                                                                                                                                                                                                                                                                                              Angela Bassett, Loretta Devine, Whitney Houston, Lela Rochon   \n",
       "4                                                                                                                                                                                                                                                                                                                                                                                                                                                                                                                                Steve Martin, Martin Short, Diane Keaton, Kimberly Williams, George Newbern, Kieran Culkin   \n",
       "5                                                                                                                                                                                                                                                                                                                                                                                                                                                                                                               Robert De Niro, Al Pacino, Val Kilmer, Jon Voight, Tom Sizemore, Ashley Judd, Diane Venora, Natalie Portman   \n",
       "6                                                                                                                                                                                                                                                                                                                                                                                                                                                                                                                                                                 Harrison Ford, Greg Kinnear, Nancy Marchand, Julia Ormond   \n",
       "7                                                                                                                                                                                                                                                                                                                                                                               Jonathan Taylor Thomas, Brad Renfro, Eric Schweig, Charles Rocket, Amy Wright, Michael McShane, Marian Seldes, Rachael Leigh Cook, Peter Mackenzie, Andy Stahl, Adrian Roberts, David Cowgill, Ike Eisenmann, Tamara Mello, Courtney Peldon   \n",
       "8                                                                                                                                                                                                                                                                                                                                                                                                                                                                                                                                                    Raymond J. Barry, Powers Boothe, Jean-Claude Van Damme, Whittni Wright   \n",
       "9                                                                                                                                                                                                                                                                                                                                                                                                                                                      Pierce Brosnan, Sean Bean, Famke Janssen, Izabella Scorupco, Joe Don Baker, Judi Dench, Robbie Coltrane, Alan Cumming, Tchéky Karyo, Desmond Llewelyn, Samantha Bond   \n",
       "10                                                                                                                                                                                                                                                                                                                                                                                                                                                                                                                                          Michael Douglas, Michael J. Fox, Martin Sheen, Annette Bening, Richard Dreyfuss   \n",
       "11                                                                                                                                                                                                                                                                                                                                                                                                                                                                                                                                                                Peter MacNicol, Leslie Nielsen, Steven Weber, Amy Yasbeck   \n",
       "12                                                                                                                                                                                                                                                                                                                                                                                                                                                                                                                                                                    Kevin Bacon, Jim Cummings, Bob Hoskins, Bridget Fonda   \n",
       "13  Anthony Hopkins, Joan Allen, Powers Boothe, Ed Harris, Bob Hoskins, E.G. Marshall, David Paymer, David Hyde Pierce, Paul Sorvino, Mary Steenburgen, J.T. Walsh, James Woods, Brian Bedford, Kevin Dunn, Fyvush Finkel, Annabeth Gish, Tom Bower, Tony Goldwyn, Larry Hagman, Edward Herrmann, Madeline Kahn, Dan Hedaya, Tony Lo Bianco, Saul Rubinek, Robert Beltran, John Cunningham, John Diehl, John C. McGinley, Michael Chiklis, David Barry Gray, Enrique Castillo, Victor Rivers, Bridgette Wilson, Ric Young, O'Neal Compton, Marley Shelton, James Karen, Richard Fancy, Ling Bai, John Stockwell, Tony Plana   \n",
       "14                                                                                                                                                                                                                                                                                                                                                                                                                                                                                                                                                               Maury Chaykin, Frank Langella, Matthew Modine, Geena Davis   \n",
       "15                                                                                                                                                                                                                                                                                                                                                                                                                                                                                                                                                                     Robert De Niro, Joe Pesci, James Woods, Sharon Stone   \n",
       "16                                                                                                                                                                                                                                                                                                                                                                                                                                                                                                                                                                    Hugh Grant, Alan Rickman, Emma Thompson, Kate Winslet   \n",
       "17                                                                                                                                                                                                                                                                                                                                                                        Sammi Davis, Amanda De Cadenet, Valeria Golino, Madonna, Ione Skye, Lili Taylor, Alicia Witt, Jennifer Beals, David Proval, Antonio Banderas, Lana McKissack, Salma Hayek, Quentin Tarantino, Kathy Griffin, Marisa Tomei, Tim Roth, Bruce Willis   \n",
       "18                                                                                                                                                                                                                                                                                                                                                                                                                                                                                                                                                       Simon Callow, Jim Carrey, Maynard Eziashi, Ian McNeice, Bob Gunton   \n",
       "19                                                                                                                                                                                                                                                                                                                                                                                                          Wesley Snipes, Woody Harrelson, Jennifer Lopez, Robert Blake, Chris Cooper, Joe Grifasi, Skipp Sudduth, Aida Turturro, Vincent Pastore, Dean Norris, José Zúñiga, Bill Nunn, Larry Gilliard Jr., Flex Alexander   \n",
       "\n",
       "    avgRating  item_id  Year  Sentiment  director_count  \n",
       "0        7.78        1  1995          1               1  \n",
       "1        6.53        2  1995          0               1  \n",
       "2        6.34        3  1995          0               1  \n",
       "3        5.74        4  1995          0               1  \n",
       "4        6.15        5  1995          0               1  \n",
       "5        7.71        6  1995          1               1  \n",
       "6        6.74        7  1995          0               1  \n",
       "7        6.23        8  1995          0               1  \n",
       "8        6.00        9  1995          0               1  \n",
       "9        6.87       10  1995          0               1  \n",
       "10       7.32       11  1995          1               1  \n",
       "11       5.35       12  1995          0               1  \n",
       "12       6.69       13  1995          0               1  \n",
       "13       6.86       14  1995          0               1  \n",
       "14       5.47       15  1995          0               1  \n",
       "15       7.64       16  1995          1               1  \n",
       "16       7.89       17  1995          1               1  \n",
       "17       6.83       18  1995          0               4  \n",
       "18       5.32       19  1995          0               1  \n",
       "19       5.78       20  1995          0               1  "
      ]
     },
     "execution_count": 35,
     "metadata": {},
     "output_type": "execute_result"
    }
   ],
   "source": [
    "cleaner_df.head(20)"
   ]
  },
  {
   "cell_type": "code",
   "execution_count": 36,
   "id": "567c5843",
   "metadata": {
    "scrolled": false
   },
   "outputs": [
    {
     "data": {
      "text/plain": [
       "1     62035\n",
       "2      1473\n",
       "3       144\n",
       "4        38\n",
       "5        22\n",
       "7        16\n",
       "6        15\n",
       "8         7\n",
       "11        4\n",
       "9         3\n",
       "13        2\n",
       "10        2\n",
       "26        2\n",
       "36        1\n",
       "25        1\n",
       "15        1\n",
       "12        1\n",
       "27        1\n",
       "30        1\n",
       "Name: director_count, dtype: int64"
      ]
     },
     "execution_count": 36,
     "metadata": {},
     "output_type": "execute_result"
    }
   ],
   "source": [
    "cleaner_df['director_count'].value_counts()"
   ]
  },
  {
   "cell_type": "code",
   "execution_count": 37,
   "id": "02773ac0",
   "metadata": {
    "scrolled": true
   },
   "outputs": [
    {
     "data": {
      "text/plain": [
       "1     0.972808\n",
       "2     0.023099\n",
       "3     0.002258\n",
       "4     0.000596\n",
       "5     0.000345\n",
       "7     0.000251\n",
       "6     0.000235\n",
       "8     0.000110\n",
       "11    0.000063\n",
       "9     0.000047\n",
       "13    0.000031\n",
       "10    0.000031\n",
       "26    0.000031\n",
       "36    0.000016\n",
       "25    0.000016\n",
       "15    0.000016\n",
       "12    0.000016\n",
       "27    0.000016\n",
       "30    0.000016\n",
       "Name: director_count, dtype: float64"
      ]
     },
     "execution_count": 37,
     "metadata": {},
     "output_type": "execute_result"
    }
   ],
   "source": [
    "# Large number of them seem to be single director or 2 or 3, lets investigate the percent of them\n",
    "# 97% of a large database like this might be more reasonable to drop them?\n",
    "\n",
    "cleaner_df['director_count'].value_counts(normalize = True)"
   ]
  },
  {
   "cell_type": "code",
   "execution_count": 38,
   "id": "2733f392",
   "metadata": {},
   "outputs": [],
   "source": [
    "cleaner_df.drop(columns=['director_count'], inplace=True)"
   ]
  },
  {
   "cell_type": "code",
   "execution_count": 39,
   "id": "38f24a17",
   "metadata": {},
   "outputs": [],
   "source": [
    "# x amount of movies director made\n",
    "\n",
    "cleaner_df['directedBy'] = cleaner_df['directedBy'].str.split(',').str[0]"
   ]
  },
  {
   "cell_type": "code",
   "execution_count": 40,
   "id": "b81369ad",
   "metadata": {
    "scrolled": true
   },
   "outputs": [
    {
     "data": {
      "text/html": [
       "<div>\n",
       "<style scoped>\n",
       "    .dataframe tbody tr th:only-of-type {\n",
       "        vertical-align: middle;\n",
       "    }\n",
       "\n",
       "    .dataframe tbody tr th {\n",
       "        vertical-align: top;\n",
       "    }\n",
       "\n",
       "    .dataframe thead th {\n",
       "        text-align: right;\n",
       "    }\n",
       "</style>\n",
       "<table border=\"1\" class=\"dataframe\">\n",
       "  <thead>\n",
       "    <tr style=\"text-align: right;\">\n",
       "      <th></th>\n",
       "      <th>title</th>\n",
       "      <th>directedBy</th>\n",
       "      <th>starring</th>\n",
       "      <th>avgRating</th>\n",
       "      <th>item_id</th>\n",
       "      <th>Year</th>\n",
       "      <th>Sentiment</th>\n",
       "    </tr>\n",
       "  </thead>\n",
       "  <tbody>\n",
       "    <tr>\n",
       "      <th>0</th>\n",
       "      <td>Toy Story (1995)</td>\n",
       "      <td>John Lasseter</td>\n",
       "      <td>Tim Allen, Tom Hanks, Don Rickles, Jim Varney, John Ratzenberger, Wallace Shawn, Laurie Metcalf, John Morris, R. Lee Ermey, Annie Potts</td>\n",
       "      <td>7.78</td>\n",
       "      <td>1</td>\n",
       "      <td>1995</td>\n",
       "      <td>1</td>\n",
       "    </tr>\n",
       "    <tr>\n",
       "      <th>1</th>\n",
       "      <td>Jumanji (1995)</td>\n",
       "      <td>Joe Johnston</td>\n",
       "      <td>Jonathan Hyde, Bradley Pierce, Robin Williams, Kirsten Dunst</td>\n",
       "      <td>6.53</td>\n",
       "      <td>2</td>\n",
       "      <td>1995</td>\n",
       "      <td>0</td>\n",
       "    </tr>\n",
       "    <tr>\n",
       "      <th>2</th>\n",
       "      <td>Grumpier Old Men (1995)</td>\n",
       "      <td>Howard Deutch</td>\n",
       "      <td>Jack Lemmon, Walter Matthau, Ann-Margret , Sophia Loren</td>\n",
       "      <td>6.34</td>\n",
       "      <td>3</td>\n",
       "      <td>1995</td>\n",
       "      <td>0</td>\n",
       "    </tr>\n",
       "    <tr>\n",
       "      <th>3</th>\n",
       "      <td>Waiting to Exhale (1995)</td>\n",
       "      <td>Forest Whitaker</td>\n",
       "      <td>Angela Bassett, Loretta Devine, Whitney Houston, Lela Rochon</td>\n",
       "      <td>5.74</td>\n",
       "      <td>4</td>\n",
       "      <td>1995</td>\n",
       "      <td>0</td>\n",
       "    </tr>\n",
       "    <tr>\n",
       "      <th>4</th>\n",
       "      <td>Father of the Bride Part II (1995)</td>\n",
       "      <td>Charles Shyer</td>\n",
       "      <td>Steve Martin, Martin Short, Diane Keaton, Kimberly Williams, George Newbern, Kieran Culkin</td>\n",
       "      <td>6.15</td>\n",
       "      <td>5</td>\n",
       "      <td>1995</td>\n",
       "      <td>0</td>\n",
       "    </tr>\n",
       "  </tbody>\n",
       "</table>\n",
       "</div>"
      ],
      "text/plain": [
       "                                title       directedBy  \\\n",
       "0                    Toy Story (1995)    John Lasseter   \n",
       "1                      Jumanji (1995)     Joe Johnston   \n",
       "2             Grumpier Old Men (1995)    Howard Deutch   \n",
       "3            Waiting to Exhale (1995)  Forest Whitaker   \n",
       "4  Father of the Bride Part II (1995)    Charles Shyer   \n",
       "\n",
       "                                                                                                                                  starring  \\\n",
       "0  Tim Allen, Tom Hanks, Don Rickles, Jim Varney, John Ratzenberger, Wallace Shawn, Laurie Metcalf, John Morris, R. Lee Ermey, Annie Potts   \n",
       "1                                                                             Jonathan Hyde, Bradley Pierce, Robin Williams, Kirsten Dunst   \n",
       "2                                                                                  Jack Lemmon, Walter Matthau, Ann-Margret , Sophia Loren   \n",
       "3                                                                             Angela Bassett, Loretta Devine, Whitney Houston, Lela Rochon   \n",
       "4                                               Steve Martin, Martin Short, Diane Keaton, Kimberly Williams, George Newbern, Kieran Culkin   \n",
       "\n",
       "   avgRating  item_id  Year  Sentiment  \n",
       "0       7.78        1  1995          1  \n",
       "1       6.53        2  1995          0  \n",
       "2       6.34        3  1995          0  \n",
       "3       5.74        4  1995          0  \n",
       "4       6.15        5  1995          0  "
      ]
     },
     "execution_count": 40,
     "metadata": {},
     "output_type": "execute_result"
    }
   ],
   "source": [
    "cleaner_df.head()"
   ]
  },
  {
   "cell_type": "code",
   "execution_count": 41,
   "id": "990b02ae",
   "metadata": {},
   "outputs": [],
   "source": [
    "cleaner_df['#Movies_directed'] = cleaner_df.groupby('directedBy')['directedBy'].transform('count')"
   ]
  },
  {
   "cell_type": "code",
   "execution_count": 42,
   "id": "26c9c7d8",
   "metadata": {
    "scrolled": false
   },
   "outputs": [
    {
     "data": {
      "text/html": [
       "<div>\n",
       "<style scoped>\n",
       "    .dataframe tbody tr th:only-of-type {\n",
       "        vertical-align: middle;\n",
       "    }\n",
       "\n",
       "    .dataframe tbody tr th {\n",
       "        vertical-align: top;\n",
       "    }\n",
       "\n",
       "    .dataframe thead th {\n",
       "        text-align: right;\n",
       "    }\n",
       "</style>\n",
       "<table border=\"1\" class=\"dataframe\">\n",
       "  <thead>\n",
       "    <tr style=\"text-align: right;\">\n",
       "      <th></th>\n",
       "      <th>title</th>\n",
       "      <th>directedBy</th>\n",
       "      <th>starring</th>\n",
       "      <th>avgRating</th>\n",
       "      <th>item_id</th>\n",
       "      <th>Year</th>\n",
       "      <th>Sentiment</th>\n",
       "      <th>#Movies_directed</th>\n",
       "    </tr>\n",
       "  </thead>\n",
       "  <tbody>\n",
       "    <tr>\n",
       "      <th>0</th>\n",
       "      <td>Toy Story (1995)</td>\n",
       "      <td>John Lasseter</td>\n",
       "      <td>Tim Allen, Tom Hanks, Don Rickles, Jim Varney, John Ratzenberger, Wallace Shawn, Laurie Metcalf, John Morris, R. Lee Ermey, Annie Potts</td>\n",
       "      <td>7.78</td>\n",
       "      <td>1</td>\n",
       "      <td>1995</td>\n",
       "      <td>1</td>\n",
       "      <td>6</td>\n",
       "    </tr>\n",
       "    <tr>\n",
       "      <th>1</th>\n",
       "      <td>Jumanji (1995)</td>\n",
       "      <td>Joe Johnston</td>\n",
       "      <td>Jonathan Hyde, Bradley Pierce, Robin Williams, Kirsten Dunst</td>\n",
       "      <td>6.53</td>\n",
       "      <td>2</td>\n",
       "      <td>1995</td>\n",
       "      <td>0</td>\n",
       "      <td>9</td>\n",
       "    </tr>\n",
       "    <tr>\n",
       "      <th>2</th>\n",
       "      <td>Grumpier Old Men (1995)</td>\n",
       "      <td>Howard Deutch</td>\n",
       "      <td>Jack Lemmon, Walter Matthau, Ann-Margret , Sophia Loren</td>\n",
       "      <td>6.34</td>\n",
       "      <td>3</td>\n",
       "      <td>1995</td>\n",
       "      <td>0</td>\n",
       "      <td>11</td>\n",
       "    </tr>\n",
       "    <tr>\n",
       "      <th>3</th>\n",
       "      <td>Waiting to Exhale (1995)</td>\n",
       "      <td>Forest Whitaker</td>\n",
       "      <td>Angela Bassett, Loretta Devine, Whitney Houston, Lela Rochon</td>\n",
       "      <td>5.74</td>\n",
       "      <td>4</td>\n",
       "      <td>1995</td>\n",
       "      <td>0</td>\n",
       "      <td>4</td>\n",
       "    </tr>\n",
       "    <tr>\n",
       "      <th>4</th>\n",
       "      <td>Father of the Bride Part II (1995)</td>\n",
       "      <td>Charles Shyer</td>\n",
       "      <td>Steve Martin, Martin Short, Diane Keaton, Kimberly Williams, George Newbern, Kieran Culkin</td>\n",
       "      <td>6.15</td>\n",
       "      <td>5</td>\n",
       "      <td>1995</td>\n",
       "      <td>0</td>\n",
       "      <td>7</td>\n",
       "    </tr>\n",
       "  </tbody>\n",
       "</table>\n",
       "</div>"
      ],
      "text/plain": [
       "                                title       directedBy  \\\n",
       "0                    Toy Story (1995)    John Lasseter   \n",
       "1                      Jumanji (1995)     Joe Johnston   \n",
       "2             Grumpier Old Men (1995)    Howard Deutch   \n",
       "3            Waiting to Exhale (1995)  Forest Whitaker   \n",
       "4  Father of the Bride Part II (1995)    Charles Shyer   \n",
       "\n",
       "                                                                                                                                  starring  \\\n",
       "0  Tim Allen, Tom Hanks, Don Rickles, Jim Varney, John Ratzenberger, Wallace Shawn, Laurie Metcalf, John Morris, R. Lee Ermey, Annie Potts   \n",
       "1                                                                             Jonathan Hyde, Bradley Pierce, Robin Williams, Kirsten Dunst   \n",
       "2                                                                                  Jack Lemmon, Walter Matthau, Ann-Margret , Sophia Loren   \n",
       "3                                                                             Angela Bassett, Loretta Devine, Whitney Houston, Lela Rochon   \n",
       "4                                               Steve Martin, Martin Short, Diane Keaton, Kimberly Williams, George Newbern, Kieran Culkin   \n",
       "\n",
       "   avgRating  item_id  Year  Sentiment  #Movies_directed  \n",
       "0       7.78        1  1995          1                 6  \n",
       "1       6.53        2  1995          0                 9  \n",
       "2       6.34        3  1995          0                11  \n",
       "3       5.74        4  1995          0                 4  \n",
       "4       6.15        5  1995          0                 7  "
      ]
     },
     "execution_count": 42,
     "metadata": {},
     "output_type": "execute_result"
    }
   ],
   "source": [
    "cleaner_df.head()"
   ]
  },
  {
   "cell_type": "code",
   "execution_count": 43,
   "id": "1afffda5",
   "metadata": {},
   "outputs": [
    {
     "data": {
      "text/plain": [
       "1     16078\n",
       "2      8080\n",
       "3      5679\n",
       "4      4300\n",
       "5      3240\n",
       "6      2760\n",
       "7      2436\n",
       "8      1936\n",
       "9      1719\n",
       "10     1470\n",
       "11     1342\n",
       "13     1196\n",
       "12     1092\n",
       "15     1020\n",
       "16      992\n",
       "14      924\n",
       "18      702\n",
       "19      665\n",
       "22      616\n",
       "17      578\n",
       "23      552\n",
       "21      546\n",
       "20      480\n",
       "24      456\n",
       "25      450\n",
       "26      364\n",
       "33      363\n",
       "30      360\n",
       "32      320\n",
       "27      270\n",
       "29      261\n",
       "34      238\n",
       "39      234\n",
       "28      168\n",
       "42      168\n",
       "36      144\n",
       "44      132\n",
       "38      114\n",
       "37      111\n",
       "49       98\n",
       "31       93\n",
       "46       92\n",
       "45       90\n",
       "43       86\n",
       "41       82\n",
       "40       80\n",
       "77       77\n",
       "35       70\n",
       "69       69\n",
       "68       68\n",
       "55       55\n",
       "53       53\n",
       "52       52\n",
       "51       51\n",
       "50       50\n",
       "47       47\n",
       "Name: #Movies_directed, dtype: int64"
      ]
     },
     "execution_count": 43,
     "metadata": {},
     "output_type": "execute_result"
    }
   ],
   "source": [
    "cleaner_df['#Movies_directed'].value_counts()"
   ]
  },
  {
   "cell_type": "code",
   "execution_count": 44,
   "id": "2732ac49",
   "metadata": {},
   "outputs": [
    {
     "data": {
      "image/png": "[encoded data removed]",
      "text/plain": [
       "<Figure size 640x480 with 1 Axes>"
      ]
     },
     "metadata": {},
     "output_type": "display_data"
    }
   ],
   "source": [
    "plt.figure()\n",
    "\n",
    "plt.scatter(cleaner_df['#Movies_directed'], cleaner_df['avgRating'], alpha=0.1) # change the transparency with the alpha param, between 0 and 1\n",
    "\n",
    "plt.xlabel('# of Movies Directed')\n",
    "plt.ylabel('Rating')\n",
    "plt.title('Director vs Average Rating')\n",
    "\n",
    "plt.show()"
   ]
  },
  {
   "cell_type": "code",
   "execution_count": 45,
   "id": "4e29ca93",
   "metadata": {
    "scrolled": false
   },
   "outputs": [],
   "source": [
    "# Gets a column counting by actors, we see it's seperated by commas\n",
    "cleaner_df['actor_count'] = cleaner_df[\"starring\"].str.count(\",\") + 1"
   ]
  },
  {
   "cell_type": "code",
   "execution_count": 46,
   "id": "0e796a9e",
   "metadata": {
    "scrolled": true
   },
   "outputs": [
    {
     "data": {
      "text/plain": [
       "5     0.518104\n",
       "4     0.173878\n",
       "3     0.100488\n",
       "1     0.044771\n",
       "2     0.043908\n",
       "6     0.034280\n",
       "7     0.020214\n",
       "8     0.014239\n",
       "9     0.010068\n",
       "10    0.007731\n",
       "11    0.006414\n",
       "12    0.005206\n",
       "13    0.003999\n",
       "15    0.003324\n",
       "14    0.003152\n",
       "16    0.001678\n",
       "17    0.001600\n",
       "18    0.001443\n",
       "20    0.000862\n",
       "19    0.000831\n",
       "21    0.000800\n",
       "22    0.000455\n",
       "24    0.000376\n",
       "23    0.000282\n",
       "29    0.000251\n",
       "25    0.000235\n",
       "28    0.000220\n",
       "26    0.000220\n",
       "27    0.000188\n",
       "30    0.000157\n",
       "31    0.000110\n",
       "32    0.000094\n",
       "35    0.000063\n",
       "41    0.000047\n",
       "36    0.000047\n",
       "33    0.000031\n",
       "34    0.000031\n",
       "37    0.000031\n",
       "40    0.000031\n",
       "57    0.000031\n",
       "70    0.000016\n",
       "38    0.000016\n",
       "45    0.000016\n",
       "52    0.000016\n",
       "51    0.000016\n",
       "65    0.000016\n",
       "42    0.000016\n",
       "Name: actor_count, dtype: float64"
      ]
     },
     "execution_count": 46,
     "metadata": {},
     "output_type": "execute_result"
    }
   ],
   "source": [
    "# 5 actors is the starring list's most common\n",
    "\n",
    "cleaner_df['actor_count'].value_counts(normalize = True)"
   ]
  },
  {
   "cell_type": "code",
   "execution_count": 47,
   "id": "7df2c049",
   "metadata": {
    "scrolled": true
   },
   "outputs": [
    {
     "data": {
      "text/plain": [
       "1     0.044771\n",
       "2     0.088679\n",
       "3     0.189167\n",
       "4     0.363045\n",
       "5     0.881149\n",
       "6     0.915429\n",
       "7     0.935643\n",
       "8     0.949882\n",
       "9     0.959949\n",
       "10    0.967680\n",
       "11    0.974094\n",
       "12    0.979300\n",
       "13    0.983299\n",
       "14    0.986451\n",
       "15    0.989776\n",
       "16    0.991454\n",
       "17    0.993053\n",
       "18    0.994496\n",
       "19    0.995327\n",
       "20    0.996189\n",
       "21    0.996989\n",
       "22    0.997444\n",
       "23    0.997726\n",
       "24    0.998103\n",
       "25    0.998338\n",
       "26    0.998557\n",
       "27    0.998745\n",
       "28    0.998965\n",
       "29    0.999216\n",
       "30    0.999373\n",
       "31    0.999483\n",
       "32    0.999577\n",
       "33    0.999608\n",
       "34    0.999639\n",
       "35    0.999702\n",
       "36    0.999749\n",
       "37    0.999780\n",
       "38    0.999796\n",
       "40    0.999828\n",
       "41    0.999875\n",
       "42    0.999890\n",
       "45    0.999906\n",
       "51    0.999922\n",
       "52    0.999937\n",
       "57    0.999969\n",
       "65    0.999984\n",
       "70    1.000000\n",
       "Name: actor_count, dtype: float64"
      ]
     },
     "execution_count": 47,
     "metadata": {},
     "output_type": "execute_result"
    }
   ],
   "source": [
    "# 5 actors also makes up almost 90% of the dataset.\n",
    "# limit it to top 5 actors.\n",
    "\n",
    "cleaner_df['actor_count'].value_counts(normalize=True).sort_index().cumsum()"
   ]
  },
  {
   "cell_type": "code",
   "execution_count": 48,
   "id": "8ef09b71",
   "metadata": {},
   "outputs": [
    {
     "name": "stdout",
     "output_type": "stream",
     "text": [
      "<class 'pandas.core.frame.DataFrame'>\n",
      "Int64Index: 63769 entries, 0 to 84561\n",
      "Data columns (total 9 columns):\n",
      " #   Column            Non-Null Count  Dtype  \n",
      "---  ------            --------------  -----  \n",
      " 0   title             63769 non-null  object \n",
      " 1   directedBy        63769 non-null  object \n",
      " 2   starring          63769 non-null  object \n",
      " 3   avgRating         63769 non-null  float64\n",
      " 4   item_id           63769 non-null  int64  \n",
      " 5   Year              63769 non-null  Int64  \n",
      " 6   Sentiment         63769 non-null  int32  \n",
      " 7   #Movies_directed  63769 non-null  int64  \n",
      " 8   actor_count       63769 non-null  int64  \n",
      "dtypes: Int64(1), float64(1), int32(1), int64(3), object(3)\n",
      "memory usage: 4.7+ MB\n"
     ]
    }
   ],
   "source": [
    "cleaner_df.info()"
   ]
  },
  {
   "cell_type": "code",
   "execution_count": 49,
   "id": "ebdf74ae",
   "metadata": {},
   "outputs": [],
   "source": [
    "# map anyhting over 5 to 5\n",
    "cleaner_df['actor_count'] = np.where(cleaner_df['actor_count'] >= 5, 5, cleaner_df['actor_count'])"
   ]
  },
  {
   "cell_type": "code",
   "execution_count": 50,
   "id": "3600773a",
   "metadata": {
    "scrolled": false
   },
   "outputs": [
    {
     "data": {
      "text/plain": [
       "5    0.636955\n",
       "4    0.173878\n",
       "3    0.100488\n",
       "1    0.044771\n",
       "2    0.043908\n",
       "Name: actor_count, dtype: float64"
      ]
     },
     "execution_count": 50,
     "metadata": {},
     "output_type": "execute_result"
    }
   ],
   "source": [
    "cleaner_df['actor_count'].value_counts(normalize = True)"
   ]
  },
  {
   "cell_type": "code",
   "execution_count": 51,
   "id": "7c195bdf",
   "metadata": {},
   "outputs": [
    {
     "data": {
      "text/html": [
       "<div>\n",
       "<style scoped>\n",
       "    .dataframe tbody tr th:only-of-type {\n",
       "        vertical-align: middle;\n",
       "    }\n",
       "\n",
       "    .dataframe tbody tr th {\n",
       "        vertical-align: top;\n",
       "    }\n",
       "\n",
       "    .dataframe thead th {\n",
       "        text-align: right;\n",
       "    }\n",
       "</style>\n",
       "<table border=\"1\" class=\"dataframe\">\n",
       "  <thead>\n",
       "    <tr style=\"text-align: right;\">\n",
       "      <th></th>\n",
       "      <th>Actor 1</th>\n",
       "      <th>Actor 2</th>\n",
       "      <th>Actor 3</th>\n",
       "      <th>Actor 4</th>\n",
       "      <th>Actor 5</th>\n",
       "    </tr>\n",
       "  </thead>\n",
       "  <tbody>\n",
       "    <tr>\n",
       "      <th>0</th>\n",
       "      <td>Tim Allen</td>\n",
       "      <td>Tom Hanks</td>\n",
       "      <td>Don Rickles</td>\n",
       "      <td>Jim Varney</td>\n",
       "      <td>John Ratzenberger</td>\n",
       "    </tr>\n",
       "    <tr>\n",
       "      <th>1</th>\n",
       "      <td>Jonathan Hyde</td>\n",
       "      <td>Bradley Pierce</td>\n",
       "      <td>Robin Williams</td>\n",
       "      <td>Kirsten Dunst</td>\n",
       "      <td>0</td>\n",
       "    </tr>\n",
       "    <tr>\n",
       "      <th>2</th>\n",
       "      <td>Jack Lemmon</td>\n",
       "      <td>Walter Matthau</td>\n",
       "      <td>Ann-Margret</td>\n",
       "      <td>Sophia Loren</td>\n",
       "      <td>0</td>\n",
       "    </tr>\n",
       "    <tr>\n",
       "      <th>3</th>\n",
       "      <td>Angela Bassett</td>\n",
       "      <td>Loretta Devine</td>\n",
       "      <td>Whitney Houston</td>\n",
       "      <td>Lela Rochon</td>\n",
       "      <td>0</td>\n",
       "    </tr>\n",
       "    <tr>\n",
       "      <th>4</th>\n",
       "      <td>Steve Martin</td>\n",
       "      <td>Martin Short</td>\n",
       "      <td>Diane Keaton</td>\n",
       "      <td>Kimberly Williams</td>\n",
       "      <td>George Newbern</td>\n",
       "    </tr>\n",
       "  </tbody>\n",
       "</table>\n",
       "</div>"
      ],
      "text/plain": [
       "          Actor 1          Actor 2           Actor 3             Actor 4  \\\n",
       "0       Tim Allen        Tom Hanks       Don Rickles          Jim Varney   \n",
       "1   Jonathan Hyde   Bradley Pierce    Robin Williams       Kirsten Dunst   \n",
       "2     Jack Lemmon   Walter Matthau      Ann-Margret         Sophia Loren   \n",
       "3  Angela Bassett   Loretta Devine   Whitney Houston         Lela Rochon   \n",
       "4    Steve Martin     Martin Short      Diane Keaton   Kimberly Williams   \n",
       "\n",
       "              Actor 5  \n",
       "0   John Ratzenberger  \n",
       "1                   0  \n",
       "2                   0  \n",
       "3                   0  \n",
       "4      George Newbern  "
      ]
     },
     "execution_count": 51,
     "metadata": {},
     "output_type": "execute_result"
    }
   ],
   "source": [
    "\n",
    "actors_list = []\n",
    "\n",
    "for index, row in cleaner_df.iterrows():\n",
    "    # Split the \"starring\" column by commas to get a list of actors\n",
    "    cols = row['starring'].split(\",\")\n",
    "    if len(cols) < 5:\n",
    "        cols += [0] * (5 - len(cols))\n",
    "    else:\n",
    "        cols = cols[:5]\n",
    "    \n",
    "    # Add the list of actors to the list of actor lists\n",
    "    actors_list.append(cols)\n",
    "\n",
    "# make it a dataframe\n",
    "actors_df = pd.DataFrame(actors_list, columns=['Actor 1', 'Actor 2', 'Actor 3', 'Actor 4', 'Actor 5'])\n",
    "\n",
    "# Look at new table\n",
    "actors_df.head()"
   ]
  },
  {
   "cell_type": "code",
   "execution_count": 52,
   "id": "f3fcabc2",
   "metadata": {},
   "outputs": [
    {
     "name": "stdout",
     "output_type": "stream",
     "text": [
      "(63769, 5)\n"
     ]
    }
   ],
   "source": [
    "print(actors_df.shape)"
   ]
  },
  {
   "cell_type": "code",
   "execution_count": 53,
   "id": "c9e0cf99",
   "metadata": {},
   "outputs": [],
   "source": [
    "#exclude 0s\n",
    "# Flatten the dataframe and count the appearances of each actor\n",
    "actor_counts = actors_df.stack().value_counts()\n",
    "\n",
    "# Create a new dataframe with total appearances for each row\n",
    "total_appearances_df = pd.DataFrame()\n",
    "for index, row in actors_df.iterrows():\n",
    "    actors = [actor for actor in row.values if actor != 0]\n",
    "    total_appearances = actor_counts.loc[actors].sum()\n",
    "    total_appearances_df = total_appearances_df.append(pd.DataFrame({'total_appearances': [total_appearances]}), ignore_index=True)\n"
   ]
  },
  {
   "cell_type": "code",
   "execution_count": 54,
   "id": "4b0f0fc9",
   "metadata": {},
   "outputs": [
    {
     "data": {
      "text/html": [
       "<div>\n",
       "<style scoped>\n",
       "    .dataframe tbody tr th:only-of-type {\n",
       "        vertical-align: middle;\n",
       "    }\n",
       "\n",
       "    .dataframe tbody tr th {\n",
       "        vertical-align: top;\n",
       "    }\n",
       "\n",
       "    .dataframe thead th {\n",
       "        text-align: right;\n",
       "    }\n",
       "</style>\n",
       "<table border=\"1\" class=\"dataframe\">\n",
       "  <thead>\n",
       "    <tr style=\"text-align: right;\">\n",
       "      <th></th>\n",
       "      <th>total_appearances</th>\n",
       "    </tr>\n",
       "  </thead>\n",
       "  <tbody>\n",
       "    <tr>\n",
       "      <th>0</th>\n",
       "      <td>66</td>\n",
       "    </tr>\n",
       "    <tr>\n",
       "      <th>1</th>\n",
       "      <td>52</td>\n",
       "    </tr>\n",
       "    <tr>\n",
       "      <th>2</th>\n",
       "      <td>80</td>\n",
       "    </tr>\n",
       "    <tr>\n",
       "      <th>3</th>\n",
       "      <td>33</td>\n",
       "    </tr>\n",
       "    <tr>\n",
       "      <th>4</th>\n",
       "      <td>75</td>\n",
       "    </tr>\n",
       "  </tbody>\n",
       "</table>\n",
       "</div>"
      ],
      "text/plain": [
       "   total_appearances\n",
       "0                 66\n",
       "1                 52\n",
       "2                 80\n",
       "3                 33\n",
       "4                 75"
      ]
     },
     "execution_count": 54,
     "metadata": {},
     "output_type": "execute_result"
    }
   ],
   "source": [
    "\n",
    "# Display the new dataframe\n",
    "total_appearances_df.head()"
   ]
  },
  {
   "cell_type": "code",
   "execution_count": 55,
   "id": "a9ce0561",
   "metadata": {},
   "outputs": [],
   "source": [
    "# combine the appearance number with the actors dataframe\n",
    "actors_appearances_df = pd.concat([actors_df.reset_index(drop=True), total_appearances_df.reset_index(drop=True)], axis = 1)"
   ]
  },
  {
   "cell_type": "code",
   "execution_count": 56,
   "id": "1a0d642e",
   "metadata": {},
   "outputs": [],
   "source": [
    "# append the actors dataframe to the original dataset\n",
    "# Reset index to avoid adding new rows\n",
    "movies_df = pd.concat([cleaner_df.reset_index(drop=True), actors_appearances_df.reset_index(drop=True)], axis = 1)"
   ]
  },
  {
   "cell_type": "code",
   "execution_count": 57,
   "id": "3f152ecb",
   "metadata": {},
   "outputs": [
    {
     "data": {
      "text/html": [
       "<div>\n",
       "<style scoped>\n",
       "    .dataframe tbody tr th:only-of-type {\n",
       "        vertical-align: middle;\n",
       "    }\n",
       "\n",
       "    .dataframe tbody tr th {\n",
       "        vertical-align: top;\n",
       "    }\n",
       "\n",
       "    .dataframe thead th {\n",
       "        text-align: right;\n",
       "    }\n",
       "</style>\n",
       "<table border=\"1\" class=\"dataframe\">\n",
       "  <thead>\n",
       "    <tr style=\"text-align: right;\">\n",
       "      <th></th>\n",
       "      <th>title</th>\n",
       "      <th>directedBy</th>\n",
       "      <th>starring</th>\n",
       "      <th>avgRating</th>\n",
       "      <th>item_id</th>\n",
       "      <th>Year</th>\n",
       "      <th>Sentiment</th>\n",
       "      <th>#Movies_directed</th>\n",
       "      <th>actor_count</th>\n",
       "      <th>Actor 1</th>\n",
       "      <th>Actor 2</th>\n",
       "      <th>Actor 3</th>\n",
       "      <th>Actor 4</th>\n",
       "      <th>Actor 5</th>\n",
       "      <th>total_appearances</th>\n",
       "    </tr>\n",
       "  </thead>\n",
       "  <tbody>\n",
       "    <tr>\n",
       "      <th>0</th>\n",
       "      <td>Toy Story (1995)</td>\n",
       "      <td>John Lasseter</td>\n",
       "      <td>Tim Allen, Tom Hanks, Don Rickles, Jim Varney, John Ratzenberger, Wallace Shawn, Laurie Metcalf, John Morris, R. Lee Ermey, Annie Potts</td>\n",
       "      <td>7.78</td>\n",
       "      <td>1</td>\n",
       "      <td>1995</td>\n",
       "      <td>1</td>\n",
       "      <td>6</td>\n",
       "      <td>5</td>\n",
       "      <td>Tim Allen</td>\n",
       "      <td>Tom Hanks</td>\n",
       "      <td>Don Rickles</td>\n",
       "      <td>Jim Varney</td>\n",
       "      <td>John Ratzenberger</td>\n",
       "      <td>66</td>\n",
       "    </tr>\n",
       "    <tr>\n",
       "      <th>1</th>\n",
       "      <td>Jumanji (1995)</td>\n",
       "      <td>Joe Johnston</td>\n",
       "      <td>Jonathan Hyde, Bradley Pierce, Robin Williams, Kirsten Dunst</td>\n",
       "      <td>6.53</td>\n",
       "      <td>2</td>\n",
       "      <td>1995</td>\n",
       "      <td>0</td>\n",
       "      <td>9</td>\n",
       "      <td>4</td>\n",
       "      <td>Jonathan Hyde</td>\n",
       "      <td>Bradley Pierce</td>\n",
       "      <td>Robin Williams</td>\n",
       "      <td>Kirsten Dunst</td>\n",
       "      <td>0</td>\n",
       "      <td>52</td>\n",
       "    </tr>\n",
       "    <tr>\n",
       "      <th>2</th>\n",
       "      <td>Grumpier Old Men (1995)</td>\n",
       "      <td>Howard Deutch</td>\n",
       "      <td>Jack Lemmon, Walter Matthau, Ann-Margret , Sophia Loren</td>\n",
       "      <td>6.34</td>\n",
       "      <td>3</td>\n",
       "      <td>1995</td>\n",
       "      <td>0</td>\n",
       "      <td>11</td>\n",
       "      <td>4</td>\n",
       "      <td>Jack Lemmon</td>\n",
       "      <td>Walter Matthau</td>\n",
       "      <td>Ann-Margret</td>\n",
       "      <td>Sophia Loren</td>\n",
       "      <td>0</td>\n",
       "      <td>80</td>\n",
       "    </tr>\n",
       "    <tr>\n",
       "      <th>3</th>\n",
       "      <td>Waiting to Exhale (1995)</td>\n",
       "      <td>Forest Whitaker</td>\n",
       "      <td>Angela Bassett, Loretta Devine, Whitney Houston, Lela Rochon</td>\n",
       "      <td>5.74</td>\n",
       "      <td>4</td>\n",
       "      <td>1995</td>\n",
       "      <td>0</td>\n",
       "      <td>4</td>\n",
       "      <td>4</td>\n",
       "      <td>Angela Bassett</td>\n",
       "      <td>Loretta Devine</td>\n",
       "      <td>Whitney Houston</td>\n",
       "      <td>Lela Rochon</td>\n",
       "      <td>0</td>\n",
       "      <td>33</td>\n",
       "    </tr>\n",
       "    <tr>\n",
       "      <th>4</th>\n",
       "      <td>Father of the Bride Part II (1995)</td>\n",
       "      <td>Charles Shyer</td>\n",
       "      <td>Steve Martin, Martin Short, Diane Keaton, Kimberly Williams, George Newbern, Kieran Culkin</td>\n",
       "      <td>6.15</td>\n",
       "      <td>5</td>\n",
       "      <td>1995</td>\n",
       "      <td>0</td>\n",
       "      <td>7</td>\n",
       "      <td>5</td>\n",
       "      <td>Steve Martin</td>\n",
       "      <td>Martin Short</td>\n",
       "      <td>Diane Keaton</td>\n",
       "      <td>Kimberly Williams</td>\n",
       "      <td>George Newbern</td>\n",
       "      <td>75</td>\n",
       "    </tr>\n",
       "  </tbody>\n",
       "</table>\n",
       "</div>"
      ],
      "text/plain": [
       "                                title       directedBy  \\\n",
       "0                    Toy Story (1995)    John Lasseter   \n",
       "1                      Jumanji (1995)     Joe Johnston   \n",
       "2             Grumpier Old Men (1995)    Howard Deutch   \n",
       "3            Waiting to Exhale (1995)  Forest Whitaker   \n",
       "4  Father of the Bride Part II (1995)    Charles Shyer   \n",
       "\n",
       "                                                                                                                                  starring  \\\n",
       "0  Tim Allen, Tom Hanks, Don Rickles, Jim Varney, John Ratzenberger, Wallace Shawn, Laurie Metcalf, John Morris, R. Lee Ermey, Annie Potts   \n",
       "1                                                                             Jonathan Hyde, Bradley Pierce, Robin Williams, Kirsten Dunst   \n",
       "2                                                                                  Jack Lemmon, Walter Matthau, Ann-Margret , Sophia Loren   \n",
       "3                                                                             Angela Bassett, Loretta Devine, Whitney Houston, Lela Rochon   \n",
       "4                                               Steve Martin, Martin Short, Diane Keaton, Kimberly Williams, George Newbern, Kieran Culkin   \n",
       "\n",
       "   avgRating  item_id  Year  Sentiment  #Movies_directed  actor_count  \\\n",
       "0       7.78        1  1995          1                 6            5   \n",
       "1       6.53        2  1995          0                 9            4   \n",
       "2       6.34        3  1995          0                11            4   \n",
       "3       5.74        4  1995          0                 4            4   \n",
       "4       6.15        5  1995          0                 7            5   \n",
       "\n",
       "          Actor 1          Actor 2           Actor 3             Actor 4  \\\n",
       "0       Tim Allen        Tom Hanks       Don Rickles          Jim Varney   \n",
       "1   Jonathan Hyde   Bradley Pierce    Robin Williams       Kirsten Dunst   \n",
       "2     Jack Lemmon   Walter Matthau      Ann-Margret         Sophia Loren   \n",
       "3  Angela Bassett   Loretta Devine   Whitney Houston         Lela Rochon   \n",
       "4    Steve Martin     Martin Short      Diane Keaton   Kimberly Williams   \n",
       "\n",
       "              Actor 5  total_appearances  \n",
       "0   John Ratzenberger                 66  \n",
       "1                   0                 52  \n",
       "2                   0                 80  \n",
       "3                   0                 33  \n",
       "4      George Newbern                 75  "
      ]
     },
     "execution_count": 57,
     "metadata": {},
     "output_type": "execute_result"
    }
   ],
   "source": [
    "movies_df.head()"
   ]
  },
  {
   "cell_type": "code",
   "execution_count": 58,
   "id": "8e505542",
   "metadata": {},
   "outputs": [],
   "source": [
    "movies_df['Celeb_score'] = movies_df['total_appearances'] / movies_df['actor_count']\n",
    "\n"
   ]
  },
  {
   "cell_type": "code",
   "execution_count": 59,
   "id": "eeeb8041",
   "metadata": {},
   "outputs": [
    {
     "data": {
      "image/png": "[encoded data removed]",
      "text/plain": [
       "<Figure size 640x480 with 1 Axes>"
      ]
     },
     "metadata": {},
     "output_type": "display_data"
    }
   ],
   "source": [
    "plt.figure()\n",
    "\n",
    "plt.scatter(movies_df['Celeb_score'], movies_df['avgRating'], alpha=0.4) # change the transparency with the alpha param, between 0 and 1\n",
    "\n",
    "plt.xlabel('Celebrity Score')\n",
    "plt.ylabel('Rating')\n",
    "plt.title('Celebrity Score vs Average Rating')\n",
    "\n",
    "plt.show()"
   ]
  },
  {
   "cell_type": "code",
   "execution_count": 60,
   "id": "096d1b6e",
   "metadata": {},
   "outputs": [],
   "source": [
    "movies_df.drop(columns=['total_appearances'], inplace=True)"
   ]
  },
  {
   "cell_type": "code",
   "execution_count": 61,
   "id": "93dcd9f8",
   "metadata": {
    "scrolled": true
   },
   "outputs": [
    {
     "data": {
      "text/html": [
       "<div>\n",
       "<style scoped>\n",
       "    .dataframe tbody tr th:only-of-type {\n",
       "        vertical-align: middle;\n",
       "    }\n",
       "\n",
       "    .dataframe tbody tr th {\n",
       "        vertical-align: top;\n",
       "    }\n",
       "\n",
       "    .dataframe thead th {\n",
       "        text-align: right;\n",
       "    }\n",
       "</style>\n",
       "<table border=\"1\" class=\"dataframe\">\n",
       "  <thead>\n",
       "    <tr style=\"text-align: right;\">\n",
       "      <th></th>\n",
       "      <th>title</th>\n",
       "      <th>directedBy</th>\n",
       "      <th>starring</th>\n",
       "      <th>avgRating</th>\n",
       "      <th>item_id</th>\n",
       "      <th>Year</th>\n",
       "      <th>Sentiment</th>\n",
       "      <th>#Movies_directed</th>\n",
       "      <th>actor_count</th>\n",
       "      <th>Actor 1</th>\n",
       "      <th>Actor 2</th>\n",
       "      <th>Actor 3</th>\n",
       "      <th>Actor 4</th>\n",
       "      <th>Actor 5</th>\n",
       "      <th>Celeb_score</th>\n",
       "    </tr>\n",
       "  </thead>\n",
       "  <tbody>\n",
       "    <tr>\n",
       "      <th>0</th>\n",
       "      <td>Toy Story (1995)</td>\n",
       "      <td>John Lasseter</td>\n",
       "      <td>Tim Allen, Tom Hanks, Don Rickles, Jim Varney, John Ratzenberger, Wallace Shawn, Laurie Metcalf, John Morris, R. Lee Ermey, Annie Potts</td>\n",
       "      <td>7.78</td>\n",
       "      <td>1</td>\n",
       "      <td>1995</td>\n",
       "      <td>1</td>\n",
       "      <td>6</td>\n",
       "      <td>5</td>\n",
       "      <td>Tim Allen</td>\n",
       "      <td>Tom Hanks</td>\n",
       "      <td>Don Rickles</td>\n",
       "      <td>Jim Varney</td>\n",
       "      <td>John Ratzenberger</td>\n",
       "      <td>13.20</td>\n",
       "    </tr>\n",
       "    <tr>\n",
       "      <th>1</th>\n",
       "      <td>Jumanji (1995)</td>\n",
       "      <td>Joe Johnston</td>\n",
       "      <td>Jonathan Hyde, Bradley Pierce, Robin Williams, Kirsten Dunst</td>\n",
       "      <td>6.53</td>\n",
       "      <td>2</td>\n",
       "      <td>1995</td>\n",
       "      <td>0</td>\n",
       "      <td>9</td>\n",
       "      <td>4</td>\n",
       "      <td>Jonathan Hyde</td>\n",
       "      <td>Bradley Pierce</td>\n",
       "      <td>Robin Williams</td>\n",
       "      <td>Kirsten Dunst</td>\n",
       "      <td>0</td>\n",
       "      <td>13.00</td>\n",
       "    </tr>\n",
       "    <tr>\n",
       "      <th>2</th>\n",
       "      <td>Grumpier Old Men (1995)</td>\n",
       "      <td>Howard Deutch</td>\n",
       "      <td>Jack Lemmon, Walter Matthau, Ann-Margret , Sophia Loren</td>\n",
       "      <td>6.34</td>\n",
       "      <td>3</td>\n",
       "      <td>1995</td>\n",
       "      <td>0</td>\n",
       "      <td>11</td>\n",
       "      <td>4</td>\n",
       "      <td>Jack Lemmon</td>\n",
       "      <td>Walter Matthau</td>\n",
       "      <td>Ann-Margret</td>\n",
       "      <td>Sophia Loren</td>\n",
       "      <td>0</td>\n",
       "      <td>20.00</td>\n",
       "    </tr>\n",
       "    <tr>\n",
       "      <th>3</th>\n",
       "      <td>Waiting to Exhale (1995)</td>\n",
       "      <td>Forest Whitaker</td>\n",
       "      <td>Angela Bassett, Loretta Devine, Whitney Houston, Lela Rochon</td>\n",
       "      <td>5.74</td>\n",
       "      <td>4</td>\n",
       "      <td>1995</td>\n",
       "      <td>0</td>\n",
       "      <td>4</td>\n",
       "      <td>4</td>\n",
       "      <td>Angela Bassett</td>\n",
       "      <td>Loretta Devine</td>\n",
       "      <td>Whitney Houston</td>\n",
       "      <td>Lela Rochon</td>\n",
       "      <td>0</td>\n",
       "      <td>8.25</td>\n",
       "    </tr>\n",
       "    <tr>\n",
       "      <th>4</th>\n",
       "      <td>Father of the Bride Part II (1995)</td>\n",
       "      <td>Charles Shyer</td>\n",
       "      <td>Steve Martin, Martin Short, Diane Keaton, Kimberly Williams, George Newbern, Kieran Culkin</td>\n",
       "      <td>6.15</td>\n",
       "      <td>5</td>\n",
       "      <td>1995</td>\n",
       "      <td>0</td>\n",
       "      <td>7</td>\n",
       "      <td>5</td>\n",
       "      <td>Steve Martin</td>\n",
       "      <td>Martin Short</td>\n",
       "      <td>Diane Keaton</td>\n",
       "      <td>Kimberly Williams</td>\n",
       "      <td>George Newbern</td>\n",
       "      <td>15.00</td>\n",
       "    </tr>\n",
       "  </tbody>\n",
       "</table>\n",
       "</div>"
      ],
      "text/plain": [
       "                                title       directedBy  \\\n",
       "0                    Toy Story (1995)    John Lasseter   \n",
       "1                      Jumanji (1995)     Joe Johnston   \n",
       "2             Grumpier Old Men (1995)    Howard Deutch   \n",
       "3            Waiting to Exhale (1995)  Forest Whitaker   \n",
       "4  Father of the Bride Part II (1995)    Charles Shyer   \n",
       "\n",
       "                                                                                                                                  starring  \\\n",
       "0  Tim Allen, Tom Hanks, Don Rickles, Jim Varney, John Ratzenberger, Wallace Shawn, Laurie Metcalf, John Morris, R. Lee Ermey, Annie Potts   \n",
       "1                                                                             Jonathan Hyde, Bradley Pierce, Robin Williams, Kirsten Dunst   \n",
       "2                                                                                  Jack Lemmon, Walter Matthau, Ann-Margret , Sophia Loren   \n",
       "3                                                                             Angela Bassett, Loretta Devine, Whitney Houston, Lela Rochon   \n",
       "4                                               Steve Martin, Martin Short, Diane Keaton, Kimberly Williams, George Newbern, Kieran Culkin   \n",
       "\n",
       "   avgRating  item_id  Year  Sentiment  #Movies_directed  actor_count  \\\n",
       "0       7.78        1  1995          1                 6            5   \n",
       "1       6.53        2  1995          0                 9            4   \n",
       "2       6.34        3  1995          0                11            4   \n",
       "3       5.74        4  1995          0                 4            4   \n",
       "4       6.15        5  1995          0                 7            5   \n",
       "\n",
       "          Actor 1          Actor 2           Actor 3             Actor 4  \\\n",
       "0       Tim Allen        Tom Hanks       Don Rickles          Jim Varney   \n",
       "1   Jonathan Hyde   Bradley Pierce    Robin Williams       Kirsten Dunst   \n",
       "2     Jack Lemmon   Walter Matthau      Ann-Margret         Sophia Loren   \n",
       "3  Angela Bassett   Loretta Devine   Whitney Houston         Lela Rochon   \n",
       "4    Steve Martin     Martin Short      Diane Keaton   Kimberly Williams   \n",
       "\n",
       "              Actor 5  Celeb_score  \n",
       "0   John Ratzenberger        13.20  \n",
       "1                   0        13.00  \n",
       "2                   0        20.00  \n",
       "3                   0         8.25  \n",
       "4      George Newbern        15.00  "
      ]
     },
     "execution_count": 61,
     "metadata": {},
     "output_type": "execute_result"
    }
   ],
   "source": [
    "movies_df.head()"
   ]
  },
  {
   "cell_type": "code",
   "execution_count": 62,
   "id": "cf50d931",
   "metadata": {},
   "outputs": [
    {
     "name": "stdout",
     "output_type": "stream",
     "text": [
      "<class 'pandas.core.frame.DataFrame'>\n",
      "RangeIndex: 63769 entries, 0 to 63768\n",
      "Data columns (total 15 columns):\n",
      " #   Column            Non-Null Count  Dtype  \n",
      "---  ------            --------------  -----  \n",
      " 0   title             63769 non-null  object \n",
      " 1   directedBy        63769 non-null  object \n",
      " 2   starring          63769 non-null  object \n",
      " 3   avgRating         63769 non-null  float64\n",
      " 4   item_id           63769 non-null  int64  \n",
      " 5   Year              63769 non-null  Int64  \n",
      " 6   Sentiment         63769 non-null  int32  \n",
      " 7   #Movies_directed  63769 non-null  int64  \n",
      " 8   actor_count       63769 non-null  int64  \n",
      " 9   Actor 1           63769 non-null  object \n",
      " 10  Actor 2           63769 non-null  object \n",
      " 11  Actor 3           63769 non-null  object \n",
      " 12  Actor 4           63769 non-null  object \n",
      " 13  Actor 5           63769 non-null  object \n",
      " 14  Celeb_score       63769 non-null  float64\n",
      "dtypes: Int64(1), float64(2), int32(1), int64(3), object(8)\n",
      "memory usage: 7.1+ MB\n"
     ]
    }
   ],
   "source": [
    "# no nulls and everything seems so have the right data type\n",
    "movies_df.info()"
   ]
  },
  {
   "cell_type": "code",
   "execution_count": 63,
   "id": "c2a5d964",
   "metadata": {},
   "outputs": [],
   "source": [
    "# Keep this section for lin reg model without word analysis\n",
    "# linreg_movies_df = movies_df.copy()\n",
    "\n"
   ]
  },
  {
   "cell_type": "code",
   "execution_count": 64,
   "id": "298e56f5",
   "metadata": {},
   "outputs": [],
   "source": [
    "# linreg_movies_df"
   ]
  },
  {
   "cell_type": "code",
   "execution_count": 175,
   "id": "978714f0",
   "metadata": {},
   "outputs": [],
   "source": [
    "# linreg_movies_df.drop(columns=['title', 'directedBy', 'starring', 'item_id','Actor 1', 'Actor 2', 'Actor 3', 'Actor 4', 'Actor 5'], inplace=True) "
   ]
  },
  {
   "cell_type": "code",
   "execution_count": 176,
   "id": "b34422ed",
   "metadata": {},
   "outputs": [
    {
     "data": {
      "image/png": "[encoded data removed]",
      "text/plain": [
       "<Figure size 1500x1500 with 2 Axes>"
      ]
     },
     "metadata": {},
     "output_type": "display_data"
    }
   ],
   "source": [
    "# actor count and celeb score seem to have a high correlation\n",
    "# Plot the correlation matrix as a heatmap\n",
    "#plt.figure(figsize=(15,15))\n",
    "#sns.heatmap(linreg_movies_df.corr(), annot=True, center=0, vmin=-1, vmax=1)\n",
    "#plt.show()"
   ]
  },
  {
   "cell_type": "markdown",
   "id": "7c8954eb",
   "metadata": {},
   "source": [
    "### Reviews"
   ]
  },
  {
   "cell_type": "code",
   "execution_count": 63,
   "id": "650a4e8b",
   "metadata": {},
   "outputs": [],
   "source": [
    "reviews_raw = pd.read_json(r\"C:\\Users\\micha\\OneDrive\\Desktop\\Capstone\\movie_dataset_public_final\\raw\\reviews.json\", lines=True)"
   ]
  },
  {
   "cell_type": "code",
   "execution_count": 64,
   "id": "dc376e41",
   "metadata": {
    "scrolled": false
   },
   "outputs": [
    {
     "data": {
      "text/html": [
       "<div>\n",
       "<style scoped>\n",
       "    .dataframe tbody tr th:only-of-type {\n",
       "        vertical-align: middle;\n",
       "    }\n",
       "\n",
       "    .dataframe tbody tr th {\n",
       "        vertical-align: top;\n",
       "    }\n",
       "\n",
       "    .dataframe thead th {\n",
       "        text-align: right;\n",
       "    }\n",
       "</style>\n",
       "<table border=\"1\" class=\"dataframe\">\n",
       "  <thead>\n",
       "    <tr style=\"text-align: right;\">\n",
       "      <th></th>\n",
       "      <th>item_id</th>\n",
       "      <th>txt</th>\n",
       "    </tr>\n",
       "  </thead>\n",
       "  <tbody>\n",
       "    <tr>\n",
       "      <th>0</th>\n",
       "      <td>172063</td>\n",
       "      <td>one-shot record of a belly dancer; \"Carmencita Dancing,\" one of a series of Edison short films featuring \\r circus and vaudeville acts, displayed the... um... \"talents\" of a zaftig belly-dancer who agreed to undulate before the camera of the famous \"Black \\r Maria\" studio. \\r \\r The dance was originally intended to be played in a Kinetoscope, a single -person arcade viewer connected to Edison's more famous invention, the phonograph. Through a pair of crude headphones, the latter device supplied an asynchronous soundtrack of \"hootchie-cootchie\" music. \\r \\r The Kinetograph camera here employed is so new -- even to its inventors \\r -- that director Dickson has drastically \"overcranked\" the film, unintentionally producing one of the first examples of slow-motion.\\r \\r Carmencita's titillating movements were considered by many to be \\r scandalous. Thus, the film prompted some of the earliest discussions of film censorship.</td>\n",
       "    </tr>\n",
       "    <tr>\n",
       "      <th>1</th>\n",
       "      <td>95541</td>\n",
       "      <td>Banging Away..; Thomas Edison and William K.L. Dickson's \"Blacksmith Scene,\" was the first film shown publicly in 1893. This short is a brief look at 3 workers as they go about their daily ritual. Great piece of work for its time. In the early days of cinema, directors typically recorded everyday events such as the arrival of ships or workers leaving a factory. These short films were called \"actualities.\" Later, with the advent of better equipment (which could record for longer), directors began to introduce more complicated narratives into film. 10* (10* Rating System)</td>\n",
       "    </tr>\n",
       "    <tr>\n",
       "      <th>2</th>\n",
       "      <td>7065</td>\n",
       "      <td>unbelievable; I cannot understand how anyone can call this one of the greatest movies ever made. It is disgraceful and appalling. I guess it is still high entertainment to see white actors in black face and watch a film loaded with stereotype.</td>\n",
       "    </tr>\n",
       "    <tr>\n",
       "      <th>3</th>\n",
       "      <td>3739</td>\n",
       "      <td>I'm still starry-eyed from it; I saw this last night on the Turner Classic Movies station.  Wow.  This is a perfect, shining, ebullient example of what was possible before The Code. The clever, witty, salacious dialogue!  The compromising situations!  The sheer sexuality permeating every scene, including the ones where the camera is on this side of a closed door!  I am so glad that I finally saw this film, and would own a copy immediately were it available in any format. There's a lesson here.  All together now: NEVER AGAIN with the censorship!!!</td>\n",
       "    </tr>\n",
       "    <tr>\n",
       "      <th>4</th>\n",
       "      <td>1562</td>\n",
       "      <td>Failed on every Front; Joel Schumacher who did an OK job on the third Batman Movie, has simply lost the plot on this one. Poorly cast with the exception of Robin and Ivy, this is far more like the 60's TV series than the comic books, and it just does not work. The Baddies are not menacing, Schwarzenegger rarely performs this badly and Uma Thurman, although she did an OK job was just a poor character. As for Batgirl, this is just too much. Bring back Keaton and Tim Burton and take Batman back to his dark roots. There is no future for Batman if it continues like this. 3/10</td>\n",
       "    </tr>\n",
       "  </tbody>\n",
       "</table>\n",
       "</div>"
      ],
      "text/plain": [
       "   item_id  \\\n",
       "0   172063   \n",
       "1    95541   \n",
       "2     7065   \n",
       "3     3739   \n",
       "4     1562   \n",
       "\n",
       "                                                                                                                                                                                                                                                                                                                                                                                                                                                                                                                                                                                                                                                                                                                                                                                                                                                                                                                                                                    txt  \n",
       "0  one-shot record of a belly dancer; \"Carmencita Dancing,\" one of a series of Edison short films featuring \\r circus and vaudeville acts, displayed the... um... \"talents\" of a zaftig belly-dancer who agreed to undulate before the camera of the famous \"Black \\r Maria\" studio. \\r \\r The dance was originally intended to be played in a Kinetoscope, a single -person arcade viewer connected to Edison's more famous invention, the phonograph. Through a pair of crude headphones, the latter device supplied an asynchronous soundtrack of \"hootchie-cootchie\" music. \\r \\r The Kinetograph camera here employed is so new -- even to its inventors \\r -- that director Dickson has drastically \"overcranked\" the film, unintentionally producing one of the first examples of slow-motion.\\r \\r Carmencita's titillating movements were considered by many to be \\r scandalous. Thus, the film prompted some of the earliest discussions of film censorship.  \n",
       "1                                                                                                                                                                                                                                                                                                                                                                      Banging Away..; Thomas Edison and William K.L. Dickson's \"Blacksmith Scene,\" was the first film shown publicly in 1893. This short is a brief look at 3 workers as they go about their daily ritual. Great piece of work for its time. In the early days of cinema, directors typically recorded everyday events such as the arrival of ships or workers leaving a factory. These short films were called \"actualities.\" Later, with the advent of better equipment (which could record for longer), directors began to introduce more complicated narratives into film. 10* (10* Rating System)  \n",
       "2                                                                                                                                                                                                                                                                                                                                                                                                                                                                                                                                                                                                                                                                                                                   unbelievable; I cannot understand how anyone can call this one of the greatest movies ever made. It is disgraceful and appalling. I guess it is still high entertainment to see white actors in black face and watch a film loaded with stereotype.  \n",
       "3                                                                                                                                                                                                                                                                                                                                                                                              I'm still starry-eyed from it; I saw this last night on the Turner Classic Movies station.  Wow.  This is a perfect, shining, ebullient example of what was possible before The Code. The clever, witty, salacious dialogue!  The compromising situations!  The sheer sexuality permeating every scene, including the ones where the camera is on this side of a closed door!  I am so glad that I finally saw this film, and would own a copy immediately were it available in any format. There's a lesson here.  All together now: NEVER AGAIN with the censorship!!!  \n",
       "4                                                                                                                                                                                                                                                                                                                                                                     Failed on every Front; Joel Schumacher who did an OK job on the third Batman Movie, has simply lost the plot on this one. Poorly cast with the exception of Robin and Ivy, this is far more like the 60's TV series than the comic books, and it just does not work. The Baddies are not menacing, Schwarzenegger rarely performs this badly and Uma Thurman, although she did an OK job was just a poor character. As for Batgirl, this is just too much. Bring back Keaton and Tim Burton and take Batman back to his dark roots. There is no future for Batman if it continues like this. 3/10  "
      ]
     },
     "execution_count": 64,
     "metadata": {},
     "output_type": "execute_result"
    }
   ],
   "source": [
    "reviews_raw.head()"
   ]
  },
  {
   "cell_type": "code",
   "execution_count": 65,
   "id": "7eaa9343",
   "metadata": {},
   "outputs": [
    {
     "data": {
      "text/plain": [
       "(2624608, 2)"
      ]
     },
     "execution_count": 65,
     "metadata": {},
     "output_type": "execute_result"
    }
   ],
   "source": [
    "reviews_raw.shape"
   ]
  },
  {
   "cell_type": "code",
   "execution_count": 66,
   "id": "dcbd19e3",
   "metadata": {
    "scrolled": true
   },
   "outputs": [
    {
     "name": "stdout",
     "output_type": "stream",
     "text": [
      "<class 'pandas.core.frame.DataFrame'>\n",
      "RangeIndex: 2624608 entries, 0 to 2624607\n",
      "Data columns (total 2 columns):\n",
      " #   Column   Dtype \n",
      "---  ------   ----- \n",
      " 0   item_id  int64 \n",
      " 1   txt      object\n",
      "dtypes: int64(1), object(1)\n",
      "memory usage: 40.0+ MB\n"
     ]
    }
   ],
   "source": [
    "reviews_raw.info()"
   ]
  },
  {
   "cell_type": "code",
   "execution_count": 67,
   "id": "3f5c6792",
   "metadata": {
    "scrolled": true
   },
   "outputs": [
    {
     "data": {
      "text/plain": [
       "item_id    0.0\n",
       "txt        0.0\n",
       "dtype: float64"
      ]
     },
     "execution_count": 67,
     "metadata": {},
     "output_type": "execute_result"
    }
   ],
   "source": [
    "\n",
    "reviews_raw.isna().sum(axis=0) / reviews_raw.shape[0]*100\n"
   ]
  },
  {
   "cell_type": "code",
   "execution_count": 68,
   "id": "4b8f7e29",
   "metadata": {},
   "outputs": [],
   "source": [
    "#merging both columns so that the reviews are visible under each\n",
    "\n",
    "movieratings_review_df = movies_df.merge(reviews_raw, on='item_id', how='left')"
   ]
  },
  {
   "cell_type": "markdown",
   "id": "f45b301e",
   "metadata": {},
   "source": [
    "Stuff to explore: \n",
    "count of actors, count of reviews, check for multiple directors\n",
    "\n",
    "Sentiment analysis, count vectorization, \n",
    "\n",
    "instead of dummy variables, add a feature to show how many times the director has shown up.\n",
    "\n",
    "or bin the directors (ie, novice, intermediate, explore the data)\n",
    "\n"
   ]
  },
  {
   "cell_type": "code",
   "execution_count": 69,
   "id": "222fb155",
   "metadata": {},
   "outputs": [],
   "source": [
    "# Dropping where we merged it on since item_id isn't really necessary\n",
    "movieratings_review_df.drop(columns=['item_id'], inplace=True) "
   ]
  },
  {
   "cell_type": "code",
   "execution_count": 70,
   "id": "0424ca19",
   "metadata": {
    "scrolled": true
   },
   "outputs": [
    {
     "data": {
      "text/html": [
       "<div>\n",
       "<style scoped>\n",
       "    .dataframe tbody tr th:only-of-type {\n",
       "        vertical-align: middle;\n",
       "    }\n",
       "\n",
       "    .dataframe tbody tr th {\n",
       "        vertical-align: top;\n",
       "    }\n",
       "\n",
       "    .dataframe thead th {\n",
       "        text-align: right;\n",
       "    }\n",
       "</style>\n",
       "<table border=\"1\" class=\"dataframe\">\n",
       "  <thead>\n",
       "    <tr style=\"text-align: right;\">\n",
       "      <th></th>\n",
       "      <th>title</th>\n",
       "      <th>directedBy</th>\n",
       "      <th>starring</th>\n",
       "      <th>avgRating</th>\n",
       "      <th>Year</th>\n",
       "      <th>Sentiment</th>\n",
       "      <th>#Movies_directed</th>\n",
       "      <th>actor_count</th>\n",
       "      <th>Actor 1</th>\n",
       "      <th>Actor 2</th>\n",
       "      <th>Actor 3</th>\n",
       "      <th>Actor 4</th>\n",
       "      <th>Actor 5</th>\n",
       "      <th>Celeb_score</th>\n",
       "      <th>txt</th>\n",
       "    </tr>\n",
       "  </thead>\n",
       "  <tbody>\n",
       "    <tr>\n",
       "      <th>0</th>\n",
       "      <td>Toy Story (1995)</td>\n",
       "      <td>John Lasseter</td>\n",
       "      <td>Tim Allen, Tom Hanks, Don Rickles, Jim Varney, John Ratzenberger, Wallace Shawn, Laurie Metcalf, John Morris, R. Lee Ermey, Annie Potts</td>\n",
       "      <td>7.78</td>\n",
       "      <td>1995</td>\n",
       "      <td>1</td>\n",
       "      <td>6</td>\n",
       "      <td>5</td>\n",
       "      <td>Tim Allen</td>\n",
       "      <td>Tom Hanks</td>\n",
       "      <td>Don Rickles</td>\n",
       "      <td>Jim Varney</td>\n",
       "      <td>John Ratzenberger</td>\n",
       "      <td>13.2</td>\n",
       "      <td>The one film that started what is now a cliché; I remember it all very well. I was about six years old when this movie came out. I remember the movie being sold out when I saw it and I had to wait to get in to see it. It was well worth the wait, even as a six year old I could realize that. Toy Story was the first fully computer animated movie ever to be made. This was a huge impact in the world of special effects and art. That was part of the reason why this movie was such a huge success. The other reason for the huge success is because of the concept of the movie. Where else can you find a movie where toys come to life and have their own world inside of a little boy's room. This is one of the first movies to have that type of story. The other computer animated movies to follow Toy Story are A Bug's Life, Antz, Toy Story 2, Shrek, Monster's Inc., Ice Age, Shrek 2, The Incredibles, The Polar Express, and Shark Tale. After seeing Shark Tale, I figured out that computer animated films are starting to become a cliché. However, the Pixar movies are really good. The voice work in Toy Story is also really good. Tom Hanks and Tim Allen are the perfect voices to fit the characters of this movie. This was also a part of Tim Allen's big uprising in the '90's. Every kid should see this, most kids that I know like this movie. Anybody else who somehow hasn't seen this should also see it to see where the animated films of today got started from.</td>\n",
       "    </tr>\n",
       "    <tr>\n",
       "      <th>1</th>\n",
       "      <td>Toy Story (1995)</td>\n",
       "      <td>John Lasseter</td>\n",
       "      <td>Tim Allen, Tom Hanks, Don Rickles, Jim Varney, John Ratzenberger, Wallace Shawn, Laurie Metcalf, John Morris, R. Lee Ermey, Annie Potts</td>\n",
       "      <td>7.78</td>\n",
       "      <td>1995</td>\n",
       "      <td>1</td>\n",
       "      <td>6</td>\n",
       "      <td>5</td>\n",
       "      <td>Tim Allen</td>\n",
       "      <td>Tom Hanks</td>\n",
       "      <td>Don Rickles</td>\n",
       "      <td>Jim Varney</td>\n",
       "      <td>John Ratzenberger</td>\n",
       "      <td>13.2</td>\n",
       "      <td>One of the greatest animated movies ever created!; I don't want to be biast, but Toy Story is one of the greatest animated movies ever created. I first watched this movie at about 2-4 years old, and I loved this movie. The storyline is excellently written, and always gets me laughing! The animation in this movie is incredible! As a computer animated film it was well ahead of its era (at least I think). Also, it was the first feature length film that was fully animated, and to this day is one of the best. With the success of this film it was no wonder they made a sequel, one that i enjoyed a lot! Also, I have heard that Pixar have announced Toy Story 3, and it will be a movie I will definitely see!</td>\n",
       "    </tr>\n",
       "    <tr>\n",
       "      <th>2</th>\n",
       "      <td>Toy Story (1995)</td>\n",
       "      <td>John Lasseter</td>\n",
       "      <td>Tim Allen, Tom Hanks, Don Rickles, Jim Varney, John Ratzenberger, Wallace Shawn, Laurie Metcalf, John Morris, R. Lee Ermey, Annie Potts</td>\n",
       "      <td>7.78</td>\n",
       "      <td>1995</td>\n",
       "      <td>1</td>\n",
       "      <td>6</td>\n",
       "      <td>5</td>\n",
       "      <td>Tim Allen</td>\n",
       "      <td>Tom Hanks</td>\n",
       "      <td>Don Rickles</td>\n",
       "      <td>Jim Varney</td>\n",
       "      <td>John Ratzenberger</td>\n",
       "      <td>13.2</td>\n",
       "      <td>Toy Story 1; I have to give Toy Story 1 an 8 b/c even though I am a grown adult, I love all types of Disney movies but this one nearly tops the charts. Toy Story 2 on the other hand gets a 2, it was the most boring movie there ever was... actually kind of depressing to. Granted Toy Story 1 was extremely good it's just not a movie they should have came out with a sequel to. I am currently searching for pictures (scenes) from the movie because of my screen name I would like to find pictures of buzz with the pink hat on portraying Misses Nesbit. If anyone has these pictures could you please reply? I also believe that Toy Story 1 was the best movie because of the cool graphic's. I think that Disney done an exceptional job on the movie in parts where the Pizza Planet scene was taken because of the reality of the crane machine and the little green aliens. Also the kids in the scenes looked very real to, even though I think the mother of Andy had way to much animation in it.</td>\n",
       "    </tr>\n",
       "    <tr>\n",
       "      <th>3</th>\n",
       "      <td>Toy Story (1995)</td>\n",
       "      <td>John Lasseter</td>\n",
       "      <td>Tim Allen, Tom Hanks, Don Rickles, Jim Varney, John Ratzenberger, Wallace Shawn, Laurie Metcalf, John Morris, R. Lee Ermey, Annie Potts</td>\n",
       "      <td>7.78</td>\n",
       "      <td>1995</td>\n",
       "      <td>1</td>\n",
       "      <td>6</td>\n",
       "      <td>5</td>\n",
       "      <td>Tim Allen</td>\n",
       "      <td>Tom Hanks</td>\n",
       "      <td>Don Rickles</td>\n",
       "      <td>Jim Varney</td>\n",
       "      <td>John Ratzenberger</td>\n",
       "      <td>13.2</td>\n",
       "      <td>Best!; This is a cartoon but not only for children, anybody can enjoy this wonderful movie. This movie was rated 'classic' because of the beautiful computer graphics, good voice acting and the exciting plot. The memorable and funny characters like \"Mr. Potato Head\" and Buzz Light Year, I will never forget them. Toy Story is the first movie made with computers and not using real-life actors, computers were not common when Toy Story on show, it was a great success. The story was good, for a lot of us are fascinated by talking toys and what it might be like if they really existed. It gave us many imagination. This is the best movie I ever seen!</td>\n",
       "    </tr>\n",
       "    <tr>\n",
       "      <th>4</th>\n",
       "      <td>Toy Story (1995)</td>\n",
       "      <td>John Lasseter</td>\n",
       "      <td>Tim Allen, Tom Hanks, Don Rickles, Jim Varney, John Ratzenberger, Wallace Shawn, Laurie Metcalf, John Morris, R. Lee Ermey, Annie Potts</td>\n",
       "      <td>7.78</td>\n",
       "      <td>1995</td>\n",
       "      <td>1</td>\n",
       "      <td>6</td>\n",
       "      <td>5</td>\n",
       "      <td>Tim Allen</td>\n",
       "      <td>Tom Hanks</td>\n",
       "      <td>Don Rickles</td>\n",
       "      <td>Jim Varney</td>\n",
       "      <td>John Ratzenberger</td>\n",
       "      <td>13.2</td>\n",
       "      <td>A delight!; Kids have always wondered if their toys ever came to life when they were asleep and if the toys themselves had lives of their own by doing the same things that humans do. Toy Story is the first film from Pixar Studios to make cartoons more humanistic with CGI than by drawing them out. Tom Hanks provides the voice of Woody the Cowboy, who is the ringleader of the toys around Andy's room. He overhears the important events around Andy's life and one of the things shocking is that they are moving to another home. Most of Andy's toys are compiled of average boy toys: from a nervous dinosaur name Rex (Wallace Shawn) to a grumpy Mr. Potato Head (Don Rickels), a smart Aleck piggy bank called Hamm (John Ratzenburg); even Andy's little sister has toys that join with the gang, Bo Peep (Annie Potts of \"Ghostbusters\" fame) has a crush on the cowboy. There are other characters in the story; a dog on a string name Slinky Dog (Jim Varney of \"Ernest\" fame) and a plastic army doll name Sarge (R. Lee Ermey of Full Metal Jacket). One of the elements of \"Toy Story\" is very psychological, and that is the fear of a new toy. Sure everybody likes to get a new toy, but the problem is that when people buy new toys, they automatically forget that their old toys exist and lose excitement within them. When Andy's birthday party comes a week before the leave, Woody sends Sarge and the plastic army men with the baby talkers to hear what kind of presents Andy has gotten this year. As Mr. Potato jokes that he wants a wife, the gang gets cut off by a nervous Rex and realize that the toys have to stay still. The new toy in Andy's life is the popular and all out, Buzz Lightyear (voiced by Tim Allen) in which he pushes Woody to the side leaving the new toy on the bed. Everybody clamors over Woody being pushed off the bed as every other toy in the room tries to figure out what's up there. Woody is introduced to the new character as he tells everyone he can fly and fire a high laser. A smart-ass Potato Head makes a statement about Woody's voice box that it sounds a car ran over it. Days before the move, Woody is left out of the group as everybody including Bo Peep are all with Buzz Lightyear. Woody has a plan of getting rid of Buzz and he uses an electric race-car to push him out the window. Now every toy is against Woody and want to beat him up; but Andy saves Woody when him and the rest of his family are going out for pizza and can't find Buzz, so Andy takes the cowboy instead. With little relief, when the car stops at a gas station, Buzz has been hiding under the car and fights with Woody outside; suddenly the car leaves with both toys stranded. Buzz has a plan for both him and Woody to get back with Andy; they get into a pizza truck and try to find Andy and his family and notices that the neighborhood bully Sid is there so the toys hide in a toy machine where they are taken with another toy back to Sid's house where one toy is torture to death (relax, its not the main toys). So now they have to work together in order to be with Andy and tell the other toys that everything is all right. \"Toy Story\" is a blessing with delight and wonder and just like my review of \"Monsters, Inc.\" it's a movie of curiosity and a joy to behold.</td>\n",
       "    </tr>\n",
       "  </tbody>\n",
       "</table>\n",
       "</div>"
      ],
      "text/plain": [
       "              title     directedBy  \\\n",
       "0  Toy Story (1995)  John Lasseter   \n",
       "1  Toy Story (1995)  John Lasseter   \n",
       "2  Toy Story (1995)  John Lasseter   \n",
       "3  Toy Story (1995)  John Lasseter   \n",
       "4  Toy Story (1995)  John Lasseter   \n",
       "\n",
       "                                                                                                                                  starring  \\\n",
       "0  Tim Allen, Tom Hanks, Don Rickles, Jim Varney, John Ratzenberger, Wallace Shawn, Laurie Metcalf, John Morris, R. Lee Ermey, Annie Potts   \n",
       "1  Tim Allen, Tom Hanks, Don Rickles, Jim Varney, John Ratzenberger, Wallace Shawn, Laurie Metcalf, John Morris, R. Lee Ermey, Annie Potts   \n",
       "2  Tim Allen, Tom Hanks, Don Rickles, Jim Varney, John Ratzenberger, Wallace Shawn, Laurie Metcalf, John Morris, R. Lee Ermey, Annie Potts   \n",
       "3  Tim Allen, Tom Hanks, Don Rickles, Jim Varney, John Ratzenberger, Wallace Shawn, Laurie Metcalf, John Morris, R. Lee Ermey, Annie Potts   \n",
       "4  Tim Allen, Tom Hanks, Don Rickles, Jim Varney, John Ratzenberger, Wallace Shawn, Laurie Metcalf, John Morris, R. Lee Ermey, Annie Potts   \n",
       "\n",
       "   avgRating  Year  Sentiment  #Movies_directed  actor_count    Actor 1  \\\n",
       "0       7.78  1995          1                 6            5  Tim Allen   \n",
       "1       7.78  1995          1                 6            5  Tim Allen   \n",
       "2       7.78  1995          1                 6            5  Tim Allen   \n",
       "3       7.78  1995          1                 6            5  Tim Allen   \n",
       "4       7.78  1995          1                 6            5  Tim Allen   \n",
       "\n",
       "      Actor 2       Actor 3      Actor 4             Actor 5  Celeb_score  \\\n",
       "0   Tom Hanks   Don Rickles   Jim Varney   John Ratzenberger         13.2   \n",
       "1   Tom Hanks   Don Rickles   Jim Varney   John Ratzenberger         13.2   \n",
       "2   Tom Hanks   Don Rickles   Jim Varney   John Ratzenberger         13.2   \n",
       "3   Tom Hanks   Don Rickles   Jim Varney   John Ratzenberger         13.2   \n",
       "4   Tom Hanks   Don Rickles   Jim Varney   John Ratzenberger         13.2   \n",
       "\n",
       "                                                                                                                                                                                                                                                                                                                                                                                                                                                                                                                                                                                                                                                                                                                                                                                                                                                                                                                                                                                                                                                                                                                                                                                                                                                                                                                                                                                                                                                                                                                                                                                                                                                                                                                                                                                                                                                                                                                                                                                                                                                                                                                                                                                                                                                                                                                                                                                                                                                                                                                                                                                                                                                                                                                                                                                                                                                                                                                                                                                                                                                                                                                                                                                                                                                                                                                                                                                           txt  \n",
       "0                                                                                                                                                                                                                                                                                                                                                                                                                                                                                                                                                                                                                                                                                                                                                                                                                                                                                                                                                                                                                                                                                                                                                                                                                                                                                                                                                                                                                                                                                                                                                                                                                                                                                                                                                                                                                                                                               The one film that started what is now a cliché; I remember it all very well. I was about six years old when this movie came out. I remember the movie being sold out when I saw it and I had to wait to get in to see it. It was well worth the wait, even as a six year old I could realize that. Toy Story was the first fully computer animated movie ever to be made. This was a huge impact in the world of special effects and art. That was part of the reason why this movie was such a huge success. The other reason for the huge success is because of the concept of the movie. Where else can you find a movie where toys come to life and have their own world inside of a little boy's room. This is one of the first movies to have that type of story. The other computer animated movies to follow Toy Story are A Bug's Life, Antz, Toy Story 2, Shrek, Monster's Inc., Ice Age, Shrek 2, The Incredibles, The Polar Express, and Shark Tale. After seeing Shark Tale, I figured out that computer animated films are starting to become a cliché. However, the Pixar movies are really good. The voice work in Toy Story is also really good. Tom Hanks and Tim Allen are the perfect voices to fit the characters of this movie. This was also a part of Tim Allen's big uprising in the '90's. Every kid should see this, most kids that I know like this movie. Anybody else who somehow hasn't seen this should also see it to see where the animated films of today got started from.  \n",
       "1                                                                                                                                                                                                                                                                                                                                                                                                                                                                                                                                                                                                                                                                                                                                                                                                                                                                                                                                                                                                                                                                                                                                                                                                                                                                                                                                                                                                                                                                                                                                                                                                                                                                                                                                                                                                                                                                                                                                                                                                                                                                                                                                                                                                                                                                                                                                                                                                                                                                                                                                                                                                                                                           One of the greatest animated movies ever created!; I don't want to be biast, but Toy Story is one of the greatest animated movies ever created. I first watched this movie at about 2-4 years old, and I loved this movie. The storyline is excellently written, and always gets me laughing! The animation in this movie is incredible! As a computer animated film it was well ahead of its era (at least I think). Also, it was the first feature length film that was fully animated, and to this day is one of the best. With the success of this film it was no wonder they made a sequel, one that i enjoyed a lot! Also, I have heard that Pixar have announced Toy Story 3, and it will be a movie I will definitely see!  \n",
       "2                                                                                                                                                                                                                                                                                                                                                                                                                                                                                                                                                                                                                                                                                                                                                                                                                                                                                                                                                                                                                                                                                                                                                                                                                                                                                                                                                                                                                                                                                                                                                                                                                                                                                                                                                                                                                                                                                                                                                                                                                                                                                                                                                                                                                                                                                                                                                                       Toy Story 1; I have to give Toy Story 1 an 8 b/c even though I am a grown adult, I love all types of Disney movies but this one nearly tops the charts. Toy Story 2 on the other hand gets a 2, it was the most boring movie there ever was... actually kind of depressing to. Granted Toy Story 1 was extremely good it's just not a movie they should have came out with a sequel to. I am currently searching for pictures (scenes) from the movie because of my screen name I would like to find pictures of buzz with the pink hat on portraying Misses Nesbit. If anyone has these pictures could you please reply? I also believe that Toy Story 1 was the best movie because of the cool graphic's. I think that Disney done an exceptional job on the movie in parts where the Pizza Planet scene was taken because of the reality of the crane machine and the little green aliens. Also the kids in the scenes looked very real to, even though I think the mother of Andy had way to much animation in it.  \n",
       "3                                                                                                                                                                                                                                                                                                                                                                                                                                                                                                                                                                                                                                                                                                                                                                                                                                                                                                                                                                                                                                                                                                                                                                                                                                                                                                                                                                                                                                                                                                                                                                                                                                                                                                                                                                                                                                                                                                                                                                                                                                                                                                                                                                                                                                                                                                                                                                                                                                                                                                                                                                                                                                                                                                                    Best!; This is a cartoon but not only for children, anybody can enjoy this wonderful movie. This movie was rated 'classic' because of the beautiful computer graphics, good voice acting and the exciting plot. The memorable and funny characters like \"Mr. Potato Head\" and Buzz Light Year, I will never forget them. Toy Story is the first movie made with computers and not using real-life actors, computers were not common when Toy Story on show, it was a great success. The story was good, for a lot of us are fascinated by talking toys and what it might be like if they really existed. It gave us many imagination. This is the best movie I ever seen!  \n",
       "4  A delight!; Kids have always wondered if their toys ever came to life when they were asleep and if the toys themselves had lives of their own by doing the same things that humans do. Toy Story is the first film from Pixar Studios to make cartoons more humanistic with CGI than by drawing them out. Tom Hanks provides the voice of Woody the Cowboy, who is the ringleader of the toys around Andy's room. He overhears the important events around Andy's life and one of the things shocking is that they are moving to another home. Most of Andy's toys are compiled of average boy toys: from a nervous dinosaur name Rex (Wallace Shawn) to a grumpy Mr. Potato Head (Don Rickels), a smart Aleck piggy bank called Hamm (John Ratzenburg); even Andy's little sister has toys that join with the gang, Bo Peep (Annie Potts of \"Ghostbusters\" fame) has a crush on the cowboy. There are other characters in the story; a dog on a string name Slinky Dog (Jim Varney of \"Ernest\" fame) and a plastic army doll name Sarge (R. Lee Ermey of Full Metal Jacket). One of the elements of \"Toy Story\" is very psychological, and that is the fear of a new toy. Sure everybody likes to get a new toy, but the problem is that when people buy new toys, they automatically forget that their old toys exist and lose excitement within them. When Andy's birthday party comes a week before the leave, Woody sends Sarge and the plastic army men with the baby talkers to hear what kind of presents Andy has gotten this year. As Mr. Potato jokes that he wants a wife, the gang gets cut off by a nervous Rex and realize that the toys have to stay still. The new toy in Andy's life is the popular and all out, Buzz Lightyear (voiced by Tim Allen) in which he pushes Woody to the side leaving the new toy on the bed. Everybody clamors over Woody being pushed off the bed as every other toy in the room tries to figure out what's up there. Woody is introduced to the new character as he tells everyone he can fly and fire a high laser. A smart-ass Potato Head makes a statement about Woody's voice box that it sounds a car ran over it. Days before the move, Woody is left out of the group as everybody including Bo Peep are all with Buzz Lightyear. Woody has a plan of getting rid of Buzz and he uses an electric race-car to push him out the window. Now every toy is against Woody and want to beat him up; but Andy saves Woody when him and the rest of his family are going out for pizza and can't find Buzz, so Andy takes the cowboy instead. With little relief, when the car stops at a gas station, Buzz has been hiding under the car and fights with Woody outside; suddenly the car leaves with both toys stranded. Buzz has a plan for both him and Woody to get back with Andy; they get into a pizza truck and try to find Andy and his family and notices that the neighborhood bully Sid is there so the toys hide in a toy machine where they are taken with another toy back to Sid's house where one toy is torture to death (relax, its not the main toys). So now they have to work together in order to be with Andy and tell the other toys that everything is all right. \"Toy Story\" is a blessing with delight and wonder and just like my review of \"Monsters, Inc.\" it's a movie of curiosity and a joy to behold.  "
      ]
     },
     "execution_count": 70,
     "metadata": {},
     "output_type": "execute_result"
    }
   ],
   "source": [
    "# Still looks the same\n",
    "movieratings_review_df.head(5)"
   ]
  },
  {
   "cell_type": "code",
   "execution_count": 71,
   "id": "7793ebd7",
   "metadata": {},
   "outputs": [
    {
     "data": {
      "text/plain": [
       "title               0.000000\n",
       "directedBy          0.000000\n",
       "starring            0.000000\n",
       "avgRating           0.000000\n",
       "Year                0.000000\n",
       "Sentiment           0.000000\n",
       "#Movies_directed    0.000000\n",
       "actor_count         0.000000\n",
       "Actor 1             0.000000\n",
       "Actor 2             0.000000\n",
       "Actor 3             0.000000\n",
       "Actor 4             0.000000\n",
       "Actor 5             0.000000\n",
       "Celeb_score         0.000000\n",
       "txt                 0.741344\n",
       "dtype: float64"
      ]
     },
     "execution_count": 71,
     "metadata": {},
     "output_type": "execute_result"
    }
   ],
   "source": [
    "movieratings_review_df.isna().sum(axis=0) / movieratings_review_df.shape[0]*100"
   ]
  },
  {
   "cell_type": "code",
   "execution_count": 72,
   "id": "c07caab4",
   "metadata": {},
   "outputs": [],
   "source": [
    "movieratings_review_df = movieratings_review_df.fillna('')"
   ]
  },
  {
   "cell_type": "code",
   "execution_count": 73,
   "id": "5f4556a8",
   "metadata": {},
   "outputs": [
    {
     "name": "stdout",
     "output_type": "stream",
     "text": [
      "(2583011, 14) (2583011,)\n"
     ]
    }
   ],
   "source": [
    "# creating rem/test split\n",
    "\n",
    "# instantiating our independent and dependent variables \n",
    "X = movieratings_review_df.drop(columns='avgRating')\n",
    "y = movieratings_review_df['avgRating']\n",
    "\n",
    "print(X.shape, y.shape)"
   ]
  },
  {
   "cell_type": "code",
   "execution_count": 74,
   "id": "63eed646",
   "metadata": {},
   "outputs": [
    {
     "name": "stdout",
     "output_type": "stream",
     "text": [
      "(1808107, 14) (774904, 14) (1808107,) (774904,)\n"
     ]
    }
   ],
   "source": [
    "# performing a rem_test_split to better evaluate our model\n",
    "\n",
    "# error showing up, ask about this\n",
    "X_rem, X_test, y_rem, y_test = train_test_split(X,\n",
    "                                                y,\n",
    "                                                test_size=0.3,\n",
    "                                                random_state=66)\n",
    "\n",
    "# Checking the shape of the X compared to y\n",
    "print(X_rem.shape, X_test.shape, y_rem.shape, y_test.shape)"
   ]
  },
  {
   "cell_type": "code",
   "execution_count": 75,
   "id": "77703a4b",
   "metadata": {},
   "outputs": [
    {
     "name": "stdout",
     "output_type": "stream",
     "text": [
      "(1446485, 14) (361622, 14) (1446485,) (361622,)\n"
     ]
    }
   ],
   "source": [
    "\n",
    "\n",
    "# Split the remainder set into train and validation sets\n",
    "X_train, X_val, y_train, y_val = train_test_split(X_rem,\n",
    "                                                  y_rem,\n",
    "                                                  test_size=0.2, \n",
    "                                                  random_state=66)\n",
    "\n",
    "# Checking the shape of the X compared to y\n",
    "print(X_train.shape, X_val.shape, y_train.shape, y_val.shape)"
   ]
  },
  {
   "cell_type": "code",
   "execution_count": 76,
   "id": "415fd6c0",
   "metadata": {},
   "outputs": [],
   "source": [
    "# Want to add a column for number of directors as well as number of starring actors\n",
    "# will do this with NLP\n"
   ]
  },
  {
   "cell_type": "markdown",
   "id": "b1623a91",
   "metadata": {},
   "source": [
    "Creating our custom tokenizer, we are using several components that make up how it works. First we are importing stopwords which are commonly occuring words in the english language that will be filtered. The tokizer also incorporates stemming, a way of cutting up words allowing for the root word to show, this allows for less variability or confusion when words can very much mean similar in context of a good or bad review (for example, mess, messy, and messiness). The tokenizer also filters out punctuation and returns nothing to avoid having random punctuation that does not convey any meaning in our word analysis.m"
   ]
  },
  {
   "cell_type": "code",
   "execution_count": 77,
   "id": "bdcab85b",
   "metadata": {},
   "outputs": [
    {
     "name": "stderr",
     "output_type": "stream",
     "text": [
      "[nltk_data] Downloading package stopwords to\n",
      "[nltk_data]     C:\\Users\\micha\\AppData\\Roaming\\nltk_data...\n",
      "[nltk_data]   Package stopwords is already up-to-date!\n"
     ]
    }
   ],
   "source": [
    "# import the nltk stopwords\n",
    "nltk.download('stopwords')\n",
    "from nltk.corpus import stopwords \n",
    "\n",
    "# allows for stemming words\n",
    "stemmer = nltk.stem.PorterStemmer()\n",
    "\n",
    "# Selects english stopwords as a variable\n",
    "ENGLISH_STOP_WORDS = stopwords.words('english')\n",
    "\n",
    "def my_tokenizer(sentence):\n",
    "    \"\"\"\n",
    "    Custom tokenizer for preprocessing.\n",
    "    \n",
    "    Input: string, raw document.\n",
    "    Output: list of strings, cleaned & stemmed tokens\n",
    "    \"\"\"\n",
    "    # remove punctuation and set to lower case\n",
    "    for punctuation_mark in string.punctuation:\n",
    "        sentence = sentence.replace(punctuation_mark,'').lower()\n",
    "\n",
    "    # split sentence into words\n",
    "    listofwords = sentence.split(' ')\n",
    "    listofstemmed_words = []\n",
    "    \n",
    "    # Stem words\n",
    "    for word in listofwords:\n",
    "        stemmed_word = stemmer.stem(word)\n",
    "        listofstemmed_words.append(stemmed_word)\n",
    "\n",
    "    return listofstemmed_words"
   ]
  },
  {
   "cell_type": "code",
   "execution_count": 78,
   "id": "a455c565",
   "metadata": {},
   "outputs": [
    {
     "ename": "KeyboardInterrupt",
     "evalue": "",
     "output_type": "error",
     "traceback": [
      "\u001b[1;31m---------------------------------------------------------------------------\u001b[0m",
      "\u001b[1;31mKeyboardInterrupt\u001b[0m                         Traceback (most recent call last)",
      "\u001b[1;32m~\\AppData\\Local\\Temp\\ipykernel_19464\\1555037835.py\u001b[0m in \u001b[0;36m<module>\u001b[1;34m\u001b[0m\n\u001b[0;32m      6\u001b[0m \u001b[0mvectorizer\u001b[0m\u001b[1;33m.\u001b[0m\u001b[0mfit\u001b[0m\u001b[1;33m(\u001b[0m\u001b[0mX_train\u001b[0m\u001b[1;33m[\u001b[0m\u001b[1;34m'txt'\u001b[0m\u001b[1;33m]\u001b[0m\u001b[1;33m)\u001b[0m\u001b[1;33m\u001b[0m\u001b[1;33m\u001b[0m\u001b[0m\n\u001b[0;32m      7\u001b[0m \u001b[1;33m\u001b[0m\u001b[0m\n\u001b[1;32m----> 8\u001b[1;33m \u001b[0mpositive_X_train_transformed\u001b[0m \u001b[1;33m=\u001b[0m \u001b[0mvectorizer\u001b[0m\u001b[1;33m.\u001b[0m\u001b[0mtransform\u001b[0m\u001b[1;33m(\u001b[0m\u001b[0mX_train\u001b[0m\u001b[1;33m[\u001b[0m\u001b[1;34m'txt'\u001b[0m\u001b[1;33m]\u001b[0m\u001b[1;33m)\u001b[0m\u001b[1;33m\u001b[0m\u001b[1;33m\u001b[0m\u001b[0m\n\u001b[0m\u001b[0;32m      9\u001b[0m \u001b[0mpositive_X_val_transformed\u001b[0m \u001b[1;33m=\u001b[0m \u001b[0mvectorizer\u001b[0m\u001b[1;33m.\u001b[0m\u001b[0mtransform\u001b[0m\u001b[1;33m(\u001b[0m\u001b[0mX_val\u001b[0m\u001b[1;33m[\u001b[0m\u001b[1;34m'txt'\u001b[0m\u001b[1;33m]\u001b[0m\u001b[1;33m)\u001b[0m\u001b[1;33m\u001b[0m\u001b[1;33m\u001b[0m\u001b[0m\n\u001b[0;32m     10\u001b[0m \u001b[1;33m\u001b[0m\u001b[0m\n",
      "\u001b[1;32m~\\anaconda3\\lib\\site-packages\\sklearn\\feature_extraction\\text.py\u001b[0m in \u001b[0;36mtransform\u001b[1;34m(self, raw_documents)\u001b[0m\n\u001b[0;32m   2099\u001b[0m         \u001b[0mcheck_is_fitted\u001b[0m\u001b[1;33m(\u001b[0m\u001b[0mself\u001b[0m\u001b[1;33m,\u001b[0m \u001b[0mmsg\u001b[0m\u001b[1;33m=\u001b[0m\u001b[1;34m\"The TF-IDF vectorizer is not fitted\"\u001b[0m\u001b[1;33m)\u001b[0m\u001b[1;33m\u001b[0m\u001b[1;33m\u001b[0m\u001b[0m\n\u001b[0;32m   2100\u001b[0m \u001b[1;33m\u001b[0m\u001b[0m\n\u001b[1;32m-> 2101\u001b[1;33m         \u001b[0mX\u001b[0m \u001b[1;33m=\u001b[0m \u001b[0msuper\u001b[0m\u001b[1;33m(\u001b[0m\u001b[1;33m)\u001b[0m\u001b[1;33m.\u001b[0m\u001b[0mtransform\u001b[0m\u001b[1;33m(\u001b[0m\u001b[0mraw_documents\u001b[0m\u001b[1;33m)\u001b[0m\u001b[1;33m\u001b[0m\u001b[1;33m\u001b[0m\u001b[0m\n\u001b[0m\u001b[0;32m   2102\u001b[0m         \u001b[1;32mreturn\u001b[0m \u001b[0mself\u001b[0m\u001b[1;33m.\u001b[0m\u001b[0m_tfidf\u001b[0m\u001b[1;33m.\u001b[0m\u001b[0mtransform\u001b[0m\u001b[1;33m(\u001b[0m\u001b[0mX\u001b[0m\u001b[1;33m,\u001b[0m \u001b[0mcopy\u001b[0m\u001b[1;33m=\u001b[0m\u001b[1;32mFalse\u001b[0m\u001b[1;33m)\u001b[0m\u001b[1;33m\u001b[0m\u001b[1;33m\u001b[0m\u001b[0m\n\u001b[0;32m   2103\u001b[0m \u001b[1;33m\u001b[0m\u001b[0m\n",
      "\u001b[1;32m~\\anaconda3\\lib\\site-packages\\sklearn\\feature_extraction\\text.py\u001b[0m in \u001b[0;36mtransform\u001b[1;34m(self, raw_documents)\u001b[0m\n\u001b[0;32m   1377\u001b[0m \u001b[1;33m\u001b[0m\u001b[0m\n\u001b[0;32m   1378\u001b[0m         \u001b[1;31m# use the same matrix-building strategy as fit_transform\u001b[0m\u001b[1;33m\u001b[0m\u001b[1;33m\u001b[0m\u001b[0m\n\u001b[1;32m-> 1379\u001b[1;33m         \u001b[0m_\u001b[0m\u001b[1;33m,\u001b[0m \u001b[0mX\u001b[0m \u001b[1;33m=\u001b[0m \u001b[0mself\u001b[0m\u001b[1;33m.\u001b[0m\u001b[0m_count_vocab\u001b[0m\u001b[1;33m(\u001b[0m\u001b[0mraw_documents\u001b[0m\u001b[1;33m,\u001b[0m \u001b[0mfixed_vocab\u001b[0m\u001b[1;33m=\u001b[0m\u001b[1;32mTrue\u001b[0m\u001b[1;33m)\u001b[0m\u001b[1;33m\u001b[0m\u001b[1;33m\u001b[0m\u001b[0m\n\u001b[0m\u001b[0;32m   1380\u001b[0m         \u001b[1;32mif\u001b[0m \u001b[0mself\u001b[0m\u001b[1;33m.\u001b[0m\u001b[0mbinary\u001b[0m\u001b[1;33m:\u001b[0m\u001b[1;33m\u001b[0m\u001b[1;33m\u001b[0m\u001b[0m\n\u001b[0;32m   1381\u001b[0m             \u001b[0mX\u001b[0m\u001b[1;33m.\u001b[0m\u001b[0mdata\u001b[0m\u001b[1;33m.\u001b[0m\u001b[0mfill\u001b[0m\u001b[1;33m(\u001b[0m\u001b[1;36m1\u001b[0m\u001b[1;33m)\u001b[0m\u001b[1;33m\u001b[0m\u001b[1;33m\u001b[0m\u001b[0m\n",
      "\u001b[1;32m~\\anaconda3\\lib\\site-packages\\sklearn\\feature_extraction\\text.py\u001b[0m in \u001b[0;36m_count_vocab\u001b[1;34m(self, raw_documents, fixed_vocab)\u001b[0m\n\u001b[0;32m   1199\u001b[0m         \u001b[1;32mfor\u001b[0m \u001b[0mdoc\u001b[0m \u001b[1;32min\u001b[0m \u001b[0mraw_documents\u001b[0m\u001b[1;33m:\u001b[0m\u001b[1;33m\u001b[0m\u001b[1;33m\u001b[0m\u001b[0m\n\u001b[0;32m   1200\u001b[0m             \u001b[0mfeature_counter\u001b[0m \u001b[1;33m=\u001b[0m \u001b[1;33m{\u001b[0m\u001b[1;33m}\u001b[0m\u001b[1;33m\u001b[0m\u001b[1;33m\u001b[0m\u001b[0m\n\u001b[1;32m-> 1201\u001b[1;33m             \u001b[1;32mfor\u001b[0m \u001b[0mfeature\u001b[0m \u001b[1;32min\u001b[0m \u001b[0manalyze\u001b[0m\u001b[1;33m(\u001b[0m\u001b[0mdoc\u001b[0m\u001b[1;33m)\u001b[0m\u001b[1;33m:\u001b[0m\u001b[1;33m\u001b[0m\u001b[1;33m\u001b[0m\u001b[0m\n\u001b[0m\u001b[0;32m   1202\u001b[0m                 \u001b[1;32mtry\u001b[0m\u001b[1;33m:\u001b[0m\u001b[1;33m\u001b[0m\u001b[1;33m\u001b[0m\u001b[0m\n\u001b[0;32m   1203\u001b[0m                     \u001b[0mfeature_idx\u001b[0m \u001b[1;33m=\u001b[0m \u001b[0mvocabulary\u001b[0m\u001b[1;33m[\u001b[0m\u001b[0mfeature\u001b[0m\u001b[1;33m]\u001b[0m\u001b[1;33m\u001b[0m\u001b[1;33m\u001b[0m\u001b[0m\n",
      "\u001b[1;32m~\\anaconda3\\lib\\site-packages\\sklearn\\feature_extraction\\text.py\u001b[0m in \u001b[0;36m_analyze\u001b[1;34m(doc, analyzer, tokenizer, ngrams, preprocessor, decoder, stop_words)\u001b[0m\n\u001b[0;32m    113\u001b[0m             \u001b[0mdoc\u001b[0m \u001b[1;33m=\u001b[0m \u001b[0mpreprocessor\u001b[0m\u001b[1;33m(\u001b[0m\u001b[0mdoc\u001b[0m\u001b[1;33m)\u001b[0m\u001b[1;33m\u001b[0m\u001b[1;33m\u001b[0m\u001b[0m\n\u001b[0;32m    114\u001b[0m         \u001b[1;32mif\u001b[0m \u001b[0mtokenizer\u001b[0m \u001b[1;32mis\u001b[0m \u001b[1;32mnot\u001b[0m \u001b[1;32mNone\u001b[0m\u001b[1;33m:\u001b[0m\u001b[1;33m\u001b[0m\u001b[1;33m\u001b[0m\u001b[0m\n\u001b[1;32m--> 115\u001b[1;33m             \u001b[0mdoc\u001b[0m \u001b[1;33m=\u001b[0m \u001b[0mtokenizer\u001b[0m\u001b[1;33m(\u001b[0m\u001b[0mdoc\u001b[0m\u001b[1;33m)\u001b[0m\u001b[1;33m\u001b[0m\u001b[1;33m\u001b[0m\u001b[0m\n\u001b[0m\u001b[0;32m    116\u001b[0m         \u001b[1;32mif\u001b[0m \u001b[0mngrams\u001b[0m \u001b[1;32mis\u001b[0m \u001b[1;32mnot\u001b[0m \u001b[1;32mNone\u001b[0m\u001b[1;33m:\u001b[0m\u001b[1;33m\u001b[0m\u001b[1;33m\u001b[0m\u001b[0m\n\u001b[0;32m    117\u001b[0m             \u001b[1;32mif\u001b[0m \u001b[0mstop_words\u001b[0m \u001b[1;32mis\u001b[0m \u001b[1;32mnot\u001b[0m \u001b[1;32mNone\u001b[0m\u001b[1;33m:\u001b[0m\u001b[1;33m\u001b[0m\u001b[1;33m\u001b[0m\u001b[0m\n",
      "\u001b[1;32m~\\AppData\\Local\\Temp\\ipykernel_19464\\3454744347.py\u001b[0m in \u001b[0;36mmy_tokenizer\u001b[1;34m(sentence)\u001b[0m\n\u001b[0;32m     26\u001b[0m     \u001b[1;31m# Stem words\u001b[0m\u001b[1;33m\u001b[0m\u001b[1;33m\u001b[0m\u001b[0m\n\u001b[0;32m     27\u001b[0m     \u001b[1;32mfor\u001b[0m \u001b[0mword\u001b[0m \u001b[1;32min\u001b[0m \u001b[0mlistofwords\u001b[0m\u001b[1;33m:\u001b[0m\u001b[1;33m\u001b[0m\u001b[1;33m\u001b[0m\u001b[0m\n\u001b[1;32m---> 28\u001b[1;33m         \u001b[0mstemmed_word\u001b[0m \u001b[1;33m=\u001b[0m \u001b[0mstemmer\u001b[0m\u001b[1;33m.\u001b[0m\u001b[0mstem\u001b[0m\u001b[1;33m(\u001b[0m\u001b[0mword\u001b[0m\u001b[1;33m)\u001b[0m\u001b[1;33m\u001b[0m\u001b[1;33m\u001b[0m\u001b[0m\n\u001b[0m\u001b[0;32m     29\u001b[0m         \u001b[0mlistofstemmed_words\u001b[0m\u001b[1;33m.\u001b[0m\u001b[0mappend\u001b[0m\u001b[1;33m(\u001b[0m\u001b[0mstemmed_word\u001b[0m\u001b[1;33m)\u001b[0m\u001b[1;33m\u001b[0m\u001b[1;33m\u001b[0m\u001b[0m\n\u001b[0;32m     30\u001b[0m \u001b[1;33m\u001b[0m\u001b[0m\n",
      "\u001b[1;32m~\\anaconda3\\lib\\site-packages\\nltk\\stem\\porter.py\u001b[0m in \u001b[0;36mstem\u001b[1;34m(self, word, to_lowercase)\u001b[0m\n\u001b[0;32m    667\u001b[0m             \u001b[1;32mreturn\u001b[0m \u001b[0mstem\u001b[0m\u001b[1;33m\u001b[0m\u001b[1;33m\u001b[0m\u001b[0m\n\u001b[0;32m    668\u001b[0m \u001b[1;33m\u001b[0m\u001b[0m\n\u001b[1;32m--> 669\u001b[1;33m         \u001b[0mstem\u001b[0m \u001b[1;33m=\u001b[0m \u001b[0mself\u001b[0m\u001b[1;33m.\u001b[0m\u001b[0m_step1a\u001b[0m\u001b[1;33m(\u001b[0m\u001b[0mstem\u001b[0m\u001b[1;33m)\u001b[0m\u001b[1;33m\u001b[0m\u001b[1;33m\u001b[0m\u001b[0m\n\u001b[0m\u001b[0;32m    670\u001b[0m         \u001b[0mstem\u001b[0m \u001b[1;33m=\u001b[0m \u001b[0mself\u001b[0m\u001b[1;33m.\u001b[0m\u001b[0m_step1b\u001b[0m\u001b[1;33m(\u001b[0m\u001b[0mstem\u001b[0m\u001b[1;33m)\u001b[0m\u001b[1;33m\u001b[0m\u001b[1;33m\u001b[0m\u001b[0m\n\u001b[0;32m    671\u001b[0m         \u001b[0mstem\u001b[0m \u001b[1;33m=\u001b[0m \u001b[0mself\u001b[0m\u001b[1;33m.\u001b[0m\u001b[0m_step1c\u001b[0m\u001b[1;33m(\u001b[0m\u001b[0mstem\u001b[0m\u001b[1;33m)\u001b[0m\u001b[1;33m\u001b[0m\u001b[1;33m\u001b[0m\u001b[0m\n",
      "\u001b[1;32m~\\anaconda3\\lib\\site-packages\\nltk\\stem\\porter.py\u001b[0m in \u001b[0;36m_step1a\u001b[1;34m(self, word)\u001b[0m\n\u001b[0;32m    293\u001b[0m         return self._apply_rule_list(\n\u001b[0;32m    294\u001b[0m             \u001b[0mword\u001b[0m\u001b[1;33m,\u001b[0m\u001b[1;33m\u001b[0m\u001b[1;33m\u001b[0m\u001b[0m\n\u001b[1;32m--> 295\u001b[1;33m             [\n\u001b[0m\u001b[0;32m    296\u001b[0m                 \u001b[1;33m(\u001b[0m\u001b[1;34m\"sses\"\u001b[0m\u001b[1;33m,\u001b[0m \u001b[1;34m\"ss\"\u001b[0m\u001b[1;33m,\u001b[0m \u001b[1;32mNone\u001b[0m\u001b[1;33m)\u001b[0m\u001b[1;33m,\u001b[0m  \u001b[1;31m# SSES -> SS\u001b[0m\u001b[1;33m\u001b[0m\u001b[1;33m\u001b[0m\u001b[0m\n\u001b[0;32m    297\u001b[0m                 \u001b[1;33m(\u001b[0m\u001b[1;34m\"ies\"\u001b[0m\u001b[1;33m,\u001b[0m \u001b[1;34m\"i\"\u001b[0m\u001b[1;33m,\u001b[0m \u001b[1;32mNone\u001b[0m\u001b[1;33m)\u001b[0m\u001b[1;33m,\u001b[0m  \u001b[1;31m# IES  -> I\u001b[0m\u001b[1;33m\u001b[0m\u001b[1;33m\u001b[0m\u001b[0m\n",
      "\u001b[1;31mKeyboardInterrupt\u001b[0m: "
     ]
    }
   ],
   "source": [
    "import string\n",
    "# Initialize tokenizer\n",
    "vectorizer = TfidfVectorizer(min_df=50000, \n",
    "                             tokenizer=my_tokenizer)\n",
    "# fit onto train and test data\n",
    "vectorizer.fit(X_train['txt'])\n",
    "\n",
    "positive_X_train_transformed = vectorizer.transform(X_train['txt'])\n",
    "positive_X_val_transformed = vectorizer.transform(X_val['txt'])\n",
    "\n",
    "positive_X_train_transformed.shape"
   ]
  },
  {
   "cell_type": "code",
   "execution_count": 91,
   "id": "f4f93eea",
   "metadata": {},
   "outputs": [
    {
     "ename": "MemoryError",
     "evalue": "Unable to allocate 323. GiB for an array with shape (1446485, 29978) and data type int64",
     "output_type": "error",
     "traceback": [
      "\u001b[1;31m---------------------------------------------------------------------------\u001b[0m",
      "\u001b[1;31mMemoryError\u001b[0m                               Traceback (most recent call last)",
      "\u001b[1;32m~\\AppData\\Local\\Temp\\ipykernel_22012\\3111696269.py\u001b[0m in \u001b[0;36m<module>\u001b[1;34m\u001b[0m\n\u001b[0;32m      1\u001b[0m word_counts = pd.DataFrame(\n\u001b[1;32m----> 2\u001b[1;33m     \u001b[1;33m{\u001b[0m\u001b[1;34m\"counts\"\u001b[0m\u001b[1;33m:\u001b[0m \u001b[0mpositive_X_train_transformed\u001b[0m\u001b[1;33m.\u001b[0m\u001b[0mtoarray\u001b[0m\u001b[1;33m(\u001b[0m\u001b[1;33m)\u001b[0m\u001b[1;33m.\u001b[0m\u001b[0msum\u001b[0m\u001b[1;33m(\u001b[0m\u001b[0maxis\u001b[0m\u001b[1;33m=\u001b[0m\u001b[1;36m0\u001b[0m\u001b[1;33m)\u001b[0m\u001b[1;33m}\u001b[0m\u001b[1;33m,\u001b[0m\u001b[1;33m\u001b[0m\u001b[1;33m\u001b[0m\u001b[0m\n\u001b[0m\u001b[0;32m      3\u001b[0m     \u001b[0mindex\u001b[0m\u001b[1;33m=\u001b[0m\u001b[0mvectorizer\u001b[0m\u001b[1;33m.\u001b[0m\u001b[0mget_feature_names\u001b[0m\u001b[1;33m(\u001b[0m\u001b[1;33m)\u001b[0m\u001b[1;33m\u001b[0m\u001b[1;33m\u001b[0m\u001b[0m\n\u001b[0;32m      4\u001b[0m ).sort_values(\"counts\", ascending=False)\n\u001b[0;32m      5\u001b[0m \u001b[1;33m\u001b[0m\u001b[0m\n",
      "\u001b[1;32m~\\anaconda3\\lib\\site-packages\\scipy\\sparse\\_compressed.py\u001b[0m in \u001b[0;36mtoarray\u001b[1;34m(self, order, out)\u001b[0m\n\u001b[0;32m   1049\u001b[0m         \u001b[1;32mif\u001b[0m \u001b[0mout\u001b[0m \u001b[1;32mis\u001b[0m \u001b[1;32mNone\u001b[0m \u001b[1;32mand\u001b[0m \u001b[0morder\u001b[0m \u001b[1;32mis\u001b[0m \u001b[1;32mNone\u001b[0m\u001b[1;33m:\u001b[0m\u001b[1;33m\u001b[0m\u001b[1;33m\u001b[0m\u001b[0m\n\u001b[0;32m   1050\u001b[0m             \u001b[0morder\u001b[0m \u001b[1;33m=\u001b[0m \u001b[0mself\u001b[0m\u001b[1;33m.\u001b[0m\u001b[0m_swap\u001b[0m\u001b[1;33m(\u001b[0m\u001b[1;34m'cf'\u001b[0m\u001b[1;33m)\u001b[0m\u001b[1;33m[\u001b[0m\u001b[1;36m0\u001b[0m\u001b[1;33m]\u001b[0m\u001b[1;33m\u001b[0m\u001b[1;33m\u001b[0m\u001b[0m\n\u001b[1;32m-> 1051\u001b[1;33m         \u001b[0mout\u001b[0m \u001b[1;33m=\u001b[0m \u001b[0mself\u001b[0m\u001b[1;33m.\u001b[0m\u001b[0m_process_toarray_args\u001b[0m\u001b[1;33m(\u001b[0m\u001b[0morder\u001b[0m\u001b[1;33m,\u001b[0m \u001b[0mout\u001b[0m\u001b[1;33m)\u001b[0m\u001b[1;33m\u001b[0m\u001b[1;33m\u001b[0m\u001b[0m\n\u001b[0m\u001b[0;32m   1052\u001b[0m         \u001b[1;32mif\u001b[0m \u001b[1;32mnot\u001b[0m \u001b[1;33m(\u001b[0m\u001b[0mout\u001b[0m\u001b[1;33m.\u001b[0m\u001b[0mflags\u001b[0m\u001b[1;33m.\u001b[0m\u001b[0mc_contiguous\u001b[0m \u001b[1;32mor\u001b[0m \u001b[0mout\u001b[0m\u001b[1;33m.\u001b[0m\u001b[0mflags\u001b[0m\u001b[1;33m.\u001b[0m\u001b[0mf_contiguous\u001b[0m\u001b[1;33m)\u001b[0m\u001b[1;33m:\u001b[0m\u001b[1;33m\u001b[0m\u001b[1;33m\u001b[0m\u001b[0m\n\u001b[0;32m   1053\u001b[0m             \u001b[1;32mraise\u001b[0m \u001b[0mValueError\u001b[0m\u001b[1;33m(\u001b[0m\u001b[1;34m'Output array must be C or F contiguous'\u001b[0m\u001b[1;33m)\u001b[0m\u001b[1;33m\u001b[0m\u001b[1;33m\u001b[0m\u001b[0m\n",
      "\u001b[1;32m~\\anaconda3\\lib\\site-packages\\scipy\\sparse\\_base.py\u001b[0m in \u001b[0;36m_process_toarray_args\u001b[1;34m(self, order, out)\u001b[0m\n\u001b[0;32m   1296\u001b[0m             \u001b[1;32mreturn\u001b[0m \u001b[0mout\u001b[0m\u001b[1;33m\u001b[0m\u001b[1;33m\u001b[0m\u001b[0m\n\u001b[0;32m   1297\u001b[0m         \u001b[1;32melse\u001b[0m\u001b[1;33m:\u001b[0m\u001b[1;33m\u001b[0m\u001b[1;33m\u001b[0m\u001b[0m\n\u001b[1;32m-> 1298\u001b[1;33m             \u001b[1;32mreturn\u001b[0m \u001b[0mnp\u001b[0m\u001b[1;33m.\u001b[0m\u001b[0mzeros\u001b[0m\u001b[1;33m(\u001b[0m\u001b[0mself\u001b[0m\u001b[1;33m.\u001b[0m\u001b[0mshape\u001b[0m\u001b[1;33m,\u001b[0m \u001b[0mdtype\u001b[0m\u001b[1;33m=\u001b[0m\u001b[0mself\u001b[0m\u001b[1;33m.\u001b[0m\u001b[0mdtype\u001b[0m\u001b[1;33m,\u001b[0m \u001b[0morder\u001b[0m\u001b[1;33m=\u001b[0m\u001b[0morder\u001b[0m\u001b[1;33m)\u001b[0m\u001b[1;33m\u001b[0m\u001b[1;33m\u001b[0m\u001b[0m\n\u001b[0m\u001b[0;32m   1299\u001b[0m \u001b[1;33m\u001b[0m\u001b[0m\n\u001b[0;32m   1300\u001b[0m \u001b[1;33m\u001b[0m\u001b[0m\n",
      "\u001b[1;31mMemoryError\u001b[0m: Unable to allocate 323. GiB for an array with shape (1446485, 29978) and data type int64"
     ]
    }
   ],
   "source": [
    "word_counts = pd.DataFrame(\n",
    "    {\"counts\": positive_X_train_transformed.toarray().sum(axis=0)},\n",
    "    index=vectorizer.get_feature_names()\n",
    ").sort_values(\"counts\", ascending=False)\n",
    "\n",
    "word_counts.head(20).plot(kind=\"bar\", figsize=(15, 5), legend=False)\n",
    "plt.title(\"Top 20 most frequently occurring words\")\n",
    "plt.ylabel(\"Count\")\n",
    "plt.xticks(rotation=45)\n",
    "plt.show()"
   ]
  },
  {
   "cell_type": "code",
   "execution_count": null,
   "id": "79d09abb",
   "metadata": {},
   "outputs": [],
   "source": []
  },
  {
   "cell_type": "code",
   "execution_count": null,
   "id": "ca10a909",
   "metadata": {},
   "outputs": [],
   "source": []
  }
 ],
 "metadata": {
  "kernelspec": {
   "display_name": "capstone",
   "language": "python",
   "name": "capstone"
  },
  "language_info": {
   "codemirror_mode": {
    "name": "ipython",
    "version": 3
   },
   "file_extension": ".py",
   "mimetype": "text/x-python",
   "name": "python",
   "nbconvert_exporter": "python",
   "pygments_lexer": "ipython3",
   "version": "3.9.13"
  }
 },
 "nbformat": 4,
 "nbformat_minor": 5
}

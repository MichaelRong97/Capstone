{
 "cells": [
  {
   "cell_type": "code",
   "execution_count": 1,
   "id": "5f75e8da",
   "metadata": {},
   "outputs": [],
   "source": [
    "import pandas as pd\n",
    "import numpy as np\n",
    "import matplotlib.pyplot as plt\n",
    "import seaborn as sns\n",
    "\n",
    "pd.set_option('display.max_colwidth',10000)"
   ]
  },
  {
   "cell_type": "markdown",
   "id": "d2c811f7",
   "metadata": {},
   "source": [
    "### Data Dictionary (Will edit later)\n",
    "\n",
    "\n",
    "raw/metadata.json\n",
    "--------\n",
    "The file contains information about movies from MovieLens - 84,661 lines of json objects that have the following fields:\n",
    "\n",
    "title – movie title (84,484 unique titles)\n",
    "\n",
    "directedBy – directors separated by comma (‘,’)\n",
    "\n",
    "starring – actors separated by comma (‘,’)\n",
    "\n",
    "dateAdded – date, when the movie was added to MovieLens\n",
    "\n",
    "avgRating – average rating of a movie, scale of 0.5 to 5\n",
    "\n",
    "imdbId – movie id on the IMDB website (84,661 unique ids)\n",
    "\n",
    "item_id – movie id, which is consistent across files (84,661 unique ids)\n",
    "\n",
    "Example line:\n",
    "{\"title\": \"Toy Story (1995)\", \"directedBy\": \"John Lasseter\", \"starring\": \"Tim Allen, Tom Hanks, Don Rickles, Jim Varney, John Ratzenberger, Wallace Shawn, Laurie Metcalf, John Morris, R. Lee Ermey, Annie Potts\", \"dateAdded\": null, \"avgRating\": 3.89146, \"imdbId\": \"0114709\", \"item_id\": 1}\n",
    "\n",
    "\n",
    "raw/reviews.json\n",
    "--------\n",
    "The file contains 2,624,608 lines of movie reviews collected from the IMDB website. The json objects have the following fields:\n",
    "\n",
    "item_id – movie id (52,081 unique ids)\n",
    "\n",
    "txt – review text\n",
    "\n",
    "Example line:\n",
    "{\"item_id\": 172063, \"txt\": \"one-shot record of a belly dancer; \\\"Carmencita Dancing,\\\" one of a series of Edison short films featuring \\r circus and vaudeville acts, displayed the... um... \\\"talents\\\" of a zaftig belly-dancer who agreed to undulate before the camera of the famous \\\"Black \\r Maria\\\" studio. \\r \\r The dance was originally intended to be played in a Kinetoscope, a single -person arcade viewer connected to Edison's more famous invention, the phonograph. Through a pair of crude headphones, the latter device supplied an asynchronous soundtrack of \\\"hootchie-cootchie\\\" music. \\r \\r The Kinetograph camera here employed is so new -- even to its inventors \\r -- that director Dickson has drastically \\\"overcranked\\\" the film, unintentionally producing one of the first examples of slow-motion.\\r \\r Carmencita's titillating movements were considered by many to be \\r scandalous. Thus, the film prompted some of the earliest discussions of film censorship.\"}"
   ]
  },
  {
   "cell_type": "markdown",
   "id": "01190d2e",
   "metadata": {},
   "source": [
    "### Movies"
   ]
  },
  {
   "cell_type": "code",
   "execution_count": 2,
   "id": "b3605979",
   "metadata": {},
   "outputs": [],
   "source": [
    "metadata_raw = pd.read_json(r\"C:\\Users\\micha\\OneDrive\\Desktop\\Capstone\\movie_dataset_public_final\\raw\\metadata.json\", lines=True)"
   ]
  },
  {
   "cell_type": "code",
   "execution_count": 3,
   "id": "c9107a4e",
   "metadata": {
    "scrolled": true
   },
   "outputs": [
    {
     "data": {
      "text/html": [
       "<div>\n",
       "<style scoped>\n",
       "    .dataframe tbody tr th:only-of-type {\n",
       "        vertical-align: middle;\n",
       "    }\n",
       "\n",
       "    .dataframe tbody tr th {\n",
       "        vertical-align: top;\n",
       "    }\n",
       "\n",
       "    .dataframe thead th {\n",
       "        text-align: right;\n",
       "    }\n",
       "</style>\n",
       "<table border=\"1\" class=\"dataframe\">\n",
       "  <thead>\n",
       "    <tr style=\"text-align: right;\">\n",
       "      <th></th>\n",
       "      <th>title</th>\n",
       "      <th>directedBy</th>\n",
       "      <th>starring</th>\n",
       "      <th>dateAdded</th>\n",
       "      <th>avgRating</th>\n",
       "      <th>imdbId</th>\n",
       "      <th>item_id</th>\n",
       "    </tr>\n",
       "  </thead>\n",
       "  <tbody>\n",
       "    <tr>\n",
       "      <th>0</th>\n",
       "      <td>Toy Story (1995)</td>\n",
       "      <td>John Lasseter</td>\n",
       "      <td>Tim Allen, Tom Hanks, Don Rickles, Jim Varney, John Ratzenberger, Wallace Shawn, Laurie Metcalf, John Morris, R. Lee Ermey, Annie Potts</td>\n",
       "      <td>None</td>\n",
       "      <td>3.89146</td>\n",
       "      <td>114709</td>\n",
       "      <td>1</td>\n",
       "    </tr>\n",
       "    <tr>\n",
       "      <th>1</th>\n",
       "      <td>Jumanji (1995)</td>\n",
       "      <td>Joe Johnston</td>\n",
       "      <td>Jonathan Hyde, Bradley Pierce, Robin Williams, Kirsten Dunst</td>\n",
       "      <td>None</td>\n",
       "      <td>3.26605</td>\n",
       "      <td>113497</td>\n",
       "      <td>2</td>\n",
       "    </tr>\n",
       "    <tr>\n",
       "      <th>2</th>\n",
       "      <td>Grumpier Old Men (1995)</td>\n",
       "      <td>Howard Deutch</td>\n",
       "      <td>Jack Lemmon, Walter Matthau, Ann-Margret , Sophia Loren</td>\n",
       "      <td>None</td>\n",
       "      <td>3.17146</td>\n",
       "      <td>113228</td>\n",
       "      <td>3</td>\n",
       "    </tr>\n",
       "    <tr>\n",
       "      <th>3</th>\n",
       "      <td>Waiting to Exhale (1995)</td>\n",
       "      <td>Forest Whitaker</td>\n",
       "      <td>Angela Bassett, Loretta Devine, Whitney Houston, Lela Rochon</td>\n",
       "      <td>None</td>\n",
       "      <td>2.86824</td>\n",
       "      <td>114885</td>\n",
       "      <td>4</td>\n",
       "    </tr>\n",
       "    <tr>\n",
       "      <th>4</th>\n",
       "      <td>Father of the Bride Part II (1995)</td>\n",
       "      <td>Charles Shyer</td>\n",
       "      <td>Steve Martin, Martin Short, Diane Keaton, Kimberly Williams, George Newbern, Kieran Culkin</td>\n",
       "      <td>None</td>\n",
       "      <td>3.07620</td>\n",
       "      <td>113041</td>\n",
       "      <td>5</td>\n",
       "    </tr>\n",
       "  </tbody>\n",
       "</table>\n",
       "</div>"
      ],
      "text/plain": [
       "                                title       directedBy  \\\n",
       "0                    Toy Story (1995)    John Lasseter   \n",
       "1                      Jumanji (1995)     Joe Johnston   \n",
       "2             Grumpier Old Men (1995)    Howard Deutch   \n",
       "3            Waiting to Exhale (1995)  Forest Whitaker   \n",
       "4  Father of the Bride Part II (1995)    Charles Shyer   \n",
       "\n",
       "                                                                                                                                  starring  \\\n",
       "0  Tim Allen, Tom Hanks, Don Rickles, Jim Varney, John Ratzenberger, Wallace Shawn, Laurie Metcalf, John Morris, R. Lee Ermey, Annie Potts   \n",
       "1                                                                             Jonathan Hyde, Bradley Pierce, Robin Williams, Kirsten Dunst   \n",
       "2                                                                                  Jack Lemmon, Walter Matthau, Ann-Margret , Sophia Loren   \n",
       "3                                                                             Angela Bassett, Loretta Devine, Whitney Houston, Lela Rochon   \n",
       "4                                               Steve Martin, Martin Short, Diane Keaton, Kimberly Williams, George Newbern, Kieran Culkin   \n",
       "\n",
       "  dateAdded  avgRating  imdbId  item_id  \n",
       "0      None    3.89146  114709        1  \n",
       "1      None    3.26605  113497        2  \n",
       "2      None    3.17146  113228        3  \n",
       "3      None    2.86824  114885        4  \n",
       "4      None    3.07620  113041        5  "
      ]
     },
     "execution_count": 3,
     "metadata": {},
     "output_type": "execute_result"
    }
   ],
   "source": [
    "metadata_raw.head()"
   ]
  },
  {
   "cell_type": "code",
   "execution_count": 4,
   "id": "42ba6782",
   "metadata": {
    "scrolled": true
   },
   "outputs": [
    {
     "data": {
      "text/plain": [
       "(84661, 7)"
      ]
     },
     "execution_count": 4,
     "metadata": {},
     "output_type": "execute_result"
    }
   ],
   "source": [
    "metadata_raw.shape"
   ]
  },
  {
   "cell_type": "code",
   "execution_count": 5,
   "id": "b31380c6",
   "metadata": {},
   "outputs": [
    {
     "name": "stdout",
     "output_type": "stream",
     "text": [
      "<class 'pandas.core.frame.DataFrame'>\n",
      "RangeIndex: 84661 entries, 0 to 84660\n",
      "Data columns (total 7 columns):\n",
      " #   Column      Non-Null Count  Dtype  \n",
      "---  ------      --------------  -----  \n",
      " 0   title       84661 non-null  object \n",
      " 1   directedBy  84661 non-null  object \n",
      " 2   starring    84661 non-null  object \n",
      " 3   dateAdded   78143 non-null  object \n",
      " 4   avgRating   84661 non-null  float64\n",
      " 5   imdbId      84661 non-null  int64  \n",
      " 6   item_id     84661 non-null  int64  \n",
      "dtypes: float64(1), int64(2), object(4)\n",
      "memory usage: 4.5+ MB\n"
     ]
    }
   ],
   "source": [
    "# only missing info from dateAdded\n",
    "metadata_raw.info()"
   ]
  },
  {
   "cell_type": "code",
   "execution_count": 6,
   "id": "3f946795",
   "metadata": {
    "scrolled": true
   },
   "outputs": [
    {
     "data": {
      "text/plain": [
       "title         0.00000\n",
       "directedBy    0.00000\n",
       "starring      0.00000\n",
       "dateAdded     7.69894\n",
       "avgRating     0.00000\n",
       "imdbId        0.00000\n",
       "item_id       0.00000\n",
       "dtype: float64"
      ]
     },
     "execution_count": 6,
     "metadata": {},
     "output_type": "execute_result"
    }
   ],
   "source": [
    "# roughly 15% of data is not clean\n",
    "# Date added is not release date, can drop\n",
    "metadata_raw.isna().sum(axis=0) / metadata_raw.shape[0]*100"
   ]
  },
  {
   "cell_type": "code",
   "execution_count": 7,
   "id": "a220daf9",
   "metadata": {},
   "outputs": [],
   "source": [
    "# Date added is not the same as year release date, imdbID is not used to join any columns, can drop\n",
    "metadata_raw.drop(columns=['dateAdded', 'imdbId'], inplace=True)  "
   ]
  },
  {
   "cell_type": "code",
   "execution_count": 8,
   "id": "cb7cbc12",
   "metadata": {
    "scrolled": false
   },
   "outputs": [
    {
     "data": {
      "text/plain": [
       "0"
      ]
     },
     "execution_count": 8,
     "metadata": {},
     "output_type": "execute_result"
    }
   ],
   "source": [
    "## No duplicate entries, good \n",
    "metadata_raw.duplicated().sum()"
   ]
  },
  {
   "cell_type": "code",
   "execution_count": 9,
   "id": "d0d13c1d",
   "metadata": {},
   "outputs": [],
   "source": [
    "metadata_raw['Year'] = metadata_raw['title'].str.extract(r'\\((\\d{4})\\)$')"
   ]
  },
  {
   "cell_type": "code",
   "execution_count": 10,
   "id": "f8c9f4c7",
   "metadata": {
    "scrolled": true
   },
   "outputs": [
    {
     "data": {
      "text/html": [
       "<div>\n",
       "<style scoped>\n",
       "    .dataframe tbody tr th:only-of-type {\n",
       "        vertical-align: middle;\n",
       "    }\n",
       "\n",
       "    .dataframe tbody tr th {\n",
       "        vertical-align: top;\n",
       "    }\n",
       "\n",
       "    .dataframe thead th {\n",
       "        text-align: right;\n",
       "    }\n",
       "</style>\n",
       "<table border=\"1\" class=\"dataframe\">\n",
       "  <thead>\n",
       "    <tr style=\"text-align: right;\">\n",
       "      <th></th>\n",
       "      <th>title</th>\n",
       "      <th>directedBy</th>\n",
       "      <th>starring</th>\n",
       "      <th>avgRating</th>\n",
       "      <th>item_id</th>\n",
       "      <th>Year</th>\n",
       "    </tr>\n",
       "  </thead>\n",
       "  <tbody>\n",
       "    <tr>\n",
       "      <th>0</th>\n",
       "      <td>Toy Story (1995)</td>\n",
       "      <td>John Lasseter</td>\n",
       "      <td>Tim Allen, Tom Hanks, Don Rickles, Jim Varney, John Ratzenberger, Wallace Shawn, Laurie Metcalf, John Morris, R. Lee Ermey, Annie Potts</td>\n",
       "      <td>3.89146</td>\n",
       "      <td>1</td>\n",
       "      <td>1995</td>\n",
       "    </tr>\n",
       "    <tr>\n",
       "      <th>1</th>\n",
       "      <td>Jumanji (1995)</td>\n",
       "      <td>Joe Johnston</td>\n",
       "      <td>Jonathan Hyde, Bradley Pierce, Robin Williams, Kirsten Dunst</td>\n",
       "      <td>3.26605</td>\n",
       "      <td>2</td>\n",
       "      <td>1995</td>\n",
       "    </tr>\n",
       "    <tr>\n",
       "      <th>2</th>\n",
       "      <td>Grumpier Old Men (1995)</td>\n",
       "      <td>Howard Deutch</td>\n",
       "      <td>Jack Lemmon, Walter Matthau, Ann-Margret , Sophia Loren</td>\n",
       "      <td>3.17146</td>\n",
       "      <td>3</td>\n",
       "      <td>1995</td>\n",
       "    </tr>\n",
       "    <tr>\n",
       "      <th>3</th>\n",
       "      <td>Waiting to Exhale (1995)</td>\n",
       "      <td>Forest Whitaker</td>\n",
       "      <td>Angela Bassett, Loretta Devine, Whitney Houston, Lela Rochon</td>\n",
       "      <td>2.86824</td>\n",
       "      <td>4</td>\n",
       "      <td>1995</td>\n",
       "    </tr>\n",
       "    <tr>\n",
       "      <th>4</th>\n",
       "      <td>Father of the Bride Part II (1995)</td>\n",
       "      <td>Charles Shyer</td>\n",
       "      <td>Steve Martin, Martin Short, Diane Keaton, Kimberly Williams, George Newbern, Kieran Culkin</td>\n",
       "      <td>3.07620</td>\n",
       "      <td>5</td>\n",
       "      <td>1995</td>\n",
       "    </tr>\n",
       "  </tbody>\n",
       "</table>\n",
       "</div>"
      ],
      "text/plain": [
       "                                title       directedBy  \\\n",
       "0                    Toy Story (1995)    John Lasseter   \n",
       "1                      Jumanji (1995)     Joe Johnston   \n",
       "2             Grumpier Old Men (1995)    Howard Deutch   \n",
       "3            Waiting to Exhale (1995)  Forest Whitaker   \n",
       "4  Father of the Bride Part II (1995)    Charles Shyer   \n",
       "\n",
       "                                                                                                                                  starring  \\\n",
       "0  Tim Allen, Tom Hanks, Don Rickles, Jim Varney, John Ratzenberger, Wallace Shawn, Laurie Metcalf, John Morris, R. Lee Ermey, Annie Potts   \n",
       "1                                                                             Jonathan Hyde, Bradley Pierce, Robin Williams, Kirsten Dunst   \n",
       "2                                                                                  Jack Lemmon, Walter Matthau, Ann-Margret , Sophia Loren   \n",
       "3                                                                             Angela Bassett, Loretta Devine, Whitney Houston, Lela Rochon   \n",
       "4                                               Steve Martin, Martin Short, Diane Keaton, Kimberly Williams, George Newbern, Kieran Culkin   \n",
       "\n",
       "   avgRating  item_id  Year  \n",
       "0    3.89146        1  1995  \n",
       "1    3.26605        2  1995  \n",
       "2    3.17146        3  1995  \n",
       "3    2.86824        4  1995  \n",
       "4    3.07620        5  1995  "
      ]
     },
     "execution_count": 10,
     "metadata": {},
     "output_type": "execute_result"
    }
   ],
   "source": [
    "metadata_raw.head()"
   ]
  },
  {
   "cell_type": "code",
   "execution_count": 11,
   "id": "098e638a",
   "metadata": {},
   "outputs": [
    {
     "data": {
      "text/plain": [
       "title         0.000000\n",
       "directedBy    0.000000\n",
       "starring      0.000000\n",
       "avgRating     0.000000\n",
       "item_id       0.000000\n",
       "Year          1.040621\n",
       "dtype: float64"
      ]
     },
     "execution_count": 11,
     "metadata": {},
     "output_type": "execute_result"
    }
   ],
   "source": [
    "# Year gets dropped down to 1 Percent missing\n",
    "metadata_raw.isna().sum(axis=0) / metadata_raw.shape[0]*100"
   ]
  },
  {
   "cell_type": "code",
   "execution_count": 12,
   "id": "bbcb95d4",
   "metadata": {},
   "outputs": [],
   "source": [
    "# Change Data type so it's numerical\n",
    "metadata_raw['Year'] = metadata_raw['Year'].astype('Int64')"
   ]
  },
  {
   "cell_type": "code",
   "execution_count": 13,
   "id": "23bfd932",
   "metadata": {},
   "outputs": [
    {
     "name": "stdout",
     "output_type": "stream",
     "text": [
      "<class 'pandas.core.frame.DataFrame'>\n",
      "RangeIndex: 84661 entries, 0 to 84660\n",
      "Data columns (total 6 columns):\n",
      " #   Column      Non-Null Count  Dtype  \n",
      "---  ------      --------------  -----  \n",
      " 0   title       84661 non-null  object \n",
      " 1   directedBy  84661 non-null  object \n",
      " 2   starring    84661 non-null  object \n",
      " 3   avgRating   84661 non-null  float64\n",
      " 4   item_id     84661 non-null  int64  \n",
      " 5   Year        83780 non-null  Int64  \n",
      "dtypes: Int64(1), float64(1), int64(1), object(3)\n",
      "memory usage: 4.0+ MB\n"
     ]
    }
   ],
   "source": [
    "metadata_raw.info()"
   ]
  },
  {
   "cell_type": "code",
   "execution_count": 14,
   "id": "0772b3cc",
   "metadata": {},
   "outputs": [
    {
     "data": {
      "text/html": [
       "<div>\n",
       "<style scoped>\n",
       "    .dataframe tbody tr th:only-of-type {\n",
       "        vertical-align: middle;\n",
       "    }\n",
       "\n",
       "    .dataframe tbody tr th {\n",
       "        vertical-align: top;\n",
       "    }\n",
       "\n",
       "    .dataframe thead th {\n",
       "        text-align: right;\n",
       "    }\n",
       "</style>\n",
       "<table border=\"1\" class=\"dataframe\">\n",
       "  <thead>\n",
       "    <tr style=\"text-align: right;\">\n",
       "      <th></th>\n",
       "      <th>title</th>\n",
       "      <th>directedBy</th>\n",
       "      <th>starring</th>\n",
       "      <th>avgRating</th>\n",
       "      <th>item_id</th>\n",
       "      <th>Year</th>\n",
       "    </tr>\n",
       "  </thead>\n",
       "  <tbody>\n",
       "    <tr>\n",
       "      <th>0</th>\n",
       "      <td>Toy Story (1995)</td>\n",
       "      <td>John Lasseter</td>\n",
       "      <td>Tim Allen, Tom Hanks, Don Rickles, Jim Varney, John Ratzenberger, Wallace Shawn, Laurie Metcalf, John Morris, R. Lee Ermey, Annie Potts</td>\n",
       "      <td>3.89146</td>\n",
       "      <td>1</td>\n",
       "      <td>1995</td>\n",
       "    </tr>\n",
       "    <tr>\n",
       "      <th>1</th>\n",
       "      <td>Jumanji (1995)</td>\n",
       "      <td>Joe Johnston</td>\n",
       "      <td>Jonathan Hyde, Bradley Pierce, Robin Williams, Kirsten Dunst</td>\n",
       "      <td>3.26605</td>\n",
       "      <td>2</td>\n",
       "      <td>1995</td>\n",
       "    </tr>\n",
       "    <tr>\n",
       "      <th>2</th>\n",
       "      <td>Grumpier Old Men (1995)</td>\n",
       "      <td>Howard Deutch</td>\n",
       "      <td>Jack Lemmon, Walter Matthau, Ann-Margret , Sophia Loren</td>\n",
       "      <td>3.17146</td>\n",
       "      <td>3</td>\n",
       "      <td>1995</td>\n",
       "    </tr>\n",
       "    <tr>\n",
       "      <th>3</th>\n",
       "      <td>Waiting to Exhale (1995)</td>\n",
       "      <td>Forest Whitaker</td>\n",
       "      <td>Angela Bassett, Loretta Devine, Whitney Houston, Lela Rochon</td>\n",
       "      <td>2.86824</td>\n",
       "      <td>4</td>\n",
       "      <td>1995</td>\n",
       "    </tr>\n",
       "    <tr>\n",
       "      <th>4</th>\n",
       "      <td>Father of the Bride Part II (1995)</td>\n",
       "      <td>Charles Shyer</td>\n",
       "      <td>Steve Martin, Martin Short, Diane Keaton, Kimberly Williams, George Newbern, Kieran Culkin</td>\n",
       "      <td>3.07620</td>\n",
       "      <td>5</td>\n",
       "      <td>1995</td>\n",
       "    </tr>\n",
       "  </tbody>\n",
       "</table>\n",
       "</div>"
      ],
      "text/plain": [
       "                                title       directedBy  \\\n",
       "0                    Toy Story (1995)    John Lasseter   \n",
       "1                      Jumanji (1995)     Joe Johnston   \n",
       "2             Grumpier Old Men (1995)    Howard Deutch   \n",
       "3            Waiting to Exhale (1995)  Forest Whitaker   \n",
       "4  Father of the Bride Part II (1995)    Charles Shyer   \n",
       "\n",
       "                                                                                                                                  starring  \\\n",
       "0  Tim Allen, Tom Hanks, Don Rickles, Jim Varney, John Ratzenberger, Wallace Shawn, Laurie Metcalf, John Morris, R. Lee Ermey, Annie Potts   \n",
       "1                                                                             Jonathan Hyde, Bradley Pierce, Robin Williams, Kirsten Dunst   \n",
       "2                                                                                  Jack Lemmon, Walter Matthau, Ann-Margret , Sophia Loren   \n",
       "3                                                                             Angela Bassett, Loretta Devine, Whitney Houston, Lela Rochon   \n",
       "4                                               Steve Martin, Martin Short, Diane Keaton, Kimberly Williams, George Newbern, Kieran Culkin   \n",
       "\n",
       "   avgRating  item_id  Year  \n",
       "0    3.89146        1  1995  \n",
       "1    3.26605        2  1995  \n",
       "2    3.17146        3  1995  \n",
       "3    2.86824        4  1995  \n",
       "4    3.07620        5  1995  "
      ]
     },
     "execution_count": 14,
     "metadata": {},
     "output_type": "execute_result"
    }
   ],
   "source": [
    "metadata_raw.head()"
   ]
  },
  {
   "cell_type": "code",
   "execution_count": 15,
   "id": "cd34053c",
   "metadata": {
    "scrolled": false
   },
   "outputs": [
    {
     "data": {
      "text/plain": [
       "title         0.000000\n",
       "directedBy    0.000000\n",
       "starring      0.000000\n",
       "avgRating     0.000000\n",
       "item_id       0.000000\n",
       "Year          1.040621\n",
       "dtype: float64"
      ]
     },
     "execution_count": 15,
     "metadata": {},
     "output_type": "execute_result"
    }
   ],
   "source": [
    "# roughly 15% of data is not clean\n",
    "# Date added is not release date, can drop\n",
    "metadata_raw.isna().sum(axis=0) / metadata_raw.shape[0]*100"
   ]
  },
  {
   "cell_type": "code",
   "execution_count": 16,
   "id": "c3d00e73",
   "metadata": {
    "scrolled": false
   },
   "outputs": [
    {
     "data": {
      "text/html": [
       "<div>\n",
       "<style scoped>\n",
       "    .dataframe tbody tr th:only-of-type {\n",
       "        vertical-align: middle;\n",
       "    }\n",
       "\n",
       "    .dataframe tbody tr th {\n",
       "        vertical-align: top;\n",
       "    }\n",
       "\n",
       "    .dataframe thead th {\n",
       "        text-align: right;\n",
       "    }\n",
       "</style>\n",
       "<table border=\"1\" class=\"dataframe\">\n",
       "  <thead>\n",
       "    <tr style=\"text-align: right;\">\n",
       "      <th></th>\n",
       "      <th>title</th>\n",
       "      <th>directedBy</th>\n",
       "      <th>starring</th>\n",
       "      <th>avgRating</th>\n",
       "      <th>item_id</th>\n",
       "      <th>Year</th>\n",
       "    </tr>\n",
       "  </thead>\n",
       "  <tbody>\n",
       "    <tr>\n",
       "      <th>8496</th>\n",
       "      <td>Babe Ruth Story, The (1948)</td>\n",
       "      <td>Roy Del Ruth</td>\n",
       "      <td>William Bendix, Claire Trevor, Charles Bickford</td>\n",
       "      <td>2.50000</td>\n",
       "      <td>25936</td>\n",
       "      <td>&lt;NA&gt;</td>\n",
       "    </tr>\n",
       "    <tr>\n",
       "      <th>8636</th>\n",
       "      <td>Heroes of Telemark, The (1965)</td>\n",
       "      <td>Anthony Mann</td>\n",
       "      <td>Kirk Douglas, Richard Harris, Ulla Jacobsson,Michael Redgrave</td>\n",
       "      <td>2.85714</td>\n",
       "      <td>26137</td>\n",
       "      <td>&lt;NA&gt;</td>\n",
       "    </tr>\n",
       "    <tr>\n",
       "      <th>8964</th>\n",
       "      <td>Jack's Back (1988)</td>\n",
       "      <td>Rowdy Herrington</td>\n",
       "      <td>James Spader, Cynthia Gibb, Jim Haynie</td>\n",
       "      <td>3.06522</td>\n",
       "      <td>26628</td>\n",
       "      <td>&lt;NA&gt;</td>\n",
       "    </tr>\n",
       "    <tr>\n",
       "      <th>9174</th>\n",
       "      <td>From Dusk Till Dawn 2: Texas Blood Money (1999)</td>\n",
       "      <td>Scott Spiegel</td>\n",
       "      <td>Bruce Campbell, Danny Trejo, Robert Patrick, Muse Watson, Brett Harrelson, Bo Hopkins, Raymond Cruz, Duane Whitaker</td>\n",
       "      <td>2.12222</td>\n",
       "      <td>27008</td>\n",
       "      <td>&lt;NA&gt;</td>\n",
       "    </tr>\n",
       "    <tr>\n",
       "      <th>9237</th>\n",
       "      <td>After the Rain (Ame agaru) (1999)</td>\n",
       "      <td>Takashi Koizumi</td>\n",
       "      <td>Akira Terao, Yoshiko Miyazaki, Shirô Mifune</td>\n",
       "      <td>3.75926</td>\n",
       "      <td>27189</td>\n",
       "      <td>&lt;NA&gt;</td>\n",
       "    </tr>\n",
       "    <tr>\n",
       "      <th>...</th>\n",
       "      <td>...</td>\n",
       "      <td>...</td>\n",
       "      <td>...</td>\n",
       "      <td>...</td>\n",
       "      <td>...</td>\n",
       "      <td>...</td>\n",
       "    </tr>\n",
       "    <tr>\n",
       "      <th>84273</th>\n",
       "      <td>Futari no Hitomi</td>\n",
       "      <td></td>\n",
       "      <td></td>\n",
       "      <td>0.00000</td>\n",
       "      <td>238540</td>\n",
       "      <td>&lt;NA&gt;</td>\n",
       "    </tr>\n",
       "    <tr>\n",
       "      <th>84278</th>\n",
       "      <td>The Craven Cove Murders</td>\n",
       "      <td>Ron Ford</td>\n",
       "      <td>Randal Malone,Trish Haight,Ted Newsom</td>\n",
       "      <td>0.00000</td>\n",
       "      <td>238550</td>\n",
       "      <td>&lt;NA&gt;</td>\n",
       "    </tr>\n",
       "    <tr>\n",
       "      <th>84372</th>\n",
       "      <td>Scott Joplin: King of Ragtime Composers</td>\n",
       "      <td>Amelia Anderson</td>\n",
       "      <td></td>\n",
       "      <td>0.00000</td>\n",
       "      <td>238738</td>\n",
       "      <td>&lt;NA&gt;</td>\n",
       "    </tr>\n",
       "    <tr>\n",
       "      <th>84514</th>\n",
       "      <td>Eric</td>\n",
       "      <td>James Goldstone</td>\n",
       "      <td>Patricia Neal,Claude Akins,Sian Barbara Allen,Mark Hamill,Nehemiah Persoff</td>\n",
       "      <td>0.00000</td>\n",
       "      <td>239022</td>\n",
       "      <td>&lt;NA&gt;</td>\n",
       "    </tr>\n",
       "    <tr>\n",
       "      <th>84660</th>\n",
       "      <td>The Making of the Philadelphia Eagles Cheerleaders Lingerie Calendar 2005-2006</td>\n",
       "      <td></td>\n",
       "      <td>Steve Vaccariello,Barbara Zaun,Rob Babik,Brad Bergman,Christopher Fragapane</td>\n",
       "      <td>0.00000</td>\n",
       "      <td>239314</td>\n",
       "      <td>&lt;NA&gt;</td>\n",
       "    </tr>\n",
       "  </tbody>\n",
       "</table>\n",
       "<p>881 rows × 6 columns</p>\n",
       "</div>"
      ],
      "text/plain": [
       "                                                                                title  \\\n",
       "8496                                                     Babe Ruth Story, The (1948)    \n",
       "8636                                                  Heroes of Telemark, The (1965)    \n",
       "8964                                                              Jack's Back (1988)    \n",
       "9174                                 From Dusk Till Dawn 2: Texas Blood Money (1999)    \n",
       "9237                                               After the Rain (Ame agaru) (1999)    \n",
       "...                                                                               ...   \n",
       "84273                                                                Futari no Hitomi   \n",
       "84278                                                         The Craven Cove Murders   \n",
       "84372                                         Scott Joplin: King of Ragtime Composers   \n",
       "84514                                                                            Eric   \n",
       "84660  The Making of the Philadelphia Eagles Cheerleaders Lingerie Calendar 2005-2006   \n",
       "\n",
       "             directedBy  \\\n",
       "8496       Roy Del Ruth   \n",
       "8636      Anthony Mann    \n",
       "8964   Rowdy Herrington   \n",
       "9174      Scott Spiegel   \n",
       "9237    Takashi Koizumi   \n",
       "...                 ...   \n",
       "84273                     \n",
       "84278          Ron Ford   \n",
       "84372   Amelia Anderson   \n",
       "84514   James Goldstone   \n",
       "84660                     \n",
       "\n",
       "                                                                                                                  starring  \\\n",
       "8496                                                                      William Bendix, Claire Trevor, Charles Bickford    \n",
       "8636                                                         Kirk Douglas, Richard Harris, Ulla Jacobsson,Michael Redgrave   \n",
       "8964                                                                                James Spader, Cynthia Gibb, Jim Haynie   \n",
       "9174   Bruce Campbell, Danny Trejo, Robert Patrick, Muse Watson, Brett Harrelson, Bo Hopkins, Raymond Cruz, Duane Whitaker   \n",
       "9237                                                                           Akira Terao, Yoshiko Miyazaki, Shirô Mifune   \n",
       "...                                                                                                                    ...   \n",
       "84273                                                                                                                        \n",
       "84278                                                                                Randal Malone,Trish Haight,Ted Newsom   \n",
       "84372                                                                                                                        \n",
       "84514                                           Patricia Neal,Claude Akins,Sian Barbara Allen,Mark Hamill,Nehemiah Persoff   \n",
       "84660                                          Steve Vaccariello,Barbara Zaun,Rob Babik,Brad Bergman,Christopher Fragapane   \n",
       "\n",
       "       avgRating  item_id  Year  \n",
       "8496     2.50000    25936  <NA>  \n",
       "8636     2.85714    26137  <NA>  \n",
       "8964     3.06522    26628  <NA>  \n",
       "9174     2.12222    27008  <NA>  \n",
       "9237     3.75926    27189  <NA>  \n",
       "...          ...      ...   ...  \n",
       "84273    0.00000   238540  <NA>  \n",
       "84278    0.00000   238550  <NA>  \n",
       "84372    0.00000   238738  <NA>  \n",
       "84514    0.00000   239022  <NA>  \n",
       "84660    0.00000   239314  <NA>  \n",
       "\n",
       "[881 rows x 6 columns]"
      ]
     },
     "execution_count": 16,
     "metadata": {},
     "output_type": "execute_result"
    }
   ],
   "source": [
    "# We can tell that they are all individual movies, ... going to have to remove all of them with the na values\n",
    "metadata_raw[metadata_raw['Year'].isna()]"
   ]
  },
  {
   "cell_type": "code",
   "execution_count": 17,
   "id": "be00cb17",
   "metadata": {},
   "outputs": [],
   "source": [
    "metadata_raw = metadata_raw[pd.notnull(metadata_raw['Year'])]"
   ]
  },
  {
   "cell_type": "code",
   "execution_count": 18,
   "id": "9669b1a5",
   "metadata": {
    "scrolled": true
   },
   "outputs": [
    {
     "name": "stdout",
     "output_type": "stream",
     "text": [
      "<class 'pandas.core.frame.DataFrame'>\n",
      "Int64Index: 83780 entries, 0 to 84659\n",
      "Data columns (total 6 columns):\n",
      " #   Column      Non-Null Count  Dtype  \n",
      "---  ------      --------------  -----  \n",
      " 0   title       83780 non-null  object \n",
      " 1   directedBy  83780 non-null  object \n",
      " 2   starring    83780 non-null  object \n",
      " 3   avgRating   83780 non-null  float64\n",
      " 4   item_id     83780 non-null  int64  \n",
      " 5   Year        83780 non-null  Int64  \n",
      "dtypes: Int64(1), float64(1), int64(1), object(3)\n",
      "memory usage: 4.6+ MB\n"
     ]
    }
   ],
   "source": [
    "# Kept All columns without null values\n",
    "metadata_raw.info()"
   ]
  },
  {
   "cell_type": "code",
   "execution_count": 19,
   "id": "7d9a8fe0",
   "metadata": {},
   "outputs": [
    {
     "data": {
      "text/plain": [
       "count    83780.000000\n",
       "mean      1993.936166\n",
       "std         25.276044\n",
       "min       1874.000000\n",
       "25%       1979.000000\n",
       "50%       2004.000000\n",
       "75%       2014.000000\n",
       "max       2021.000000\n",
       "Name: Year, dtype: float64"
      ]
     },
     "execution_count": 19,
     "metadata": {},
     "output_type": "execute_result"
    }
   ],
   "source": [
    "# Checking if the lowest year is reasonable (not like 1200 or something)\n",
    "metadata_raw['Year'].describe()"
   ]
  },
  {
   "cell_type": "code",
   "execution_count": 20,
   "id": "c0ab701c",
   "metadata": {
    "scrolled": false
   },
   "outputs": [
    {
     "data": {
      "text/plain": [
       "(array([9.0000e+00, 2.8100e+02, 3.9200e+02, 1.3290e+03, 4.0430e+03,\n",
       "        5.4310e+03, 7.8310e+03, 9.8880e+03, 1.7208e+04, 3.7368e+04]),\n",
       " array([1874.0, 1888.7, 1903.4, 1918.1, 1932.8, 1947.5, 1962.2, 1976.9,\n",
       "        1991.6, 2006.3, 2021.0], dtype=object),\n",
       " <BarContainer object of 10 artists>)"
      ]
     },
     "execution_count": 20,
     "metadata": {},
     "output_type": "execute_result"
    },
    {
     "data": {
      "image/png": "[encoded data removed]",
      "text/plain": [
       "<Figure size 640x480 with 1 Axes>"
      ]
     },
     "metadata": {},
     "output_type": "display_data"
    }
   ],
   "source": [
    "# Looks good, no awkward years atm \n",
    "plt.hist(metadata_raw['Year'].values)"
   ]
  },
  {
   "cell_type": "code",
   "execution_count": 21,
   "id": "979d0d16",
   "metadata": {},
   "outputs": [],
   "source": [
    "# Want to add a multiplier to bring the values of movie reviews from a range of 0.5-5 to 1-10\n",
    "\n",
    "metadata_raw['avgRating'] = metadata_raw['avgRating'].multiply(2)"
   ]
  },
  {
   "cell_type": "code",
   "execution_count": 22,
   "id": "845953c2",
   "metadata": {},
   "outputs": [
    {
     "data": {
      "text/html": [
       "<div>\n",
       "<style scoped>\n",
       "    .dataframe tbody tr th:only-of-type {\n",
       "        vertical-align: middle;\n",
       "    }\n",
       "\n",
       "    .dataframe tbody tr th {\n",
       "        vertical-align: top;\n",
       "    }\n",
       "\n",
       "    .dataframe thead th {\n",
       "        text-align: right;\n",
       "    }\n",
       "</style>\n",
       "<table border=\"1\" class=\"dataframe\">\n",
       "  <thead>\n",
       "    <tr style=\"text-align: right;\">\n",
       "      <th></th>\n",
       "      <th>title</th>\n",
       "      <th>directedBy</th>\n",
       "      <th>starring</th>\n",
       "      <th>avgRating</th>\n",
       "      <th>item_id</th>\n",
       "      <th>Year</th>\n",
       "    </tr>\n",
       "  </thead>\n",
       "  <tbody>\n",
       "    <tr>\n",
       "      <th>0</th>\n",
       "      <td>Toy Story (1995)</td>\n",
       "      <td>John Lasseter</td>\n",
       "      <td>Tim Allen, Tom Hanks, Don Rickles, Jim Varney, John Ratzenberger, Wallace Shawn, Laurie Metcalf, John Morris, R. Lee Ermey, Annie Potts</td>\n",
       "      <td>7.78292</td>\n",
       "      <td>1</td>\n",
       "      <td>1995</td>\n",
       "    </tr>\n",
       "    <tr>\n",
       "      <th>1</th>\n",
       "      <td>Jumanji (1995)</td>\n",
       "      <td>Joe Johnston</td>\n",
       "      <td>Jonathan Hyde, Bradley Pierce, Robin Williams, Kirsten Dunst</td>\n",
       "      <td>6.53210</td>\n",
       "      <td>2</td>\n",
       "      <td>1995</td>\n",
       "    </tr>\n",
       "    <tr>\n",
       "      <th>2</th>\n",
       "      <td>Grumpier Old Men (1995)</td>\n",
       "      <td>Howard Deutch</td>\n",
       "      <td>Jack Lemmon, Walter Matthau, Ann-Margret , Sophia Loren</td>\n",
       "      <td>6.34292</td>\n",
       "      <td>3</td>\n",
       "      <td>1995</td>\n",
       "    </tr>\n",
       "    <tr>\n",
       "      <th>3</th>\n",
       "      <td>Waiting to Exhale (1995)</td>\n",
       "      <td>Forest Whitaker</td>\n",
       "      <td>Angela Bassett, Loretta Devine, Whitney Houston, Lela Rochon</td>\n",
       "      <td>5.73648</td>\n",
       "      <td>4</td>\n",
       "      <td>1995</td>\n",
       "    </tr>\n",
       "    <tr>\n",
       "      <th>4</th>\n",
       "      <td>Father of the Bride Part II (1995)</td>\n",
       "      <td>Charles Shyer</td>\n",
       "      <td>Steve Martin, Martin Short, Diane Keaton, Kimberly Williams, George Newbern, Kieran Culkin</td>\n",
       "      <td>6.15240</td>\n",
       "      <td>5</td>\n",
       "      <td>1995</td>\n",
       "    </tr>\n",
       "  </tbody>\n",
       "</table>\n",
       "</div>"
      ],
      "text/plain": [
       "                                title       directedBy  \\\n",
       "0                    Toy Story (1995)    John Lasseter   \n",
       "1                      Jumanji (1995)     Joe Johnston   \n",
       "2             Grumpier Old Men (1995)    Howard Deutch   \n",
       "3            Waiting to Exhale (1995)  Forest Whitaker   \n",
       "4  Father of the Bride Part II (1995)    Charles Shyer   \n",
       "\n",
       "                                                                                                                                  starring  \\\n",
       "0  Tim Allen, Tom Hanks, Don Rickles, Jim Varney, John Ratzenberger, Wallace Shawn, Laurie Metcalf, John Morris, R. Lee Ermey, Annie Potts   \n",
       "1                                                                             Jonathan Hyde, Bradley Pierce, Robin Williams, Kirsten Dunst   \n",
       "2                                                                                  Jack Lemmon, Walter Matthau, Ann-Margret , Sophia Loren   \n",
       "3                                                                             Angela Bassett, Loretta Devine, Whitney Houston, Lela Rochon   \n",
       "4                                               Steve Martin, Martin Short, Diane Keaton, Kimberly Williams, George Newbern, Kieran Culkin   \n",
       "\n",
       "   avgRating  item_id  Year  \n",
       "0    7.78292        1  1995  \n",
       "1    6.53210        2  1995  \n",
       "2    6.34292        3  1995  \n",
       "3    5.73648        4  1995  \n",
       "4    6.15240        5  1995  "
      ]
     },
     "execution_count": 22,
     "metadata": {},
     "output_type": "execute_result"
    }
   ],
   "source": [
    "metadata_raw.head()"
   ]
  },
  {
   "cell_type": "code",
   "execution_count": 23,
   "id": "a2ab3c59",
   "metadata": {
    "scrolled": true
   },
   "outputs": [
    {
     "data": {
      "text/plain": [
       "count    83780.000000\n",
       "mean         5.088886\n",
       "std          2.632948\n",
       "min          0.000000\n",
       "25%          4.043640\n",
       "50%          6.000000\n",
       "75%          6.989825\n",
       "max         10.000000\n",
       "Name: avgRating, dtype: float64"
      ]
     },
     "execution_count": 23,
     "metadata": {},
     "output_type": "execute_result"
    }
   ],
   "source": [
    "# Checking the rating, we see the ratings have a minimum of 0\n",
    "# previously we checked for null values and there are none fortunately\n",
    "# remove the movies that have less than a rating of 1\n",
    "metadata_raw['avgRating'].describe()"
   ]
  },
  {
   "cell_type": "code",
   "execution_count": 24,
   "id": "a1263364",
   "metadata": {},
   "outputs": [],
   "source": [
    "# Should be last thing that is from the original dataset that needs to be addressed, joining columns afterwards\n",
    "cleaner_df = metadata_raw[(metadata_raw['avgRating']>=1)]"
   ]
  },
  {
   "cell_type": "code",
   "execution_count": 25,
   "id": "50ae1309",
   "metadata": {},
   "outputs": [
    {
     "name": "stdout",
     "output_type": "stream",
     "text": [
      "<class 'pandas.core.frame.DataFrame'>\n",
      "Int64Index: 70077 entries, 0 to 84561\n",
      "Data columns (total 6 columns):\n",
      " #   Column      Non-Null Count  Dtype  \n",
      "---  ------      --------------  -----  \n",
      " 0   title       70077 non-null  object \n",
      " 1   directedBy  70077 non-null  object \n",
      " 2   starring    70077 non-null  object \n",
      " 3   avgRating   70077 non-null  float64\n",
      " 4   item_id     70077 non-null  int64  \n",
      " 5   Year        70077 non-null  Int64  \n",
      "dtypes: Int64(1), float64(1), int64(1), object(3)\n",
      "memory usage: 3.8+ MB\n"
     ]
    }
   ],
   "source": [
    "# Still a big enough dataset, 70k entries\n",
    "cleaner_df.info()"
   ]
  },
  {
   "cell_type": "code",
   "execution_count": 26,
   "id": "992a8541",
   "metadata": {},
   "outputs": [
    {
     "data": {
      "text/html": [
       "<div>\n",
       "<style scoped>\n",
       "    .dataframe tbody tr th:only-of-type {\n",
       "        vertical-align: middle;\n",
       "    }\n",
       "\n",
       "    .dataframe tbody tr th {\n",
       "        vertical-align: top;\n",
       "    }\n",
       "\n",
       "    .dataframe thead th {\n",
       "        text-align: right;\n",
       "    }\n",
       "</style>\n",
       "<table border=\"1\" class=\"dataframe\">\n",
       "  <thead>\n",
       "    <tr style=\"text-align: right;\">\n",
       "      <th></th>\n",
       "      <th>title</th>\n",
       "      <th>directedBy</th>\n",
       "      <th>starring</th>\n",
       "      <th>avgRating</th>\n",
       "      <th>item_id</th>\n",
       "      <th>Year</th>\n",
       "    </tr>\n",
       "  </thead>\n",
       "  <tbody>\n",
       "    <tr>\n",
       "      <th>0</th>\n",
       "      <td>Toy Story (1995)</td>\n",
       "      <td>John Lasseter</td>\n",
       "      <td>Tim Allen, Tom Hanks, Don Rickles, Jim Varney, John Ratzenberger, Wallace Shawn, Laurie Metcalf, John Morris, R. Lee Ermey, Annie Potts</td>\n",
       "      <td>7.78292</td>\n",
       "      <td>1</td>\n",
       "      <td>1995</td>\n",
       "    </tr>\n",
       "    <tr>\n",
       "      <th>1</th>\n",
       "      <td>Jumanji (1995)</td>\n",
       "      <td>Joe Johnston</td>\n",
       "      <td>Jonathan Hyde, Bradley Pierce, Robin Williams, Kirsten Dunst</td>\n",
       "      <td>6.53210</td>\n",
       "      <td>2</td>\n",
       "      <td>1995</td>\n",
       "    </tr>\n",
       "    <tr>\n",
       "      <th>2</th>\n",
       "      <td>Grumpier Old Men (1995)</td>\n",
       "      <td>Howard Deutch</td>\n",
       "      <td>Jack Lemmon, Walter Matthau, Ann-Margret , Sophia Loren</td>\n",
       "      <td>6.34292</td>\n",
       "      <td>3</td>\n",
       "      <td>1995</td>\n",
       "    </tr>\n",
       "    <tr>\n",
       "      <th>3</th>\n",
       "      <td>Waiting to Exhale (1995)</td>\n",
       "      <td>Forest Whitaker</td>\n",
       "      <td>Angela Bassett, Loretta Devine, Whitney Houston, Lela Rochon</td>\n",
       "      <td>5.73648</td>\n",
       "      <td>4</td>\n",
       "      <td>1995</td>\n",
       "    </tr>\n",
       "    <tr>\n",
       "      <th>4</th>\n",
       "      <td>Father of the Bride Part II (1995)</td>\n",
       "      <td>Charles Shyer</td>\n",
       "      <td>Steve Martin, Martin Short, Diane Keaton, Kimberly Williams, George Newbern, Kieran Culkin</td>\n",
       "      <td>6.15240</td>\n",
       "      <td>5</td>\n",
       "      <td>1995</td>\n",
       "    </tr>\n",
       "  </tbody>\n",
       "</table>\n",
       "</div>"
      ],
      "text/plain": [
       "                                title       directedBy  \\\n",
       "0                    Toy Story (1995)    John Lasseter   \n",
       "1                      Jumanji (1995)     Joe Johnston   \n",
       "2             Grumpier Old Men (1995)    Howard Deutch   \n",
       "3            Waiting to Exhale (1995)  Forest Whitaker   \n",
       "4  Father of the Bride Part II (1995)    Charles Shyer   \n",
       "\n",
       "                                                                                                                                  starring  \\\n",
       "0  Tim Allen, Tom Hanks, Don Rickles, Jim Varney, John Ratzenberger, Wallace Shawn, Laurie Metcalf, John Morris, R. Lee Ermey, Annie Potts   \n",
       "1                                                                             Jonathan Hyde, Bradley Pierce, Robin Williams, Kirsten Dunst   \n",
       "2                                                                                  Jack Lemmon, Walter Matthau, Ann-Margret , Sophia Loren   \n",
       "3                                                                             Angela Bassett, Loretta Devine, Whitney Houston, Lela Rochon   \n",
       "4                                               Steve Martin, Martin Short, Diane Keaton, Kimberly Williams, George Newbern, Kieran Culkin   \n",
       "\n",
       "   avgRating  item_id  Year  \n",
       "0    7.78292        1  1995  \n",
       "1    6.53210        2  1995  \n",
       "2    6.34292        3  1995  \n",
       "3    5.73648        4  1995  \n",
       "4    6.15240        5  1995  "
      ]
     },
     "execution_count": 26,
     "metadata": {},
     "output_type": "execute_result"
    }
   ],
   "source": [
    "cleaner_df.head()"
   ]
  },
  {
   "cell_type": "code",
   "execution_count": 27,
   "id": "a0e60d36",
   "metadata": {
    "scrolled": true
   },
   "outputs": [
    {
     "data": {
      "text/plain": [
       "count    70077.000000\n",
       "mean         6.083977\n",
       "std          1.494595\n",
       "min          1.000000\n",
       "25%          5.285720\n",
       "50%          6.236940\n",
       "75%          7.000000\n",
       "max         10.000000\n",
       "Name: avgRating, dtype: float64"
      ]
     },
     "execution_count": 27,
     "metadata": {},
     "output_type": "execute_result"
    }
   ],
   "source": [
    "# cool, minimum value of avg rating is now 1\n",
    "cleaner_df['avgRating'].describe()"
   ]
  },
  {
   "cell_type": "code",
   "execution_count": 28,
   "id": "4ba8a2f1",
   "metadata": {},
   "outputs": [
    {
     "name": "stderr",
     "output_type": "stream",
     "text": [
      "C:\\Users\\micha\\AppData\\Local\\Temp\\ipykernel_30400\\2591283451.py:3: SettingWithCopyWarning: \n",
      "A value is trying to be set on a copy of a slice from a DataFrame.\n",
      "Try using .loc[row_indexer,col_indexer] = value instead\n",
      "\n",
      "See the caveats in the documentation: https://pandas.pydata.org/pandas-docs/stable/user_guide/indexing.html#returning-a-view-versus-a-copy\n",
      "  cleaner_df['director_count'] = cleaner_df['directedBy'].str.split().apply(len)\n"
     ]
    }
   ],
   "source": [
    "# we can assume that theres only one director per movie, but maybe there's an additional credit, lets count the number of words in each directedBy entry\n",
    "\n",
    "cleaner_df['director_count'] = cleaner_df['directedBy'].str.split().apply(len)"
   ]
  },
  {
   "cell_type": "code",
   "execution_count": 29,
   "id": "aa2af80e",
   "metadata": {
    "scrolled": false
   },
   "outputs": [
    {
     "data": {
      "text/plain": [
       "2     59051\n",
       "3      6595\n",
       "0      1943\n",
       "4      1564\n",
       "1       343\n",
       "5       272\n",
       "6       149\n",
       "7        36\n",
       "8        29\n",
       "10       15\n",
       "12       13\n",
       "14       12\n",
       "9        12\n",
       "11        8\n",
       "16        8\n",
       "18        3\n",
       "13        3\n",
       "23        2\n",
       "17        2\n",
       "22        2\n",
       "15        2\n",
       "20        2\n",
       "27        1\n",
       "76        1\n",
       "49        1\n",
       "26        1\n",
       "19        1\n",
       "31        1\n",
       "25        1\n",
       "58        1\n",
       "53        1\n",
       "56        1\n",
       "33        1\n",
       "Name: director_count, dtype: int64"
      ]
     },
     "execution_count": 29,
     "metadata": {},
     "output_type": "execute_result"
    }
   ],
   "source": [
    "cleaner_df['director_count'].value_counts()"
   ]
  },
  {
   "cell_type": "code",
   "execution_count": 30,
   "id": "e3e1441b",
   "metadata": {
    "scrolled": false
   },
   "outputs": [
    {
     "data": {
      "text/html": [
       "<div>\n",
       "<style scoped>\n",
       "    .dataframe tbody tr th:only-of-type {\n",
       "        vertical-align: middle;\n",
       "    }\n",
       "\n",
       "    .dataframe tbody tr th {\n",
       "        vertical-align: top;\n",
       "    }\n",
       "\n",
       "    .dataframe thead th {\n",
       "        text-align: right;\n",
       "    }\n",
       "</style>\n",
       "<table border=\"1\" class=\"dataframe\">\n",
       "  <thead>\n",
       "    <tr style=\"text-align: right;\">\n",
       "      <th></th>\n",
       "      <th>title</th>\n",
       "      <th>directedBy</th>\n",
       "      <th>starring</th>\n",
       "      <th>avgRating</th>\n",
       "      <th>item_id</th>\n",
       "      <th>Year</th>\n",
       "      <th>director_count</th>\n",
       "    </tr>\n",
       "  </thead>\n",
       "  <tbody>\n",
       "    <tr>\n",
       "      <th>28</th>\n",
       "      <td>City of Lost Children, The (Cité des enfants perdus, La) (1995)</td>\n",
       "      <td>Marc Caro, Jean-Pierre Jeunet</td>\n",
       "      <td>Ron Perlman, Daniel Emilfork, Judith Vittet, Dominique Pinon, Jean-Claude Dreyfus</td>\n",
       "      <td>7.82856</td>\n",
       "      <td>29</td>\n",
       "      <td>1995</td>\n",
       "      <td>4</td>\n",
       "    </tr>\n",
       "    <tr>\n",
       "      <th>41</th>\n",
       "      <td>Dead Presidents (1995)</td>\n",
       "      <td>Albert Hughes, Allen Hughes</td>\n",
       "      <td>Larenz Tate, Keith David, Chris Tucker, Freddy Rodríguez, Rose Jackson, N'Bushe Wright, Jenifer Lewis, Clifton Powell, Terrence Howard, Sticky Fingaz, Bokeem Woodbine, David Barry Gray, Michael Imperioli, Clifton Collins Jr., Tony Sirico, Seymour Cassel, Martin Sheen, Isaiah Washington</td>\n",
       "      <td>6.10406</td>\n",
       "      <td>42</td>\n",
       "      <td>1995</td>\n",
       "      <td>4</td>\n",
       "    </tr>\n",
       "    <tr>\n",
       "      <th>47</th>\n",
       "      <td>Pocahontas (1995)</td>\n",
       "      <td>Mike Gabriel, Eric Goldberg</td>\n",
       "      <td>Mel Gibson, Irene Bedard, Linda Hunt, Judy Kuhn, Christian Bale</td>\n",
       "      <td>5.95052</td>\n",
       "      <td>48</td>\n",
       "      <td>1995</td>\n",
       "      <td>4</td>\n",
       "    </tr>\n",
       "    <tr>\n",
       "      <th>154</th>\n",
       "      <td>Blue in the Face (1995)</td>\n",
       "      <td>Paul Auster, Wayne Wang</td>\n",
       "      <td>Lou Reed, Michael J. Fox, Roseanne, Jim Jarmusch, Lily Tomlin, Jared Harris, Giancarlo Esposito, Malik Yoba, José Zúñiga, Victor Argo, Stephen Gevedon, Madonna, Mira Sorvino, Keith David, Harvey Keitel, Michael Badalucco, Debra Wilson, RuPaul,</td>\n",
       "      <td>7.06098</td>\n",
       "      <td>156</td>\n",
       "      <td>1995</td>\n",
       "      <td>4</td>\n",
       "    </tr>\n",
       "    <tr>\n",
       "      <th>185</th>\n",
       "      <td>Party Girl (1995)</td>\n",
       "      <td>Daisy von Scherler Mayer</td>\n",
       "      <td>Parker Posey, Omar Townsend, Sasha von Scherler</td>\n",
       "      <td>6.89268</td>\n",
       "      <td>187</td>\n",
       "      <td>1995</td>\n",
       "      <td>4</td>\n",
       "    </tr>\n",
       "    <tr>\n",
       "      <th>...</th>\n",
       "      <td>...</td>\n",
       "      <td>...</td>\n",
       "      <td>...</td>\n",
       "      <td>...</td>\n",
       "      <td>...</td>\n",
       "      <td>...</td>\n",
       "      <td>...</td>\n",
       "    </tr>\n",
       "    <tr>\n",
       "      <th>79205</th>\n",
       "      <td>Hunt for the Skinwalker (2018)</td>\n",
       "      <td>Jeremy Kenyon Lockyer Corbell</td>\n",
       "      <td>George Knapp,Jeremy Kenyon Lockyer Corbell,Robbie Williams,Robert Bigelow</td>\n",
       "      <td>8.00000</td>\n",
       "      <td>228405</td>\n",
       "      <td>2018</td>\n",
       "      <td>4</td>\n",
       "    </tr>\n",
       "    <tr>\n",
       "      <th>80874</th>\n",
       "      <td>Happily Never After (2017)</td>\n",
       "      <td>David S. Cass Sr.</td>\n",
       "      <td>Danielle Savre,Rick Cosnett,Bianca A. Santos,Ted McGinley,David Carzell</td>\n",
       "      <td>10.00000</td>\n",
       "      <td>231743</td>\n",
       "      <td>2017</td>\n",
       "      <td>4</td>\n",
       "    </tr>\n",
       "    <tr>\n",
       "      <th>81457</th>\n",
       "      <td>Canvas (2020)</td>\n",
       "      <td>Frank E. Abney III</td>\n",
       "      <td></td>\n",
       "      <td>6.00000</td>\n",
       "      <td>232909</td>\n",
       "      <td>2020</td>\n",
       "      <td>4</td>\n",
       "    </tr>\n",
       "    <tr>\n",
       "      <th>81543</th>\n",
       "      <td>Second Samuel (2020)</td>\n",
       "      <td>J. Wayne Patterson Jr.</td>\n",
       "      <td>E. Roger Mitchell,Bethany Anne Lind,Stan Houston,Clifton Truman Daniel,Wesley Truman Daniel</td>\n",
       "      <td>2.00000</td>\n",
       "      <td>233081</td>\n",
       "      <td>2020</td>\n",
       "      <td>4</td>\n",
       "    </tr>\n",
       "    <tr>\n",
       "      <th>81819</th>\n",
       "      <td>The Edge of Theocracy (2020)</td>\n",
       "      <td>Rodrigo Van Der Put</td>\n",
       "      <td>Fábio Porchat,Evelyn Castro,Gregório Duvivier,Rafael Infante,Antonio Tabet</td>\n",
       "      <td>8.00000</td>\n",
       "      <td>233633</td>\n",
       "      <td>2020</td>\n",
       "      <td>4</td>\n",
       "    </tr>\n",
       "  </tbody>\n",
       "</table>\n",
       "<p>1564 rows × 7 columns</p>\n",
       "</div>"
      ],
      "text/plain": [
       "                                                                 title  \\\n",
       "28     City of Lost Children, The (Cité des enfants perdus, La) (1995)   \n",
       "41                                              Dead Presidents (1995)   \n",
       "47                                                   Pocahontas (1995)   \n",
       "154                                            Blue in the Face (1995)   \n",
       "185                                                  Party Girl (1995)   \n",
       "...                                                                ...   \n",
       "79205                                   Hunt for the Skinwalker (2018)   \n",
       "80874                                       Happily Never After (2017)   \n",
       "81457                                                    Canvas (2020)   \n",
       "81543                                             Second Samuel (2020)   \n",
       "81819                                     The Edge of Theocracy (2020)   \n",
       "\n",
       "                          directedBy  \\\n",
       "28     Marc Caro, Jean-Pierre Jeunet   \n",
       "41       Albert Hughes, Allen Hughes   \n",
       "47       Mike Gabriel, Eric Goldberg   \n",
       "154          Paul Auster, Wayne Wang   \n",
       "185         Daisy von Scherler Mayer   \n",
       "...                              ...   \n",
       "79205  Jeremy Kenyon Lockyer Corbell   \n",
       "80874              David S. Cass Sr.   \n",
       "81457             Frank E. Abney III   \n",
       "81543         J. Wayne Patterson Jr.   \n",
       "81819            Rodrigo Van Der Put   \n",
       "\n",
       "                                                                                                                                                                                                                                                                                             starring  \\\n",
       "28                                                                                                                                                                                                                  Ron Perlman, Daniel Emilfork, Judith Vittet, Dominique Pinon, Jean-Claude Dreyfus   \n",
       "41     Larenz Tate, Keith David, Chris Tucker, Freddy Rodríguez, Rose Jackson, N'Bushe Wright, Jenifer Lewis, Clifton Powell, Terrence Howard, Sticky Fingaz, Bokeem Woodbine, David Barry Gray, Michael Imperioli, Clifton Collins Jr., Tony Sirico, Seymour Cassel, Martin Sheen, Isaiah Washington   \n",
       "47                                                                                                                                                                                                                                    Mel Gibson, Irene Bedard, Linda Hunt, Judy Kuhn, Christian Bale   \n",
       "154                                              Lou Reed, Michael J. Fox, Roseanne, Jim Jarmusch, Lily Tomlin, Jared Harris, Giancarlo Esposito, Malik Yoba, José Zúñiga, Victor Argo, Stephen Gevedon, Madonna, Mira Sorvino, Keith David, Harvey Keitel, Michael Badalucco, Debra Wilson, RuPaul,    \n",
       "185                                                                                                                                                                                                                                                   Parker Posey, Omar Townsend, Sasha von Scherler   \n",
       "...                                                                                                                                                                                                                                                                                               ...   \n",
       "79205                                                                                                                                                                                                                       George Knapp,Jeremy Kenyon Lockyer Corbell,Robbie Williams,Robert Bigelow   \n",
       "80874                                                                                                                                                                                                                         Danielle Savre,Rick Cosnett,Bianca A. Santos,Ted McGinley,David Carzell   \n",
       "81457                                                                                                                                                                                                                                                                                                   \n",
       "81543                                                                                                                                                                                                     E. Roger Mitchell,Bethany Anne Lind,Stan Houston,Clifton Truman Daniel,Wesley Truman Daniel   \n",
       "81819                                                                                                                                                                                                                      Fábio Porchat,Evelyn Castro,Gregório Duvivier,Rafael Infante,Antonio Tabet   \n",
       "\n",
       "       avgRating  item_id  Year  director_count  \n",
       "28       7.82856       29  1995               4  \n",
       "41       6.10406       42  1995               4  \n",
       "47       5.95052       48  1995               4  \n",
       "154      7.06098      156  1995               4  \n",
       "185      6.89268      187  1995               4  \n",
       "...          ...      ...   ...             ...  \n",
       "79205    8.00000   228405  2018               4  \n",
       "80874   10.00000   231743  2017               4  \n",
       "81457    6.00000   232909  2020               4  \n",
       "81543    2.00000   233081  2020               4  \n",
       "81819    8.00000   233633  2020               4  \n",
       "\n",
       "[1564 rows x 7 columns]"
      ]
     },
     "execution_count": 30,
     "metadata": {},
     "output_type": "execute_result"
    }
   ],
   "source": [
    "cleaner_df[cleaner_df['director_count'] == 4]"
   ]
  },
  {
   "cell_type": "code",
   "execution_count": 31,
   "id": "32e1f90b",
   "metadata": {},
   "outputs": [
    {
     "name": "stderr",
     "output_type": "stream",
     "text": [
      "C:\\Users\\micha\\AppData\\Local\\Temp\\ipykernel_30400\\2968166419.py:2: SettingWithCopyWarning: \n",
      "A value is trying to be set on a copy of a slice from a DataFrame.\n",
      "Try using .loc[row_indexer,col_indexer] = value instead\n",
      "\n",
      "See the caveats in the documentation: https://pandas.pydata.org/pandas-docs/stable/user_guide/indexing.html#returning-a-view-versus-a-copy\n",
      "  cleaner_df['director_count'] = cleaner_df[\"directedBy\"].str.count(\",\") + 1\n"
     ]
    }
   ],
   "source": [
    "# Gets a column counting by directs, we now see it's seperated by commas\n",
    "cleaner_df['director_count'] = cleaner_df[\"directedBy\"].str.count(\",\") + 1"
   ]
  },
  {
   "cell_type": "code",
   "execution_count": 32,
   "id": "a21faf28",
   "metadata": {},
   "outputs": [
    {
     "data": {
      "text/plain": [
       "1     68200\n",
       "2      1595\n",
       "3       160\n",
       "4        40\n",
       "5        23\n",
       "7        18\n",
       "6        15\n",
       "8         7\n",
       "11        4\n",
       "9         3\n",
       "13        2\n",
       "10        2\n",
       "26        2\n",
       "36        1\n",
       "25        1\n",
       "15        1\n",
       "12        1\n",
       "27        1\n",
       "30        1\n",
       "Name: director_count, dtype: int64"
      ]
     },
     "execution_count": 32,
     "metadata": {},
     "output_type": "execute_result"
    }
   ],
   "source": [
    "cleaner_df['director_count'].value_counts()"
   ]
  },
  {
   "cell_type": "code",
   "execution_count": 33,
   "id": "8c899d57",
   "metadata": {},
   "outputs": [
    {
     "data": {
      "text/html": [
       "<div>\n",
       "<style scoped>\n",
       "    .dataframe tbody tr th:only-of-type {\n",
       "        vertical-align: middle;\n",
       "    }\n",
       "\n",
       "    .dataframe tbody tr th {\n",
       "        vertical-align: top;\n",
       "    }\n",
       "\n",
       "    .dataframe thead th {\n",
       "        text-align: right;\n",
       "    }\n",
       "</style>\n",
       "<table border=\"1\" class=\"dataframe\">\n",
       "  <thead>\n",
       "    <tr style=\"text-align: right;\">\n",
       "      <th></th>\n",
       "      <th>title</th>\n",
       "      <th>directedBy</th>\n",
       "      <th>starring</th>\n",
       "      <th>avgRating</th>\n",
       "      <th>item_id</th>\n",
       "      <th>Year</th>\n",
       "      <th>director_count</th>\n",
       "    </tr>\n",
       "  </thead>\n",
       "  <tbody>\n",
       "    <tr>\n",
       "      <th>1319</th>\n",
       "      <td>Vampire in Venice (Nosferatu a Venezia) (Nosferatu in Venice) (1986)</td>\n",
       "      <td>Augusto Caminito, Mario Caiano, Luigi Cozzi, Klaus Kinski, Maurizio Lucidi</td>\n",
       "      <td>Klaus Kinski, Donald Pleasence, Christopher Plummer, Barbara De Rossi</td>\n",
       "      <td>6.36568</td>\n",
       "      <td>1349</td>\n",
       "      <td>1986</td>\n",
       "      <td>5</td>\n",
       "    </tr>\n",
       "    <tr>\n",
       "      <th>6875</th>\n",
       "      <td>Ben-Hur: A Tale of the Christ (1925)</td>\n",
       "      <td>Fred Niblo, Charles Brabin, Christy Cabanne, J.J. Cohn, Rex Ingram</td>\n",
       "      <td>Ramon Novarro,Francis X. Bushman,May McAvoy,Betty Bronson,Claire McDowell,Kathleen Key,Carmel Myers,</td>\n",
       "      <td>7.42294</td>\n",
       "      <td>6986</td>\n",
       "      <td>1925</td>\n",
       "      <td>5</td>\n",
       "    </tr>\n",
       "    <tr>\n",
       "      <th>8220</th>\n",
       "      <td>Terror, The (1963)</td>\n",
       "      <td>Roger Corman, Francis Ford Coppola, Monte Hellman, Jack Hill, Jack Nicholson</td>\n",
       "      <td>Boris Karloff, Jack Nicholson, Sandra Knight , Dick Miller</td>\n",
       "      <td>4.67256</td>\n",
       "      <td>8903</td>\n",
       "      <td>1963</td>\n",
       "      <td>5</td>\n",
       "    </tr>\n",
       "    <tr>\n",
       "      <th>9635</th>\n",
       "      <td>It's All True (1993)</td>\n",
       "      <td>Bill Krohn, Myron Meisel, Orson Welles, Richard Wilson, Norman Foster</td>\n",
       "      <td>Miguel Ferrer</td>\n",
       "      <td>6.78572</td>\n",
       "      <td>31011</td>\n",
       "      <td>1993</td>\n",
       "      <td>5</td>\n",
       "    </tr>\n",
       "    <tr>\n",
       "      <th>10216</th>\n",
       "      <td>Racket, The (1951)</td>\n",
       "      <td>John Cromwell, Mel Ferrer, Tay Garnett, Nicholas Ray, Sherman Todd</td>\n",
       "      <td>Robert Mitchum, Lizabeth Scott, Robert Ryan, William Talman, Ray Collins, William Conrad, Les Tremayne, Don Beddoe, Pat Flaherty, Milburn Stone</td>\n",
       "      <td>6.80952</td>\n",
       "      <td>33914</td>\n",
       "      <td>1951</td>\n",
       "      <td>5</td>\n",
       "    </tr>\n",
       "    <tr>\n",
       "      <th>11662</th>\n",
       "      <td>Magical Mystery Tour (1967)</td>\n",
       "      <td>George Harrison, Bernard Knowles, John Lennon, Paul McCartney, Ringo Starr</td>\n",
       "      <td>George Harrison, John Lennon, Paul McCartney, Ringo Starr</td>\n",
       "      <td>5.71818</td>\n",
       "      <td>51044</td>\n",
       "      <td>1967</td>\n",
       "      <td>5</td>\n",
       "    </tr>\n",
       "    <tr>\n",
       "      <th>12655</th>\n",
       "      <td>Tarzan Escapes (1936)</td>\n",
       "      <td>Richard Thorpe, John Farrow, James C. McKay, George B. Seitz, William A. Wellman</td>\n",
       "      <td>Johnny Weissmuller, Maureen O'Sullivan</td>\n",
       "      <td>6.05000</td>\n",
       "      <td>59178</td>\n",
       "      <td>1936</td>\n",
       "      <td>5</td>\n",
       "    </tr>\n",
       "    <tr>\n",
       "      <th>14170</th>\n",
       "      <td>Summer School (2006)</td>\n",
       "      <td>Lance Hendrickson, Troy McCall, Mike P. Nelson, Steven Rhoden, Ben Trandem</td>\n",
       "      <td>Simon Wallace, Amy Cocchiarella, Tony D. Czech, Lance Hendrickson, Ty Richardson</td>\n",
       "      <td>5.00000</td>\n",
       "      <td>70826</td>\n",
       "      <td>2006</td>\n",
       "      <td>5</td>\n",
       "    </tr>\n",
       "    <tr>\n",
       "      <th>14173</th>\n",
       "      <td>Queen Kelly (1929)</td>\n",
       "      <td>Erich von Stroheim, Richard Boleslawski, Edmund Goulding, Irving Thalberg, Sam Wood</td>\n",
       "      <td>Gloria Swanson, Walter Byron, Seena Owen</td>\n",
       "      <td>6.94444</td>\n",
       "      <td>70833</td>\n",
       "      <td>1929</td>\n",
       "      <td>5</td>\n",
       "    </tr>\n",
       "    <tr>\n",
       "      <th>15434</th>\n",
       "      <td>Tales from the Golden Age (Amintiri din epoca de aur) (2009)</td>\n",
       "      <td>Hanno Höfer, Razvan Marculescu, Cristian Mungiu, Constantin Popescu, Ioana Uricaru</td>\n",
       "      <td>Diana Cavallioti, Radu Iacoban, Vlad Ivanov, Tania Popa, Liliana Mocanu</td>\n",
       "      <td>7.23530</td>\n",
       "      <td>78268</td>\n",
       "      <td>2009</td>\n",
       "      <td>5</td>\n",
       "    </tr>\n",
       "    <tr>\n",
       "      <th>16989</th>\n",
       "      <td>Trapped Ashes (2006)</td>\n",
       "      <td>Sean S. Cunningham, Joe Dante, John Gaeta, Monte Hellman, Ken Russell</td>\n",
       "      <td>Jayce Bartok,Henry Gibson,Lara Harris,Scott Lowell,Dick Miller,John Saxon,Ryo Ishibashi,Tahmoh Penikett,Tygh Runyan,Luke Macfarlane,Jerry Wasserman</td>\n",
       "      <td>5.76924</td>\n",
       "      <td>85327</td>\n",
       "      <td>2006</td>\n",
       "      <td>5</td>\n",
       "    </tr>\n",
       "    <tr>\n",
       "      <th>18001</th>\n",
       "      <td>Witches, The (Le streghe) (1967)</td>\n",
       "      <td>Mauro Bolognini, Vittorio De Sica, Pier Paolo Pasolini, Franco Rossi, Luchino Visconti</td>\n",
       "      <td>Silvana Mangano, Francisco Rabal, Massimo Girotti, Helmut Berger, Leslie French, Alberto Sordi, Totò, Ninetto Davoli, Laura Betti, Clint Eastwood, Valentino Macchi, Pietro Torrisi</td>\n",
       "      <td>6.66666</td>\n",
       "      <td>89620</td>\n",
       "      <td>1967</td>\n",
       "      <td>5</td>\n",
       "    </tr>\n",
       "    <tr>\n",
       "      <th>18722</th>\n",
       "      <td>Yolki (2010)</td>\n",
       "      <td>Timur Bekmambetov, Yaroslav Chevazhevskiy, Ignas Jonynas, Dmitriy Kiselev, Aleksandr Voytinskiy</td>\n",
       "      <td>Dmitry Medvedev, Alina Bulynko, Sergey Pokhodaev, Ivan Urgant, Sergey Svetlakov</td>\n",
       "      <td>5.87500</td>\n",
       "      <td>92371</td>\n",
       "      <td>2010</td>\n",
       "      <td>5</td>\n",
       "    </tr>\n",
       "    <tr>\n",
       "      <th>19723</th>\n",
       "      <td>Pearls of the Deep (Perlicky na dne) (1966)</td>\n",
       "      <td>Vera Chytilová, Jaromil Jires, Jirí Menzel, Jan Nemec, Evald Schorm</td>\n",
       "      <td>Pavla Marsálková, Ferdinand Kruta, Alois Vachek, Emil Iserle, Miroslav Nohýnek, Vlasta Spánková, Milos Ctrnacty, Frantisek Havel</td>\n",
       "      <td>6.60000</td>\n",
       "      <td>96773</td>\n",
       "      <td>1966</td>\n",
       "      <td>5</td>\n",
       "    </tr>\n",
       "    <tr>\n",
       "      <th>20373</th>\n",
       "      <td>Reluctant Dragon, The (1941)</td>\n",
       "      <td>Alfred L. Werker, Hamilton Luske, Jack Cutting, Ub Iwerks, Jack Kinney</td>\n",
       "      <td>Robert Benchley, Frances Gifford, Buddy Pepper, Nana Bryant, Alan Ladd</td>\n",
       "      <td>5.36842</td>\n",
       "      <td>99246</td>\n",
       "      <td>1941</td>\n",
       "      <td>5</td>\n",
       "    </tr>\n",
       "    <tr>\n",
       "      <th>22717</th>\n",
       "      <td>Call Me Crazy: A Five Film (2013)</td>\n",
       "      <td>Laura Dern, Bryce Dallas Howard, Bonnie Hunt, Ashley Judd, Sharon Maguire</td>\n",
       "      <td>Jennifer Hudson, Sarah Hyland, Melissa Leo, Mitch Rouse, Octavia Spencer, Sofia Vassilieva, Brittany Snow, Ernie Hudson, Jason Ritter, Jean Smart, Lea Thompson, Melanie Griffith, Chelsea Handler, Aimee Teegarden, James Avery, Jay Chandrasekhar, Dave Foley, Clint Howard</td>\n",
       "      <td>6.84210</td>\n",
       "      <td>107357</td>\n",
       "      <td>2013</td>\n",
       "      <td>5</td>\n",
       "    </tr>\n",
       "    <tr>\n",
       "      <th>23735</th>\n",
       "      <td>Full House (O. Henry's Full House) (1952)</td>\n",
       "      <td>Henry Koster, Henry Hathaway, Jean Negulesco, Howard Hawks, Henry King</td>\n",
       "      <td>Charles Laughton, Oscar Levant, Marilyn Monroe, Richard Widmark, Farley Granger, Jeanne Crain, Anne Baxter, Fred Allen, Jean Peters, David Wayne, Gregory Ratoff, Jean Peters</td>\n",
       "      <td>6.85714</td>\n",
       "      <td>110593</td>\n",
       "      <td>1952</td>\n",
       "      <td>5</td>\n",
       "    </tr>\n",
       "    <tr>\n",
       "      <th>25410</th>\n",
       "      <td>The Conquest of the Air (1936)</td>\n",
       "      <td>Alexander Esway, Zoltan Korda, John Monk Saunders, Alexander Shaw, Donald Taylor</td>\n",
       "      <td>Frederick Culley,Laurence Olivier,Franklin Dyall,Henry Victor,Hay Petrie,John Abbott</td>\n",
       "      <td>4.00000</td>\n",
       "      <td>116239</td>\n",
       "      <td>1936</td>\n",
       "      <td>5</td>\n",
       "    </tr>\n",
       "    <tr>\n",
       "      <th>25822</th>\n",
       "      <td>V/H/S: Viral (2014)</td>\n",
       "      <td>Justin Benson, Gregg Bishop, Aaron Moorhead, Marcel Sarmiento, Nacho Vigalondo</td>\n",
       "      <td>Justin Welborn,Emmy Argo,Gustavo Salmerón,Patrick Lawrie,Celia K. Milius</td>\n",
       "      <td>4.95868</td>\n",
       "      <td>117372</td>\n",
       "      <td>2014</td>\n",
       "      <td>5</td>\n",
       "    </tr>\n",
       "    <tr>\n",
       "      <th>26125</th>\n",
       "      <td>McConkey (2013)</td>\n",
       "      <td>Rob Bruce, Scott Gaffney, Murray Wais, Steve Winter, David Zieff</td>\n",
       "      <td></td>\n",
       "      <td>7.88888</td>\n",
       "      <td>118204</td>\n",
       "      <td>2013</td>\n",
       "      <td>5</td>\n",
       "    </tr>\n",
       "    <tr>\n",
       "      <th>26461</th>\n",
       "      <td>Ascension (2014)</td>\n",
       "      <td>Stephen Williams, Mairzee Almas, Nick Copus, Robert Lieberman, Vincenzo Natali</td>\n",
       "      <td>Tricia Helfer,Gil Bellows,Brian Van Holt,Andrea Roth,Brandon P. Bell,Jacqueline Byers,Tiffany Lonsdale,Wendy Crewson,Al Sapienza,Mark Camacho</td>\n",
       "      <td>6.95652</td>\n",
       "      <td>119139</td>\n",
       "      <td>2014</td>\n",
       "      <td>5</td>\n",
       "    </tr>\n",
       "    <tr>\n",
       "      <th>27023</th>\n",
       "      <td>We, the Women (1953)</td>\n",
       "      <td>Gianni Franciolini, Alfredo Guarini, Roberto Rossellini, Luchino Visconti, Luigi Zampa</td>\n",
       "      <td>Ingrid Bergman,Anna Magnani,Isa Miranda,Alida Valli</td>\n",
       "      <td>6.00000</td>\n",
       "      <td>121043</td>\n",
       "      <td>1953</td>\n",
       "      <td>5</td>\n",
       "    </tr>\n",
       "    <tr>\n",
       "      <th>32939</th>\n",
       "      <td>Night Train to Terror (1985)</td>\n",
       "      <td>John Carr, Phillip Marshak, Tom McGowan, Jay Schlossberg-Cohen, Gregg C. Tallas</td>\n",
       "      <td>Richard Moll,Tony Giorgio,Ferdy Mayne,Eva Hesse,Sharon Ratcliff,John Phillip Law,Cameron Mitchell,Marc Lawrence</td>\n",
       "      <td>4.59090</td>\n",
       "      <td>134499</td>\n",
       "      <td>1985</td>\n",
       "      <td>5</td>\n",
       "    </tr>\n",
       "  </tbody>\n",
       "</table>\n",
       "</div>"
      ],
      "text/plain": [
       "                                                                      title  \\\n",
       "1319   Vampire in Venice (Nosferatu a Venezia) (Nosferatu in Venice) (1986)   \n",
       "6875                                   Ben-Hur: A Tale of the Christ (1925)   \n",
       "8220                                                     Terror, The (1963)   \n",
       "9635                                                   It's All True (1993)   \n",
       "10216                                                    Racket, The (1951)   \n",
       "11662                                           Magical Mystery Tour (1967)   \n",
       "12655                                                 Tarzan Escapes (1936)   \n",
       "14170                                                  Summer School (2006)   \n",
       "14173                                                    Queen Kelly (1929)   \n",
       "15434          Tales from the Golden Age (Amintiri din epoca de aur) (2009)   \n",
       "16989                                                  Trapped Ashes (2006)   \n",
       "18001                                      Witches, The (Le streghe) (1967)   \n",
       "18722                                                          Yolki (2010)   \n",
       "19723                           Pearls of the Deep (Perlicky na dne) (1966)   \n",
       "20373                                          Reluctant Dragon, The (1941)   \n",
       "22717                                     Call Me Crazy: A Five Film (2013)   \n",
       "23735                             Full House (O. Henry's Full House) (1952)   \n",
       "25410                                        The Conquest of the Air (1936)   \n",
       "25822                                                   V/H/S: Viral (2014)   \n",
       "26125                                                       McConkey (2013)   \n",
       "26461                                                      Ascension (2014)   \n",
       "27023                                                  We, the Women (1953)   \n",
       "32939                                          Night Train to Terror (1985)   \n",
       "\n",
       "                                                                                            directedBy  \\\n",
       "1319                        Augusto Caminito, Mario Caiano, Luigi Cozzi, Klaus Kinski, Maurizio Lucidi   \n",
       "6875                                Fred Niblo, Charles Brabin, Christy Cabanne, J.J. Cohn, Rex Ingram   \n",
       "8220                      Roger Corman, Francis Ford Coppola, Monte Hellman, Jack Hill, Jack Nicholson   \n",
       "9635                             Bill Krohn, Myron Meisel, Orson Welles, Richard Wilson, Norman Foster   \n",
       "10216                               John Cromwell, Mel Ferrer, Tay Garnett, Nicholas Ray, Sherman Todd   \n",
       "11662                       George Harrison, Bernard Knowles, John Lennon, Paul McCartney, Ringo Starr   \n",
       "12655                 Richard Thorpe, John Farrow, James C. McKay, George B. Seitz, William A. Wellman   \n",
       "14170                       Lance Hendrickson, Troy McCall, Mike P. Nelson, Steven Rhoden, Ben Trandem   \n",
       "14173              Erich von Stroheim, Richard Boleslawski, Edmund Goulding, Irving Thalberg, Sam Wood   \n",
       "15434               Hanno Höfer, Razvan Marculescu, Cristian Mungiu, Constantin Popescu, Ioana Uricaru   \n",
       "16989                            Sean S. Cunningham, Joe Dante, John Gaeta, Monte Hellman, Ken Russell   \n",
       "18001           Mauro Bolognini, Vittorio De Sica, Pier Paolo Pasolini, Franco Rossi, Luchino Visconti   \n",
       "18722  Timur Bekmambetov, Yaroslav Chevazhevskiy, Ignas Jonynas, Dmitriy Kiselev, Aleksandr Voytinskiy   \n",
       "19723                              Vera Chytilová, Jaromil Jires, Jirí Menzel, Jan Nemec, Evald Schorm   \n",
       "20373                           Alfred L. Werker, Hamilton Luske, Jack Cutting, Ub Iwerks, Jack Kinney   \n",
       "22717                        Laura Dern, Bryce Dallas Howard, Bonnie Hunt, Ashley Judd, Sharon Maguire   \n",
       "23735                           Henry Koster, Henry Hathaway, Jean Negulesco, Howard Hawks, Henry King   \n",
       "25410                 Alexander Esway, Zoltan Korda, John Monk Saunders, Alexander Shaw, Donald Taylor   \n",
       "25822                   Justin Benson, Gregg Bishop, Aaron Moorhead, Marcel Sarmiento, Nacho Vigalondo   \n",
       "26125                                 Rob Bruce, Scott Gaffney, Murray Wais, Steve Winter, David Zieff   \n",
       "26461                   Stephen Williams, Mairzee Almas, Nick Copus, Robert Lieberman, Vincenzo Natali   \n",
       "27023           Gianni Franciolini, Alfredo Guarini, Roberto Rossellini, Luchino Visconti, Luigi Zampa   \n",
       "32939                  John Carr, Phillip Marshak, Tom McGowan, Jay Schlossberg-Cohen, Gregg C. Tallas   \n",
       "\n",
       "                                                                                                                                                                                                                                                                            starring  \\\n",
       "1319                                                                                                                                                                                                           Klaus Kinski, Donald Pleasence, Christopher Plummer, Barbara De Rossi   \n",
       "6875                                                                                                                                                                            Ramon Novarro,Francis X. Bushman,May McAvoy,Betty Bronson,Claire McDowell,Kathleen Key,Carmel Myers,   \n",
       "8220                                                                                                                                                                                                                      Boris Karloff, Jack Nicholson, Sandra Knight , Dick Miller   \n",
       "9635                                                                                                                                                                                                                                                                   Miguel Ferrer   \n",
       "10216                                                                                                                                Robert Mitchum, Lizabeth Scott, Robert Ryan, William Talman, Ray Collins, William Conrad, Les Tremayne, Don Beddoe, Pat Flaherty, Milburn Stone   \n",
       "11662                                                                                                                                                                                                                      George Harrison, John Lennon, Paul McCartney, Ringo Starr   \n",
       "12655                                                                                                                                                                                                                                         Johnny Weissmuller, Maureen O'Sullivan   \n",
       "14170                                                                                                                                                                                               Simon Wallace, Amy Cocchiarella, Tony D. Czech, Lance Hendrickson, Ty Richardson   \n",
       "14173                                                                                                                                                                                                                                       Gloria Swanson, Walter Byron, Seena Owen   \n",
       "15434                                                                                                                                                                                                        Diana Cavallioti, Radu Iacoban, Vlad Ivanov, Tania Popa, Liliana Mocanu   \n",
       "16989                                                                                                                            Jayce Bartok,Henry Gibson,Lara Harris,Scott Lowell,Dick Miller,John Saxon,Ryo Ishibashi,Tahmoh Penikett,Tygh Runyan,Luke Macfarlane,Jerry Wasserman   \n",
       "18001                                                                                            Silvana Mangano, Francisco Rabal, Massimo Girotti, Helmut Berger, Leslie French, Alberto Sordi, Totò, Ninetto Davoli, Laura Betti, Clint Eastwood, Valentino Macchi, Pietro Torrisi   \n",
       "18722                                                                                                                                                                                                Dmitry Medvedev, Alina Bulynko, Sergey Pokhodaev, Ivan Urgant, Sergey Svetlakov   \n",
       "19723                                                                                                                                               Pavla Marsálková, Ferdinand Kruta, Alois Vachek, Emil Iserle, Miroslav Nohýnek, Vlasta Spánková, Milos Ctrnacty, Frantisek Havel   \n",
       "20373                                                                                                                                                                                                         Robert Benchley, Frances Gifford, Buddy Pepper, Nana Bryant, Alan Ladd   \n",
       "22717  Jennifer Hudson, Sarah Hyland, Melissa Leo, Mitch Rouse, Octavia Spencer, Sofia Vassilieva, Brittany Snow, Ernie Hudson, Jason Ritter, Jean Smart, Lea Thompson, Melanie Griffith, Chelsea Handler, Aimee Teegarden, James Avery, Jay Chandrasekhar, Dave Foley, Clint Howard   \n",
       "23735                                                                                                  Charles Laughton, Oscar Levant, Marilyn Monroe, Richard Widmark, Farley Granger, Jeanne Crain, Anne Baxter, Fred Allen, Jean Peters, David Wayne, Gregory Ratoff, Jean Peters   \n",
       "25410                                                                                                                                                                                           Frederick Culley,Laurence Olivier,Franklin Dyall,Henry Victor,Hay Petrie,John Abbott   \n",
       "25822                                                                                                                                                                                                       Justin Welborn,Emmy Argo,Gustavo Salmerón,Patrick Lawrie,Celia K. Milius   \n",
       "26125                                                                                                                                                                                                                                                                                  \n",
       "26461                                                                                                                                  Tricia Helfer,Gil Bellows,Brian Van Holt,Andrea Roth,Brandon P. Bell,Jacqueline Byers,Tiffany Lonsdale,Wendy Crewson,Al Sapienza,Mark Camacho   \n",
       "27023                                                                                                                                                                                                                            Ingrid Bergman,Anna Magnani,Isa Miranda,Alida Valli   \n",
       "32939                                                                                                                                                                Richard Moll,Tony Giorgio,Ferdy Mayne,Eva Hesse,Sharon Ratcliff,John Phillip Law,Cameron Mitchell,Marc Lawrence   \n",
       "\n",
       "       avgRating  item_id  Year  director_count  \n",
       "1319     6.36568     1349  1986               5  \n",
       "6875     7.42294     6986  1925               5  \n",
       "8220     4.67256     8903  1963               5  \n",
       "9635     6.78572    31011  1993               5  \n",
       "10216    6.80952    33914  1951               5  \n",
       "11662    5.71818    51044  1967               5  \n",
       "12655    6.05000    59178  1936               5  \n",
       "14170    5.00000    70826  2006               5  \n",
       "14173    6.94444    70833  1929               5  \n",
       "15434    7.23530    78268  2009               5  \n",
       "16989    5.76924    85327  2006               5  \n",
       "18001    6.66666    89620  1967               5  \n",
       "18722    5.87500    92371  2010               5  \n",
       "19723    6.60000    96773  1966               5  \n",
       "20373    5.36842    99246  1941               5  \n",
       "22717    6.84210   107357  2013               5  \n",
       "23735    6.85714   110593  1952               5  \n",
       "25410    4.00000   116239  1936               5  \n",
       "25822    4.95868   117372  2014               5  \n",
       "26125    7.88888   118204  2013               5  \n",
       "26461    6.95652   119139  2014               5  \n",
       "27023    6.00000   121043  1953               5  \n",
       "32939    4.59090   134499  1985               5  "
      ]
     },
     "execution_count": 33,
     "metadata": {},
     "output_type": "execute_result"
    }
   ],
   "source": [
    "cleaner_df[cleaner_df['director_count'] == 5]"
   ]
  },
  {
   "cell_type": "code",
   "execution_count": 34,
   "id": "06e46d1f",
   "metadata": {
    "scrolled": false
   },
   "outputs": [
    {
     "name": "stderr",
     "output_type": "stream",
     "text": [
      "C:\\Users\\micha\\AppData\\Local\\Temp\\ipykernel_30400\\764016326.py:2: SettingWithCopyWarning: \n",
      "A value is trying to be set on a copy of a slice from a DataFrame.\n",
      "Try using .loc[row_indexer,col_indexer] = value instead\n",
      "\n",
      "See the caveats in the documentation: https://pandas.pydata.org/pandas-docs/stable/user_guide/indexing.html#returning-a-view-versus-a-copy\n",
      "  cleaner_df['actor_count'] = cleaner_df[\"starring\"].str.count(\",\") + 1\n"
     ]
    }
   ],
   "source": [
    "\n",
    "\n",
    "# Gets a column counting by actors, we see it's seperated by commas\n",
    "cleaner_df['actor_count'] = cleaner_df[\"starring\"].str.count(\",\") + 1"
   ]
  },
  {
   "cell_type": "code",
   "execution_count": 35,
   "id": "ff8dfb47",
   "metadata": {},
   "outputs": [
    {
     "data": {
      "text/plain": [
       "5     33485\n",
       "4     11188\n",
       "1      8391\n",
       "3      6505\n",
       "2      2927\n",
       "6      2188\n",
       "7      1289\n",
       "8       908\n",
       "9       642\n",
       "10      493\n",
       "11      409\n",
       "12      332\n",
       "13      255\n",
       "15      212\n",
       "14      201\n",
       "16      107\n",
       "17      102\n",
       "18       92\n",
       "20       55\n",
       "19       53\n",
       "21       51\n",
       "22       29\n",
       "24       24\n",
       "23       18\n",
       "29       16\n",
       "25       15\n",
       "28       14\n",
       "26       14\n",
       "27       12\n",
       "30       10\n",
       "31        7\n",
       "32        6\n",
       "35        4\n",
       "41        3\n",
       "36        3\n",
       "33        2\n",
       "34        2\n",
       "37        2\n",
       "40        2\n",
       "57        2\n",
       "70        1\n",
       "38        1\n",
       "45        1\n",
       "52        1\n",
       "51        1\n",
       "65        1\n",
       "42        1\n",
       "Name: actor_count, dtype: int64"
      ]
     },
     "execution_count": 35,
     "metadata": {},
     "output_type": "execute_result"
    }
   ],
   "source": [
    "cleaner_df['actor_count'].value_counts()"
   ]
  },
  {
   "cell_type": "code",
   "execution_count": 36,
   "id": "31f572a3",
   "metadata": {},
   "outputs": [
    {
     "data": {
      "text/html": [
       "<div>\n",
       "<style scoped>\n",
       "    .dataframe tbody tr th:only-of-type {\n",
       "        vertical-align: middle;\n",
       "    }\n",
       "\n",
       "    .dataframe tbody tr th {\n",
       "        vertical-align: top;\n",
       "    }\n",
       "\n",
       "    .dataframe thead th {\n",
       "        text-align: right;\n",
       "    }\n",
       "</style>\n",
       "<table border=\"1\" class=\"dataframe\">\n",
       "  <thead>\n",
       "    <tr style=\"text-align: right;\">\n",
       "      <th></th>\n",
       "      <th>title</th>\n",
       "      <th>directedBy</th>\n",
       "      <th>starring</th>\n",
       "      <th>avgRating</th>\n",
       "      <th>item_id</th>\n",
       "      <th>Year</th>\n",
       "      <th>director_count</th>\n",
       "      <th>actor_count</th>\n",
       "    </tr>\n",
       "  </thead>\n",
       "  <tbody>\n",
       "    <tr>\n",
       "      <th>0</th>\n",
       "      <td>Toy Story (1995)</td>\n",
       "      <td>John Lasseter</td>\n",
       "      <td>Tim Allen, Tom Hanks, Don Rickles, Jim Varney, John Ratzenberger, Wallace Shawn, Laurie Metcalf, John Morris, R. Lee Ermey, Annie Potts</td>\n",
       "      <td>7.78292</td>\n",
       "      <td>1</td>\n",
       "      <td>1995</td>\n",
       "      <td>1</td>\n",
       "      <td>10</td>\n",
       "    </tr>\n",
       "    <tr>\n",
       "      <th>1</th>\n",
       "      <td>Jumanji (1995)</td>\n",
       "      <td>Joe Johnston</td>\n",
       "      <td>Jonathan Hyde, Bradley Pierce, Robin Williams, Kirsten Dunst</td>\n",
       "      <td>6.53210</td>\n",
       "      <td>2</td>\n",
       "      <td>1995</td>\n",
       "      <td>1</td>\n",
       "      <td>4</td>\n",
       "    </tr>\n",
       "    <tr>\n",
       "      <th>2</th>\n",
       "      <td>Grumpier Old Men (1995)</td>\n",
       "      <td>Howard Deutch</td>\n",
       "      <td>Jack Lemmon, Walter Matthau, Ann-Margret , Sophia Loren</td>\n",
       "      <td>6.34292</td>\n",
       "      <td>3</td>\n",
       "      <td>1995</td>\n",
       "      <td>1</td>\n",
       "      <td>4</td>\n",
       "    </tr>\n",
       "    <tr>\n",
       "      <th>3</th>\n",
       "      <td>Waiting to Exhale (1995)</td>\n",
       "      <td>Forest Whitaker</td>\n",
       "      <td>Angela Bassett, Loretta Devine, Whitney Houston, Lela Rochon</td>\n",
       "      <td>5.73648</td>\n",
       "      <td>4</td>\n",
       "      <td>1995</td>\n",
       "      <td>1</td>\n",
       "      <td>4</td>\n",
       "    </tr>\n",
       "    <tr>\n",
       "      <th>4</th>\n",
       "      <td>Father of the Bride Part II (1995)</td>\n",
       "      <td>Charles Shyer</td>\n",
       "      <td>Steve Martin, Martin Short, Diane Keaton, Kimberly Williams, George Newbern, Kieran Culkin</td>\n",
       "      <td>6.15240</td>\n",
       "      <td>5</td>\n",
       "      <td>1995</td>\n",
       "      <td>1</td>\n",
       "      <td>6</td>\n",
       "    </tr>\n",
       "  </tbody>\n",
       "</table>\n",
       "</div>"
      ],
      "text/plain": [
       "                                title       directedBy  \\\n",
       "0                    Toy Story (1995)    John Lasseter   \n",
       "1                      Jumanji (1995)     Joe Johnston   \n",
       "2             Grumpier Old Men (1995)    Howard Deutch   \n",
       "3            Waiting to Exhale (1995)  Forest Whitaker   \n",
       "4  Father of the Bride Part II (1995)    Charles Shyer   \n",
       "\n",
       "                                                                                                                                  starring  \\\n",
       "0  Tim Allen, Tom Hanks, Don Rickles, Jim Varney, John Ratzenberger, Wallace Shawn, Laurie Metcalf, John Morris, R. Lee Ermey, Annie Potts   \n",
       "1                                                                             Jonathan Hyde, Bradley Pierce, Robin Williams, Kirsten Dunst   \n",
       "2                                                                                  Jack Lemmon, Walter Matthau, Ann-Margret , Sophia Loren   \n",
       "3                                                                             Angela Bassett, Loretta Devine, Whitney Houston, Lela Rochon   \n",
       "4                                               Steve Martin, Martin Short, Diane Keaton, Kimberly Williams, George Newbern, Kieran Culkin   \n",
       "\n",
       "   avgRating  item_id  Year  director_count  actor_count  \n",
       "0    7.78292        1  1995               1           10  \n",
       "1    6.53210        2  1995               1            4  \n",
       "2    6.34292        3  1995               1            4  \n",
       "3    5.73648        4  1995               1            4  \n",
       "4    6.15240        5  1995               1            6  "
      ]
     },
     "execution_count": 36,
     "metadata": {},
     "output_type": "execute_result"
    }
   ],
   "source": [
    "cleaner_df.head()"
   ]
  },
  {
   "cell_type": "markdown",
   "id": "6c3785fd",
   "metadata": {},
   "source": [
    "### Tags"
   ]
  },
  {
   "cell_type": "code",
   "execution_count": 37,
   "id": "95d10acd",
   "metadata": {},
   "outputs": [
    {
     "data": {
      "text/html": [
       "<div>\n",
       "<style scoped>\n",
       "    .dataframe tbody tr th:only-of-type {\n",
       "        vertical-align: middle;\n",
       "    }\n",
       "\n",
       "    .dataframe tbody tr th {\n",
       "        vertical-align: top;\n",
       "    }\n",
       "\n",
       "    .dataframe thead th {\n",
       "        text-align: right;\n",
       "    }\n",
       "</style>\n",
       "<table border=\"1\" class=\"dataframe\">\n",
       "  <thead>\n",
       "    <tr style=\"text-align: right;\">\n",
       "      <th></th>\n",
       "      <th>tag</th>\n",
       "      <th>id</th>\n",
       "    </tr>\n",
       "  </thead>\n",
       "  <tbody>\n",
       "    <tr>\n",
       "      <th>0</th>\n",
       "      <td>aardman</td>\n",
       "      <td>22</td>\n",
       "    </tr>\n",
       "    <tr>\n",
       "      <th>1</th>\n",
       "      <td>secret service</td>\n",
       "      <td>112</td>\n",
       "    </tr>\n",
       "    <tr>\n",
       "      <th>2</th>\n",
       "      <td>hillarious</td>\n",
       "      <td>167</td>\n",
       "    </tr>\n",
       "    <tr>\n",
       "      <th>3</th>\n",
       "      <td>christian</td>\n",
       "      <td>270</td>\n",
       "    </tr>\n",
       "    <tr>\n",
       "      <th>4</th>\n",
       "      <td>mummy</td>\n",
       "      <td>362</td>\n",
       "    </tr>\n",
       "  </tbody>\n",
       "</table>\n",
       "</div>"
      ],
      "text/plain": [
       "              tag   id\n",
       "0         aardman   22\n",
       "1  secret service  112\n",
       "2      hillarious  167\n",
       "3       christian  270\n",
       "4           mummy  362"
      ]
     },
     "execution_count": 37,
     "metadata": {},
     "output_type": "execute_result"
    }
   ],
   "source": [
    "#importing dataset\n",
    "\n",
    "tags_raw = pd.read_json(r\"C:\\Users\\micha\\OneDrive\\Desktop\\Capstone\\movie_dataset_public_final\\raw\\tags.json\", lines=True)\n",
    "\n",
    "tags_raw.head()"
   ]
  },
  {
   "cell_type": "code",
   "execution_count": 38,
   "id": "fbae32bb",
   "metadata": {},
   "outputs": [
    {
     "name": "stdout",
     "output_type": "stream",
     "text": [
      "<class 'pandas.core.frame.DataFrame'>\n",
      "RangeIndex: 1094 entries, 0 to 1093\n",
      "Data columns (total 2 columns):\n",
      " #   Column  Non-Null Count  Dtype \n",
      "---  ------  --------------  ----- \n",
      " 0   tag     1094 non-null   object\n",
      " 1   id      1094 non-null   int64 \n",
      "dtypes: int64(1), object(1)\n",
      "memory usage: 17.2+ KB\n"
     ]
    }
   ],
   "source": [
    "tags_raw.info()"
   ]
  },
  {
   "cell_type": "code",
   "execution_count": 39,
   "id": "e9ed048b",
   "metadata": {
    "scrolled": true
   },
   "outputs": [
    {
     "data": {
      "text/html": [
       "<div>\n",
       "<style scoped>\n",
       "    .dataframe tbody tr th:only-of-type {\n",
       "        vertical-align: middle;\n",
       "    }\n",
       "\n",
       "    .dataframe tbody tr th {\n",
       "        vertical-align: top;\n",
       "    }\n",
       "\n",
       "    .dataframe thead th {\n",
       "        text-align: right;\n",
       "    }\n",
       "</style>\n",
       "<table border=\"1\" class=\"dataframe\">\n",
       "  <thead>\n",
       "    <tr style=\"text-align: right;\">\n",
       "      <th></th>\n",
       "      <th>item_id</th>\n",
       "      <th>tag_id</th>\n",
       "      <th>num</th>\n",
       "    </tr>\n",
       "  </thead>\n",
       "  <tbody>\n",
       "    <tr>\n",
       "      <th>0</th>\n",
       "      <td>1</td>\n",
       "      <td>86963</td>\n",
       "      <td>4</td>\n",
       "    </tr>\n",
       "    <tr>\n",
       "      <th>1</th>\n",
       "      <td>1</td>\n",
       "      <td>42940</td>\n",
       "      <td>1</td>\n",
       "    </tr>\n",
       "    <tr>\n",
       "      <th>2</th>\n",
       "      <td>1</td>\n",
       "      <td>37116</td>\n",
       "      <td>26</td>\n",
       "    </tr>\n",
       "    <tr>\n",
       "      <th>3</th>\n",
       "      <td>1</td>\n",
       "      <td>52206</td>\n",
       "      <td>1</td>\n",
       "    </tr>\n",
       "    <tr>\n",
       "      <th>4</th>\n",
       "      <td>1</td>\n",
       "      <td>34442</td>\n",
       "      <td>21</td>\n",
       "    </tr>\n",
       "  </tbody>\n",
       "</table>\n",
       "</div>"
      ],
      "text/plain": [
       "   item_id  tag_id  num\n",
       "0        1   86963    4\n",
       "1        1   42940    1\n",
       "2        1   37116   26\n",
       "3        1   52206    1\n",
       "4        1   34442   21"
      ]
     },
     "execution_count": 39,
     "metadata": {},
     "output_type": "execute_result"
    }
   ],
   "source": [
    "tag_count = pd.read_json(r\"C:\\Users\\micha\\OneDrive\\Desktop\\Capstone\\movie_dataset_public_final\\raw\\tag_count.json\", lines=True)\n",
    "\n",
    "tag_count.head()"
   ]
  },
  {
   "cell_type": "code",
   "execution_count": 40,
   "id": "64b84d56",
   "metadata": {
    "scrolled": true
   },
   "outputs": [
    {
     "name": "stdout",
     "output_type": "stream",
     "text": [
      "<class 'pandas.core.frame.DataFrame'>\n",
      "RangeIndex: 212704 entries, 0 to 212703\n",
      "Data columns (total 3 columns):\n",
      " #   Column   Non-Null Count   Dtype\n",
      "---  ------   --------------   -----\n",
      " 0   item_id  212704 non-null  int64\n",
      " 1   tag_id   212704 non-null  int64\n",
      " 2   num      212704 non-null  int64\n",
      "dtypes: int64(3)\n",
      "memory usage: 4.9 MB\n"
     ]
    }
   ],
   "source": [
    "tag_count.info()"
   ]
  },
  {
   "cell_type": "code",
   "execution_count": 41,
   "id": "8509c1c8",
   "metadata": {},
   "outputs": [
    {
     "data": {
      "text/plain": [
       "39685"
      ]
     },
     "execution_count": 41,
     "metadata": {},
     "output_type": "execute_result"
    }
   ],
   "source": [
    "tag_count['item_id'].nunique()"
   ]
  },
  {
   "cell_type": "code",
   "execution_count": 42,
   "id": "b2103cf0",
   "metadata": {},
   "outputs": [
    {
     "ename": "SyntaxError",
     "evalue": "invalid syntax (951603790.py, line 4)",
     "output_type": "error",
     "traceback": [
      "\u001b[1;36m  File \u001b[1;32m\"C:\\Users\\micha\\AppData\\Local\\Temp\\ipykernel_30400\\951603790.py\"\u001b[1;36m, line \u001b[1;32m4\u001b[0m\n\u001b[1;33m    tag_df = tag_count.merge(, on='item_id', how='left')\u001b[0m\n\u001b[1;37m                             ^\u001b[0m\n\u001b[1;31mSyntaxError\u001b[0m\u001b[1;31m:\u001b[0m invalid syntax\n"
     ]
    }
   ],
   "source": [
    "# trying to figure out what this means?\n",
    "\n",
    "\n",
    "tag_df = tag_count.merge(, on='item_id', how='left')"
   ]
  },
  {
   "cell_type": "markdown",
   "id": "7c8954eb",
   "metadata": {},
   "source": [
    "### Reviews"
   ]
  },
  {
   "cell_type": "code",
   "execution_count": null,
   "id": "650a4e8b",
   "metadata": {},
   "outputs": [],
   "source": [
    "reviews_raw = pd.read_json(r\"C:\\Users\\micha\\OneDrive\\Desktop\\Capstone\\movie_dataset_public_final\\raw\\reviews.json\", lines=True)"
   ]
  },
  {
   "cell_type": "code",
   "execution_count": null,
   "id": "dc376e41",
   "metadata": {
    "scrolled": true
   },
   "outputs": [],
   "source": [
    "reviews_raw.head()"
   ]
  },
  {
   "cell_type": "code",
   "execution_count": null,
   "id": "7eaa9343",
   "metadata": {},
   "outputs": [],
   "source": [
    "reviews_raw.shape"
   ]
  },
  {
   "cell_type": "code",
   "execution_count": null,
   "id": "3f5c6792",
   "metadata": {
    "scrolled": true
   },
   "outputs": [],
   "source": [
    "\n",
    "reviews_raw.isna().sum(axis=0) / reviews_raw.shape[0]*100\n"
   ]
  },
  {
   "cell_type": "code",
   "execution_count": null,
   "id": "4b8f7e29",
   "metadata": {},
   "outputs": [],
   "source": [
    "#merging both columns so that the reviews are visible under each\n",
    "\n",
    "merged_df = cleaner_df.merge(reviews_raw, on='item_id', how='left')"
   ]
  },
  {
   "cell_type": "markdown",
   "id": "f45b301e",
   "metadata": {},
   "source": [
    "Stuff to explore: \n",
    "count of actors, count of reviews, check for multiple directors\n",
    "\n",
    "Sentiment analysis, count vectorization, \n",
    "\n",
    "instead of dummy variables, add a feature to show how many times the director has shown up.\n",
    "\n",
    "or bin the directors (ie, novice, intermediate, explore the data)\n",
    "\n"
   ]
  },
  {
   "cell_type": "code",
   "execution_count": null,
   "id": "f708df2c",
   "metadata": {
    "scrolled": false
   },
   "outputs": [],
   "source": [
    "\n",
    "merged_df.head(700)"
   ]
  },
  {
   "cell_type": "code",
   "execution_count": null,
   "id": "222fb155",
   "metadata": {},
   "outputs": [],
   "source": [
    "# Dropping where we merged it on\n",
    "merged_df.drop(columns=['item_id'], inplace=True) "
   ]
  },
  {
   "cell_type": "code",
   "execution_count": null,
   "id": "0424ca19",
   "metadata": {
    "scrolled": false
   },
   "outputs": [],
   "source": [
    "# Still looks the same\n",
    "merged_df.head(700)"
   ]
  },
  {
   "cell_type": "code",
   "execution_count": 43,
   "id": "415fd6c0",
   "metadata": {},
   "outputs": [],
   "source": [
    "# Want to add a column for number of directors as well as number of starring actors\n",
    "# will do this with NLP"
   ]
  },
  {
   "cell_type": "code",
   "execution_count": null,
   "id": "09079a45",
   "metadata": {},
   "outputs": [],
   "source": []
  },
  {
   "cell_type": "code",
   "execution_count": null,
   "id": "f2db4353",
   "metadata": {},
   "outputs": [],
   "source": []
  },
  {
   "cell_type": "code",
   "execution_count": null,
   "id": "047ab1bb",
   "metadata": {},
   "outputs": [],
   "source": []
  },
  {
   "cell_type": "code",
   "execution_count": null,
   "id": "45035f81",
   "metadata": {},
   "outputs": [],
   "source": []
  },
  {
   "cell_type": "code",
   "execution_count": null,
   "id": "d9ba728a",
   "metadata": {},
   "outputs": [],
   "source": []
  },
  {
   "cell_type": "code",
   "execution_count": null,
   "id": "91e8538a",
   "metadata": {},
   "outputs": [],
   "source": []
  }
 ],
 "metadata": {
  "kernelspec": {
   "display_name": "capstone",
   "language": "python",
   "name": "capstone"
  },
  "language_info": {
   "codemirror_mode": {
    "name": "ipython",
    "version": 3
   },
   "file_extension": ".py",
   "mimetype": "text/x-python",
   "name": "python",
   "nbconvert_exporter": "python",
   "pygments_lexer": "ipython3",
   "version": "3.9.13"
  }
 },
 "nbformat": 4,
 "nbformat_minor": 5
}
